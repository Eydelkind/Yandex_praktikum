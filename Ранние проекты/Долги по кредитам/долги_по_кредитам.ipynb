{
 "cells": [
  {
   "cell_type": "markdown",
   "metadata": {},
   "source": [
    "## Исследование надёжности заёмщиков\n",
    "\n",
    "Заказчик — кредитный отдел банка. Нужно разобраться, влияет ли семейное положение и количество детей клиента на факт погашения кредита в срок. Входные данные от банка — статистика о платёжеспособности клиентов.\n",
    "\n",
    "Результаты исследования будут учтены при построении модели **кредитного скоринга** — специальной системы, которая оценивает способность потенциального заёмщика вернуть кредит банку."
   ]
  },
  {
   "cell_type": "code",
   "execution_count": 1,
   "metadata": {},
   "outputs": [],
   "source": [
    "from warnings import filterwarnings\n",
    "filterwarnings('ignore')\n",
    "import pandas as pd"
   ]
  },
  {
   "cell_type": "code",
   "execution_count": 2,
   "metadata": {},
   "outputs": [
    {
     "name": "stdout",
     "output_type": "stream",
     "text": [
      "<class 'pandas.core.frame.DataFrame'>\n",
      "RangeIndex: 21525 entries, 0 to 21524\n",
      "Data columns (total 12 columns):\n",
      " #   Column            Non-Null Count  Dtype  \n",
      "---  ------            --------------  -----  \n",
      " 0   children          21525 non-null  int64  \n",
      " 1   days_employed     19351 non-null  float64\n",
      " 2   dob_years         21525 non-null  int64  \n",
      " 3   education         21525 non-null  object \n",
      " 4   education_id      21525 non-null  int64  \n",
      " 5   family_status     21525 non-null  object \n",
      " 6   family_status_id  21525 non-null  int64  \n",
      " 7   gender            21525 non-null  object \n",
      " 8   income_type       21525 non-null  object \n",
      " 9   debt              21525 non-null  int64  \n",
      " 10  total_income      19351 non-null  float64\n",
      " 11  purpose           21525 non-null  object \n",
      "dtypes: float64(2), int64(5), object(5)\n",
      "memory usage: 2.0+ MB\n",
      "None\n",
      "\n"
     ]
    }
   ],
   "source": [
    "credit_debts = pd.read_csv('data.csv')\n",
    "print(credit_debts.info())\n",
    "print()"
   ]
  },
  {
   "cell_type": "code",
   "execution_count": 3,
   "metadata": {},
   "outputs": [
    {
     "data": {
      "text/html": [
       "<div>\n",
       "<style scoped>\n",
       "    .dataframe tbody tr th:only-of-type {\n",
       "        vertical-align: middle;\n",
       "    }\n",
       "\n",
       "    .dataframe tbody tr th {\n",
       "        vertical-align: top;\n",
       "    }\n",
       "\n",
       "    .dataframe thead th {\n",
       "        text-align: right;\n",
       "    }\n",
       "</style>\n",
       "<table border=\"1\" class=\"dataframe\">\n",
       "  <thead>\n",
       "    <tr style=\"text-align: right;\">\n",
       "      <th></th>\n",
       "      <th>children</th>\n",
       "      <th>days_employed</th>\n",
       "      <th>dob_years</th>\n",
       "      <th>education</th>\n",
       "      <th>education_id</th>\n",
       "      <th>family_status</th>\n",
       "      <th>family_status_id</th>\n",
       "      <th>gender</th>\n",
       "      <th>income_type</th>\n",
       "      <th>debt</th>\n",
       "      <th>total_income</th>\n",
       "      <th>purpose</th>\n",
       "    </tr>\n",
       "  </thead>\n",
       "  <tbody>\n",
       "    <tr>\n",
       "      <th>0</th>\n",
       "      <td>1</td>\n",
       "      <td>-8437.673028</td>\n",
       "      <td>42</td>\n",
       "      <td>высшее</td>\n",
       "      <td>0</td>\n",
       "      <td>женат / замужем</td>\n",
       "      <td>0</td>\n",
       "      <td>F</td>\n",
       "      <td>сотрудник</td>\n",
       "      <td>0</td>\n",
       "      <td>253875.639453</td>\n",
       "      <td>покупка жилья</td>\n",
       "    </tr>\n",
       "    <tr>\n",
       "      <th>1</th>\n",
       "      <td>1</td>\n",
       "      <td>-4024.803754</td>\n",
       "      <td>36</td>\n",
       "      <td>среднее</td>\n",
       "      <td>1</td>\n",
       "      <td>женат / замужем</td>\n",
       "      <td>0</td>\n",
       "      <td>F</td>\n",
       "      <td>сотрудник</td>\n",
       "      <td>0</td>\n",
       "      <td>112080.014102</td>\n",
       "      <td>приобретение автомобиля</td>\n",
       "    </tr>\n",
       "    <tr>\n",
       "      <th>2</th>\n",
       "      <td>0</td>\n",
       "      <td>-5623.422610</td>\n",
       "      <td>33</td>\n",
       "      <td>Среднее</td>\n",
       "      <td>1</td>\n",
       "      <td>женат / замужем</td>\n",
       "      <td>0</td>\n",
       "      <td>M</td>\n",
       "      <td>сотрудник</td>\n",
       "      <td>0</td>\n",
       "      <td>145885.952297</td>\n",
       "      <td>покупка жилья</td>\n",
       "    </tr>\n",
       "    <tr>\n",
       "      <th>3</th>\n",
       "      <td>3</td>\n",
       "      <td>-4124.747207</td>\n",
       "      <td>32</td>\n",
       "      <td>среднее</td>\n",
       "      <td>1</td>\n",
       "      <td>женат / замужем</td>\n",
       "      <td>0</td>\n",
       "      <td>M</td>\n",
       "      <td>сотрудник</td>\n",
       "      <td>0</td>\n",
       "      <td>267628.550329</td>\n",
       "      <td>дополнительное образование</td>\n",
       "    </tr>\n",
       "    <tr>\n",
       "      <th>4</th>\n",
       "      <td>0</td>\n",
       "      <td>340266.072047</td>\n",
       "      <td>53</td>\n",
       "      <td>среднее</td>\n",
       "      <td>1</td>\n",
       "      <td>гражданский брак</td>\n",
       "      <td>1</td>\n",
       "      <td>F</td>\n",
       "      <td>пенсионер</td>\n",
       "      <td>0</td>\n",
       "      <td>158616.077870</td>\n",
       "      <td>сыграть свадьбу</td>\n",
       "    </tr>\n",
       "    <tr>\n",
       "      <th>5</th>\n",
       "      <td>0</td>\n",
       "      <td>-926.185831</td>\n",
       "      <td>27</td>\n",
       "      <td>высшее</td>\n",
       "      <td>0</td>\n",
       "      <td>гражданский брак</td>\n",
       "      <td>1</td>\n",
       "      <td>M</td>\n",
       "      <td>компаньон</td>\n",
       "      <td>0</td>\n",
       "      <td>255763.565419</td>\n",
       "      <td>покупка жилья</td>\n",
       "    </tr>\n",
       "    <tr>\n",
       "      <th>6</th>\n",
       "      <td>0</td>\n",
       "      <td>-2879.202052</td>\n",
       "      <td>43</td>\n",
       "      <td>высшее</td>\n",
       "      <td>0</td>\n",
       "      <td>женат / замужем</td>\n",
       "      <td>0</td>\n",
       "      <td>F</td>\n",
       "      <td>компаньон</td>\n",
       "      <td>0</td>\n",
       "      <td>240525.971920</td>\n",
       "      <td>операции с жильем</td>\n",
       "    </tr>\n",
       "    <tr>\n",
       "      <th>7</th>\n",
       "      <td>0</td>\n",
       "      <td>-152.779569</td>\n",
       "      <td>50</td>\n",
       "      <td>СРЕДНЕЕ</td>\n",
       "      <td>1</td>\n",
       "      <td>женат / замужем</td>\n",
       "      <td>0</td>\n",
       "      <td>M</td>\n",
       "      <td>сотрудник</td>\n",
       "      <td>0</td>\n",
       "      <td>135823.934197</td>\n",
       "      <td>образование</td>\n",
       "    </tr>\n",
       "    <tr>\n",
       "      <th>8</th>\n",
       "      <td>2</td>\n",
       "      <td>-6929.865299</td>\n",
       "      <td>35</td>\n",
       "      <td>ВЫСШЕЕ</td>\n",
       "      <td>0</td>\n",
       "      <td>гражданский брак</td>\n",
       "      <td>1</td>\n",
       "      <td>F</td>\n",
       "      <td>сотрудник</td>\n",
       "      <td>0</td>\n",
       "      <td>95856.832424</td>\n",
       "      <td>на проведение свадьбы</td>\n",
       "    </tr>\n",
       "    <tr>\n",
       "      <th>9</th>\n",
       "      <td>0</td>\n",
       "      <td>-2188.756445</td>\n",
       "      <td>41</td>\n",
       "      <td>среднее</td>\n",
       "      <td>1</td>\n",
       "      <td>женат / замужем</td>\n",
       "      <td>0</td>\n",
       "      <td>M</td>\n",
       "      <td>сотрудник</td>\n",
       "      <td>0</td>\n",
       "      <td>144425.938277</td>\n",
       "      <td>покупка жилья для семьи</td>\n",
       "    </tr>\n",
       "  </tbody>\n",
       "</table>\n",
       "</div>"
      ],
      "text/plain": [
       "   children  days_employed  dob_years education  education_id  \\\n",
       "0         1   -8437.673028         42    высшее             0   \n",
       "1         1   -4024.803754         36   среднее             1   \n",
       "2         0   -5623.422610         33   Среднее             1   \n",
       "3         3   -4124.747207         32   среднее             1   \n",
       "4         0  340266.072047         53   среднее             1   \n",
       "5         0    -926.185831         27    высшее             0   \n",
       "6         0   -2879.202052         43    высшее             0   \n",
       "7         0    -152.779569         50   СРЕДНЕЕ             1   \n",
       "8         2   -6929.865299         35    ВЫСШЕЕ             0   \n",
       "9         0   -2188.756445         41   среднее             1   \n",
       "\n",
       "      family_status  family_status_id gender income_type  debt   total_income  \\\n",
       "0   женат / замужем                 0      F   сотрудник     0  253875.639453   \n",
       "1   женат / замужем                 0      F   сотрудник     0  112080.014102   \n",
       "2   женат / замужем                 0      M   сотрудник     0  145885.952297   \n",
       "3   женат / замужем                 0      M   сотрудник     0  267628.550329   \n",
       "4  гражданский брак                 1      F   пенсионер     0  158616.077870   \n",
       "5  гражданский брак                 1      M   компаньон     0  255763.565419   \n",
       "6   женат / замужем                 0      F   компаньон     0  240525.971920   \n",
       "7   женат / замужем                 0      M   сотрудник     0  135823.934197   \n",
       "8  гражданский брак                 1      F   сотрудник     0   95856.832424   \n",
       "9   женат / замужем                 0      M   сотрудник     0  144425.938277   \n",
       "\n",
       "                      purpose  \n",
       "0               покупка жилья  \n",
       "1     приобретение автомобиля  \n",
       "2               покупка жилья  \n",
       "3  дополнительное образование  \n",
       "4             сыграть свадьбу  \n",
       "5               покупка жилья  \n",
       "6           операции с жильем  \n",
       "7                 образование  \n",
       "8       на проведение свадьбы  \n",
       "9     покупка жилья для семьи  "
      ]
     },
     "metadata": {},
     "output_type": "display_data"
    }
   ],
   "source": [
    "display(credit_debts.head(10))"
   ]
  },
  {
   "cell_type": "markdown",
   "metadata": {},
   "source": [
    "### Шаг 1. Предобработка данных"
   ]
  },
  {
   "cell_type": "code",
   "execution_count": 4,
   "metadata": {},
   "outputs": [
    {
     "name": "stdout",
     "output_type": "stream",
     "text": [
      "УНИКАЛЬНЫЕ ЗНАЧЕНИЯ СТОЛБЦОВ\n",
      "\n",
      "Дети: [ 1  0  3  2 -1  4 20  5]\n",
      "\n",
      "Возраст: [42 36 33 32 53 27 43 50 35 41 40 65 54 56 26 48 24 21 57 67 28 63 62 47\n",
      " 34 68 25 31 30 20 49 37 45 61 64 44 52 46 23 38 39 51  0 59 29 60 55 58\n",
      " 71 22 73 66 69 19 72 70 74 75]\n",
      "\n",
      "Образование: ['высшее' 'среднее' 'Среднее' 'СРЕДНЕЕ' 'ВЫСШЕЕ' 'неоконченное высшее'\n",
      " 'начальное' 'Высшее' 'НЕОКОНЧЕННОЕ ВЫСШЕЕ' 'Неоконченное высшее'\n",
      " 'НАЧАЛЬНОЕ' 'Начальное' 'Ученая степень' 'УЧЕНАЯ СТЕПЕНЬ'\n",
      " 'ученая степень']\n",
      "\n",
      "Идентификатор образования: [0 1 2 3 4]\n",
      "\n",
      "Семейное положение: ['женат / замужем' 'гражданский брак' 'вдовец / вдова' 'в разводе'\n",
      " 'Не женат / не замужем']\n",
      "\n",
      "Идентификатор семейного положения: [0 1 2 3 4]\n",
      "\n",
      "Пол: ['F' 'M' 'XNA']\n",
      "\n",
      "Тип дохода: ['сотрудник' 'пенсионер' 'компаньон' 'госслужащий' 'безработный'\n",
      " 'предприниматель' 'студент' 'в декрете']\n",
      "\n",
      "Была ли просрочка по кредиту: [0 1]\n",
      "\n",
      "Цель кредита: ['покупка жилья' 'приобретение автомобиля' 'дополнительное образование'\n",
      " 'сыграть свадьбу' 'операции с жильем' 'образование'\n",
      " 'на проведение свадьбы' 'покупка жилья для семьи' 'покупка недвижимости'\n",
      " 'покупка коммерческой недвижимости' 'покупка жилой недвижимости'\n",
      " 'строительство собственной недвижимости' 'недвижимость'\n",
      " 'строительство недвижимости' 'на покупку подержанного автомобиля'\n",
      " 'на покупку своего автомобиля' 'операции с коммерческой недвижимостью'\n",
      " 'строительство жилой недвижимости' 'жилье'\n",
      " 'операции со своей недвижимостью' 'автомобили' 'заняться образованием'\n",
      " 'сделка с подержанным автомобилем' 'получение образования' 'автомобиль'\n",
      " 'свадьба' 'получение дополнительного образования' 'покупка своего жилья'\n",
      " 'операции с недвижимостью' 'получение высшего образования'\n",
      " 'свой автомобиль' 'сделка с автомобилем' 'профильное образование'\n",
      " 'высшее образование' 'покупка жилья для сдачи' 'на покупку автомобиля'\n",
      " 'ремонт жилью' 'заняться высшим образованием']\n"
     ]
    }
   ],
   "source": [
    "# просмотр уникальных значений столбцов (кроме стажа и дохода, где почти все значения будут уникальны)\n",
    "print(\"УНИКАЛЬНЫЕ ЗНАЧЕНИЯ СТОЛБЦОВ\")\n",
    "print()\n",
    "print(\"Дети: \", end='')\n",
    "print(credit_debts.children.unique())\n",
    "print()\n",
    "print(\"Возраст: \", end='')\n",
    "print(credit_debts.dob_years.unique())\n",
    "print()\n",
    "print(\"Образование: \", end='')\n",
    "print(credit_debts.education.unique())\n",
    "print()\n",
    "print(\"Идентификатор образования: \", end='')\n",
    "print(credit_debts.education_id.unique())\n",
    "print()\n",
    "print(\"Семейное положение: \", end='')\n",
    "print(credit_debts.family_status.unique())\n",
    "print()\n",
    "print(\"Идентификатор семейного положения: \", end='')\n",
    "print(credit_debts.family_status_id.unique())\n",
    "print()\n",
    "print(\"Пол: \", end='')\n",
    "print(credit_debts.gender.unique())\n",
    "#print(len(credit_debts[credit_debts.gender == 'XNA']))\n",
    "print()\n",
    "print(\"Тип дохода: \", end='')\n",
    "print(credit_debts.income_type.unique())\n",
    "print()\n",
    "print(\"Была ли просрочка по кредиту: \", end='')\n",
    "print(credit_debts.debt.unique())\n",
    "print()\n",
    "print(\"Цель кредита: \", end='')\n",
    "print(credit_debts.purpose.unique())"
   ]
  },
  {
   "cell_type": "code",
   "execution_count": null,
   "metadata": {},
   "outputs": [],
   "source": []
  },
  {
   "cell_type": "markdown",
   "metadata": {},
   "source": [
    "### Вывод"
   ]
  },
  {
   "cell_type": "markdown",
   "metadata": {},
   "source": [
    "1.  По общей информации видно, что есть пропуски в столбцах \"days_employed\" и \"total_income\" (в одном и том же количестве).\n",
    "2. В столбце \"days_employed\" отрицательные значения. Вероятно, для анализа зависимости просрочки от семейного положения и количества детей, этот параметр не нужен, тем более что в таблице есть уровень дохода. Кроме того, какой смысл в указании стажа для пенсионеров (столбец \"тип дохода\"), например? Столбец можно выкинуть.\n",
    "3. -1 ребенок - скрытый пропуск. Можно будет заменить на медиану или среднее. 20 детей - похоже на выброс, но надо это проверить.\n",
    "4. Возраст - 0, видимо, скрытый пропуск. Можно будет заменить на медиану или среднее.\n",
    "5. Дубликаты в столбце \"education\" ('среднее' и \"СРЕДНЕЕ\" ит.п.). Можно исправить на стадии ручной работы с дубликатами. \n",
    "6. Идентификатор образования - бесполезный параметр (удобнее пользоваться значениями \"высшее\", \"среднее\" итд. из предыдущего столбца). Этот столбец можно выкинуть.\n",
    "7. Семейное положение - имеет смысл свести к двум категориям (состоит или не состоит в браке).\n",
    "8. Идентификатор семейного положения после категоризации данных предыдущего столбца станет бесполезным параметром, его можно выкинуть.\n",
    "9. Пол: есть одна строка со значением XNA. Видимо, это значит, что пол не указан. Можно удалить.\n",
    "10. Тип дохода нужно сгруппировать по категориям. Компаньонов объединить с предпринимателями, сотрудников с госслужащими, безработных со студентами и группой \"в декрете\".\n",
    "11. Уникальных значений для цели кредита достаточно много. Поэтому для категоризации нужно будет выяснить, какие леммы встерчаются там чаще всего."
   ]
  },
  {
   "cell_type": "markdown",
   "metadata": {},
   "source": [
    "### Шаг 2. Предобработка данных"
   ]
  },
  {
   "cell_type": "markdown",
   "metadata": {},
   "source": [
    "### Обработка пропусков"
   ]
  },
  {
   "cell_type": "code",
   "execution_count": 5,
   "metadata": {},
   "outputs": [
    {
     "name": "stdout",
     "output_type": "stream",
     "text": [
      "Доля просроченных кредитов для всей выборки: 8.09%\n",
      "\n",
      "Доля просроченных кредитов среди тех, о чьих доходах нет данных: 7.82%\n",
      "\n",
      "Строк, где якобы 20 детей: 76\n",
      "\n",
      "Доля просрочки для заемщиков, у которых 20 детей: 10.53%\n",
      "\n",
      "<class 'pandas.core.frame.DataFrame'>\n",
      "RangeIndex: 19283 entries, 0 to 19282\n",
      "Data columns (total 9 columns):\n",
      " #   Column         Non-Null Count  Dtype  \n",
      "---  ------         --------------  -----  \n",
      " 0   children       19283 non-null  int64  \n",
      " 1   dob_years      19283 non-null  int64  \n",
      " 2   education      19283 non-null  object \n",
      " 3   family_status  19283 non-null  object \n",
      " 4   gender         19283 non-null  object \n",
      " 5   income_type    19283 non-null  object \n",
      " 6   debt           19283 non-null  int64  \n",
      " 7   total_income   19283 non-null  float64\n",
      " 8   purpose        19283 non-null  object \n",
      "dtypes: float64(1), int64(3), object(5)\n",
      "memory usage: 1.3+ MB\n",
      "None\n",
      "\n",
      "Empty DataFrame\n",
      "Columns: [children, dob_years, education, family_status, gender, income_type, debt, total_income, purpose]\n",
      "Index: []\n",
      "\n",
      "Empty DataFrame\n",
      "Columns: [children, dob_years, education, family_status, gender, income_type, debt, total_income, purpose]\n",
      "Index: []\n"
     ]
    }
   ],
   "source": [
    "# Для начала выкинем ненужные столбцы\n",
    "credit_debts.drop(['days_employed', 'education_id', 'family_status_id'], axis = 'columns', inplace = True)\n",
    "\n",
    "# Чтобы понять, можно ли удалить пропуски в столбце \"total_income\" характерными значениями без ущерба для анализа,\n",
    "#проверим, есть ли связь между просрочкой кредита\n",
    "# и отсутствием информации о доходе. Для этого сравним долю просроченных кредитов по выборке в целом с\n",
    "# долей просроченных кредитов среди тех, о чьих доходах нет данных\n",
    "\n",
    "#посчитаем долю просроченных кредитов по всей выборке\n",
    "bad_debts = credit_debts.debt.sum()\n",
    "bad_debts_part = bad_debts / len(credit_debts)\n",
    "print(\"Доля просроченных кредитов для всей выборки: \", end=\"\")\n",
    "print(\"{:.2%}\".format(bad_debts_part))\n",
    "print()\n",
    "\n",
    "# посчитаем число ячеек в 'total_income' с пропущенными значениями\n",
    "rows_with_nans = credit_debts.total_income.isna().sum()\n",
    "# посчитаем долю просроченных кредитов среди тех, о чьих доходах нет данных\n",
    "bad_debts_in_nans = len(credit_debts[(credit_debts.total_income.isna() == True) & (credit_debts.debt == 1)])\n",
    "bad_debts_in_nans_part = bad_debts_in_nans / rows_with_nans\n",
    "print(\"Доля просроченных кредитов среди тех, о чьих доходах нет данных: \", end=\"\")\n",
    "print('{:.2%}'.format(bad_debts_in_nans_part))\n",
    "print()\n",
    "\n",
    "# узнаем, сколько строк, где указано 20 детей и много ли там неоплаченных долгов\n",
    "print(\"Строк, где якобы 20 детей: \", end=\"\")\n",
    "print(credit_debts[credit_debts.children == 20]['children'].count())\n",
    "print()\n",
    "# Доля просрочки для \"20 детей\"\n",
    "print(\"Доля просрочки для заемщиков, у которых 20 детей: \", end=\"\")\n",
    "twenty_kids = credit_debts[(credit_debts.children == 20)]\n",
    "print('{:.2%}'.format(twenty_kids.debt.mean()))\n",
    "print()\n",
    "\n",
    "#удалим пропуски\n",
    "credit_debts.dropna(subset = ['total_income'], inplace = True)\n",
    "credit_debts.drop(credit_debts[credit_debts.children == 20].index,  inplace = True)\n",
    "credit_debts.drop(credit_debts[credit_debts.gender == 'XNA'].index, inplace = True)\n",
    "credit_debts = credit_debts.reset_index(drop=True)\n",
    "# проверим, что получилось\n",
    "print(credit_debts.info())\n",
    "print()\n",
    "# заменим в \"children\" -1 на медиану; в возрасте 0 - на медиану\n",
    "credit_debts['children'] = credit_debts['children'].replace(-1, credit_debts.children.median())\n",
    "credit_debts['dob_years'] = credit_debts['dob_years'].replace(0, credit_debts.dob_years.median())\n",
    "# проверим, что получилось\n",
    "print(credit_debts[credit_debts.children == -1])\n",
    "print()\n",
    "print(credit_debts[credit_debts.dob_years == 0])"
   ]
  },
  {
   "cell_type": "markdown",
   "metadata": {},
   "source": [
    "### Вывод"
   ]
  },
  {
   "cell_type": "markdown",
   "metadata": {},
   "source": [
    "1. Пропусков в столбце о доходе было столько же, сколько в столбце о стаже. Очевидно, это одни и те же строки, и, видимо, это означает, что не все заемщики предоставляют справки о доходах с места работы. Доля просроченных кредитов среди тех, для кого данные о доходах не указаны, принципиально не отличается от доли просроченных кредитов по выборке в целом. Строки с пропусками удалены.\n",
    "2. \"20 детей\" окзались не единичным явлением. Всего 76 таких случаев, при том, что значений от 6 до 19 детей в выборке нет. Хорошего объяснения этому нет. Для заполнения пропуска \"20\" выглядит странновато. Доля просрочки выше среднего по выборке, но 76 строк - это очень незначительная часть выборки, поэтому все строки, где 20 детей, удалены.\n",
    "3. -1 в столбце children и 0 в столбце dob_years заменены на медианные значения, потому что медиана в целом точнее харктеризует выборку, чем среднее арифметическое."
   ]
  },
  {
   "cell_type": "markdown",
   "metadata": {},
   "source": [
    "### Замена типа данных"
   ]
  },
  {
   "cell_type": "code",
   "execution_count": 6,
   "metadata": {},
   "outputs": [
    {
     "name": "stdout",
     "output_type": "stream",
     "text": [
      "<class 'pandas.core.frame.DataFrame'>\n",
      "RangeIndex: 19283 entries, 0 to 19282\n",
      "Data columns (total 9 columns):\n",
      " #   Column         Non-Null Count  Dtype \n",
      "---  ------         --------------  ----- \n",
      " 0   children       19283 non-null  int64 \n",
      " 1   dob_years      19283 non-null  int64 \n",
      " 2   education      19283 non-null  object\n",
      " 3   family_status  19283 non-null  object\n",
      " 4   gender         19283 non-null  object\n",
      " 5   income_type    19283 non-null  object\n",
      " 6   debt           19283 non-null  int64 \n",
      " 7   total_income   19283 non-null  int32 \n",
      " 8   purpose        19283 non-null  object\n",
      "dtypes: int32(1), int64(3), object(5)\n",
      "memory usage: 1.3+ MB\n",
      "None\n"
     ]
    }
   ],
   "source": [
    "# В дробных значениях для числа рублей,\n",
    "# измеряемого сотнями тысяч, скорее всего, нет нужды\n",
    "# Поэтому цифры после точки можно отбросить.\n",
    "# Для замены вещественных значений на целочисленные воспользуемся методом astype\n",
    "\n",
    "\n",
    "credit_debts['total_income'] = credit_debts['total_income'].astype('int')\n",
    "\n",
    "#проверим результат замены\n",
    "print(credit_debts.info())\n"
   ]
  },
  {
   "cell_type": "markdown",
   "metadata": {},
   "source": [
    "### Вывод"
   ]
  },
  {
   "cell_type": "markdown",
   "metadata": {},
   "source": [
    "Столбцу 'total_income' присвоен тип int."
   ]
  },
  {
   "cell_type": "markdown",
   "metadata": {},
   "source": [
    "### Обработка дубликатов"
   ]
  },
  {
   "cell_type": "code",
   "execution_count": 7,
   "metadata": {},
   "outputs": [
    {
     "name": "stdout",
     "output_type": "stream",
     "text": [
      "0\n",
      "\n",
      "['высшее' 'среднее' 'неоконченное высшее' 'начальное' 'ученая степень']\n"
     ]
    }
   ],
   "source": [
    "# поиск повторяющихся строк\n",
    "print(credit_debts.duplicated().sum())\n",
    "print()\n",
    "\n",
    "\n",
    "# замена заглавных букв на строчные в столбце 'education'\n",
    "credit_debts.education = credit_debts.education.str.lower()\n",
    "# проверка результата\n",
    "print(credit_debts.education.unique())"
   ]
  },
  {
   "cell_type": "markdown",
   "metadata": {},
   "source": [
    "### Вывод"
   ]
  },
  {
   "cell_type": "markdown",
   "metadata": {},
   "source": [
    "Дубликатов строк не обнаружено. В столбце \"education\" дубликаты, связанные с использованием разных регистров, устранены с помощью метода str.lower()."
   ]
  },
  {
   "cell_type": "markdown",
   "metadata": {},
   "source": [
    "### Лемматизация"
   ]
  },
  {
   "cell_type": "code",
   "execution_count": 8,
   "metadata": {},
   "outputs": [
    {
     "name": "stdout",
     "output_type": "stream",
     "text": [
      "Counter({' ': 96, 'покупка': 10, 'недвижимость': 10, 'автомобиль': 9, 'образование': 9, 'жилье': 7, 'с': 5, 'операция': 4, 'на': 4, 'свой': 4, 'свадьба': 3, 'строительство': 3, 'получение': 3, 'высокий': 3, 'дополнительный': 2, 'для': 2, 'коммерческий': 2, 'жилой': 2, 'заниматься': 2, 'сделка': 2, 'приобретение': 1, 'сыграть': 1, 'проведение': 1, 'семья': 1, 'собственный': 1, 'подержать': 1, 'со': 1, 'подержанный': 1, 'профильный': 1, 'сдача': 1, 'ремонт': 1, ' \\n': 1})\n"
     ]
    }
   ],
   "source": [
    "from pymystem3 import Mystem\n",
    "from collections import Counter\n",
    "m = Mystem()\n",
    "\n",
    "# Получим текст для лемматизации с помощью конкатенации\n",
    "# Создаем пустой текст\n",
    "purpose_words = \"\"\n",
    "# Цикл берет список уникльных значений столбца purpose,\n",
    "# создает список слов, входящих в каждое уникальное значение методом split,\n",
    "# внутри него другой цикл записывает каждое слово каждого уникального значения в пустой текст\n",
    "for purpose in credit_debts.purpose.unique():\n",
    "    purpose_split = purpose.split(\" \")\n",
    "    for item in purpose_split:\n",
    "        purpose_words = purpose_words + item + \" \"\n",
    "\n",
    "# Лемматизируем текст\n",
    "lemmas = m.lemmatize(purpose_words)\n",
    "# Подсчитываем, в каком количестве уникальных значений встречается каждая лемма, и выодим результат\n",
    "print(Counter(lemmas))"
   ]
  },
  {
   "cell_type": "markdown",
   "metadata": {},
   "source": [
    "### Вывод"
   ]
  },
  {
   "cell_type": "markdown",
   "metadata": {},
   "source": [
    "Из имен существительных чаще всего встречается \"покупка\", \"недвижимость\", \"автомобиль\", \"образование\", \"жилье\". Отглагольные существительные и другие существительные, обозначающие действия (\"строительство\", \"приобретение\", \"получения\"), не подходят для обозначения целей кредита: в этом случае прокупка жилья и покупка автомобиля попали бы в одну категорию. Поэтому для категорий нужно выбрать существительные, обозначающие виды товаров и услуг. Это леммы \"недвижимость\", \"жилье\" (объединить в одну категорию), \"автомобиль\", \"образование\" и \"свадьба\". Судя по набору лемм, если выделить эти категории, то в категорию \"другое\" ничего не попадет."
   ]
  },
  {
   "cell_type": "markdown",
   "metadata": {},
   "source": [
    "### Категоризация данных"
   ]
  },
  {
   "cell_type": "code",
   "execution_count": 9,
   "metadata": {},
   "outputs": [],
   "source": [
    "# Категоризацию начнем с изменения названий столбцов.\n",
    "# Для задания имеет значение, состоит ли заемщик в браке. Поэтому\n",
    "# мы будем объединять значения \"женат | замужем\" со значением \"гражданский брак\" в значение \"состоит в браке\";\n",
    "# остальные значения - в \"не состоит в браке\". Названием соответствующего столбца изменим на 'is_married'\n",
    "#Также поменяем название столбца \"dob_years\" на \"age\" и \"purpose\" на \"credit_purpose\" (такие названия понятнее)\n",
    "\n",
    "credit_debts.set_axis(['children', 'age', 'education', 'is_married', 'gender', 'income_type', 'debt', 'total_income', 'credit_purpose'], axis = 'columns', inplace = True)\n",
    "\n",
    "\n",
    "# Для категоризации данных в столбце 'is_married' создадим функцию\n",
    "\n",
    "def married(column):\n",
    "    if column == 'женат / замужем' or column == \"гражданский брак\":\n",
    "        return \"состоит в браке\"\n",
    "    else:\n",
    "        return \"не состоит в браке\"\n",
    "    \n",
    "# Применим эту функцию к столбцу с помощью метода apply\n",
    "    \n",
    "credit_debts.is_married = credit_debts.is_married.apply(married)\n",
    "\n",
    "\n",
    "# Функция для категоризации данных в столбце 'income_type'\n",
    "\n",
    "def income(column):\n",
    "    if column == 'сотрудник' or column == \"госслужащий\":\n",
    "        return \"заработная плата\"\n",
    "    elif column == \"предприниматель\" or column == \"компаньон\":\n",
    "        return \"доходы от предпринимательской деятельности\"\n",
    "    else:\n",
    "        return \"пособия и социальные выплаты\"\n",
    "\n",
    "# Применение функции к столбцу\n",
    "credit_debts.income_type = credit_debts.income_type.apply(income)"
   ]
  },
  {
   "cell_type": "code",
   "execution_count": 10,
   "metadata": {},
   "outputs": [],
   "source": [
    "# Изменим значения в столбце credit_purpose\n",
    "\n",
    "for row in range(len(credit_debts)):\n",
    "    txt = credit_debts['credit_purpose'][row].lower()\n",
    "    if \"недвижимост\" in txt:\n",
    "        credit_debts['credit_purpose'][row] = 'недвижимость'\n",
    "    elif 'жиль' in txt:\n",
    "        credit_debts['credit_purpose'][row] = 'недвижимость'\n",
    "    elif \"образован\" in txt:\n",
    "        credit_debts['credit_purpose'][row] = 'образование'\n",
    "    elif \"свадьб\" in txt:\n",
    "        credit_debts['credit_purpose'][row] = 'свадьба'\n",
    "\n",
    "    elif 'автомоб' in txt:\n",
    "        credit_debts['credit_purpose'][row] = 'автомобиль'  \n",
    "    else:\n",
    "        credit_debts['credit_purpose'][row] = \"другое\""
   ]
  },
  {
   "cell_type": "code",
   "execution_count": 11,
   "metadata": {},
   "outputs": [
    {
     "name": "stdout",
     "output_type": "stream",
     "text": [
      "недвижимость    9727\n",
      "автомобиль      3881\n",
      "образование     3584\n",
      "свадьба         2091\n",
      "Name: credit_purpose, dtype: int64\n",
      "\n",
      "заработная плата                              11285\n",
      "доходы от предпринимательской деятельности     4558\n",
      "пособия и социальные выплаты                   3440\n",
      "Name: income_type, dtype: int64\n",
      "\n",
      "состоит в браке       14820\n",
      "не состоит в браке     4463\n",
      "Name: is_married, dtype: int64\n"
     ]
    }
   ],
   "source": [
    "print(credit_debts.credit_purpose.value_counts())\n",
    "print()\n",
    "print(credit_debts.income_type.value_counts())\n",
    "print()\n",
    "print(credit_debts.is_married.value_counts())"
   ]
  },
  {
   "cell_type": "markdown",
   "metadata": {},
   "source": [
    "### Вывод"
   ]
  },
  {
   "cell_type": "markdown",
   "metadata": {},
   "source": [
    "Значения столбца распределились по четырем категориям. В \"другое\" ничего не попало, это подтверждает вывод, сделанный после лемматизации. При этом, около половины кредитов связано с недвижимостью, а на автомобили и образование берут примерно одинаковое количество кредитов. Вероятно, объяснение банальное: с одной стороны, чем дороже предмет интереса заемщика, тем скорее ему понадобится кредит для его приобретения, а с другой - недвижимость - более насущная необходимость, чем автомобиль, образование и тем более чем слишком дорого стоящая свадьба."
   ]
  },
  {
   "cell_type": "markdown",
   "metadata": {},
   "source": [
    "### Шаг 3. Ответьте на вопросы"
   ]
  },
  {
   "cell_type": "markdown",
   "metadata": {},
   "source": [
    "- Есть ли зависимость между наличием детей и возвратом кредита в срок?"
   ]
  },
  {
   "cell_type": "code",
   "execution_count": 12,
   "metadata": {},
   "outputs": [
    {
     "name": "stdout",
     "output_type": "stream",
     "text": [
      "Процент должников в группах с разным количеством детей:\n",
      "\n",
      "          доля должников  человек в выборке\n",
      "children                                   \n",
      "0               0.074728              12753\n",
      "1               0.093944               4343\n",
      "2               0.095624               1851\n",
      "3               0.074830                294\n",
      "4               0.088235                 34\n",
      "5               0.000000                  8\n"
     ]
    }
   ],
   "source": [
    "# Посчитаем средний показатель по столбцу \"debt\" для групп заемщиков с разным количеством детей,\n",
    "# сгруппировав данные по столбцу \"children\". Поскольку значения в столбце 'debt' - нули и единицы,\n",
    "# у нас получится доля должников для каждой группы. Чтобы оценить репрезентативность\n",
    "# выборки каждой группы, применим метод count к столбцу \"children\".\n",
    "# Столбцы получившейся таблицы переименуем в \"доля должников\" и \"человек в выборке\"\n",
    "children_and_debts = credit_debts.groupby('children').agg({'debt': ['mean'], 'children': ['count']})\n",
    "children_and_debts.set_axis(['доля должников', 'человек в выборке'], axis = 'columns', inplace = True)\n",
    "\n",
    "print(\"Процент должников в группах с разным количеством детей:\")\n",
    "print()\n",
    "print (children_and_debts)"
   ]
  },
  {
   "cell_type": "markdown",
   "metadata": {},
   "source": [
    "### Вывод"
   ]
  },
  {
   "cell_type": "markdown",
   "metadata": {},
   "source": [
    "В среднем у должников детей больше, чем у тех, кто платит в срок. Среди бездетных заемщиков, примерно 7.5 % - не платят в срок. Среди тех, у кого есть один ребенок - почти 9.4%. Среди тех, у кого два ребенка, должников примерно столько же - 9.5%. Дальше тенденция ломается: у многодетных проблем с долгами меньше, чем у семей с 1-2 детьми. Среди родителей троих детей процент должников такой же, как среди бездетных - 7.5% Когда у человека детей четверо, доля должников меньше 9%. Однако всего людей с четырьмя детьми в этой выборке 34  - возможно, это не очень репрезентативно. Среди тех, у кого пятеро детей, должников нет вообще. Впрочем, таких людей в выборке всего 8 человек. Поэтому сложно делать выводы. Таким образом, главный вывод в том, что самая проблемная группа - те, у кого 1 или 2 ребенка. Возможно, более состоятельные люди чаще становятся многодетными, а у бездетных меньше расходов."
   ]
  },
  {
   "cell_type": "markdown",
   "metadata": {},
   "source": [
    "- Есть ли зависимость между семейным положением и возвратом кредита в срок?"
   ]
  },
  {
   "cell_type": "code",
   "execution_count": 13,
   "metadata": {},
   "outputs": [
    {
     "name": "stdout",
     "output_type": "stream",
     "text": [
      "Доля просроченной задолжности в зависимости от семейного положения для женщин и мужчин:\n",
      "\n",
      "        должники не в браке  должники в браке\n",
      "gender                                       \n",
      "F                  0.064203          0.072074\n",
      "M                  0.140945          0.092984\n",
      "\n",
      "Доля просроченной задолжности в зависимости от семейного положения для женщин и мужчин с детьми:\n",
      "\n",
      "        должники не в браке  должники в браке\n",
      "gender                                       \n",
      "F                  0.080622          0.089947\n",
      "M                  0.158996          0.095784\n"
     ]
    }
   ],
   "source": [
    "# Создадим сводную таблицу по состоящим и не состоящим в браке мужчинам и женщинам,\n",
    "# где в качестве значений укажем долю должников\n",
    "print(\"Доля просроченной задолжности в зависимости от семейного положения для женщин и мужчин:\")\n",
    "print()\n",
    "family_and_debts = credit_debts.pivot_table(index = ['gender'], columns = ['is_married'], values = ['debt'], aggfunc = 'mean')\n",
    "family_and_debts.set_axis([\"должники не в браке\", \"должники в браке\"], axis = 'columns', inplace = True)\n",
    "print(family_and_debts)\n",
    "print()\n",
    "\n",
    "# Отдельно исследуем должников среди одиноких матерей и одиноких отцов. Создадим таблицу по тем, у кого\n",
    "# есть дети:\n",
    "having_children = credit_debts[credit_debts.children > 0]\n",
    "# И сделаем по ней сводную таблицу, такую же, как мы сделали по основной таблице\n",
    "print(\"Доля просроченной задолжности в зависимости от семейного положения для женщин и мужчин с детьми:\")\n",
    "print()\n",
    "single_parents = having_children.pivot_table(index = ['gender'], columns = ['is_married'], values = ['debt'], aggfunc = 'mean')\n",
    "single_parents.set_axis([\"должники не в браке\", \"должники в браке\"], axis = 'columns', inplace = True)\n",
    "print(single_parents)"
   ]
  },
  {
   "cell_type": "markdown",
   "metadata": {},
   "source": [
    "### Вывод"
   ]
  },
  {
   "cell_type": "markdown",
   "metadata": {},
   "source": [
    "Среди женатых мужчин должников 9%, заметно меньше, чем среди холостых - 14 %(!). Среди замужних женщин - 7%, среди незамужних - 6%. Вывод: если заемщик мужчина, имеет смысл обратить внимание на его семейное положение. Наличие детей у одиночек несколько увеличивает вероятность просрочки кредита, так среди матерей-одиночек доля просроченных кредитов составляет 8%. Среди одиноких отцов - 16%."
   ]
  },
  {
   "cell_type": "markdown",
   "metadata": {},
   "source": [
    "- Есть ли зависимость между уровнем дохода и возвратом кредита в срок?"
   ]
  },
  {
   "cell_type": "code",
   "execution_count": 14,
   "metadata": {},
   "outputs": [
    {
     "name": "stdout",
     "output_type": "stream",
     "text": [
      "Медианный доход: 145017\n",
      "\n",
      "\n",
      "Типы дохода, их доли должников и медианные доходы\n",
      "\n",
      "                                            доля должников  медианный доход\n",
      "income_type                                                                \n",
      "доходы от предпринимательской деятельности        0.075472           172450\n",
      "заработная плата                                  0.091803           143289\n",
      "пособия и социальные выплаты                      0.053198           118287\n"
     ]
    }
   ],
   "source": [
    "# Сначала вычислим медианный доход по выборке в целом\n",
    "print('Медианный доход: ', end='')\n",
    "income_median = credit_debts.total_income.median()\n",
    "print(int(income_median))\n",
    "print()\n",
    "print()\n",
    "# Теперь посмотрим как доля должников и медианный доход менябтся в зависисмости от типа дохода\n",
    "print('Типы дохода, их доли должников и медианные доходы')\n",
    "print()\n",
    "income_type_and_debts = credit_debts.groupby('income_type').agg({'debt': ['mean'], 'total_income' : ['median']})\n",
    "income_type_and_debts.set_axis(['доля должников', \"медианный доход\"], axis = 'columns', inplace=True)\n",
    "print(income_type_and_debts)"
   ]
  },
  {
   "cell_type": "markdown",
   "metadata": {},
   "source": [
    "## Вывод"
   ]
  },
  {
   "cell_type": "markdown",
   "metadata": {},
   "source": [
    "Наибольший процент просрочки - у заемщиков, чей доход - заработная плата (9%). Их медианный доход практически такой же, как медианный доход по выборке в целом. Предприниматели побогаче и немного реже имеют просрочку (7%), однако самые бедные (пенсионеры, студенты ит.п.) выплачивают вовремя чаще всех (5% просроченных кредитов)."
   ]
  },
  {
   "cell_type": "markdown",
   "metadata": {},
   "source": [
    "- Как разные цели кредита влияют на его возврат в срок?"
   ]
  },
  {
   "cell_type": "code",
   "execution_count": 15,
   "metadata": {},
   "outputs": [
    {
     "name": "stdout",
     "output_type": "stream",
     "text": [
      "Доля должников среди заемщиков в зависимости от цели кредита\n",
      "\n",
      "credit_purpose\n",
      "автомобиль      0.094048\n",
      "недвижимость    0.073301\n",
      "образование     0.092076\n",
      "свадьба         0.074127\n",
      "Name: debt, dtype: float64\n",
      "\n",
      "Доля должников среди заемщиков с разными типами дохода в зависимости от цели кредита\n",
      "\n",
      "                                                 debt               \\\n",
      "credit_purpose                             автомобиль недвижимость   \n",
      "income_type                                                          \n",
      "доходы от предпринимательской деятельности   0.080460     0.069554   \n",
      "заработная плата                             0.110407     0.082884   \n",
      "пособия и социальные выплаты                 0.061625     0.045936   \n",
      "\n",
      "                                                                  \n",
      "credit_purpose                             образование   свадьба  \n",
      "income_type                                                       \n",
      "доходы от предпринимательской деятельности    0.075829  0.093418  \n",
      "заработная плата                              0.107383  0.073836  \n",
      "пособия и социальные выплаты                  0.064220  0.050802  \n"
     ]
    }
   ],
   "source": [
    "# Сгруппируем данные по столбцу credit_purpose и вычислим долю должников\n",
    "print(\"Доля должников среди заемщиков в зависимости от цели кредита\")\n",
    "print()\n",
    "targets_and_debts = credit_debts.groupby('credit_purpose')['debt'].mean()\n",
    "print(targets_and_debts)\n",
    "print()\n",
    "# Объединим в сводной таблице данные по типу доходов и цели кредита\n",
    "\n",
    "print(\"Доля должников среди заемщиков с разными типами дохода в зависимости от цели кредита\")\n",
    "print()\n",
    "targets_income_type_debts = credit_debts.pivot_table(index = ['income_type'], columns = ['credit_purpose'], values = ['debt'], aggfunc = 'mean')\n",
    "print(targets_income_type_debts)"
   ]
  },
  {
   "cell_type": "markdown",
   "metadata": {},
   "source": [
    "### Вывод"
   ]
  },
  {
   "cell_type": "markdown",
   "metadata": {},
   "source": [
    "Процент просроченных кредитов, полученных для приобретения автомобиля и получения образования, несколько выше, чем для кредитов, связанных с недвижимостью и свадьбами. Заметно выше среднего процент должников среди тех, кто берет кредит на автомобиль и образование, чьим доходом при этом является заработная плата."
   ]
  },
  {
   "cell_type": "markdown",
   "metadata": {},
   "source": [
    "### Шаг 4. Общий вывод"
   ]
  },
  {
   "cell_type": "markdown",
   "metadata": {},
   "source": [
    "В целом исследование данной выборки не выявило однозначной зависимости возврата кредита от какого-то одного фактора, однако стоит обратить внимание на сочетание таких факторов, как тип дохода и цель кредита. Средний процент просроченных кредитов по всей выборке - 8%. Если кредит берется на автомобиль или образование, а берет его наемный служащий, то вероятность просрочки выше - 10-11%. Также к \"группе риска\" можно отнести неженатых мужчин. В этой группе доля должников 14%, а если у них есть дети, то 16%."
   ]
  },
  {
   "cell_type": "code",
   "execution_count": null,
   "metadata": {},
   "outputs": [],
   "source": []
  }
 ],
 "metadata": {
  "kernelspec": {
   "display_name": "Python 3",
   "language": "python",
   "name": "python3"
  },
  "language_info": {
   "codemirror_mode": {
    "name": "ipython",
    "version": 3
   },
   "file_extension": ".py",
   "mimetype": "text/x-python",
   "name": "python",
   "nbconvert_exporter": "python",
   "pygments_lexer": "ipython3",
   "version": "3.8.3"
  }
 },
 "nbformat": 4,
 "nbformat_minor": 2
}
