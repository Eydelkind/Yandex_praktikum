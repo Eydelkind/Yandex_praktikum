{
 "cells": [
  {
   "cell_type": "markdown",
   "metadata": {},
   "source": [
    "# Определение перспективного тарифа"
   ]
  },
  {
   "cell_type": "markdown",
   "metadata": {},
   "source": [
    "План:\n",
    "1. Изучение и подготовка данных\n",
    "2. Анализ данных\n",
    "3. Проверка гипотез\n",
    "4. Выводы"
   ]
  },
  {
   "cell_type": "markdown",
   "metadata": {},
   "source": [
    "## ИЗУЧЕНИЕ И ПОДГОТОВКА ДАННЫХ\n",
    "\n",
    "## I. Исходные таблицы"
   ]
  },
  {
   "cell_type": "markdown",
   "metadata": {},
   "source": [
    "###  Таблица пользователей"
   ]
  },
  {
   "cell_type": "code",
   "execution_count": 1,
   "metadata": {},
   "outputs": [
    {
     "name": "stdout",
     "output_type": "stream",
     "text": [
      "<class 'pandas.core.frame.DataFrame'>\n",
      "RangeIndex: 500 entries, 0 to 499\n",
      "Data columns (total 8 columns):\n",
      " #   Column      Non-Null Count  Dtype \n",
      "---  ------      --------------  ----- \n",
      " 0   user_id     500 non-null    int64 \n",
      " 1   age         500 non-null    int64 \n",
      " 2   churn_date  38 non-null     object\n",
      " 3   city        500 non-null    object\n",
      " 4   first_name  500 non-null    object\n",
      " 5   last_name   500 non-null    object\n",
      " 6   reg_date    500 non-null    object\n",
      " 7   tariff      500 non-null    object\n",
      "dtypes: int64(2), object(6)\n",
      "memory usage: 31.4+ KB\n",
      "None\n",
      "\n"
     ]
    },
    {
     "data": {
      "text/html": [
       "<div>\n",
       "<style scoped>\n",
       "    .dataframe tbody tr th:only-of-type {\n",
       "        vertical-align: middle;\n",
       "    }\n",
       "\n",
       "    .dataframe tbody tr th {\n",
       "        vertical-align: top;\n",
       "    }\n",
       "\n",
       "    .dataframe thead th {\n",
       "        text-align: right;\n",
       "    }\n",
       "</style>\n",
       "<table border=\"1\" class=\"dataframe\">\n",
       "  <thead>\n",
       "    <tr style=\"text-align: right;\">\n",
       "      <th></th>\n",
       "      <th>user_id</th>\n",
       "      <th>age</th>\n",
       "      <th>churn_date</th>\n",
       "      <th>city</th>\n",
       "      <th>first_name</th>\n",
       "      <th>last_name</th>\n",
       "      <th>reg_date</th>\n",
       "      <th>tariff</th>\n",
       "    </tr>\n",
       "  </thead>\n",
       "  <tbody>\n",
       "    <tr>\n",
       "      <th>0</th>\n",
       "      <td>1000</td>\n",
       "      <td>52</td>\n",
       "      <td>NaN</td>\n",
       "      <td>Краснодар</td>\n",
       "      <td>Рафаил</td>\n",
       "      <td>Верещагин</td>\n",
       "      <td>2018-05-25</td>\n",
       "      <td>ultra</td>\n",
       "    </tr>\n",
       "    <tr>\n",
       "      <th>1</th>\n",
       "      <td>1001</td>\n",
       "      <td>41</td>\n",
       "      <td>NaN</td>\n",
       "      <td>Москва</td>\n",
       "      <td>Иван</td>\n",
       "      <td>Ежов</td>\n",
       "      <td>2018-11-01</td>\n",
       "      <td>smart</td>\n",
       "    </tr>\n",
       "    <tr>\n",
       "      <th>2</th>\n",
       "      <td>1002</td>\n",
       "      <td>59</td>\n",
       "      <td>NaN</td>\n",
       "      <td>Стерлитамак</td>\n",
       "      <td>Евгений</td>\n",
       "      <td>Абрамович</td>\n",
       "      <td>2018-06-17</td>\n",
       "      <td>smart</td>\n",
       "    </tr>\n",
       "    <tr>\n",
       "      <th>3</th>\n",
       "      <td>1003</td>\n",
       "      <td>23</td>\n",
       "      <td>NaN</td>\n",
       "      <td>Москва</td>\n",
       "      <td>Белла</td>\n",
       "      <td>Белякова</td>\n",
       "      <td>2018-08-17</td>\n",
       "      <td>ultra</td>\n",
       "    </tr>\n",
       "    <tr>\n",
       "      <th>4</th>\n",
       "      <td>1004</td>\n",
       "      <td>68</td>\n",
       "      <td>NaN</td>\n",
       "      <td>Новокузнецк</td>\n",
       "      <td>Татьяна</td>\n",
       "      <td>Авдеенко</td>\n",
       "      <td>2018-05-14</td>\n",
       "      <td>ultra</td>\n",
       "    </tr>\n",
       "  </tbody>\n",
       "</table>\n",
       "</div>"
      ],
      "text/plain": [
       "   user_id  age churn_date         city first_name  last_name    reg_date  \\\n",
       "0     1000   52        NaN    Краснодар     Рафаил  Верещагин  2018-05-25   \n",
       "1     1001   41        NaN       Москва       Иван       Ежов  2018-11-01   \n",
       "2     1002   59        NaN  Стерлитамак    Евгений  Абрамович  2018-06-17   \n",
       "3     1003   23        NaN       Москва      Белла   Белякова  2018-08-17   \n",
       "4     1004   68        NaN  Новокузнецк    Татьяна   Авдеенко  2018-05-14   \n",
       "\n",
       "  tariff  \n",
       "0  ultra  \n",
       "1  smart  \n",
       "2  smart  \n",
       "3  ultra  \n",
       "4  ultra  "
      ]
     },
     "metadata": {},
     "output_type": "display_data"
    },
    {
     "name": "stdout",
     "output_type": "stream",
     "text": [
      "\n",
      "500\n"
     ]
    }
   ],
   "source": [
    "import pandas as pd\n",
    "import numpy as np\n",
    "from matplotlib import pyplot as plt\n",
    "from scipy import stats as st\n",
    "from IPython.display import display\n",
    "import warnings\n",
    "warnings.filterwarnings('ignore')\n",
    "\n",
    "users = pd.read_csv('users.csv')\n",
    "print(users.info())\n",
    "print()\n",
    "display(users.head())\n",
    "print()\n",
    "\n",
    "# Проверим, совпадает ли число уникальных пользователей с числом строк в таблице\n",
    "print(users.user_id.nunique())"
   ]
  },
  {
   "cell_type": "markdown",
   "metadata": {},
   "source": [
    "Дубликатов нет. Все данные в таблицы принадлежат к типу object. Формат даты предполагается такой: год-месяц_день. Нужно привести числа к типу int, даты - к datetime. Поскольку исследование посвящено 2018 году, NaNы в столбце churn_date можно заполнить значением 2019-01-01."
   ]
  },
  {
   "cell_type": "code",
   "execution_count": 2,
   "metadata": {},
   "outputs": [
    {
     "name": "stdout",
     "output_type": "stream",
     "text": [
      "<class 'pandas.core.frame.DataFrame'>\n",
      "RangeIndex: 500 entries, 0 to 499\n",
      "Data columns (total 8 columns):\n",
      " #   Column      Non-Null Count  Dtype         \n",
      "---  ------      --------------  -----         \n",
      " 0   user_id     500 non-null    int64         \n",
      " 1   age         500 non-null    int64         \n",
      " 2   churn_date  500 non-null    datetime64[ns]\n",
      " 3   city        500 non-null    object        \n",
      " 4   first_name  500 non-null    object        \n",
      " 5   last_name   500 non-null    object        \n",
      " 6   reg_date    500 non-null    datetime64[ns]\n",
      " 7   tariff      500 non-null    object        \n",
      "dtypes: datetime64[ns](2), int64(2), object(4)\n",
      "memory usage: 31.4+ KB\n",
      "None\n"
     ]
    }
   ],
   "source": [
    "users = users.fillna('2019-01-01')\n",
    "users.churn_date = pd.to_datetime(users.churn_date, format = '%Y-%m-%d')\n",
    "users.reg_date = pd.to_datetime(users.reg_date, format = '%Y-%m-%d')\n",
    "users.user_id = pd.to_numeric(users.user_id)\n",
    "users.user_id = pd.to_numeric(users.user_id)\n",
    "users.age = pd.to_numeric(users.age)\n",
    "print(users.info())"
   ]
  },
  {
   "cell_type": "markdown",
   "metadata": {},
   "source": [
    "### Таблица тарифов"
   ]
  },
  {
   "cell_type": "code",
   "execution_count": 3,
   "metadata": {},
   "outputs": [
    {
     "name": "stdout",
     "output_type": "stream",
     "text": [
      "<class 'pandas.core.frame.DataFrame'>\n",
      "RangeIndex: 2 entries, 0 to 1\n",
      "Data columns (total 8 columns):\n",
      " #   Column                 Non-Null Count  Dtype \n",
      "---  ------                 --------------  ----- \n",
      " 0   messages_included      2 non-null      int64 \n",
      " 1   mb_per_month_included  2 non-null      int64 \n",
      " 2   minutes_included       2 non-null      int64 \n",
      " 3   rub_monthly_fee        2 non-null      int64 \n",
      " 4   rub_per_gb             2 non-null      int64 \n",
      " 5   rub_per_message        2 non-null      int64 \n",
      " 6   rub_per_minute         2 non-null      int64 \n",
      " 7   tariff_name            2 non-null      object\n",
      "dtypes: int64(7), object(1)\n",
      "memory usage: 256.0+ bytes\n",
      "None\n"
     ]
    },
    {
     "data": {
      "text/html": [
       "<div>\n",
       "<style scoped>\n",
       "    .dataframe tbody tr th:only-of-type {\n",
       "        vertical-align: middle;\n",
       "    }\n",
       "\n",
       "    .dataframe tbody tr th {\n",
       "        vertical-align: top;\n",
       "    }\n",
       "\n",
       "    .dataframe thead th {\n",
       "        text-align: right;\n",
       "    }\n",
       "</style>\n",
       "<table border=\"1\" class=\"dataframe\">\n",
       "  <thead>\n",
       "    <tr style=\"text-align: right;\">\n",
       "      <th></th>\n",
       "      <th>messages_included</th>\n",
       "      <th>mb_per_month_included</th>\n",
       "      <th>minutes_included</th>\n",
       "      <th>rub_monthly_fee</th>\n",
       "      <th>rub_per_gb</th>\n",
       "      <th>rub_per_message</th>\n",
       "      <th>rub_per_minute</th>\n",
       "      <th>tariff_name</th>\n",
       "    </tr>\n",
       "  </thead>\n",
       "  <tbody>\n",
       "    <tr>\n",
       "      <th>0</th>\n",
       "      <td>50</td>\n",
       "      <td>15360</td>\n",
       "      <td>500</td>\n",
       "      <td>550</td>\n",
       "      <td>200</td>\n",
       "      <td>3</td>\n",
       "      <td>3</td>\n",
       "      <td>smart</td>\n",
       "    </tr>\n",
       "    <tr>\n",
       "      <th>1</th>\n",
       "      <td>1000</td>\n",
       "      <td>30720</td>\n",
       "      <td>3000</td>\n",
       "      <td>1950</td>\n",
       "      <td>150</td>\n",
       "      <td>1</td>\n",
       "      <td>1</td>\n",
       "      <td>ultra</td>\n",
       "    </tr>\n",
       "  </tbody>\n",
       "</table>\n",
       "</div>"
      ],
      "text/plain": [
       "   messages_included  mb_per_month_included  minutes_included  \\\n",
       "0                 50                  15360               500   \n",
       "1               1000                  30720              3000   \n",
       "\n",
       "   rub_monthly_fee  rub_per_gb  rub_per_message  rub_per_minute tariff_name  \n",
       "0              550         200                3               3       smart  \n",
       "1             1950         150                1               1       ultra  "
      ]
     },
     "metadata": {},
     "output_type": "display_data"
    }
   ],
   "source": [
    "tariffs = pd.read_csv('tariffs.csv')\n",
    "print(tariffs.info())\n",
    "display(tariffs)"
   ]
  },
  {
   "cell_type": "markdown",
   "metadata": {},
   "source": [
    "В этой таблице неудобно то, что трафик считается то в гигабайтах, то в мегабайтах. Поскольку цена установлена за гигабайт, лучше заменить 'mb_per_month_included' на gb_included, а значения поменять на 15 и 30. Столбец 'tariff_name' стоит переименовать в 'tariff' для удобства дальнейшего объединения с другими таблицами."
   ]
  },
  {
   "cell_type": "code",
   "execution_count": 4,
   "metadata": {},
   "outputs": [
    {
     "data": {
      "text/html": [
       "<div>\n",
       "<style scoped>\n",
       "    .dataframe tbody tr th:only-of-type {\n",
       "        vertical-align: middle;\n",
       "    }\n",
       "\n",
       "    .dataframe tbody tr th {\n",
       "        vertical-align: top;\n",
       "    }\n",
       "\n",
       "    .dataframe thead th {\n",
       "        text-align: right;\n",
       "    }\n",
       "</style>\n",
       "<table border=\"1\" class=\"dataframe\">\n",
       "  <thead>\n",
       "    <tr style=\"text-align: right;\">\n",
       "      <th></th>\n",
       "      <th>messages_included</th>\n",
       "      <th>gb_included</th>\n",
       "      <th>minutes_included</th>\n",
       "      <th>rub_monthly_fee</th>\n",
       "      <th>rub_per_gb</th>\n",
       "      <th>rub_per_message</th>\n",
       "      <th>rub_per_minute</th>\n",
       "      <th>tariff</th>\n",
       "    </tr>\n",
       "  </thead>\n",
       "  <tbody>\n",
       "    <tr>\n",
       "      <th>0</th>\n",
       "      <td>50</td>\n",
       "      <td>15</td>\n",
       "      <td>500</td>\n",
       "      <td>550</td>\n",
       "      <td>200</td>\n",
       "      <td>3</td>\n",
       "      <td>3</td>\n",
       "      <td>smart</td>\n",
       "    </tr>\n",
       "    <tr>\n",
       "      <th>1</th>\n",
       "      <td>1000</td>\n",
       "      <td>30</td>\n",
       "      <td>3000</td>\n",
       "      <td>1950</td>\n",
       "      <td>150</td>\n",
       "      <td>1</td>\n",
       "      <td>1</td>\n",
       "      <td>ultra</td>\n",
       "    </tr>\n",
       "  </tbody>\n",
       "</table>\n",
       "</div>"
      ],
      "text/plain": [
       "   messages_included  gb_included  minutes_included  rub_monthly_fee  \\\n",
       "0                 50           15               500              550   \n",
       "1               1000           30              3000             1950   \n",
       "\n",
       "   rub_per_gb  rub_per_message  rub_per_minute tariff  \n",
       "0         200                3               3  smart  \n",
       "1         150                1               1  ultra  "
      ]
     },
     "metadata": {},
     "output_type": "display_data"
    }
   ],
   "source": [
    "tariffs.set_axis(['messages_included', 'gb_included', 'minutes_included', 'rub_monthly_fee', 'rub_per_gb', 'rub_per_message', 'rub_per_minute', 'tariff'], axis = 'columns', inplace = True)\n",
    "tariffs['gb_included'] = (tariffs.gb_included / 1024).astype('int')\n",
    "display(tariffs)"
   ]
  },
  {
   "cell_type": "markdown",
   "metadata": {},
   "source": [
    "### Таблица звонков"
   ]
  },
  {
   "cell_type": "code",
   "execution_count": 5,
   "metadata": {},
   "outputs": [
    {
     "name": "stdout",
     "output_type": "stream",
     "text": [
      "<class 'pandas.core.frame.DataFrame'>\n",
      "RangeIndex: 202607 entries, 0 to 202606\n",
      "Data columns (total 4 columns):\n",
      " #   Column     Non-Null Count   Dtype  \n",
      "---  ------     --------------   -----  \n",
      " 0   id         202607 non-null  object \n",
      " 1   call_date  202607 non-null  object \n",
      " 2   duration   202607 non-null  float64\n",
      " 3   user_id    202607 non-null  int64  \n",
      "dtypes: float64(1), int64(1), object(2)\n",
      "memory usage: 6.2+ MB\n",
      "None\n",
      "\n"
     ]
    },
    {
     "data": {
      "text/html": [
       "<div>\n",
       "<style scoped>\n",
       "    .dataframe tbody tr th:only-of-type {\n",
       "        vertical-align: middle;\n",
       "    }\n",
       "\n",
       "    .dataframe tbody tr th {\n",
       "        vertical-align: top;\n",
       "    }\n",
       "\n",
       "    .dataframe thead th {\n",
       "        text-align: right;\n",
       "    }\n",
       "</style>\n",
       "<table border=\"1\" class=\"dataframe\">\n",
       "  <thead>\n",
       "    <tr style=\"text-align: right;\">\n",
       "      <th></th>\n",
       "      <th>id</th>\n",
       "      <th>call_date</th>\n",
       "      <th>duration</th>\n",
       "      <th>user_id</th>\n",
       "    </tr>\n",
       "  </thead>\n",
       "  <tbody>\n",
       "    <tr>\n",
       "      <th>0</th>\n",
       "      <td>1000_0</td>\n",
       "      <td>2018-07-25</td>\n",
       "      <td>0.00</td>\n",
       "      <td>1000</td>\n",
       "    </tr>\n",
       "    <tr>\n",
       "      <th>1</th>\n",
       "      <td>1000_1</td>\n",
       "      <td>2018-08-17</td>\n",
       "      <td>0.00</td>\n",
       "      <td>1000</td>\n",
       "    </tr>\n",
       "    <tr>\n",
       "      <th>2</th>\n",
       "      <td>1000_2</td>\n",
       "      <td>2018-06-11</td>\n",
       "      <td>2.85</td>\n",
       "      <td>1000</td>\n",
       "    </tr>\n",
       "    <tr>\n",
       "      <th>3</th>\n",
       "      <td>1000_3</td>\n",
       "      <td>2018-09-21</td>\n",
       "      <td>13.80</td>\n",
       "      <td>1000</td>\n",
       "    </tr>\n",
       "    <tr>\n",
       "      <th>4</th>\n",
       "      <td>1000_4</td>\n",
       "      <td>2018-12-15</td>\n",
       "      <td>5.18</td>\n",
       "      <td>1000</td>\n",
       "    </tr>\n",
       "  </tbody>\n",
       "</table>\n",
       "</div>"
      ],
      "text/plain": [
       "       id   call_date  duration  user_id\n",
       "0  1000_0  2018-07-25      0.00     1000\n",
       "1  1000_1  2018-08-17      0.00     1000\n",
       "2  1000_2  2018-06-11      2.85     1000\n",
       "3  1000_3  2018-09-21     13.80     1000\n",
       "4  1000_4  2018-12-15      5.18     1000"
      ]
     },
     "metadata": {},
     "output_type": "display_data"
    },
    {
     "name": "stdout",
     "output_type": "stream",
     "text": [
      "\n",
      "0\n",
      "\n",
      "492\n"
     ]
    }
   ],
   "source": [
    "calls = pd.read_csv('calls.csv')\n",
    "print(calls.info())\n",
    "print()\n",
    "display(calls.head())\n",
    "print()\n",
    "\n",
    "# Дубликаты\n",
    "print(calls.id.duplicated().sum())\n",
    "print()\n",
    "# Проверим количество уникальных пользователей в этой таблице\n",
    "#(и ниже сделаем о же самое для сообщений и интернета)\n",
    "print(calls.user_id.nunique())"
   ]
  },
  {
   "cell_type": "markdown",
   "metadata": {},
   "source": [
    "Дубликатов нет. Нужно изменить формат даты, избавиться от пропущенных звонков, длительность оставшихся - округлить в большую сторону и привести к типу int (так как тариф поминутный). Id привязан к user_id, поэтому состоит из двух частей, разделенных нижним подчеркиванием. Его можно оставить в таком виде, потому что арифметические операции с ним выполнять не нужно."
   ]
  },
  {
   "cell_type": "code",
   "execution_count": 6,
   "metadata": {},
   "outputs": [
    {
     "name": "stdout",
     "output_type": "stream",
     "text": [
      "<class 'pandas.core.frame.DataFrame'>\n",
      "RangeIndex: 162994 entries, 0 to 162993\n",
      "Data columns (total 4 columns):\n",
      " #   Column     Non-Null Count   Dtype         \n",
      "---  ------     --------------   -----         \n",
      " 0   id         162994 non-null  object        \n",
      " 1   call_date  162994 non-null  datetime64[ns]\n",
      " 2   duration   162994 non-null  int32         \n",
      " 3   user_id    162994 non-null  int64         \n",
      "dtypes: datetime64[ns](1), int32(1), int64(1), object(1)\n",
      "memory usage: 4.4+ MB\n",
      "None\n",
      "\n"
     ]
    },
    {
     "data": {
      "text/html": [
       "<div>\n",
       "<style scoped>\n",
       "    .dataframe tbody tr th:only-of-type {\n",
       "        vertical-align: middle;\n",
       "    }\n",
       "\n",
       "    .dataframe tbody tr th {\n",
       "        vertical-align: top;\n",
       "    }\n",
       "\n",
       "    .dataframe thead th {\n",
       "        text-align: right;\n",
       "    }\n",
       "</style>\n",
       "<table border=\"1\" class=\"dataframe\">\n",
       "  <thead>\n",
       "    <tr style=\"text-align: right;\">\n",
       "      <th></th>\n",
       "      <th>id</th>\n",
       "      <th>call_date</th>\n",
       "      <th>duration</th>\n",
       "      <th>user_id</th>\n",
       "    </tr>\n",
       "  </thead>\n",
       "  <tbody>\n",
       "    <tr>\n",
       "      <th>0</th>\n",
       "      <td>1000_2</td>\n",
       "      <td>2018-06-11</td>\n",
       "      <td>3</td>\n",
       "      <td>1000</td>\n",
       "    </tr>\n",
       "    <tr>\n",
       "      <th>1</th>\n",
       "      <td>1000_3</td>\n",
       "      <td>2018-09-21</td>\n",
       "      <td>14</td>\n",
       "      <td>1000</td>\n",
       "    </tr>\n",
       "    <tr>\n",
       "      <th>2</th>\n",
       "      <td>1000_4</td>\n",
       "      <td>2018-12-15</td>\n",
       "      <td>6</td>\n",
       "      <td>1000</td>\n",
       "    </tr>\n",
       "    <tr>\n",
       "      <th>3</th>\n",
       "      <td>1000_7</td>\n",
       "      <td>2018-08-22</td>\n",
       "      <td>19</td>\n",
       "      <td>1000</td>\n",
       "    </tr>\n",
       "    <tr>\n",
       "      <th>4</th>\n",
       "      <td>1000_8</td>\n",
       "      <td>2018-09-15</td>\n",
       "      <td>19</td>\n",
       "      <td>1000</td>\n",
       "    </tr>\n",
       "  </tbody>\n",
       "</table>\n",
       "</div>"
      ],
      "text/plain": [
       "       id  call_date  duration  user_id\n",
       "0  1000_2 2018-06-11         3     1000\n",
       "1  1000_3 2018-09-21        14     1000\n",
       "2  1000_4 2018-12-15         6     1000\n",
       "3  1000_7 2018-08-22        19     1000\n",
       "4  1000_8 2018-09-15        19     1000"
      ]
     },
     "metadata": {},
     "output_type": "display_data"
    },
    {
     "name": "stdout",
     "output_type": "stream",
     "text": [
      "\n",
      "492\n"
     ]
    }
   ],
   "source": [
    "# Формат даты\n",
    "calls.call_date = pd.to_datetime(calls.call_date, format = '%Y-%m-%d')\n",
    "# Пропущенные звонки\n",
    "calls = calls[calls.duration != 0.00].reset_index(drop=True)\n",
    "# Округление длительности в большую сторону\n",
    "calls.duration = calls.duration // 1 + 1\n",
    "# Целочисленный тип длительности\n",
    "calls.duration = calls.duration.astype('int')\n",
    "print(calls.info())\n",
    "print()\n",
    "display(calls.head())\n",
    "print()\n",
    "# Проверим, не изменилось ли количество пользователей после удаления пропущенных звонков\n",
    "print(calls.user_id.nunique())"
   ]
  },
  {
   "cell_type": "markdown",
   "metadata": {},
   "source": [
    "### Таблица сообщений"
   ]
  },
  {
   "cell_type": "code",
   "execution_count": 7,
   "metadata": {},
   "outputs": [
    {
     "name": "stdout",
     "output_type": "stream",
     "text": [
      "<class 'pandas.core.frame.DataFrame'>\n",
      "RangeIndex: 123036 entries, 0 to 123035\n",
      "Data columns (total 3 columns):\n",
      " #   Column        Non-Null Count   Dtype \n",
      "---  ------        --------------   ----- \n",
      " 0   id            123036 non-null  object\n",
      " 1   message_date  123036 non-null  object\n",
      " 2   user_id       123036 non-null  int64 \n",
      "dtypes: int64(1), object(2)\n",
      "memory usage: 2.8+ MB\n",
      "None\n",
      "\n"
     ]
    },
    {
     "data": {
      "text/html": [
       "<div>\n",
       "<style scoped>\n",
       "    .dataframe tbody tr th:only-of-type {\n",
       "        vertical-align: middle;\n",
       "    }\n",
       "\n",
       "    .dataframe tbody tr th {\n",
       "        vertical-align: top;\n",
       "    }\n",
       "\n",
       "    .dataframe thead th {\n",
       "        text-align: right;\n",
       "    }\n",
       "</style>\n",
       "<table border=\"1\" class=\"dataframe\">\n",
       "  <thead>\n",
       "    <tr style=\"text-align: right;\">\n",
       "      <th></th>\n",
       "      <th>id</th>\n",
       "      <th>message_date</th>\n",
       "      <th>user_id</th>\n",
       "    </tr>\n",
       "  </thead>\n",
       "  <tbody>\n",
       "    <tr>\n",
       "      <th>0</th>\n",
       "      <td>1000_0</td>\n",
       "      <td>2018-06-27</td>\n",
       "      <td>1000</td>\n",
       "    </tr>\n",
       "    <tr>\n",
       "      <th>1</th>\n",
       "      <td>1000_1</td>\n",
       "      <td>2018-10-08</td>\n",
       "      <td>1000</td>\n",
       "    </tr>\n",
       "    <tr>\n",
       "      <th>2</th>\n",
       "      <td>1000_2</td>\n",
       "      <td>2018-08-04</td>\n",
       "      <td>1000</td>\n",
       "    </tr>\n",
       "    <tr>\n",
       "      <th>3</th>\n",
       "      <td>1000_3</td>\n",
       "      <td>2018-06-16</td>\n",
       "      <td>1000</td>\n",
       "    </tr>\n",
       "    <tr>\n",
       "      <th>4</th>\n",
       "      <td>1000_4</td>\n",
       "      <td>2018-12-05</td>\n",
       "      <td>1000</td>\n",
       "    </tr>\n",
       "  </tbody>\n",
       "</table>\n",
       "</div>"
      ],
      "text/plain": [
       "       id message_date  user_id\n",
       "0  1000_0   2018-06-27     1000\n",
       "1  1000_1   2018-10-08     1000\n",
       "2  1000_2   2018-08-04     1000\n",
       "3  1000_3   2018-06-16     1000\n",
       "4  1000_4   2018-12-05     1000"
      ]
     },
     "metadata": {},
     "output_type": "display_data"
    },
    {
     "name": "stdout",
     "output_type": "stream",
     "text": [
      "\n",
      "0\n",
      "\n",
      "426\n"
     ]
    }
   ],
   "source": [
    "messages = pd.read_csv('messages.csv')\n",
    "print(messages.info())\n",
    "print()\n",
    "display(messages.head())\n",
    "print()\n",
    "# Дубликаты\n",
    "print(messages.id.duplicated().sum())\n",
    "print()\n",
    "# Количество уникальных пользователей\n",
    "print(messages.user_id.nunique())"
   ]
  },
  {
   "cell_type": "markdown",
   "metadata": {},
   "source": [
    "Дубликатов нет. Нужно исправить формат даты."
   ]
  },
  {
   "cell_type": "code",
   "execution_count": 8,
   "metadata": {},
   "outputs": [
    {
     "name": "stdout",
     "output_type": "stream",
     "text": [
      "<class 'pandas.core.frame.DataFrame'>\n",
      "RangeIndex: 123036 entries, 0 to 123035\n",
      "Data columns (total 3 columns):\n",
      " #   Column        Non-Null Count   Dtype         \n",
      "---  ------        --------------   -----         \n",
      " 0   id            123036 non-null  object        \n",
      " 1   message_date  123036 non-null  datetime64[ns]\n",
      " 2   user_id       123036 non-null  int64         \n",
      "dtypes: datetime64[ns](1), int64(1), object(1)\n",
      "memory usage: 2.8+ MB\n",
      "None\n"
     ]
    }
   ],
   "source": [
    "# Формат даты\n",
    "messages.message_date = pd.to_datetime(messages.message_date, format = '%Y-%m-%d')\n",
    "print(messages.info())"
   ]
  },
  {
   "cell_type": "markdown",
   "metadata": {},
   "source": [
    "### Таблица мобильного интернета"
   ]
  },
  {
   "cell_type": "code",
   "execution_count": 9,
   "metadata": {},
   "outputs": [
    {
     "name": "stdout",
     "output_type": "stream",
     "text": [
      "<class 'pandas.core.frame.DataFrame'>\n",
      "RangeIndex: 149396 entries, 0 to 149395\n",
      "Data columns (total 5 columns):\n",
      " #   Column        Non-Null Count   Dtype  \n",
      "---  ------        --------------   -----  \n",
      " 0   Unnamed: 0    149396 non-null  int64  \n",
      " 1   id            149396 non-null  object \n",
      " 2   mb_used       149396 non-null  float64\n",
      " 3   session_date  149396 non-null  object \n",
      " 4   user_id       149396 non-null  int64  \n",
      "dtypes: float64(1), int64(2), object(2)\n",
      "memory usage: 5.7+ MB\n",
      "None\n",
      "\n"
     ]
    },
    {
     "data": {
      "text/html": [
       "<div>\n",
       "<style scoped>\n",
       "    .dataframe tbody tr th:only-of-type {\n",
       "        vertical-align: middle;\n",
       "    }\n",
       "\n",
       "    .dataframe tbody tr th {\n",
       "        vertical-align: top;\n",
       "    }\n",
       "\n",
       "    .dataframe thead th {\n",
       "        text-align: right;\n",
       "    }\n",
       "</style>\n",
       "<table border=\"1\" class=\"dataframe\">\n",
       "  <thead>\n",
       "    <tr style=\"text-align: right;\">\n",
       "      <th></th>\n",
       "      <th>Unnamed: 0</th>\n",
       "      <th>id</th>\n",
       "      <th>mb_used</th>\n",
       "      <th>session_date</th>\n",
       "      <th>user_id</th>\n",
       "    </tr>\n",
       "  </thead>\n",
       "  <tbody>\n",
       "    <tr>\n",
       "      <th>0</th>\n",
       "      <td>0</td>\n",
       "      <td>1000_0</td>\n",
       "      <td>112.95</td>\n",
       "      <td>2018-11-25</td>\n",
       "      <td>1000</td>\n",
       "    </tr>\n",
       "    <tr>\n",
       "      <th>1</th>\n",
       "      <td>1</td>\n",
       "      <td>1000_1</td>\n",
       "      <td>1052.81</td>\n",
       "      <td>2018-09-07</td>\n",
       "      <td>1000</td>\n",
       "    </tr>\n",
       "    <tr>\n",
       "      <th>2</th>\n",
       "      <td>2</td>\n",
       "      <td>1000_2</td>\n",
       "      <td>1197.26</td>\n",
       "      <td>2018-06-25</td>\n",
       "      <td>1000</td>\n",
       "    </tr>\n",
       "    <tr>\n",
       "      <th>3</th>\n",
       "      <td>3</td>\n",
       "      <td>1000_3</td>\n",
       "      <td>550.27</td>\n",
       "      <td>2018-08-22</td>\n",
       "      <td>1000</td>\n",
       "    </tr>\n",
       "    <tr>\n",
       "      <th>4</th>\n",
       "      <td>4</td>\n",
       "      <td>1000_4</td>\n",
       "      <td>302.56</td>\n",
       "      <td>2018-09-24</td>\n",
       "      <td>1000</td>\n",
       "    </tr>\n",
       "    <tr>\n",
       "      <th>5</th>\n",
       "      <td>5</td>\n",
       "      <td>1000_5</td>\n",
       "      <td>399.97</td>\n",
       "      <td>2018-10-02</td>\n",
       "      <td>1000</td>\n",
       "    </tr>\n",
       "    <tr>\n",
       "      <th>6</th>\n",
       "      <td>6</td>\n",
       "      <td>1000_6</td>\n",
       "      <td>540.08</td>\n",
       "      <td>2018-09-07</td>\n",
       "      <td>1000</td>\n",
       "    </tr>\n",
       "    <tr>\n",
       "      <th>7</th>\n",
       "      <td>7</td>\n",
       "      <td>1000_7</td>\n",
       "      <td>415.70</td>\n",
       "      <td>2018-07-11</td>\n",
       "      <td>1000</td>\n",
       "    </tr>\n",
       "    <tr>\n",
       "      <th>8</th>\n",
       "      <td>8</td>\n",
       "      <td>1000_8</td>\n",
       "      <td>505.40</td>\n",
       "      <td>2018-10-08</td>\n",
       "      <td>1000</td>\n",
       "    </tr>\n",
       "    <tr>\n",
       "      <th>9</th>\n",
       "      <td>9</td>\n",
       "      <td>1000_9</td>\n",
       "      <td>345.54</td>\n",
       "      <td>2018-09-03</td>\n",
       "      <td>1000</td>\n",
       "    </tr>\n",
       "    <tr>\n",
       "      <th>10</th>\n",
       "      <td>10</td>\n",
       "      <td>1000_10</td>\n",
       "      <td>385.14</td>\n",
       "      <td>2018-09-27</td>\n",
       "      <td>1000</td>\n",
       "    </tr>\n",
       "    <tr>\n",
       "      <th>11</th>\n",
       "      <td>11</td>\n",
       "      <td>1000_11</td>\n",
       "      <td>0.00</td>\n",
       "      <td>2018-08-28</td>\n",
       "      <td>1000</td>\n",
       "    </tr>\n",
       "    <tr>\n",
       "      <th>12</th>\n",
       "      <td>12</td>\n",
       "      <td>1000_12</td>\n",
       "      <td>375.87</td>\n",
       "      <td>2018-06-20</td>\n",
       "      <td>1000</td>\n",
       "    </tr>\n",
       "    <tr>\n",
       "      <th>13</th>\n",
       "      <td>13</td>\n",
       "      <td>1000_13</td>\n",
       "      <td>393.83</td>\n",
       "      <td>2018-08-09</td>\n",
       "      <td>1000</td>\n",
       "    </tr>\n",
       "    <tr>\n",
       "      <th>14</th>\n",
       "      <td>14</td>\n",
       "      <td>1000_14</td>\n",
       "      <td>180.64</td>\n",
       "      <td>2018-08-11</td>\n",
       "      <td>1000</td>\n",
       "    </tr>\n",
       "  </tbody>\n",
       "</table>\n",
       "</div>"
      ],
      "text/plain": [
       "    Unnamed: 0       id  mb_used session_date  user_id\n",
       "0            0   1000_0   112.95   2018-11-25     1000\n",
       "1            1   1000_1  1052.81   2018-09-07     1000\n",
       "2            2   1000_2  1197.26   2018-06-25     1000\n",
       "3            3   1000_3   550.27   2018-08-22     1000\n",
       "4            4   1000_4   302.56   2018-09-24     1000\n",
       "5            5   1000_5   399.97   2018-10-02     1000\n",
       "6            6   1000_6   540.08   2018-09-07     1000\n",
       "7            7   1000_7   415.70   2018-07-11     1000\n",
       "8            8   1000_8   505.40   2018-10-08     1000\n",
       "9            9   1000_9   345.54   2018-09-03     1000\n",
       "10          10  1000_10   385.14   2018-09-27     1000\n",
       "11          11  1000_11     0.00   2018-08-28     1000\n",
       "12          12  1000_12   375.87   2018-06-20     1000\n",
       "13          13  1000_13   393.83   2018-08-09     1000\n",
       "14          14  1000_14   180.64   2018-08-11     1000"
      ]
     },
     "metadata": {},
     "output_type": "display_data"
    },
    {
     "name": "stdout",
     "output_type": "stream",
     "text": [
      "\n",
      "0\n",
      "\n",
      "497\n"
     ]
    }
   ],
   "source": [
    "internet = pd.read_csv('internet.csv')\n",
    "print(internet.info())\n",
    "print()\n",
    "display(internet.head(15))\n",
    "print()\n",
    "# Дубликаты\n",
    "print(internet.id.duplicated().sum())\n",
    "print()\n",
    "# Количество уникальных пользователей\n",
    "print(internet.user_id.nunique())\n"
   ]
  },
  {
   "cell_type": "markdown",
   "metadata": {},
   "source": [
    "Дубликатов нет. Нужно удалить непонятный столбец Unnamed (судя по всему, это результат переустановки индекса) и исправить формат даты. Также избавимся от нулевых значений столбца mb_used"
   ]
  },
  {
   "cell_type": "code",
   "execution_count": 10,
   "metadata": {},
   "outputs": [
    {
     "name": "stdout",
     "output_type": "stream",
     "text": [
      "<class 'pandas.core.frame.DataFrame'>\n",
      "RangeIndex: 129798 entries, 0 to 129797\n",
      "Data columns (total 4 columns):\n",
      " #   Column        Non-Null Count   Dtype         \n",
      "---  ------        --------------   -----         \n",
      " 0   id            129798 non-null  object        \n",
      " 1   mb_used       129798 non-null  float64       \n",
      " 2   session_date  129798 non-null  datetime64[ns]\n",
      " 3   user_id       129798 non-null  int64         \n",
      "dtypes: datetime64[ns](1), float64(1), int64(1), object(1)\n",
      "memory usage: 4.0+ MB\n",
      "None\n",
      "\n"
     ]
    },
    {
     "data": {
      "text/html": [
       "<div>\n",
       "<style scoped>\n",
       "    .dataframe tbody tr th:only-of-type {\n",
       "        vertical-align: middle;\n",
       "    }\n",
       "\n",
       "    .dataframe tbody tr th {\n",
       "        vertical-align: top;\n",
       "    }\n",
       "\n",
       "    .dataframe thead th {\n",
       "        text-align: right;\n",
       "    }\n",
       "</style>\n",
       "<table border=\"1\" class=\"dataframe\">\n",
       "  <thead>\n",
       "    <tr style=\"text-align: right;\">\n",
       "      <th></th>\n",
       "      <th>id</th>\n",
       "      <th>mb_used</th>\n",
       "      <th>session_date</th>\n",
       "      <th>user_id</th>\n",
       "    </tr>\n",
       "  </thead>\n",
       "  <tbody>\n",
       "    <tr>\n",
       "      <th>0</th>\n",
       "      <td>1000_0</td>\n",
       "      <td>112.95</td>\n",
       "      <td>2018-11-25</td>\n",
       "      <td>1000</td>\n",
       "    </tr>\n",
       "    <tr>\n",
       "      <th>1</th>\n",
       "      <td>1000_1</td>\n",
       "      <td>1052.81</td>\n",
       "      <td>2018-09-07</td>\n",
       "      <td>1000</td>\n",
       "    </tr>\n",
       "    <tr>\n",
       "      <th>2</th>\n",
       "      <td>1000_2</td>\n",
       "      <td>1197.26</td>\n",
       "      <td>2018-06-25</td>\n",
       "      <td>1000</td>\n",
       "    </tr>\n",
       "    <tr>\n",
       "      <th>3</th>\n",
       "      <td>1000_3</td>\n",
       "      <td>550.27</td>\n",
       "      <td>2018-08-22</td>\n",
       "      <td>1000</td>\n",
       "    </tr>\n",
       "    <tr>\n",
       "      <th>4</th>\n",
       "      <td>1000_4</td>\n",
       "      <td>302.56</td>\n",
       "      <td>2018-09-24</td>\n",
       "      <td>1000</td>\n",
       "    </tr>\n",
       "  </tbody>\n",
       "</table>\n",
       "</div>"
      ],
      "text/plain": [
       "       id  mb_used session_date  user_id\n",
       "0  1000_0   112.95   2018-11-25     1000\n",
       "1  1000_1  1052.81   2018-09-07     1000\n",
       "2  1000_2  1197.26   2018-06-25     1000\n",
       "3  1000_3   550.27   2018-08-22     1000\n",
       "4  1000_4   302.56   2018-09-24     1000"
      ]
     },
     "metadata": {},
     "output_type": "display_data"
    },
    {
     "name": "stdout",
     "output_type": "stream",
     "text": [
      "\n",
      "497\n"
     ]
    }
   ],
   "source": [
    "# Удаление столбца 'Unnamed: 0'\n",
    "internet = internet.drop(columns = 'Unnamed: 0')\n",
    "# Удаление нулевых интернет-сессий\n",
    "internet = internet[internet.mb_used != 0.00].reset_index(drop=True)\n",
    "# Формат даты\n",
    "internet.session_date = pd.to_datetime(internet.session_date, format = '%Y-%m-%d')\n",
    "print(internet.info())\n",
    "print()\n",
    "display(internet.head())\n",
    "print()\n",
    "print(internet.user_id.nunique())"
   ]
  },
  {
   "cell_type": "markdown",
   "metadata": {},
   "source": [
    "В таблице пользователей - 500 пользователей. В таблице звонков - 492 пользователя, в таблице сообщений - 426, интернета - 497. Верочтно, эти выборки сильно пересекаются, и можно будет впоследствии объединять эти таблицы по столбцу user_id."
   ]
  },
  {
   "cell_type": "markdown",
   "metadata": {},
   "source": [
    "## II. Данные по месяцам"
   ]
  },
  {
   "cell_type": "markdown",
   "metadata": {},
   "source": [
    "### Число месяцев использования тарифа для каждого пользователя"
   ]
  },
  {
   "cell_type": "markdown",
   "metadata": {},
   "source": [
    "Пояснение: абонентская плата обычно списывается в начале месяца, при этом начало месяца - это не первое число, а число, когда абонент присоединился к тарифу. То есть если, например, абонент подключился к тарифу 20 мая и отключился 10 сентября, то он заплатит абонентскую плату 4 раза (последний раз - 20 августа). Поэтому кажется, что правильнее рассматривать не сколько он заплатил в мае-сентябре (5 календарных месяцев года), а сколько он заплатил за 4 месяца на тарифе. При таком подходе понятнее, как учитывать абонентскую плату. Таким образом, алгоритм такой: сначала посчитать разницу между датами подключения и отключения в месяцах, а затем в тех случаях, когда число месяца отключения не равно числу месяца подключения, добавить к этому показателю 1. Например, период с 10 апреля по 10 июля - это три полных месяца, а с 10 апреля по 9 июля - два, но на этот период приходятся три абонентские платы, поэтому нужно добавить 1."
   ]
  },
  {
   "cell_type": "code",
   "execution_count": 11,
   "metadata": {},
   "outputs": [
    {
     "data": {
      "text/html": [
       "<div>\n",
       "<style scoped>\n",
       "    .dataframe tbody tr th:only-of-type {\n",
       "        vertical-align: middle;\n",
       "    }\n",
       "\n",
       "    .dataframe tbody tr th {\n",
       "        vertical-align: top;\n",
       "    }\n",
       "\n",
       "    .dataframe thead th {\n",
       "        text-align: right;\n",
       "    }\n",
       "</style>\n",
       "<table border=\"1\" class=\"dataframe\">\n",
       "  <thead>\n",
       "    <tr style=\"text-align: right;\">\n",
       "      <th></th>\n",
       "      <th>user_id</th>\n",
       "      <th>age</th>\n",
       "      <th>churn_date</th>\n",
       "      <th>city</th>\n",
       "      <th>first_name</th>\n",
       "      <th>last_name</th>\n",
       "      <th>reg_date</th>\n",
       "      <th>tariff</th>\n",
       "      <th>months_with_tariff</th>\n",
       "    </tr>\n",
       "  </thead>\n",
       "  <tbody>\n",
       "    <tr>\n",
       "      <th>0</th>\n",
       "      <td>1000</td>\n",
       "      <td>52</td>\n",
       "      <td>2019-01-01</td>\n",
       "      <td>Краснодар</td>\n",
       "      <td>Рафаил</td>\n",
       "      <td>Верещагин</td>\n",
       "      <td>2018-05-25</td>\n",
       "      <td>ultra</td>\n",
       "      <td>8</td>\n",
       "    </tr>\n",
       "    <tr>\n",
       "      <th>1</th>\n",
       "      <td>1001</td>\n",
       "      <td>41</td>\n",
       "      <td>2019-01-01</td>\n",
       "      <td>Москва</td>\n",
       "      <td>Иван</td>\n",
       "      <td>Ежов</td>\n",
       "      <td>2018-11-01</td>\n",
       "      <td>smart</td>\n",
       "      <td>2</td>\n",
       "    </tr>\n",
       "    <tr>\n",
       "      <th>2</th>\n",
       "      <td>1002</td>\n",
       "      <td>59</td>\n",
       "      <td>2019-01-01</td>\n",
       "      <td>Стерлитамак</td>\n",
       "      <td>Евгений</td>\n",
       "      <td>Абрамович</td>\n",
       "      <td>2018-06-17</td>\n",
       "      <td>smart</td>\n",
       "      <td>7</td>\n",
       "    </tr>\n",
       "    <tr>\n",
       "      <th>3</th>\n",
       "      <td>1003</td>\n",
       "      <td>23</td>\n",
       "      <td>2019-01-01</td>\n",
       "      <td>Москва</td>\n",
       "      <td>Белла</td>\n",
       "      <td>Белякова</td>\n",
       "      <td>2018-08-17</td>\n",
       "      <td>ultra</td>\n",
       "      <td>5</td>\n",
       "    </tr>\n",
       "    <tr>\n",
       "      <th>4</th>\n",
       "      <td>1004</td>\n",
       "      <td>68</td>\n",
       "      <td>2019-01-01</td>\n",
       "      <td>Новокузнецк</td>\n",
       "      <td>Татьяна</td>\n",
       "      <td>Авдеенко</td>\n",
       "      <td>2018-05-14</td>\n",
       "      <td>ultra</td>\n",
       "      <td>8</td>\n",
       "    </tr>\n",
       "  </tbody>\n",
       "</table>\n",
       "</div>"
      ],
      "text/plain": [
       "   user_id  age churn_date         city first_name  last_name   reg_date  \\\n",
       "0     1000   52 2019-01-01    Краснодар     Рафаил  Верещагин 2018-05-25   \n",
       "1     1001   41 2019-01-01       Москва       Иван       Ежов 2018-11-01   \n",
       "2     1002   59 2019-01-01  Стерлитамак    Евгений  Абрамович 2018-06-17   \n",
       "3     1003   23 2019-01-01       Москва      Белла   Белякова 2018-08-17   \n",
       "4     1004   68 2019-01-01  Новокузнецк    Татьяна   Авдеенко 2018-05-14   \n",
       "\n",
       "  tariff  months_with_tariff  \n",
       "0  ultra                   8  \n",
       "1  smart                   2  \n",
       "2  smart                   7  \n",
       "3  ultra                   5  \n",
       "4  ultra                   8  "
      ]
     },
     "metadata": {},
     "output_type": "display_data"
    }
   ],
   "source": [
    "# В таблице пользователей посчитаем разницу между датами подключения и отключения тарифа в месяцах\n",
    "users['months_with_tariff'] = ((users.churn_date - users.reg_date) / np.timedelta64(1, 'M')).astype('int')\n",
    "\n",
    "# У нас получилось число полных месяцев.\n",
    "# Добавим к значению месяцев 1 в тех случаях, когда число месяца отключения от тарифа\n",
    "# отличается от числа месяца подключения к тарифу\n",
    "\n",
    "\n",
    "def increment_month(row):\n",
    "    if row['churn_date'].day != row['reg_date'].day:\n",
    "        row['months_with_tariff'] +=1\n",
    "    return row\n",
    "        \n",
    "users = users.apply(increment_month, axis=1)\n",
    "    \n",
    "display(users.head())"
   ]
  },
  {
   "cell_type": "markdown",
   "metadata": {},
   "source": [
    "### Количество звонков, длительность разговоров, смс и интернет трафик на каждого пользователя за весь период использования тарифа"
   ]
  },
  {
   "cell_type": "code",
   "execution_count": 12,
   "metadata": {},
   "outputs": [
    {
     "data": {
      "text/html": [
       "<div>\n",
       "<style scoped>\n",
       "    .dataframe tbody tr th:only-of-type {\n",
       "        vertical-align: middle;\n",
       "    }\n",
       "\n",
       "    .dataframe tbody tr th {\n",
       "        vertical-align: top;\n",
       "    }\n",
       "\n",
       "    .dataframe thead th {\n",
       "        text-align: right;\n",
       "    }\n",
       "</style>\n",
       "<table border=\"1\" class=\"dataframe\">\n",
       "  <thead>\n",
       "    <tr style=\"text-align: right;\">\n",
       "      <th></th>\n",
       "      <th>calls_count</th>\n",
       "      <th>calls_duration</th>\n",
       "    </tr>\n",
       "    <tr>\n",
       "      <th>user_id</th>\n",
       "      <th></th>\n",
       "      <th></th>\n",
       "    </tr>\n",
       "  </thead>\n",
       "  <tbody>\n",
       "    <tr>\n",
       "      <th>1000</th>\n",
       "      <td>293</td>\n",
       "      <td>2568</td>\n",
       "    </tr>\n",
       "    <tr>\n",
       "      <th>1001</th>\n",
       "      <td>92</td>\n",
       "      <td>844</td>\n",
       "    </tr>\n",
       "    <tr>\n",
       "      <th>1002</th>\n",
       "      <td>173</td>\n",
       "      <td>1520</td>\n",
       "    </tr>\n",
       "    <tr>\n",
       "      <th>1003</th>\n",
       "      <td>428</td>\n",
       "      <td>3823</td>\n",
       "    </tr>\n",
       "    <tr>\n",
       "      <th>1004</th>\n",
       "      <td>139</td>\n",
       "      <td>989</td>\n",
       "    </tr>\n",
       "  </tbody>\n",
       "</table>\n",
       "</div>"
      ],
      "text/plain": [
       "         calls_count  calls_duration\n",
       "user_id                             \n",
       "1000             293            2568\n",
       "1001              92             844\n",
       "1002             173            1520\n",
       "1003             428            3823\n",
       "1004             139             989"
      ]
     },
     "metadata": {},
     "output_type": "display_data"
    },
    {
     "name": "stdout",
     "output_type": "stream",
     "text": [
      "\n"
     ]
    },
    {
     "data": {
      "text/html": [
       "<div>\n",
       "<style scoped>\n",
       "    .dataframe tbody tr th:only-of-type {\n",
       "        vertical-align: middle;\n",
       "    }\n",
       "\n",
       "    .dataframe tbody tr th {\n",
       "        vertical-align: top;\n",
       "    }\n",
       "\n",
       "    .dataframe thead th {\n",
       "        text-align: right;\n",
       "    }\n",
       "</style>\n",
       "<table border=\"1\" class=\"dataframe\">\n",
       "  <thead>\n",
       "    <tr style=\"text-align: right;\">\n",
       "      <th></th>\n",
       "      <th>messages_count</th>\n",
       "    </tr>\n",
       "    <tr>\n",
       "      <th>user_id</th>\n",
       "      <th></th>\n",
       "    </tr>\n",
       "  </thead>\n",
       "  <tbody>\n",
       "    <tr>\n",
       "      <th>1000</th>\n",
       "      <td>496</td>\n",
       "    </tr>\n",
       "    <tr>\n",
       "      <th>1002</th>\n",
       "      <td>70</td>\n",
       "    </tr>\n",
       "    <tr>\n",
       "      <th>1003</th>\n",
       "      <td>380</td>\n",
       "    </tr>\n",
       "    <tr>\n",
       "      <th>1004</th>\n",
       "      <td>1192</td>\n",
       "    </tr>\n",
       "    <tr>\n",
       "      <th>1005</th>\n",
       "      <td>552</td>\n",
       "    </tr>\n",
       "  </tbody>\n",
       "</table>\n",
       "</div>"
      ],
      "text/plain": [
       "         messages_count\n",
       "user_id                \n",
       "1000                496\n",
       "1002                 70\n",
       "1003                380\n",
       "1004               1192\n",
       "1005                552"
      ]
     },
     "metadata": {},
     "output_type": "display_data"
    },
    {
     "name": "stdout",
     "output_type": "stream",
     "text": [
      "\n"
     ]
    },
    {
     "data": {
      "text/html": [
       "<div>\n",
       "<style scoped>\n",
       "    .dataframe tbody tr th:only-of-type {\n",
       "        vertical-align: middle;\n",
       "    }\n",
       "\n",
       "    .dataframe tbody tr th {\n",
       "        vertical-align: top;\n",
       "    }\n",
       "\n",
       "    .dataframe thead th {\n",
       "        text-align: right;\n",
       "    }\n",
       "</style>\n",
       "<table border=\"1\" class=\"dataframe\">\n",
       "  <thead>\n",
       "    <tr style=\"text-align: right;\">\n",
       "      <th></th>\n",
       "      <th>mb_used</th>\n",
       "    </tr>\n",
       "    <tr>\n",
       "      <th>user_id</th>\n",
       "      <th></th>\n",
       "    </tr>\n",
       "  </thead>\n",
       "  <tbody>\n",
       "    <tr>\n",
       "      <th>1000</th>\n",
       "      <td>107392.31</td>\n",
       "    </tr>\n",
       "    <tr>\n",
       "      <th>1001</th>\n",
       "      <td>32466.00</td>\n",
       "    </tr>\n",
       "    <tr>\n",
       "      <th>1002</th>\n",
       "      <td>116036.52</td>\n",
       "    </tr>\n",
       "    <tr>\n",
       "      <th>1003</th>\n",
       "      <td>57280.64</td>\n",
       "    </tr>\n",
       "    <tr>\n",
       "      <th>1004</th>\n",
       "      <td>149039.48</td>\n",
       "    </tr>\n",
       "  </tbody>\n",
       "</table>\n",
       "</div>"
      ],
      "text/plain": [
       "           mb_used\n",
       "user_id           \n",
       "1000     107392.31\n",
       "1001      32466.00\n",
       "1002     116036.52\n",
       "1003      57280.64\n",
       "1004     149039.48"
      ]
     },
     "metadata": {},
     "output_type": "display_data"
    },
    {
     "name": "stdout",
     "output_type": "stream",
     "text": [
      "\n"
     ]
    },
    {
     "data": {
      "text/html": [
       "<div>\n",
       "<style scoped>\n",
       "    .dataframe tbody tr th:only-of-type {\n",
       "        vertical-align: middle;\n",
       "    }\n",
       "\n",
       "    .dataframe tbody tr th {\n",
       "        vertical-align: top;\n",
       "    }\n",
       "\n",
       "    .dataframe thead th {\n",
       "        text-align: right;\n",
       "    }\n",
       "</style>\n",
       "<table border=\"1\" class=\"dataframe\">\n",
       "  <thead>\n",
       "    <tr style=\"text-align: right;\">\n",
       "      <th></th>\n",
       "      <th>mb_used</th>\n",
       "      <th>messages_count</th>\n",
       "      <th>calls_count</th>\n",
       "      <th>calls_duration</th>\n",
       "    </tr>\n",
       "    <tr>\n",
       "      <th>user_id</th>\n",
       "      <th></th>\n",
       "      <th></th>\n",
       "      <th></th>\n",
       "      <th></th>\n",
       "    </tr>\n",
       "  </thead>\n",
       "  <tbody>\n",
       "    <tr>\n",
       "      <th>1000</th>\n",
       "      <td>107392.31</td>\n",
       "      <td>496.0</td>\n",
       "      <td>293.0</td>\n",
       "      <td>2568.0</td>\n",
       "    </tr>\n",
       "    <tr>\n",
       "      <th>1001</th>\n",
       "      <td>32466.00</td>\n",
       "      <td>NaN</td>\n",
       "      <td>92.0</td>\n",
       "      <td>844.0</td>\n",
       "    </tr>\n",
       "    <tr>\n",
       "      <th>1002</th>\n",
       "      <td>116036.52</td>\n",
       "      <td>70.0</td>\n",
       "      <td>173.0</td>\n",
       "      <td>1520.0</td>\n",
       "    </tr>\n",
       "    <tr>\n",
       "      <th>1003</th>\n",
       "      <td>57280.64</td>\n",
       "      <td>380.0</td>\n",
       "      <td>428.0</td>\n",
       "      <td>3823.0</td>\n",
       "    </tr>\n",
       "    <tr>\n",
       "      <th>1004</th>\n",
       "      <td>149039.48</td>\n",
       "      <td>1192.0</td>\n",
       "      <td>139.0</td>\n",
       "      <td>989.0</td>\n",
       "    </tr>\n",
       "  </tbody>\n",
       "</table>\n",
       "</div>"
      ],
      "text/plain": [
       "           mb_used  messages_count  calls_count  calls_duration\n",
       "user_id                                                        \n",
       "1000     107392.31           496.0        293.0          2568.0\n",
       "1001      32466.00             NaN         92.0           844.0\n",
       "1002     116036.52            70.0        173.0          1520.0\n",
       "1003      57280.64           380.0        428.0          3823.0\n",
       "1004     149039.48          1192.0        139.0           989.0"
      ]
     },
     "metadata": {},
     "output_type": "display_data"
    }
   ],
   "source": [
    "# Для таблицы звонков посчитаем, сколько всего у каждого пользователя было звонков\n",
    "# и их суммарную длительность за все время пользования тарифом\n",
    "calls_grouped = calls.groupby('user_id').agg({'id': 'count', 'duration': 'sum'})\n",
    "calls_grouped.set_axis(['calls_count', 'calls_duration'], axis = 'columns', inplace = True)\n",
    "display(calls_grouped.head())\n",
    "print()\n",
    "\n",
    "# Для таблицы сообщений посчитаем, сколько у каждого пользователя\n",
    "# было сообщений за все время пользования тарифом\n",
    "\n",
    "messages_grouped = messages.groupby('user_id').agg({'id': 'count'})\n",
    "messages_grouped.set_axis(['messages_count'], axis = 'columns', inplace = True)\n",
    "display(messages_grouped.head())\n",
    "print()\n",
    "\n",
    "# Для таблицы интернета посчитаем весь трафик каждого пользователя за период пользования тарифом\n",
    "internet_grouped = internet.groupby('user_id').agg({'mb_used': 'sum'})\n",
    "display(internet_grouped.head())\n",
    "\n",
    "print()\n",
    "# Объединим данные в одну таблицу\n",
    "all_service = internet_grouped.join([messages_grouped, calls_grouped])\n",
    "display(all_service.head())"
   ]
  },
  {
   "cell_type": "markdown",
   "metadata": {},
   "source": [
    "### Те же показатели по месяцам"
   ]
  },
  {
   "cell_type": "code",
   "execution_count": 13,
   "metadata": {},
   "outputs": [
    {
     "data": {
      "text/html": [
       "<div>\n",
       "<style scoped>\n",
       "    .dataframe tbody tr th:only-of-type {\n",
       "        vertical-align: middle;\n",
       "    }\n",
       "\n",
       "    .dataframe tbody tr th {\n",
       "        vertical-align: top;\n",
       "    }\n",
       "\n",
       "    .dataframe thead th {\n",
       "        text-align: right;\n",
       "    }\n",
       "</style>\n",
       "<table border=\"1\" class=\"dataframe\">\n",
       "  <thead>\n",
       "    <tr style=\"text-align: right;\">\n",
       "      <th></th>\n",
       "      <th>user_id</th>\n",
       "      <th>age</th>\n",
       "      <th>churn_date</th>\n",
       "      <th>city</th>\n",
       "      <th>first_name</th>\n",
       "      <th>last_name</th>\n",
       "      <th>reg_date</th>\n",
       "      <th>tariff</th>\n",
       "      <th>months_with_tariff</th>\n",
       "      <th>mb_used</th>\n",
       "      <th>messages_count</th>\n",
       "      <th>calls_count</th>\n",
       "      <th>calls_duration</th>\n",
       "      <th>calls_per_month</th>\n",
       "      <th>calls_duration_per_month</th>\n",
       "      <th>messages_per_month</th>\n",
       "      <th>gb_per_month</th>\n",
       "    </tr>\n",
       "  </thead>\n",
       "  <tbody>\n",
       "    <tr>\n",
       "      <th>0</th>\n",
       "      <td>1000</td>\n",
       "      <td>52</td>\n",
       "      <td>2019-01-01</td>\n",
       "      <td>Краснодар</td>\n",
       "      <td>Рафаил</td>\n",
       "      <td>Верещагин</td>\n",
       "      <td>2018-05-25</td>\n",
       "      <td>ultra</td>\n",
       "      <td>8</td>\n",
       "      <td>107392.31</td>\n",
       "      <td>496.0</td>\n",
       "      <td>293.0</td>\n",
       "      <td>2568.0</td>\n",
       "      <td>36.625000</td>\n",
       "      <td>321.000000</td>\n",
       "      <td>62.0</td>\n",
       "      <td>14</td>\n",
       "    </tr>\n",
       "    <tr>\n",
       "      <th>1</th>\n",
       "      <td>1001</td>\n",
       "      <td>41</td>\n",
       "      <td>2019-01-01</td>\n",
       "      <td>Москва</td>\n",
       "      <td>Иван</td>\n",
       "      <td>Ежов</td>\n",
       "      <td>2018-11-01</td>\n",
       "      <td>smart</td>\n",
       "      <td>2</td>\n",
       "      <td>32466.00</td>\n",
       "      <td>NaN</td>\n",
       "      <td>92.0</td>\n",
       "      <td>844.0</td>\n",
       "      <td>46.000000</td>\n",
       "      <td>422.000000</td>\n",
       "      <td>NaN</td>\n",
       "      <td>16</td>\n",
       "    </tr>\n",
       "    <tr>\n",
       "      <th>2</th>\n",
       "      <td>1002</td>\n",
       "      <td>59</td>\n",
       "      <td>2019-01-01</td>\n",
       "      <td>Стерлитамак</td>\n",
       "      <td>Евгений</td>\n",
       "      <td>Абрамович</td>\n",
       "      <td>2018-06-17</td>\n",
       "      <td>smart</td>\n",
       "      <td>7</td>\n",
       "      <td>116036.52</td>\n",
       "      <td>70.0</td>\n",
       "      <td>173.0</td>\n",
       "      <td>1520.0</td>\n",
       "      <td>24.714286</td>\n",
       "      <td>217.142857</td>\n",
       "      <td>10.0</td>\n",
       "      <td>17</td>\n",
       "    </tr>\n",
       "    <tr>\n",
       "      <th>3</th>\n",
       "      <td>1003</td>\n",
       "      <td>23</td>\n",
       "      <td>2019-01-01</td>\n",
       "      <td>Москва</td>\n",
       "      <td>Белла</td>\n",
       "      <td>Белякова</td>\n",
       "      <td>2018-08-17</td>\n",
       "      <td>ultra</td>\n",
       "      <td>5</td>\n",
       "      <td>57280.64</td>\n",
       "      <td>380.0</td>\n",
       "      <td>428.0</td>\n",
       "      <td>3823.0</td>\n",
       "      <td>85.600000</td>\n",
       "      <td>764.600000</td>\n",
       "      <td>76.0</td>\n",
       "      <td>12</td>\n",
       "    </tr>\n",
       "    <tr>\n",
       "      <th>4</th>\n",
       "      <td>1004</td>\n",
       "      <td>68</td>\n",
       "      <td>2019-01-01</td>\n",
       "      <td>Новокузнецк</td>\n",
       "      <td>Татьяна</td>\n",
       "      <td>Авдеенко</td>\n",
       "      <td>2018-05-14</td>\n",
       "      <td>ultra</td>\n",
       "      <td>8</td>\n",
       "      <td>149039.48</td>\n",
       "      <td>1192.0</td>\n",
       "      <td>139.0</td>\n",
       "      <td>989.0</td>\n",
       "      <td>17.375000</td>\n",
       "      <td>123.625000</td>\n",
       "      <td>149.0</td>\n",
       "      <td>19</td>\n",
       "    </tr>\n",
       "  </tbody>\n",
       "</table>\n",
       "</div>"
      ],
      "text/plain": [
       "   user_id  age churn_date         city first_name  last_name   reg_date  \\\n",
       "0     1000   52 2019-01-01    Краснодар     Рафаил  Верещагин 2018-05-25   \n",
       "1     1001   41 2019-01-01       Москва       Иван       Ежов 2018-11-01   \n",
       "2     1002   59 2019-01-01  Стерлитамак    Евгений  Абрамович 2018-06-17   \n",
       "3     1003   23 2019-01-01       Москва      Белла   Белякова 2018-08-17   \n",
       "4     1004   68 2019-01-01  Новокузнецк    Татьяна   Авдеенко 2018-05-14   \n",
       "\n",
       "  tariff  months_with_tariff    mb_used  messages_count  calls_count  \\\n",
       "0  ultra                   8  107392.31           496.0        293.0   \n",
       "1  smart                   2   32466.00             NaN         92.0   \n",
       "2  smart                   7  116036.52            70.0        173.0   \n",
       "3  ultra                   5   57280.64           380.0        428.0   \n",
       "4  ultra                   8  149039.48          1192.0        139.0   \n",
       "\n",
       "   calls_duration  calls_per_month  calls_duration_per_month  \\\n",
       "0          2568.0        36.625000                321.000000   \n",
       "1           844.0        46.000000                422.000000   \n",
       "2          1520.0        24.714286                217.142857   \n",
       "3          3823.0        85.600000                764.600000   \n",
       "4           989.0        17.375000                123.625000   \n",
       "\n",
       "   messages_per_month  gb_per_month  \n",
       "0                62.0            14  \n",
       "1                 NaN            16  \n",
       "2                10.0            17  \n",
       "3                76.0            12  \n",
       "4               149.0            19  "
      ]
     },
     "metadata": {},
     "output_type": "display_data"
    },
    {
     "name": "stdout",
     "output_type": "stream",
     "text": [
      "\n",
      "<class 'pandas.core.frame.DataFrame'>\n",
      "Int64Index: 497 entries, 0 to 496\n",
      "Data columns (total 17 columns):\n",
      " #   Column                    Non-Null Count  Dtype         \n",
      "---  ------                    --------------  -----         \n",
      " 0   user_id                   497 non-null    int64         \n",
      " 1   age                       497 non-null    int64         \n",
      " 2   churn_date                497 non-null    datetime64[ns]\n",
      " 3   city                      497 non-null    object        \n",
      " 4   first_name                497 non-null    object        \n",
      " 5   last_name                 497 non-null    object        \n",
      " 6   reg_date                  497 non-null    datetime64[ns]\n",
      " 7   tariff                    497 non-null    object        \n",
      " 8   months_with_tariff        497 non-null    int64         \n",
      " 9   mb_used                   497 non-null    float64       \n",
      " 10  messages_count            425 non-null    float64       \n",
      " 11  calls_count               491 non-null    float64       \n",
      " 12  calls_duration            491 non-null    float64       \n",
      " 13  calls_per_month           491 non-null    float64       \n",
      " 14  calls_duration_per_month  491 non-null    float64       \n",
      " 15  messages_per_month        425 non-null    float64       \n",
      " 16  gb_per_month              497 non-null    int32         \n",
      "dtypes: datetime64[ns](2), float64(7), int32(1), int64(3), object(4)\n",
      "memory usage: 67.9+ KB\n",
      "None\n"
     ]
    }
   ],
   "source": [
    "# Объединим получившуюся таблицу по всем услугам с таблицей пользователей по столбцу 'user_id'\n",
    "all_service_users = users.merge(all_service, on= 'user_id')\n",
    "# Разделим количество звонков и общую длительность разговоов на количество месяцев использования \n",
    "# тарифа, чтобы получить среднемесячные данные и добавим получившиеся показатели в объединенную таблицу\n",
    "\n",
    "all_service_users['calls_per_month'] = all_service_users.calls_count / all_service_users.months_with_tariff\n",
    "all_service_users['calls_duration_per_month'] = all_service_users.calls_duration / all_service_users.months_with_tariff\n",
    "\n",
    "# Посчитаем среднее количество сообщений в месяц\n",
    "\n",
    "all_service_users['messages_per_month'] = all_service_users.messages_count / all_service_users.months_with_tariff\n",
    "\n",
    "# Посчитаем среднемесячный трафик в гигабайтах с окрушлением до целых значений в большую сторону\n",
    "all_service_users['gb_per_month'] = ((all_service_users.mb_used / all_service_users.months_with_tariff) // 1024 + 1).astype('int')\n",
    "\n",
    "display(all_service_users.head())\n",
    "print()\n",
    "print(all_service_users.info())"
   ]
  },
  {
   "cell_type": "markdown",
   "metadata": {},
   "source": [
    "Итак, мы получили таблицу all_service_users, где в столбцах сalls_per_month и calls-duration_per_month хранятся среднемесячные данные по количеству звонков и их суммарной длительности для каждого пользователя в период использования тарифа, в столбце messages_per_month - среднемесячное число сообщений, в столбце gb_per_month - среднемесячный трафик."
   ]
  },
  {
   "cell_type": "markdown",
   "metadata": {},
   "source": [
    "### Месячный доход с каждого пользователя"
   ]
  },
  {
   "cell_type": "code",
   "execution_count": 14,
   "metadata": {},
   "outputs": [],
   "source": [
    "# Объединим таблицы all_service_users и tariffs\n",
    "\n",
    "\n",
    "all_with_tariffs = all_service_users.merge(tariffs, on = 'tariff', how = 'left')"
   ]
  },
  {
   "cell_type": "code",
   "execution_count": 15,
   "metadata": {},
   "outputs": [],
   "source": [
    "# Из получившейся таблицы выберем столбцы, нужные нам, чтобы посчитать помесячную выручку с клиента\n",
    "\n",
    "users_tariffs = all_with_tariffs[['user_id', 'city', 'tariff', 'calls_count', 'calls_duration_per_month', 'messages_per_month', 'gb_per_month', 'messages_included', 'gb_included', 'minutes_included', 'rub_monthly_fee', 'rub_per_gb', 'rub_per_message', 'rub_per_minute']]"
   ]
  },
  {
   "cell_type": "code",
   "execution_count": 16,
   "metadata": {
    "scrolled": true
   },
   "outputs": [],
   "source": [
    "# Посчитаем разницу между реальными тратами минут, смс и трафика и предусмотренными тарифом\n",
    "\n",
    "users_tariffs['minutes_over'] = users_tariffs.calls_duration_per_month - users_tariffs.minutes_included\n",
    "users_tariffs['messages_over'] = users_tariffs.messages_per_month - users_tariffs.messages_included\n",
    "users_tariffs['gb_over'] = users_tariffs.gb_per_month - users_tariffs.gb_included"
   ]
  },
  {
   "cell_type": "code",
   "execution_count": 17,
   "metadata": {},
   "outputs": [
    {
     "data": {
      "text/html": [
       "<div>\n",
       "<style scoped>\n",
       "    .dataframe tbody tr th:only-of-type {\n",
       "        vertical-align: middle;\n",
       "    }\n",
       "\n",
       "    .dataframe tbody tr th {\n",
       "        vertical-align: top;\n",
       "    }\n",
       "\n",
       "    .dataframe thead th {\n",
       "        text-align: right;\n",
       "    }\n",
       "</style>\n",
       "<table border=\"1\" class=\"dataframe\">\n",
       "  <thead>\n",
       "    <tr style=\"text-align: right;\">\n",
       "      <th></th>\n",
       "      <th>user_id</th>\n",
       "      <th>city</th>\n",
       "      <th>tariff</th>\n",
       "      <th>calls_count</th>\n",
       "      <th>calls_duration_per_month</th>\n",
       "      <th>messages_per_month</th>\n",
       "      <th>gb_per_month</th>\n",
       "      <th>messages_included</th>\n",
       "      <th>gb_included</th>\n",
       "      <th>minutes_included</th>\n",
       "      <th>rub_monthly_fee</th>\n",
       "      <th>rub_per_gb</th>\n",
       "      <th>rub_per_message</th>\n",
       "      <th>rub_per_minute</th>\n",
       "      <th>minutes_over</th>\n",
       "      <th>messages_over</th>\n",
       "      <th>gb_over</th>\n",
       "      <th>income</th>\n",
       "    </tr>\n",
       "  </thead>\n",
       "  <tbody>\n",
       "    <tr>\n",
       "      <th>0</th>\n",
       "      <td>1000</td>\n",
       "      <td>Краснодар</td>\n",
       "      <td>ultra</td>\n",
       "      <td>293.0</td>\n",
       "      <td>321.000000</td>\n",
       "      <td>62.0</td>\n",
       "      <td>14</td>\n",
       "      <td>1000</td>\n",
       "      <td>30</td>\n",
       "      <td>3000</td>\n",
       "      <td>1950</td>\n",
       "      <td>150</td>\n",
       "      <td>1</td>\n",
       "      <td>1</td>\n",
       "      <td>-2679.000000</td>\n",
       "      <td>-938.0</td>\n",
       "      <td>-16</td>\n",
       "      <td>1950.0</td>\n",
       "    </tr>\n",
       "    <tr>\n",
       "      <th>1</th>\n",
       "      <td>1001</td>\n",
       "      <td>Москва</td>\n",
       "      <td>smart</td>\n",
       "      <td>92.0</td>\n",
       "      <td>422.000000</td>\n",
       "      <td>NaN</td>\n",
       "      <td>16</td>\n",
       "      <td>50</td>\n",
       "      <td>15</td>\n",
       "      <td>500</td>\n",
       "      <td>550</td>\n",
       "      <td>200</td>\n",
       "      <td>3</td>\n",
       "      <td>3</td>\n",
       "      <td>-78.000000</td>\n",
       "      <td>NaN</td>\n",
       "      <td>1</td>\n",
       "      <td>750.0</td>\n",
       "    </tr>\n",
       "    <tr>\n",
       "      <th>2</th>\n",
       "      <td>1002</td>\n",
       "      <td>Стерлитамак</td>\n",
       "      <td>smart</td>\n",
       "      <td>173.0</td>\n",
       "      <td>217.142857</td>\n",
       "      <td>10.0</td>\n",
       "      <td>17</td>\n",
       "      <td>50</td>\n",
       "      <td>15</td>\n",
       "      <td>500</td>\n",
       "      <td>550</td>\n",
       "      <td>200</td>\n",
       "      <td>3</td>\n",
       "      <td>3</td>\n",
       "      <td>-282.857143</td>\n",
       "      <td>-40.0</td>\n",
       "      <td>2</td>\n",
       "      <td>950.0</td>\n",
       "    </tr>\n",
       "    <tr>\n",
       "      <th>3</th>\n",
       "      <td>1003</td>\n",
       "      <td>Москва</td>\n",
       "      <td>ultra</td>\n",
       "      <td>428.0</td>\n",
       "      <td>764.600000</td>\n",
       "      <td>76.0</td>\n",
       "      <td>12</td>\n",
       "      <td>1000</td>\n",
       "      <td>30</td>\n",
       "      <td>3000</td>\n",
       "      <td>1950</td>\n",
       "      <td>150</td>\n",
       "      <td>1</td>\n",
       "      <td>1</td>\n",
       "      <td>-2235.400000</td>\n",
       "      <td>-924.0</td>\n",
       "      <td>-18</td>\n",
       "      <td>1950.0</td>\n",
       "    </tr>\n",
       "    <tr>\n",
       "      <th>4</th>\n",
       "      <td>1004</td>\n",
       "      <td>Новокузнецк</td>\n",
       "      <td>ultra</td>\n",
       "      <td>139.0</td>\n",
       "      <td>123.625000</td>\n",
       "      <td>149.0</td>\n",
       "      <td>19</td>\n",
       "      <td>1000</td>\n",
       "      <td>30</td>\n",
       "      <td>3000</td>\n",
       "      <td>1950</td>\n",
       "      <td>150</td>\n",
       "      <td>1</td>\n",
       "      <td>1</td>\n",
       "      <td>-2876.375000</td>\n",
       "      <td>-851.0</td>\n",
       "      <td>-11</td>\n",
       "      <td>1950.0</td>\n",
       "    </tr>\n",
       "  </tbody>\n",
       "</table>\n",
       "</div>"
      ],
      "text/plain": [
       "   user_id         city tariff  calls_count  calls_duration_per_month  \\\n",
       "0     1000    Краснодар  ultra        293.0                321.000000   \n",
       "1     1001       Москва  smart         92.0                422.000000   \n",
       "2     1002  Стерлитамак  smart        173.0                217.142857   \n",
       "3     1003       Москва  ultra        428.0                764.600000   \n",
       "4     1004  Новокузнецк  ultra        139.0                123.625000   \n",
       "\n",
       "   messages_per_month  gb_per_month  messages_included  gb_included  \\\n",
       "0                62.0            14               1000           30   \n",
       "1                 NaN            16                 50           15   \n",
       "2                10.0            17                 50           15   \n",
       "3                76.0            12               1000           30   \n",
       "4               149.0            19               1000           30   \n",
       "\n",
       "   minutes_included  rub_monthly_fee  rub_per_gb  rub_per_message  \\\n",
       "0              3000             1950         150                1   \n",
       "1               500              550         200                3   \n",
       "2               500              550         200                3   \n",
       "3              3000             1950         150                1   \n",
       "4              3000             1950         150                1   \n",
       "\n",
       "   rub_per_minute  minutes_over  messages_over  gb_over  income  \n",
       "0               1  -2679.000000         -938.0      -16  1950.0  \n",
       "1               3    -78.000000            NaN        1   750.0  \n",
       "2               3   -282.857143          -40.0        2   950.0  \n",
       "3               1  -2235.400000         -924.0      -18  1950.0  \n",
       "4               1  -2876.375000         -851.0      -11  1950.0  "
      ]
     },
     "metadata": {},
     "output_type": "display_data"
    }
   ],
   "source": [
    "# Функция подсчета среднемесячного дохода с пользователя\n",
    "def pay(row):\n",
    "    # Переплата есть, если перерасход больше ноля\n",
    "    over_pay = 0\n",
    "    if row['minutes_over'] > 0:\n",
    "        over_pay += (row['minutes_over'] * row['rub_per_minute'])\n",
    "    if row['messages_over'] > 0:\n",
    "        over_pay += (row['messages_over'] * row['rub_per_message'])\n",
    "    if row['gb_over'] > 0:\n",
    "        over_pay += (row['gb_over'] * row['rub_per_gb'])\n",
    "        # Складываем абонентскую плату с переплатой\n",
    "    return row['rub_monthly_fee'] + over_pay\n",
    "\n",
    "users_tariffs['income'] = users_tariffs.apply(pay, axis =1)\n",
    "display(users_tariffs.head())"
   ]
  },
  {
   "cell_type": "markdown",
   "metadata": {},
   "source": [
    "Теперь в столбце income таблицы users_tariffs - помесячная выручка с каждого клиента. Все необходимые для анализа показатели посчитаны."
   ]
  },
  {
   "cell_type": "markdown",
   "metadata": {},
   "source": [
    "## АНАЛИЗ ДАННЫХ"
   ]
  },
  {
   "cell_type": "markdown",
   "metadata": {},
   "source": [
    "### Подсчет среднего, дисперсии и стандартного отклонения"
   ]
  },
  {
   "cell_type": "code",
   "execution_count": 18,
   "metadata": {},
   "outputs": [
    {
     "data": {
      "text/html": [
       "<div>\n",
       "<style scoped>\n",
       "    .dataframe tbody tr th:only-of-type {\n",
       "        vertical-align: middle;\n",
       "    }\n",
       "\n",
       "    .dataframe tbody tr th {\n",
       "        vertical-align: top;\n",
       "    }\n",
       "\n",
       "    .dataframe thead th {\n",
       "        text-align: right;\n",
       "    }\n",
       "</style>\n",
       "<table border=\"1\" class=\"dataframe\">\n",
       "  <thead>\n",
       "    <tr style=\"text-align: right;\">\n",
       "      <th></th>\n",
       "      <th>calls_duration_average</th>\n",
       "      <th>messages_average</th>\n",
       "      <th>gb_average</th>\n",
       "      <th>income_average</th>\n",
       "      <th>calls_duration_variance</th>\n",
       "      <th>messages_variance</th>\n",
       "      <th>gb_variance</th>\n",
       "      <th>income_variance</th>\n",
       "      <th>calls_duration_std_dev</th>\n",
       "      <th>messages_std_dev</th>\n",
       "      <th>gb_std_dev</th>\n",
       "      <th>income_std_dev</th>\n",
       "    </tr>\n",
       "    <tr>\n",
       "      <th>tariff</th>\n",
       "      <th></th>\n",
       "      <th></th>\n",
       "      <th></th>\n",
       "      <th></th>\n",
       "      <th></th>\n",
       "      <th></th>\n",
       "      <th></th>\n",
       "      <th></th>\n",
       "      <th></th>\n",
       "      <th></th>\n",
       "      <th></th>\n",
       "      <th></th>\n",
       "    </tr>\n",
       "  </thead>\n",
       "  <tbody>\n",
       "    <tr>\n",
       "      <th>smart</th>\n",
       "      <td>423.520136</td>\n",
       "      <td>37.613066</td>\n",
       "      <td>16.380000</td>\n",
       "      <td>1084.446396</td>\n",
       "      <td>20973.609932</td>\n",
       "      <td>621.699629</td>\n",
       "      <td>11.858052</td>\n",
       "      <td>268681.563782</td>\n",
       "      <td>144.822684</td>\n",
       "      <td>24.933905</td>\n",
       "      <td>3.443552</td>\n",
       "      <td>518.345024</td>\n",
       "    </tr>\n",
       "    <tr>\n",
       "      <th>ultra</th>\n",
       "      <td>556.610674</td>\n",
       "      <td>65.262922</td>\n",
       "      <td>19.986395</td>\n",
       "      <td>2010.204082</td>\n",
       "      <td>73156.418387</td>\n",
       "      <td>1884.710352</td>\n",
       "      <td>64.684745</td>\n",
       "      <td>39655.437517</td>\n",
       "      <td>270.474432</td>\n",
       "      <td>43.413251</td>\n",
       "      <td>8.042683</td>\n",
       "      <td>199.136731</td>\n",
       "    </tr>\n",
       "  </tbody>\n",
       "</table>\n",
       "</div>"
      ],
      "text/plain": [
       "        calls_duration_average  messages_average  gb_average  income_average  \\\n",
       "tariff                                                                         \n",
       "smart               423.520136         37.613066   16.380000     1084.446396   \n",
       "ultra               556.610674         65.262922   19.986395     2010.204082   \n",
       "\n",
       "        calls_duration_variance  messages_variance  gb_variance  \\\n",
       "tariff                                                            \n",
       "smart              20973.609932         621.699629    11.858052   \n",
       "ultra              73156.418387        1884.710352    64.684745   \n",
       "\n",
       "        income_variance  calls_duration_std_dev  messages_std_dev  gb_std_dev  \\\n",
       "tariff                                                                          \n",
       "smart     268681.563782              144.822684         24.933905    3.443552   \n",
       "ultra      39655.437517              270.474432         43.413251    8.042683   \n",
       "\n",
       "        income_std_dev  \n",
       "tariff                  \n",
       "smart       518.345024  \n",
       "ultra       199.136731  "
      ]
     },
     "metadata": {},
     "output_type": "display_data"
    }
   ],
   "source": [
    "# Посчитаем среднее, дисперсию и стандартное отклонение для пользователей каждого из тарифов по\n",
    "# по минутам разговора, количеству сообщений, гигабайтам трафика и доходам от пользователя в месяц\n",
    "\n",
    "averages_by_tariff = users_tariffs.groupby('tariff').agg({'calls_duration_per_month': 'mean', 'messages_per_month': 'mean', 'gb_per_month': 'mean', 'income': 'mean' })\n",
    "averages_by_tariff.set_axis(['calls_duration_average', 'messages_average', 'gb_average', 'income_average'], axis = 'columns', inplace = True)\n",
    "\n",
    "variance_by_tariff = users_tariffs.groupby('tariff').agg({'calls_duration_per_month': 'var', 'messages_per_month': 'var', 'gb_per_month': 'var', 'income': 'var' })\n",
    "variance_by_tariff.set_axis(['calls_duration_variance', 'messages_variance', 'gb_variance', 'income_variance'], axis = 'columns', inplace = True)\n",
    "\n",
    "std_by_tariff = users_tariffs.groupby('tariff').agg({'calls_duration_per_month': 'std', 'messages_per_month': 'std', 'gb_per_month': 'std', 'income': 'std' })\n",
    "std_by_tariff.set_axis(['calls_duration_std_dev', 'messages_std_dev', 'gb_std_dev', 'income_std_dev'], axis = 'columns', inplace = True)\n",
    "\n",
    "\n",
    "monthly_metrics = averages_by_tariff.join([variance_by_tariff, std_by_tariff])\n",
    "\n",
    "display(monthly_metrics)"
   ]
  },
  {
   "cell_type": "code",
   "execution_count": 19,
   "metadata": {},
   "outputs": [
    {
     "data": {
      "text/html": [
       "<div>\n",
       "<style scoped>\n",
       "    .dataframe tbody tr th:only-of-type {\n",
       "        vertical-align: middle;\n",
       "    }\n",
       "\n",
       "    .dataframe tbody tr th {\n",
       "        vertical-align: top;\n",
       "    }\n",
       "\n",
       "    .dataframe thead th {\n",
       "        text-align: right;\n",
       "    }\n",
       "</style>\n",
       "<table border=\"1\" class=\"dataframe\">\n",
       "  <thead>\n",
       "    <tr style=\"text-align: right;\">\n",
       "      <th>tariff</th>\n",
       "      <th>smart</th>\n",
       "      <th>ultra</th>\n",
       "    </tr>\n",
       "  </thead>\n",
       "  <tbody>\n",
       "    <tr>\n",
       "      <th>calls_duration_average</th>\n",
       "      <td>423.520136</td>\n",
       "      <td>556.610674</td>\n",
       "    </tr>\n",
       "    <tr>\n",
       "      <th>messages_average</th>\n",
       "      <td>37.613066</td>\n",
       "      <td>65.262922</td>\n",
       "    </tr>\n",
       "    <tr>\n",
       "      <th>gb_average</th>\n",
       "      <td>16.380000</td>\n",
       "      <td>19.986395</td>\n",
       "    </tr>\n",
       "    <tr>\n",
       "      <th>income_average</th>\n",
       "      <td>1084.446396</td>\n",
       "      <td>2010.204082</td>\n",
       "    </tr>\n",
       "    <tr>\n",
       "      <th>calls_duration_variance</th>\n",
       "      <td>20973.609932</td>\n",
       "      <td>73156.418387</td>\n",
       "    </tr>\n",
       "    <tr>\n",
       "      <th>messages_variance</th>\n",
       "      <td>621.699629</td>\n",
       "      <td>1884.710352</td>\n",
       "    </tr>\n",
       "    <tr>\n",
       "      <th>gb_variance</th>\n",
       "      <td>11.858052</td>\n",
       "      <td>64.684745</td>\n",
       "    </tr>\n",
       "    <tr>\n",
       "      <th>income_variance</th>\n",
       "      <td>268681.563782</td>\n",
       "      <td>39655.437517</td>\n",
       "    </tr>\n",
       "    <tr>\n",
       "      <th>calls_duration_std_dev</th>\n",
       "      <td>144.822684</td>\n",
       "      <td>270.474432</td>\n",
       "    </tr>\n",
       "    <tr>\n",
       "      <th>messages_std_dev</th>\n",
       "      <td>24.933905</td>\n",
       "      <td>43.413251</td>\n",
       "    </tr>\n",
       "    <tr>\n",
       "      <th>gb_std_dev</th>\n",
       "      <td>3.443552</td>\n",
       "      <td>8.042683</td>\n",
       "    </tr>\n",
       "    <tr>\n",
       "      <th>income_std_dev</th>\n",
       "      <td>518.345024</td>\n",
       "      <td>199.136731</td>\n",
       "    </tr>\n",
       "  </tbody>\n",
       "</table>\n",
       "</div>"
      ],
      "text/plain": [
       "tariff                           smart         ultra\n",
       "calls_duration_average      423.520136    556.610674\n",
       "messages_average             37.613066     65.262922\n",
       "gb_average                   16.380000     19.986395\n",
       "income_average             1084.446396   2010.204082\n",
       "calls_duration_variance   20973.609932  73156.418387\n",
       "messages_variance           621.699629   1884.710352\n",
       "gb_variance                  11.858052     64.684745\n",
       "income_variance          268681.563782  39655.437517\n",
       "calls_duration_std_dev      144.822684    270.474432\n",
       "messages_std_dev             24.933905     43.413251\n",
       "gb_std_dev                    3.443552      8.042683\n",
       "income_std_dev              518.345024    199.136731"
      ]
     },
     "execution_count": 19,
     "metadata": {},
     "output_type": "execute_result"
    }
   ],
   "source": [
    "monthly_metrics.T"
   ]
  },
  {
   "cell_type": "markdown",
   "metadata": {},
   "source": [
    "### Гистограммы"
   ]
  },
  {
   "cell_type": "code",
   "execution_count": 20,
   "metadata": {},
   "outputs": [
    {
     "data": {
      "image/png": "[encoded data removed]",
      "text/plain": [
       "<Figure size 432x288 with 1 Axes>"
      ]
     },
     "metadata": {
      "needs_background": "light"
     },
     "output_type": "display_data"
    },
    {
     "data": {
      "image/png": "[encoded data removed]",
      "text/plain": [
       "<Figure size 432x288 with 1 Axes>"
      ]
     },
     "metadata": {
      "needs_background": "light"
     },
     "output_type": "display_data"
    }
   ],
   "source": [
    "# Таблица для тарифа ultra\n",
    "ultra = users_tariffs[users_tariffs.tariff == 'ultra']\n",
    "\n",
    "# Таблица для тарифа smart\n",
    "smart = users_tariffs[users_tariffs.tariff == 'smart']\n",
    "\n",
    "#ultra.plot(kind='hist', y = 'calls_duration_per_month', bins = 30)\n",
    "#smart.plot(kind='hist', y = 'calls_duration_per_month', bins = 30)\n",
    "\n",
    "# Функция для создания гистограмм\n",
    "def make_hist(table, column, title):\n",
    "    return table.plot(kind='hist', y = column, bins = 30, title = title)\n",
    "\n",
    "# Гистограммы минут разговоров\n",
    "make_hist(ultra, 'calls_duration_per_month', \"Количество минут разговора по тарифу ultra в месяц\")\n",
    "make_hist(smart, 'calls_duration_per_month', \"Количество минут разговора по тарифу smart в месяц\")\n",
    "plt.show()"
   ]
  },
  {
   "cell_type": "markdown",
   "metadata": {},
   "source": [
    "Два нормальных распределения со средними величинами в районе пика. Разброс значений для тарифа ultra заметно больше, чем для тарифа smart (стандартное отклонение почти в два раза больше). Среднее выше у ultra за счет клиентов, проговаривающих 800-1200 минут."
   ]
  },
  {
   "cell_type": "code",
   "execution_count": 21,
   "metadata": {},
   "outputs": [
    {
     "data": {
      "image/png": "[encoded data removed]",
      "text/plain": [
       "<Figure size 432x288 with 1 Axes>"
      ]
     },
     "metadata": {
      "needs_background": "light"
     },
     "output_type": "display_data"
    },
    {
     "data": {
      "image/png": "[encoded data removed]",
      "text/plain": [
       "<Figure size 432x288 with 1 Axes>"
      ]
     },
     "metadata": {
      "needs_background": "light"
     },
     "output_type": "display_data"
    }
   ],
   "source": [
    "# Гистограмы сообщений\n",
    "make_hist(ultra, 'messages_per_month', \"Количество сообщений по тарифу ultra в месяц\")\n",
    "make_hist(smart, 'messages_per_month', \"Количество сообщений по тарифу smart в месяц\")\n",
    "plt.show()"
   ]
  },
  {
   "cell_type": "markdown",
   "metadata": {},
   "source": [
    "Сообщений значительно больше у пользователей тарифа ultra, разбос сильнее, стандартное отклонение больше, чем у smart. Среднее выше засчет тех, кто отправляет более 80 сообщений в месяц."
   ]
  },
  {
   "cell_type": "code",
   "execution_count": 22,
   "metadata": {},
   "outputs": [
    {
     "data": {
      "image/png": "[encoded data removed]",
      "text/plain": [
       "<Figure size 432x288 with 1 Axes>"
      ]
     },
     "metadata": {
      "needs_background": "light"
     },
     "output_type": "display_data"
    },
    {
     "data": {
      "image/png": "[encoded data removed]",
      "text/plain": [
       "<Figure size 432x288 with 1 Axes>"
      ]
     },
     "metadata": {
      "needs_background": "light"
     },
     "output_type": "display_data"
    }
   ],
   "source": [
    "# Гистограммы трафика\n",
    "make_hist(ultra, 'gb_per_month', \"Гигабайты трафика по тарифу ultra в месяц\")\n",
    "make_hist(smart, 'gb_per_month', \"Гигабайты трафика по тарифу smart в месяц\")\n",
    "plt.show()"
   ]
  },
  {
   "cell_type": "markdown",
   "metadata": {},
   "source": [
    "Расход трафика в среднем немного побольше у пользователей тарифа ultra. Разброс заметно выше у ultra,  стандартное отклонение более чем в два раза выше. Среднее выше засчет тех, кто тратит по 25-35 гб в месяц."
   ]
  },
  {
   "cell_type": "code",
   "execution_count": 23,
   "metadata": {},
   "outputs": [
    {
     "data": {
      "image/png": "[encoded data removed]",
      "text/plain": [
       "<Figure size 432x288 with 1 Axes>"
      ]
     },
     "metadata": {
      "needs_background": "light"
     },
     "output_type": "display_data"
    },
    {
     "data": {
      "image/png": "[encoded data removed]",
      "text/plain": [
       "<Figure size 432x288 with 1 Axes>"
      ]
     },
     "metadata": {
      "needs_background": "light"
     },
     "output_type": "display_data"
    }
   ],
   "source": [
    "# Гистограммы дохода от пользователей тарифов\n",
    "make_hist(ultra, 'income', \"Доход от пользователей тарифа ultra в месяц\")\n",
    "make_hist(smart, 'income', \"Доход от пользователей тарифа smart в месяц\")\n",
    "plt.show()"
   ]
  },
  {
   "cell_type": "markdown",
   "metadata": {},
   "source": [
    "По гистограммам дохода видно, что пользователи тарифа ultra редко выходят за пределы лимитов в рамках абонентской платы. Засчет этого средний доход выше от пользователей smart. Среднее значение по smart около 2000 - очень далеко от пика. Пик - расходы в пределах абонентской платы, среднее \"уехало\" засчет тех, кто платит по 2000-3000 в месяц. Очевидно, реже пользуясь услугами оператора, некоторые пользователи smart (в этой выборке) переплачивают из-за низких лимитов, тщетно стараясь сэкономить на абонентской плате."
   ]
  },
  {
   "cell_type": "markdown",
   "metadata": {},
   "source": [
    "## ПРОВЕРКА ГИПОТЕЗ"
   ]
  },
  {
   "cell_type": "markdown",
   "metadata": {},
   "source": [
    "### \"Ультра\" и \"Смарт\""
   ]
  },
  {
   "cell_type": "markdown",
   "metadata": {},
   "source": [
    "В этой выборке средний доход от пользователей smart почти в два раза выше, чем доход от пользователей ultra. Может ли это быть случайностью? Нам следует проверить, какова вероятность того, что различия между доходами от пользователей тарифов в этой выборке не отражают тенденций генеральной совокупности. Таким образом, наша нулевая гипотеза: средняя выручка от пользователей тарифов не различается. Альтернативная гипотеза - средний доход от пользователя тарифа smart выше, чем от пользователя ultra.\n",
    "Поскольку речь идет о выборках из двух генеральных совокупностей, нужно использовать тест для равенства средних двух генеральных совокупностей. Чтобы максимально исключить возможность ошибки назначим очень низкое пороговое значение статистической знчимости: alpha= 0.01. "
   ]
  },
  {
   "cell_type": "code",
   "execution_count": 24,
   "metadata": {},
   "outputs": [
    {
     "name": "stdout",
     "output_type": "stream",
     "text": [
      "2.3072139498098688e-107\n",
      "True\n"
     ]
    }
   ],
   "source": [
    "#Сравнение средних доходов от ultra и smart. Дисперсия выборок не равна, как мы видели выше.\n",
    "results = st.ttest_ind(ultra['income'], smart['income'], equal_var = False)\n",
    "alpha = 0.01\n",
    "\n",
    "print(results.pvalue)\n",
    "print(alpha > results.pvalue)"
   ]
  },
  {
   "cell_type": "markdown",
   "metadata": {},
   "source": [
    "p-значение получилось очень маленькое, меньше порогового значения статистической значимости. Это значит, что вероятность того, что нулевая гипотеза верна, очень мала, и ее можно отбросить и принять альтернативную - средний доход от пользователtq smart выше, чем от от пользователей ultra."
   ]
  },
  {
   "cell_type": "markdown",
   "metadata": {},
   "source": [
    "### Москва и другие города"
   ]
  },
  {
   "cell_type": "code",
   "execution_count": 25,
   "metadata": {},
   "outputs": [
    {
     "data": {
      "image/png": "[encoded data removed]",
      "text/plain": [
       "<Figure size 432x288 with 1 Axes>"
      ]
     },
     "metadata": {
      "needs_background": "light"
     },
     "output_type": "display_data"
    },
    {
     "data": {
      "image/png": "[encoded data removed]",
      "text/plain": [
       "<Figure size 432x288 with 1 Axes>"
      ]
     },
     "metadata": {
      "needs_background": "light"
     },
     "output_type": "display_data"
    }
   ],
   "source": [
    "from_Moscow = users_tariffs.query('city == \"Москва\"')\n",
    "not_from_Moscow = users_tariffs.query('city != \"Москва\"')\n",
    "\n",
    "# Гистограммы по доходам от абонентов Москвы и других городов\n",
    "make_hist(from_Moscow, 'income', \"Доходы оператора от абонентов из Москвы\")\n",
    "make_hist(not_from_Moscow, 'income', \"Доходы оператора от абонентов из других городов\")\n",
    "plt.show()"
   ]
  },
  {
   "cell_type": "code",
   "execution_count": 26,
   "metadata": {},
   "outputs": [
    {
     "name": "stdout",
     "output_type": "stream",
     "text": [
      "330957.559379638\n",
      "392245.0178016673\n"
     ]
    }
   ],
   "source": [
    "# Дисперсия выборок\n",
    "print(from_Moscow.income.var())\n",
    "print(not_from_Moscow.income.var())"
   ]
  },
  {
   "cell_type": "markdown",
   "metadata": {},
   "source": [
    "По гистограммам видно, что в наших выборках нет значимой разницы между средними доходами от москвичей и от немосквичей. Дисперсии выборок также довольно близки. Верно ли это для генеральных совокупностей? Так же, как и с тарифами, мы формулируем нулевую гипотезу о равенстве среднего двух генеральных совокупностей. Мы должны проверить на осонвании имеющейся у нас случайной выборки из этих совокупностей, насколько вероятно, что нулевая гипотеза верна, и можем ли мы ее отвергнуть. Альтернативная гипотеза: среднее двух генеральных совокупностей различно (а видное на гисограммах равенство среднего двух выборок - результат случайности)."
   ]
  },
  {
   "cell_type": "code",
   "execution_count": 27,
   "metadata": {},
   "outputs": [
    {
     "name": "stdout",
     "output_type": "stream",
     "text": [
      "0.5667867457668359\n"
     ]
    }
   ],
   "source": [
    "# В данном случае, дисперсии равны, поэтому параметр equal_var не задаем\n",
    "\n",
    "results2 = st.ttest_ind(from_Moscow['income'], not_from_Moscow['income'])\n",
    "new_alpha = 0.05\n",
    "print(results2.pvalue)"
   ]
  },
  {
   "cell_type": "markdown",
   "metadata": {},
   "source": [
    "Нулевую гипотезу нельзя отвергнуть, доходы мобильного оператора от москвичей в среднем не отличаются от доходов от жителей других городов."
   ]
  },
  {
   "cell_type": "markdown",
   "metadata": {},
   "source": [
    "## ОБЩИЕ ВЫВОДЫ"
   ]
  },
  {
   "cell_type": "markdown",
   "metadata": {},
   "source": [
    "1. Поведение пользователей тарифов \"Смарт\" и \"Ультра\" различно. Пользователи тарифа \"Смарт\" предпочитают экономить на абонентской плате, и в результате значительная их часть превышают бесплатные лимиты минут, смс и гигабайтов трафика настолько, что средняя выручка от пользователей \"Смарт\" почти в два раза больше, чем от пользователей \"Ультра\". Пользователи тарифа \"Ультра\" редко выходят за пределы лимитов, средний доход от них близок к значению абонентской платы по тарифу.\n",
    "2. Значимых различий в  доходах от москвичей и немосквичей не наблюдается."
   ]
  },
  {
   "cell_type": "code",
   "execution_count": null,
   "metadata": {},
   "outputs": [],
   "source": []
  }
 ],
 "metadata": {
  "kernelspec": {
   "display_name": "Python 3",
   "language": "python",
   "name": "python3"
  },
  "language_info": {
   "codemirror_mode": {
    "name": "ipython",
    "version": 3
   },
   "file_extension": ".py",
   "mimetype": "text/x-python",
   "name": "python",
   "nbconvert_exporter": "python",
   "pygments_lexer": "ipython3",
   "version": "3.8.3"
  }
 },
 "nbformat": 4,
 "nbformat_minor": 2
}
