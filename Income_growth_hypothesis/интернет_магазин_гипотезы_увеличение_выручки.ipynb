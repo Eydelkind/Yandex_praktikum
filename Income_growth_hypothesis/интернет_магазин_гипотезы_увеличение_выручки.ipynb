{
 "cells": [
  {
   "cell_type": "markdown",
   "metadata": {},
   "source": [
    "# Гипотезы для увеличения выручки"
   ]
  },
  {
   "cell_type": "markdown",
   "metadata": {},
   "source": [
    "Задачи исследования: приоритизация гипотез об оптимизации выручки интернет-магазина для проведения A/B теста по наиболее приоритетной гипотезе и последующий анализ его результатов. Исследование должно ответить на вопрос, стоит ли продолжать тест или принять положительный либо отрицательный его результат."
   ]
  },
  {
   "cell_type": "markdown",
   "metadata": {},
   "source": [
    "План:\n",
    "\n",
    "* [Часть 1.Часть 1. Приоритизация гипотез](#chapter1)\n",
    "   * [0. Выгрузка данных для первой части](#section1_1)\n",
    "   * [1. ICE](#section1_2)\n",
    "   * [2.RICE](#section1_3)\n",
    "   * [3. Сравнение ICE и RICE. Выводы по первой части](#section1_4)\n",
    "\n",
    "* [Часть 2. Анализ результатов A/B теста](#chapter2)\n",
    "    * [0. Выгрузка данных для второй части](#section2_1)\n",
    "    * [1. Кумулятивные данные](#section2_2)\n",
    "    * [2. Графики дохода, конверсий среднего чека](#section2_3)\n",
    "    * [3. Точечные гафики и перцентили - вычисление аномалий](#section2_4)\n",
    "    * [4. Вычисление статистической значимости различий для сырых данных](#section2_5)\n",
    "    * [5. Вычисление статистической значимости различий для очищенных данных](#section2_6)\n",
    "    * [6. Принятие решения](#section2_7)"
   ]
  },
  {
   "cell_type": "code",
   "execution_count": 1,
   "metadata": {},
   "outputs": [],
   "source": [
    "import pandas as pd\n",
    "pd.set_option('max_colwidth', 400)\n",
    "import numpy as np\n",
    "from matplotlib import pyplot as plt\n",
    "from IPython.display import display\n",
    "from scipy import stats as st\n",
    "import seaborn as sns\n",
    "import warnings\n",
    "warnings.filterwarnings('ignore')"
   ]
  },
  {
   "cell_type": "markdown",
   "metadata": {},
   "source": [
    "## Часть 1. Приоритизация гипотез <a class=\"anchor\" id=\"chapter1\"></a>"
   ]
  },
  {
   "cell_type": "markdown",
   "metadata": {},
   "source": [
    "### Выгрузка данных <a class=\"anchor\" id=\"section1_1\"></a>"
   ]
  },
  {
   "cell_type": "code",
   "execution_count": 2,
   "metadata": {},
   "outputs": [
    {
     "data": {
      "text/html": [
       "<div>\n",
       "<style scoped>\n",
       "    .dataframe tbody tr th:only-of-type {\n",
       "        vertical-align: middle;\n",
       "    }\n",
       "\n",
       "    .dataframe tbody tr th {\n",
       "        vertical-align: top;\n",
       "    }\n",
       "\n",
       "    .dataframe thead th {\n",
       "        text-align: right;\n",
       "    }\n",
       "</style>\n",
       "<table border=\"1\" class=\"dataframe\">\n",
       "  <thead>\n",
       "    <tr style=\"text-align: right;\">\n",
       "      <th></th>\n",
       "      <th>hypothesis</th>\n",
       "      <th>reach</th>\n",
       "      <th>impact</th>\n",
       "      <th>confidence</th>\n",
       "      <th>efforts</th>\n",
       "    </tr>\n",
       "  </thead>\n",
       "  <tbody>\n",
       "    <tr>\n",
       "      <th>0</th>\n",
       "      <td>Добавить два новых канала привлечения трафика, что позволит привлекать на 30% больше пользователей</td>\n",
       "      <td>3</td>\n",
       "      <td>10</td>\n",
       "      <td>8</td>\n",
       "      <td>6</td>\n",
       "    </tr>\n",
       "    <tr>\n",
       "      <th>1</th>\n",
       "      <td>Запустить собственную службу доставки, что сократит срок доставки заказов</td>\n",
       "      <td>2</td>\n",
       "      <td>5</td>\n",
       "      <td>4</td>\n",
       "      <td>10</td>\n",
       "    </tr>\n",
       "    <tr>\n",
       "      <th>2</th>\n",
       "      <td>Добавить блоки рекомендаций товаров на сайт интернет магазина, чтобы повысить конверсию и средний чек заказа</td>\n",
       "      <td>8</td>\n",
       "      <td>3</td>\n",
       "      <td>7</td>\n",
       "      <td>3</td>\n",
       "    </tr>\n",
       "    <tr>\n",
       "      <th>3</th>\n",
       "      <td>Изменить структура категорий, что увеличит конверсию, т.к. пользователи быстрее найдут нужный товар</td>\n",
       "      <td>8</td>\n",
       "      <td>3</td>\n",
       "      <td>3</td>\n",
       "      <td>8</td>\n",
       "    </tr>\n",
       "    <tr>\n",
       "      <th>4</th>\n",
       "      <td>Изменить цвет фона главной страницы, чтобы увеличить вовлеченность пользователей</td>\n",
       "      <td>3</td>\n",
       "      <td>1</td>\n",
       "      <td>1</td>\n",
       "      <td>1</td>\n",
       "    </tr>\n",
       "    <tr>\n",
       "      <th>5</th>\n",
       "      <td>Добавить страницу отзывов клиентов о магазине, что позволит увеличить количество заказов</td>\n",
       "      <td>3</td>\n",
       "      <td>2</td>\n",
       "      <td>2</td>\n",
       "      <td>3</td>\n",
       "    </tr>\n",
       "    <tr>\n",
       "      <th>6</th>\n",
       "      <td>Показать на главной странице баннеры с актуальными акциями и распродажами, чтобы увеличить конверсию</td>\n",
       "      <td>5</td>\n",
       "      <td>3</td>\n",
       "      <td>8</td>\n",
       "      <td>3</td>\n",
       "    </tr>\n",
       "    <tr>\n",
       "      <th>7</th>\n",
       "      <td>Добавить форму подписки на все основные страницы, чтобы собрать базу клиентов для email-рассылок</td>\n",
       "      <td>10</td>\n",
       "      <td>7</td>\n",
       "      <td>8</td>\n",
       "      <td>5</td>\n",
       "    </tr>\n",
       "    <tr>\n",
       "      <th>8</th>\n",
       "      <td>Запустить акцию, дающую скидку на товар в день рождения</td>\n",
       "      <td>1</td>\n",
       "      <td>9</td>\n",
       "      <td>9</td>\n",
       "      <td>5</td>\n",
       "    </tr>\n",
       "  </tbody>\n",
       "</table>\n",
       "</div>"
      ],
      "text/plain": [
       "                                                                                                     hypothesis  \\\n",
       "0            Добавить два новых канала привлечения трафика, что позволит привлекать на 30% больше пользователей   \n",
       "1                                     Запустить собственную службу доставки, что сократит срок доставки заказов   \n",
       "2  Добавить блоки рекомендаций товаров на сайт интернет магазина, чтобы повысить конверсию и средний чек заказа   \n",
       "3           Изменить структура категорий, что увеличит конверсию, т.к. пользователи быстрее найдут нужный товар   \n",
       "4                              Изменить цвет фона главной страницы, чтобы увеличить вовлеченность пользователей   \n",
       "5                      Добавить страницу отзывов клиентов о магазине, что позволит увеличить количество заказов   \n",
       "6          Показать на главной странице баннеры с актуальными акциями и распродажами, чтобы увеличить конверсию   \n",
       "7              Добавить форму подписки на все основные страницы, чтобы собрать базу клиентов для email-рассылок   \n",
       "8                                                       Запустить акцию, дающую скидку на товар в день рождения   \n",
       "\n",
       "   reach  impact  confidence  efforts  \n",
       "0      3      10           8        6  \n",
       "1      2       5           4       10  \n",
       "2      8       3           7        3  \n",
       "3      8       3           3        8  \n",
       "4      3       1           1        1  \n",
       "5      3       2           2        3  \n",
       "6      5       3           8        3  \n",
       "7     10       7           8        5  \n",
       "8      1       9           9        5  "
      ]
     },
     "metadata": {},
     "output_type": "display_data"
    }
   ],
   "source": [
    "hypothesis = pd.read_csv('hypothesis.csv')\n",
    "# Приведем названия столбцов к нижнему регистру\n",
    "hypothesis.columns = hypothesis.columns.str.lower()\n",
    "display(hypothesis)"
   ]
  },
  {
   "cell_type": "code",
   "execution_count": 3,
   "metadata": {},
   "outputs": [
    {
     "name": "stdout",
     "output_type": "stream",
     "text": [
      "hypothesis    object\n",
      "reach          int64\n",
      "impact         int64\n",
      "confidence     int64\n",
      "efforts        int64\n",
      "dtype: object\n"
     ]
    }
   ],
   "source": [
    "print(hypothesis.dtypes)"
   ]
  },
  {
   "cell_type": "markdown",
   "metadata": {},
   "source": [
    "Данные в порядке: нет пропусков, дубликатов, артефактов итп. Типы данных везде правильные."
   ]
  },
  {
   "cell_type": "markdown",
   "metadata": {},
   "source": [
    "### ICE <a class=\"anchor\" id=\"section1_2\"></a>"
   ]
  },
  {
   "cell_type": "code",
   "execution_count": 4,
   "metadata": {},
   "outputs": [
    {
     "data": {
      "text/html": [
       "<div>\n",
       "<style scoped>\n",
       "    .dataframe tbody tr th:only-of-type {\n",
       "        vertical-align: middle;\n",
       "    }\n",
       "\n",
       "    .dataframe tbody tr th {\n",
       "        vertical-align: top;\n",
       "    }\n",
       "\n",
       "    .dataframe thead th {\n",
       "        text-align: right;\n",
       "    }\n",
       "</style>\n",
       "<table border=\"1\" class=\"dataframe\">\n",
       "  <thead>\n",
       "    <tr style=\"text-align: right;\">\n",
       "      <th></th>\n",
       "      <th>hypothesis</th>\n",
       "      <th>reach</th>\n",
       "      <th>impact</th>\n",
       "      <th>confidence</th>\n",
       "      <th>efforts</th>\n",
       "      <th>ice</th>\n",
       "    </tr>\n",
       "  </thead>\n",
       "  <tbody>\n",
       "    <tr>\n",
       "      <th>0</th>\n",
       "      <td>Запустить акцию, дающую скидку на товар в день рождения</td>\n",
       "      <td>1</td>\n",
       "      <td>9</td>\n",
       "      <td>9</td>\n",
       "      <td>5</td>\n",
       "      <td>16.20</td>\n",
       "    </tr>\n",
       "    <tr>\n",
       "      <th>1</th>\n",
       "      <td>Добавить два новых канала привлечения трафика, что позволит привлекать на 30% больше пользователей</td>\n",
       "      <td>3</td>\n",
       "      <td>10</td>\n",
       "      <td>8</td>\n",
       "      <td>6</td>\n",
       "      <td>13.33</td>\n",
       "    </tr>\n",
       "    <tr>\n",
       "      <th>2</th>\n",
       "      <td>Добавить форму подписки на все основные страницы, чтобы собрать базу клиентов для email-рассылок</td>\n",
       "      <td>10</td>\n",
       "      <td>7</td>\n",
       "      <td>8</td>\n",
       "      <td>5</td>\n",
       "      <td>11.20</td>\n",
       "    </tr>\n",
       "    <tr>\n",
       "      <th>3</th>\n",
       "      <td>Показать на главной странице баннеры с актуальными акциями и распродажами, чтобы увеличить конверсию</td>\n",
       "      <td>5</td>\n",
       "      <td>3</td>\n",
       "      <td>8</td>\n",
       "      <td>3</td>\n",
       "      <td>8.00</td>\n",
       "    </tr>\n",
       "    <tr>\n",
       "      <th>4</th>\n",
       "      <td>Добавить блоки рекомендаций товаров на сайт интернет магазина, чтобы повысить конверсию и средний чек заказа</td>\n",
       "      <td>8</td>\n",
       "      <td>3</td>\n",
       "      <td>7</td>\n",
       "      <td>3</td>\n",
       "      <td>7.00</td>\n",
       "    </tr>\n",
       "    <tr>\n",
       "      <th>5</th>\n",
       "      <td>Запустить собственную службу доставки, что сократит срок доставки заказов</td>\n",
       "      <td>2</td>\n",
       "      <td>5</td>\n",
       "      <td>4</td>\n",
       "      <td>10</td>\n",
       "      <td>2.00</td>\n",
       "    </tr>\n",
       "    <tr>\n",
       "      <th>6</th>\n",
       "      <td>Добавить страницу отзывов клиентов о магазине, что позволит увеличить количество заказов</td>\n",
       "      <td>3</td>\n",
       "      <td>2</td>\n",
       "      <td>2</td>\n",
       "      <td>3</td>\n",
       "      <td>1.33</td>\n",
       "    </tr>\n",
       "    <tr>\n",
       "      <th>7</th>\n",
       "      <td>Изменить структура категорий, что увеличит конверсию, т.к. пользователи быстрее найдут нужный товар</td>\n",
       "      <td>8</td>\n",
       "      <td>3</td>\n",
       "      <td>3</td>\n",
       "      <td>8</td>\n",
       "      <td>1.12</td>\n",
       "    </tr>\n",
       "    <tr>\n",
       "      <th>8</th>\n",
       "      <td>Изменить цвет фона главной страницы, чтобы увеличить вовлеченность пользователей</td>\n",
       "      <td>3</td>\n",
       "      <td>1</td>\n",
       "      <td>1</td>\n",
       "      <td>1</td>\n",
       "      <td>1.00</td>\n",
       "    </tr>\n",
       "  </tbody>\n",
       "</table>\n",
       "</div>"
      ],
      "text/plain": [
       "                                                                                                     hypothesis  \\\n",
       "0                                                       Запустить акцию, дающую скидку на товар в день рождения   \n",
       "1            Добавить два новых канала привлечения трафика, что позволит привлекать на 30% больше пользователей   \n",
       "2              Добавить форму подписки на все основные страницы, чтобы собрать базу клиентов для email-рассылок   \n",
       "3          Показать на главной странице баннеры с актуальными акциями и распродажами, чтобы увеличить конверсию   \n",
       "4  Добавить блоки рекомендаций товаров на сайт интернет магазина, чтобы повысить конверсию и средний чек заказа   \n",
       "5                                     Запустить собственную службу доставки, что сократит срок доставки заказов   \n",
       "6                      Добавить страницу отзывов клиентов о магазине, что позволит увеличить количество заказов   \n",
       "7           Изменить структура категорий, что увеличит конверсию, т.к. пользователи быстрее найдут нужный товар   \n",
       "8                              Изменить цвет фона главной страницы, чтобы увеличить вовлеченность пользователей   \n",
       "\n",
       "   reach  impact  confidence  efforts    ice  \n",
       "0      1       9           9        5  16.20  \n",
       "1      3      10           8        6  13.33  \n",
       "2     10       7           8        5  11.20  \n",
       "3      5       3           8        3   8.00  \n",
       "4      8       3           7        3   7.00  \n",
       "5      2       5           4       10   2.00  \n",
       "6      3       2           2        3   1.33  \n",
       "7      8       3           3        8   1.12  \n",
       "8      3       1           1        1   1.00  "
      ]
     },
     "metadata": {},
     "output_type": "display_data"
    }
   ],
   "source": [
    "# Добавим столбец 'ice' в таблицу hypothesis\n",
    "hypothesis['ice'] = ((hypothesis.impact * hypothesis.confidence) / hypothesis.efforts).round(2)\n",
    "# Отсортируем значения по столбцу 'ice'\n",
    "sorted_by_ice = hypothesis.sort_values(by = 'ice', ascending = False).reset_index(drop=True)\n",
    "display(sorted_by_ice)"
   ]
  },
  {
   "cell_type": "markdown",
   "metadata": {},
   "source": [
    "Получили список гипотез в порядке приоритетности по критерию ICE"
   ]
  },
  {
   "cell_type": "markdown",
   "metadata": {},
   "source": [
    "### RICE <a class=\"anchor\" id=\"section1_3\"></a>"
   ]
  },
  {
   "cell_type": "code",
   "execution_count": 5,
   "metadata": {},
   "outputs": [
    {
     "data": {
      "text/html": [
       "<div>\n",
       "<style scoped>\n",
       "    .dataframe tbody tr th:only-of-type {\n",
       "        vertical-align: middle;\n",
       "    }\n",
       "\n",
       "    .dataframe tbody tr th {\n",
       "        vertical-align: top;\n",
       "    }\n",
       "\n",
       "    .dataframe thead th {\n",
       "        text-align: right;\n",
       "    }\n",
       "</style>\n",
       "<table border=\"1\" class=\"dataframe\">\n",
       "  <thead>\n",
       "    <tr style=\"text-align: right;\">\n",
       "      <th></th>\n",
       "      <th>index</th>\n",
       "      <th>hypothesis</th>\n",
       "      <th>reach</th>\n",
       "      <th>impact</th>\n",
       "      <th>confidence</th>\n",
       "      <th>efforts</th>\n",
       "      <th>ice</th>\n",
       "      <th>rice</th>\n",
       "    </tr>\n",
       "  </thead>\n",
       "  <tbody>\n",
       "    <tr>\n",
       "      <th>0</th>\n",
       "      <td>2</td>\n",
       "      <td>Добавить форму подписки на все основные страницы, чтобы собрать базу клиентов для email-рассылок</td>\n",
       "      <td>10</td>\n",
       "      <td>7</td>\n",
       "      <td>8</td>\n",
       "      <td>5</td>\n",
       "      <td>11.20</td>\n",
       "      <td>112.0</td>\n",
       "    </tr>\n",
       "    <tr>\n",
       "      <th>1</th>\n",
       "      <td>4</td>\n",
       "      <td>Добавить блоки рекомендаций товаров на сайт интернет магазина, чтобы повысить конверсию и средний чек заказа</td>\n",
       "      <td>8</td>\n",
       "      <td>3</td>\n",
       "      <td>7</td>\n",
       "      <td>3</td>\n",
       "      <td>7.00</td>\n",
       "      <td>56.0</td>\n",
       "    </tr>\n",
       "    <tr>\n",
       "      <th>2</th>\n",
       "      <td>1</td>\n",
       "      <td>Добавить два новых канала привлечения трафика, что позволит привлекать на 30% больше пользователей</td>\n",
       "      <td>3</td>\n",
       "      <td>10</td>\n",
       "      <td>8</td>\n",
       "      <td>6</td>\n",
       "      <td>13.33</td>\n",
       "      <td>40.0</td>\n",
       "    </tr>\n",
       "    <tr>\n",
       "      <th>3</th>\n",
       "      <td>3</td>\n",
       "      <td>Показать на главной странице баннеры с актуальными акциями и распродажами, чтобы увеличить конверсию</td>\n",
       "      <td>5</td>\n",
       "      <td>3</td>\n",
       "      <td>8</td>\n",
       "      <td>3</td>\n",
       "      <td>8.00</td>\n",
       "      <td>40.0</td>\n",
       "    </tr>\n",
       "    <tr>\n",
       "      <th>4</th>\n",
       "      <td>0</td>\n",
       "      <td>Запустить акцию, дающую скидку на товар в день рождения</td>\n",
       "      <td>1</td>\n",
       "      <td>9</td>\n",
       "      <td>9</td>\n",
       "      <td>5</td>\n",
       "      <td>16.20</td>\n",
       "      <td>16.2</td>\n",
       "    </tr>\n",
       "    <tr>\n",
       "      <th>5</th>\n",
       "      <td>7</td>\n",
       "      <td>Изменить структура категорий, что увеличит конверсию, т.к. пользователи быстрее найдут нужный товар</td>\n",
       "      <td>8</td>\n",
       "      <td>3</td>\n",
       "      <td>3</td>\n",
       "      <td>8</td>\n",
       "      <td>1.12</td>\n",
       "      <td>9.0</td>\n",
       "    </tr>\n",
       "    <tr>\n",
       "      <th>6</th>\n",
       "      <td>5</td>\n",
       "      <td>Запустить собственную службу доставки, что сократит срок доставки заказов</td>\n",
       "      <td>2</td>\n",
       "      <td>5</td>\n",
       "      <td>4</td>\n",
       "      <td>10</td>\n",
       "      <td>2.00</td>\n",
       "      <td>4.0</td>\n",
       "    </tr>\n",
       "    <tr>\n",
       "      <th>7</th>\n",
       "      <td>6</td>\n",
       "      <td>Добавить страницу отзывов клиентов о магазине, что позволит увеличить количество заказов</td>\n",
       "      <td>3</td>\n",
       "      <td>2</td>\n",
       "      <td>2</td>\n",
       "      <td>3</td>\n",
       "      <td>1.33</td>\n",
       "      <td>4.0</td>\n",
       "    </tr>\n",
       "    <tr>\n",
       "      <th>8</th>\n",
       "      <td>8</td>\n",
       "      <td>Изменить цвет фона главной страницы, чтобы увеличить вовлеченность пользователей</td>\n",
       "      <td>3</td>\n",
       "      <td>1</td>\n",
       "      <td>1</td>\n",
       "      <td>1</td>\n",
       "      <td>1.00</td>\n",
       "      <td>3.0</td>\n",
       "    </tr>\n",
       "  </tbody>\n",
       "</table>\n",
       "</div>"
      ],
      "text/plain": [
       "   index  \\\n",
       "0      2   \n",
       "1      4   \n",
       "2      1   \n",
       "3      3   \n",
       "4      0   \n",
       "5      7   \n",
       "6      5   \n",
       "7      6   \n",
       "8      8   \n",
       "\n",
       "                                                                                                     hypothesis  \\\n",
       "0              Добавить форму подписки на все основные страницы, чтобы собрать базу клиентов для email-рассылок   \n",
       "1  Добавить блоки рекомендаций товаров на сайт интернет магазина, чтобы повысить конверсию и средний чек заказа   \n",
       "2            Добавить два новых канала привлечения трафика, что позволит привлекать на 30% больше пользователей   \n",
       "3          Показать на главной странице баннеры с актуальными акциями и распродажами, чтобы увеличить конверсию   \n",
       "4                                                       Запустить акцию, дающую скидку на товар в день рождения   \n",
       "5           Изменить структура категорий, что увеличит конверсию, т.к. пользователи быстрее найдут нужный товар   \n",
       "6                                     Запустить собственную службу доставки, что сократит срок доставки заказов   \n",
       "7                      Добавить страницу отзывов клиентов о магазине, что позволит увеличить количество заказов   \n",
       "8                              Изменить цвет фона главной страницы, чтобы увеличить вовлеченность пользователей   \n",
       "\n",
       "   reach  impact  confidence  efforts    ice   rice  \n",
       "0     10       7           8        5  11.20  112.0  \n",
       "1      8       3           7        3   7.00   56.0  \n",
       "2      3      10           8        6  13.33   40.0  \n",
       "3      5       3           8        3   8.00   40.0  \n",
       "4      1       9           9        5  16.20   16.2  \n",
       "5      8       3           3        8   1.12    9.0  \n",
       "6      2       5           4       10   2.00    4.0  \n",
       "7      3       2           2        3   1.33    4.0  \n",
       "8      3       1           1        1   1.00    3.0  "
      ]
     },
     "metadata": {},
     "output_type": "display_data"
    }
   ],
   "source": [
    "# Добавим столбец 'rice' в отсортированную таблицу\n",
    "sorted_by_ice['rice'] = ((sorted_by_ice.reach * sorted_by_ice.impact * sorted_by_ice.confidence) / sorted_by_ice.efforts).round(2)\n",
    "# Отсортируем по столбцу 'rice' и сохраним в столбце 'index' индексацию из таблицы,\n",
    "# отсортированной по 'ice' для удобства сравнения приоритетности RICE и ICE\n",
    "sorted_by_rice = sorted_by_ice.sort_values(by = 'rice', ascending = False).reset_index()\n",
    "display(sorted_by_rice)"
   ]
  },
  {
   "cell_type": "markdown",
   "metadata": {},
   "source": [
    "Получили список гипотез в порядке приоритетности по критерию RICE"
   ]
  },
  {
   "cell_type": "markdown",
   "metadata": {},
   "source": [
    "### Сравнение ICE и RICE. Выводы по первой части. <a class=\"anchor\" id=\"section1_4\"></a>"
   ]
  },
  {
   "cell_type": "code",
   "execution_count": 6,
   "metadata": {},
   "outputs": [
    {
     "data": {
      "image/png": "[encoded data removed]",
      "text/plain": [
       "<Figure size 648x432 with 1 Axes>"
      ]
     },
     "metadata": {
      "needs_background": "light"
     },
     "output_type": "display_data"
    }
   ],
   "source": [
    "sorted_by_rice = sorted_by_rice.rename(columns = {'index': 'ice_index'})\n",
    "sorted_by_rice.plot(kind = 'bar', x = 'ice_index', y = ['ice', 'rice'], figsize = (9, 6))\n",
    "plt.ylabel(\"Score\")\n",
    "plt.title(\"RICE to ICE comparison\")\n",
    "plt.show()"
   ]
  },
  {
   "cell_type": "markdown",
   "metadata": {},
   "source": [
    "Приоритетность гипотез по критериям ICE и RICE различна, что не удивительно, ведь RICE учитывает на один фактор больше. После учета охвата пользователей гипотеза, которая была на третьем месте (индекс 2) по ICE переместилась на первое. Ее охват - максимальный, 10 баллов из 10 возможных. Та гипотеза, которая была самой приоритетной по ICE, напротив, имеет минимальный охват - 1 балл, в результате она опустилась на пятое место в списке приоритетности по RICE."
   ]
  },
  {
   "cell_type": "markdown",
   "metadata": {},
   "source": [
    "## Часть 2. Анализ результатов A/B теста <a class=\"anchor\" id=\"chapter2\"></a>"
   ]
  },
  {
   "cell_type": "markdown",
   "metadata": {},
   "source": [
    "### Выгрузка данных <a class=\"anchor\" id=\"section2_1\"></a>"
   ]
  },
  {
   "cell_type": "code",
   "execution_count": 7,
   "metadata": {},
   "outputs": [
    {
     "data": {
      "text/html": [
       "<div>\n",
       "<style scoped>\n",
       "    .dataframe tbody tr th:only-of-type {\n",
       "        vertical-align: middle;\n",
       "    }\n",
       "\n",
       "    .dataframe tbody tr th {\n",
       "        vertical-align: top;\n",
       "    }\n",
       "\n",
       "    .dataframe thead th {\n",
       "        text-align: right;\n",
       "    }\n",
       "</style>\n",
       "<table border=\"1\" class=\"dataframe\">\n",
       "  <thead>\n",
       "    <tr style=\"text-align: right;\">\n",
       "      <th></th>\n",
       "      <th>date</th>\n",
       "      <th>group</th>\n",
       "      <th>visitors</th>\n",
       "    </tr>\n",
       "  </thead>\n",
       "  <tbody>\n",
       "    <tr>\n",
       "      <th>0</th>\n",
       "      <td>2019-08-01</td>\n",
       "      <td>A</td>\n",
       "      <td>719</td>\n",
       "    </tr>\n",
       "    <tr>\n",
       "      <th>1</th>\n",
       "      <td>2019-08-02</td>\n",
       "      <td>A</td>\n",
       "      <td>619</td>\n",
       "    </tr>\n",
       "    <tr>\n",
       "      <th>2</th>\n",
       "      <td>2019-08-03</td>\n",
       "      <td>A</td>\n",
       "      <td>507</td>\n",
       "    </tr>\n",
       "    <tr>\n",
       "      <th>3</th>\n",
       "      <td>2019-08-04</td>\n",
       "      <td>A</td>\n",
       "      <td>717</td>\n",
       "    </tr>\n",
       "    <tr>\n",
       "      <th>4</th>\n",
       "      <td>2019-08-05</td>\n",
       "      <td>A</td>\n",
       "      <td>756</td>\n",
       "    </tr>\n",
       "  </tbody>\n",
       "</table>\n",
       "</div>"
      ],
      "text/plain": [
       "         date group  visitors\n",
       "0  2019-08-01     A       719\n",
       "1  2019-08-02     A       619\n",
       "2  2019-08-03     A       507\n",
       "3  2019-08-04     A       717\n",
       "4  2019-08-05     A       756"
      ]
     },
     "metadata": {},
     "output_type": "display_data"
    },
    {
     "name": "stdout",
     "output_type": "stream",
     "text": [
      "<class 'pandas.core.frame.DataFrame'>\n",
      "RangeIndex: 62 entries, 0 to 61\n",
      "Data columns (total 3 columns):\n",
      " #   Column    Non-Null Count  Dtype \n",
      "---  ------    --------------  ----- \n",
      " 0   date      62 non-null     object\n",
      " 1   group     62 non-null     object\n",
      " 2   visitors  62 non-null     int64 \n",
      "dtypes: int64(1), object(2)\n",
      "memory usage: 1.6+ KB\n"
     ]
    },
    {
     "data": {
      "text/plain": [
       "None"
      ]
     },
     "metadata": {},
     "output_type": "display_data"
    }
   ],
   "source": [
    "visitors = pd.read_csv('visitors.csv')\n",
    "orders = pd.read_csv('orders.csv')\n",
    "display(visitors.head())\n",
    "display(visitors.info())"
   ]
  },
  {
   "cell_type": "code",
   "execution_count": 8,
   "metadata": {},
   "outputs": [
    {
     "name": "stdout",
     "output_type": "stream",
     "text": [
      "date        datetime64[ns]\n",
      "group               object\n",
      "visitors             int64\n",
      "dtype: object\n"
     ]
    }
   ],
   "source": [
    "# Приведем дату в visitors к соответствующему типу\n",
    "visitors.date = pd.to_datetime(visitors.date)\n",
    "print(visitors.dtypes)"
   ]
  },
  {
   "cell_type": "code",
   "execution_count": 9,
   "metadata": {},
   "outputs": [
    {
     "data": {
      "text/html": [
       "<div>\n",
       "<style scoped>\n",
       "    .dataframe tbody tr th:only-of-type {\n",
       "        vertical-align: middle;\n",
       "    }\n",
       "\n",
       "    .dataframe tbody tr th {\n",
       "        vertical-align: top;\n",
       "    }\n",
       "\n",
       "    .dataframe thead th {\n",
       "        text-align: right;\n",
       "    }\n",
       "</style>\n",
       "<table border=\"1\" class=\"dataframe\">\n",
       "  <thead>\n",
       "    <tr style=\"text-align: right;\">\n",
       "      <th></th>\n",
       "      <th>transaction_id</th>\n",
       "      <th>visitor_id</th>\n",
       "      <th>date</th>\n",
       "      <th>revenue</th>\n",
       "      <th>group</th>\n",
       "    </tr>\n",
       "  </thead>\n",
       "  <tbody>\n",
       "    <tr>\n",
       "      <th>0</th>\n",
       "      <td>3667963787</td>\n",
       "      <td>3312258926</td>\n",
       "      <td>2019-08-15</td>\n",
       "      <td>1650</td>\n",
       "      <td>B</td>\n",
       "    </tr>\n",
       "    <tr>\n",
       "      <th>1</th>\n",
       "      <td>2804400009</td>\n",
       "      <td>3642806036</td>\n",
       "      <td>2019-08-15</td>\n",
       "      <td>730</td>\n",
       "      <td>B</td>\n",
       "    </tr>\n",
       "    <tr>\n",
       "      <th>2</th>\n",
       "      <td>2961555356</td>\n",
       "      <td>4069496402</td>\n",
       "      <td>2019-08-15</td>\n",
       "      <td>400</td>\n",
       "      <td>A</td>\n",
       "    </tr>\n",
       "    <tr>\n",
       "      <th>3</th>\n",
       "      <td>3797467345</td>\n",
       "      <td>1196621759</td>\n",
       "      <td>2019-08-15</td>\n",
       "      <td>9759</td>\n",
       "      <td>B</td>\n",
       "    </tr>\n",
       "    <tr>\n",
       "      <th>4</th>\n",
       "      <td>2282983706</td>\n",
       "      <td>2322279887</td>\n",
       "      <td>2019-08-15</td>\n",
       "      <td>2308</td>\n",
       "      <td>B</td>\n",
       "    </tr>\n",
       "  </tbody>\n",
       "</table>\n",
       "</div>"
      ],
      "text/plain": [
       "   transaction_id  visitor_id        date  revenue group\n",
       "0      3667963787  3312258926  2019-08-15     1650     B\n",
       "1      2804400009  3642806036  2019-08-15      730     B\n",
       "2      2961555356  4069496402  2019-08-15      400     A\n",
       "3      3797467345  1196621759  2019-08-15     9759     B\n",
       "4      2282983706  2322279887  2019-08-15     2308     B"
      ]
     },
     "metadata": {},
     "output_type": "display_data"
    },
    {
     "name": "stdout",
     "output_type": "stream",
     "text": [
      "<class 'pandas.core.frame.DataFrame'>\n",
      "RangeIndex: 1197 entries, 0 to 1196\n",
      "Data columns (total 5 columns):\n",
      " #   Column          Non-Null Count  Dtype \n",
      "---  ------          --------------  ----- \n",
      " 0   transaction_id  1197 non-null   int64 \n",
      " 1   visitor_id      1197 non-null   int64 \n",
      " 2   date            1197 non-null   object\n",
      " 3   revenue         1197 non-null   int64 \n",
      " 4   group           1197 non-null   object\n",
      "dtypes: int64(3), object(2)\n",
      "memory usage: 46.9+ KB\n",
      "None\n"
     ]
    }
   ],
   "source": [
    "# Сделаем в orders имена столбцов с нижним подчеркиванием в качестве словораздела\n",
    "orders = orders.rename(columns = {'transactionId': 'transaction_id', 'visitorId': 'visitor_id'})\n",
    "display(orders.head())\n",
    "print(orders.info())"
   ]
  },
  {
   "cell_type": "code",
   "execution_count": 10,
   "metadata": {},
   "outputs": [
    {
     "name": "stdout",
     "output_type": "stream",
     "text": [
      "transaction_id             int64\n",
      "visitor_id                 int64\n",
      "date              datetime64[ns]\n",
      "revenue                    int64\n",
      "group                     object\n",
      "dtype: object\n"
     ]
    }
   ],
   "source": [
    "# Приведем дату в  orders к соответствующему типу\n",
    "orders.date = pd.to_datetime(orders.date)\n",
    "print(orders.dtypes)"
   ]
  },
  {
   "cell_type": "code",
   "execution_count": 11,
   "metadata": {},
   "outputs": [
    {
     "name": "stdout",
     "output_type": "stream",
     "text": [
      "58\n"
     ]
    }
   ],
   "source": [
    "visitors_a = orders[orders.group == 'A'].visitor_id.unique()\n",
    "visitors_b = orders[orders.group == 'B'].visitor_id.unique()\n",
    "\n",
    "both_groups_visitors = []\n",
    "\n",
    "for i in visitors_a:\n",
    "    if i in visitors_b:\n",
    "        both_groups_visitors.append(i)\n",
    "        \n",
    "print(len(both_groups_visitors))\n",
    "\n",
    "#orders = orders.query('visitor_id not in @both_groups_visitors')"
   ]
  },
  {
   "cell_type": "markdown",
   "metadata": {},
   "source": [
    "Данные в порядке: нет пропусков, дубликатов, артефактов итп. Типы данных везде правильные."
   ]
  },
  {
   "cell_type": "code",
   "execution_count": 12,
   "metadata": {},
   "outputs": [
    {
     "data": {
      "text/html": [
       "<div>\n",
       "<style scoped>\n",
       "    .dataframe tbody tr th:only-of-type {\n",
       "        vertical-align: middle;\n",
       "    }\n",
       "\n",
       "    .dataframe tbody tr th {\n",
       "        vertical-align: top;\n",
       "    }\n",
       "\n",
       "    .dataframe thead th {\n",
       "        text-align: right;\n",
       "    }\n",
       "</style>\n",
       "<table border=\"1\" class=\"dataframe\">\n",
       "  <thead>\n",
       "    <tr style=\"text-align: right;\">\n",
       "      <th></th>\n",
       "      <th>transaction_id</th>\n",
       "      <th>visitor_id</th>\n",
       "      <th>date</th>\n",
       "      <th>revenue</th>\n",
       "      <th>group</th>\n",
       "    </tr>\n",
       "  </thead>\n",
       "  <tbody>\n",
       "    <tr>\n",
       "      <th>0</th>\n",
       "      <td>3667963787</td>\n",
       "      <td>3312258926</td>\n",
       "      <td>2019-08-15</td>\n",
       "      <td>1650</td>\n",
       "      <td>B</td>\n",
       "    </tr>\n",
       "    <tr>\n",
       "      <th>1</th>\n",
       "      <td>2804400009</td>\n",
       "      <td>3642806036</td>\n",
       "      <td>2019-08-15</td>\n",
       "      <td>730</td>\n",
       "      <td>B</td>\n",
       "    </tr>\n",
       "    <tr>\n",
       "      <th>2</th>\n",
       "      <td>2961555356</td>\n",
       "      <td>4069496402</td>\n",
       "      <td>2019-08-15</td>\n",
       "      <td>400</td>\n",
       "      <td>A</td>\n",
       "    </tr>\n",
       "    <tr>\n",
       "      <th>3</th>\n",
       "      <td>3797467345</td>\n",
       "      <td>1196621759</td>\n",
       "      <td>2019-08-15</td>\n",
       "      <td>9759</td>\n",
       "      <td>B</td>\n",
       "    </tr>\n",
       "    <tr>\n",
       "      <th>4</th>\n",
       "      <td>2282983706</td>\n",
       "      <td>2322279887</td>\n",
       "      <td>2019-08-15</td>\n",
       "      <td>2308</td>\n",
       "      <td>B</td>\n",
       "    </tr>\n",
       "  </tbody>\n",
       "</table>\n",
       "</div>"
      ],
      "text/plain": [
       "   transaction_id  visitor_id       date  revenue group\n",
       "0      3667963787  3312258926 2019-08-15     1650     B\n",
       "1      2804400009  3642806036 2019-08-15      730     B\n",
       "2      2961555356  4069496402 2019-08-15      400     A\n",
       "3      3797467345  1196621759 2019-08-15     9759     B\n",
       "4      2282983706  2322279887 2019-08-15     2308     B"
      ]
     },
     "metadata": {},
     "output_type": "display_data"
    },
    {
     "data": {
      "text/html": [
       "<div>\n",
       "<style scoped>\n",
       "    .dataframe tbody tr th:only-of-type {\n",
       "        vertical-align: middle;\n",
       "    }\n",
       "\n",
       "    .dataframe tbody tr th {\n",
       "        vertical-align: top;\n",
       "    }\n",
       "\n",
       "    .dataframe thead th {\n",
       "        text-align: right;\n",
       "    }\n",
       "</style>\n",
       "<table border=\"1\" class=\"dataframe\">\n",
       "  <thead>\n",
       "    <tr style=\"text-align: right;\">\n",
       "      <th></th>\n",
       "      <th>date</th>\n",
       "      <th>group</th>\n",
       "      <th>visitors</th>\n",
       "    </tr>\n",
       "  </thead>\n",
       "  <tbody>\n",
       "    <tr>\n",
       "      <th>0</th>\n",
       "      <td>2019-08-01</td>\n",
       "      <td>A</td>\n",
       "      <td>719</td>\n",
       "    </tr>\n",
       "    <tr>\n",
       "      <th>1</th>\n",
       "      <td>2019-08-02</td>\n",
       "      <td>A</td>\n",
       "      <td>619</td>\n",
       "    </tr>\n",
       "    <tr>\n",
       "      <th>2</th>\n",
       "      <td>2019-08-03</td>\n",
       "      <td>A</td>\n",
       "      <td>507</td>\n",
       "    </tr>\n",
       "    <tr>\n",
       "      <th>3</th>\n",
       "      <td>2019-08-04</td>\n",
       "      <td>A</td>\n",
       "      <td>717</td>\n",
       "    </tr>\n",
       "    <tr>\n",
       "      <th>4</th>\n",
       "      <td>2019-08-05</td>\n",
       "      <td>A</td>\n",
       "      <td>756</td>\n",
       "    </tr>\n",
       "  </tbody>\n",
       "</table>\n",
       "</div>"
      ],
      "text/plain": [
       "        date group  visitors\n",
       "0 2019-08-01     A       719\n",
       "1 2019-08-02     A       619\n",
       "2 2019-08-03     A       507\n",
       "3 2019-08-04     A       717\n",
       "4 2019-08-05     A       756"
      ]
     },
     "metadata": {},
     "output_type": "display_data"
    }
   ],
   "source": [
    "display(orders.head())\n",
    "display(visitors.head())"
   ]
  },
  {
   "cell_type": "markdown",
   "metadata": {},
   "source": [
    "### Анализ результатов A/B теста"
   ]
  },
  {
   "cell_type": "markdown",
   "metadata": {},
   "source": [
    "### Кумулятивные данные <a class=\"anchor\" id=\"section2_2\"></a>"
   ]
  },
  {
   "cell_type": "markdown",
   "metadata": {},
   "source": [
    "Для построения необходимых графиков сначала создадим таблицу с кумулятивными метриками для групп A и B: кумулятивным средним чеком, кумулятивным доходом, кумулятивной конверсией."
   ]
  },
  {
   "cell_type": "code",
   "execution_count": 13,
   "metadata": {},
   "outputs": [
    {
     "data": {
      "text/html": [
       "<div>\n",
       "<style scoped>\n",
       "    .dataframe tbody tr th:only-of-type {\n",
       "        vertical-align: middle;\n",
       "    }\n",
       "\n",
       "    .dataframe tbody tr th {\n",
       "        vertical-align: top;\n",
       "    }\n",
       "\n",
       "    .dataframe thead th {\n",
       "        text-align: right;\n",
       "    }\n",
       "</style>\n",
       "<table border=\"1\" class=\"dataframe\">\n",
       "  <thead>\n",
       "    <tr style=\"text-align: right;\">\n",
       "      <th></th>\n",
       "      <th>date</th>\n",
       "      <th>group</th>\n",
       "      <th>revenue</th>\n",
       "      <th>transactions</th>\n",
       "    </tr>\n",
       "  </thead>\n",
       "  <tbody>\n",
       "    <tr>\n",
       "      <th>0</th>\n",
       "      <td>2019-08-01</td>\n",
       "      <td>A</td>\n",
       "      <td>148579</td>\n",
       "      <td>24</td>\n",
       "    </tr>\n",
       "    <tr>\n",
       "      <th>1</th>\n",
       "      <td>2019-08-01</td>\n",
       "      <td>B</td>\n",
       "      <td>101217</td>\n",
       "      <td>21</td>\n",
       "    </tr>\n",
       "    <tr>\n",
       "      <th>2</th>\n",
       "      <td>2019-08-02</td>\n",
       "      <td>A</td>\n",
       "      <td>93822</td>\n",
       "      <td>20</td>\n",
       "    </tr>\n",
       "    <tr>\n",
       "      <th>3</th>\n",
       "      <td>2019-08-02</td>\n",
       "      <td>B</td>\n",
       "      <td>165531</td>\n",
       "      <td>24</td>\n",
       "    </tr>\n",
       "    <tr>\n",
       "      <th>4</th>\n",
       "      <td>2019-08-03</td>\n",
       "      <td>A</td>\n",
       "      <td>112473</td>\n",
       "      <td>24</td>\n",
       "    </tr>\n",
       "  </tbody>\n",
       "</table>\n",
       "</div>"
      ],
      "text/plain": [
       "        date group  revenue  transactions\n",
       "0 2019-08-01     A   148579            24\n",
       "1 2019-08-01     B   101217            21\n",
       "2 2019-08-02     A    93822            20\n",
       "3 2019-08-02     B   165531            24\n",
       "4 2019-08-03     A   112473            24"
      ]
     },
     "metadata": {},
     "output_type": "display_data"
    }
   ],
   "source": [
    "# Почитаем, сколько всего на каждую группу каждый день приходилось дохода, транзакций и уникальных покупателей \n",
    "revenues_transactions_buyers = orders.groupby(['date', 'group'], as_index = False).agg({'revenue' : 'sum', 'transaction_id': 'count'}).sort_values(by = ['date', 'group']).reset_index(drop=True)\n",
    "revenues_transactions_buyers = revenues_transactions_buyers.rename(columns = {'transaction_id': 'transactions'})\n",
    "display(revenues_transactions_buyers.head())"
   ]
  },
  {
   "cell_type": "code",
   "execution_count": 14,
   "metadata": {},
   "outputs": [
    {
     "data": {
      "text/html": [
       "<div>\n",
       "<style scoped>\n",
       "    .dataframe tbody tr th:only-of-type {\n",
       "        vertical-align: middle;\n",
       "    }\n",
       "\n",
       "    .dataframe tbody tr th {\n",
       "        vertical-align: top;\n",
       "    }\n",
       "\n",
       "    .dataframe thead th {\n",
       "        text-align: right;\n",
       "    }\n",
       "</style>\n",
       "<table border=\"1\" class=\"dataframe\">\n",
       "  <thead>\n",
       "    <tr style=\"text-align: right;\">\n",
       "      <th></th>\n",
       "      <th>date</th>\n",
       "      <th>group</th>\n",
       "      <th>revenue</th>\n",
       "      <th>transactions</th>\n",
       "      <th>visitors</th>\n",
       "    </tr>\n",
       "  </thead>\n",
       "  <tbody>\n",
       "    <tr>\n",
       "      <th>0</th>\n",
       "      <td>2019-08-01</td>\n",
       "      <td>A</td>\n",
       "      <td>148579</td>\n",
       "      <td>24</td>\n",
       "      <td>719</td>\n",
       "    </tr>\n",
       "    <tr>\n",
       "      <th>1</th>\n",
       "      <td>2019-08-01</td>\n",
       "      <td>B</td>\n",
       "      <td>101217</td>\n",
       "      <td>21</td>\n",
       "      <td>713</td>\n",
       "    </tr>\n",
       "    <tr>\n",
       "      <th>2</th>\n",
       "      <td>2019-08-02</td>\n",
       "      <td>A</td>\n",
       "      <td>93822</td>\n",
       "      <td>20</td>\n",
       "      <td>619</td>\n",
       "    </tr>\n",
       "    <tr>\n",
       "      <th>3</th>\n",
       "      <td>2019-08-02</td>\n",
       "      <td>B</td>\n",
       "      <td>165531</td>\n",
       "      <td>24</td>\n",
       "      <td>581</td>\n",
       "    </tr>\n",
       "    <tr>\n",
       "      <th>4</th>\n",
       "      <td>2019-08-03</td>\n",
       "      <td>A</td>\n",
       "      <td>112473</td>\n",
       "      <td>24</td>\n",
       "      <td>507</td>\n",
       "    </tr>\n",
       "  </tbody>\n",
       "</table>\n",
       "</div>"
      ],
      "text/plain": [
       "        date group  revenue  transactions  visitors\n",
       "0 2019-08-01     A   148579            24       719\n",
       "1 2019-08-01     B   101217            21       713\n",
       "2 2019-08-02     A    93822            20       619\n",
       "3 2019-08-02     B   165531            24       581\n",
       "4 2019-08-03     A   112473            24       507"
      ]
     },
     "metadata": {},
     "output_type": "display_data"
    }
   ],
   "source": [
    "# Отсортируем таблицу посетителей по дате и группе и объединим ее с получившейся таблицей\n",
    "# дохода и транзакций\n",
    "\n",
    "visitors = visitors.sort_values(by = ['date', 'group']).reset_index(drop=True)\n",
    "all_data = pd.merge(revenues_transactions_buyers, visitors, on = ['date', 'group'])\n",
    "display(all_data.head())"
   ]
  },
  {
   "cell_type": "code",
   "execution_count": 15,
   "metadata": {},
   "outputs": [],
   "source": [
    "# Сделаем срезы по группам A и B, чтобы вычислять для каждой кумулятивные метрики\n",
    "group_a_data = all_data.query('group == \"A\"').reset_index(drop=True)\n",
    "group_b_data = all_data.query('group == \"B\"').reset_index(drop =True)"
   ]
  },
  {
   "cell_type": "code",
   "execution_count": 16,
   "metadata": {},
   "outputs": [
    {
     "data": {
      "text/html": [
       "<div>\n",
       "<style scoped>\n",
       "    .dataframe tbody tr th:only-of-type {\n",
       "        vertical-align: middle;\n",
       "    }\n",
       "\n",
       "    .dataframe tbody tr th {\n",
       "        vertical-align: top;\n",
       "    }\n",
       "\n",
       "    .dataframe thead th {\n",
       "        text-align: right;\n",
       "    }\n",
       "</style>\n",
       "<table border=\"1\" class=\"dataframe\">\n",
       "  <thead>\n",
       "    <tr style=\"text-align: right;\">\n",
       "      <th></th>\n",
       "      <th>date</th>\n",
       "      <th>group</th>\n",
       "      <th>revenue</th>\n",
       "      <th>transactions</th>\n",
       "      <th>visitors</th>\n",
       "      <th>cum_rev</th>\n",
       "      <th>cum_avg_check</th>\n",
       "      <th>cum_conversion_percent</th>\n",
       "    </tr>\n",
       "  </thead>\n",
       "  <tbody>\n",
       "    <tr>\n",
       "      <th>0</th>\n",
       "      <td>2019-08-01</td>\n",
       "      <td>A</td>\n",
       "      <td>148579</td>\n",
       "      <td>24</td>\n",
       "      <td>719</td>\n",
       "      <td>148579</td>\n",
       "      <td>6190.79</td>\n",
       "      <td>3.34</td>\n",
       "    </tr>\n",
       "    <tr>\n",
       "      <th>1</th>\n",
       "      <td>2019-08-02</td>\n",
       "      <td>A</td>\n",
       "      <td>93822</td>\n",
       "      <td>20</td>\n",
       "      <td>619</td>\n",
       "      <td>242401</td>\n",
       "      <td>5509.11</td>\n",
       "      <td>3.29</td>\n",
       "    </tr>\n",
       "    <tr>\n",
       "      <th>2</th>\n",
       "      <td>2019-08-03</td>\n",
       "      <td>A</td>\n",
       "      <td>112473</td>\n",
       "      <td>24</td>\n",
       "      <td>507</td>\n",
       "      <td>354874</td>\n",
       "      <td>5218.74</td>\n",
       "      <td>3.69</td>\n",
       "    </tr>\n",
       "    <tr>\n",
       "      <th>3</th>\n",
       "      <td>2019-08-04</td>\n",
       "      <td>A</td>\n",
       "      <td>70825</td>\n",
       "      <td>16</td>\n",
       "      <td>717</td>\n",
       "      <td>425699</td>\n",
       "      <td>5067.85</td>\n",
       "      <td>3.28</td>\n",
       "    </tr>\n",
       "    <tr>\n",
       "      <th>4</th>\n",
       "      <td>2019-08-05</td>\n",
       "      <td>A</td>\n",
       "      <td>124218</td>\n",
       "      <td>25</td>\n",
       "      <td>756</td>\n",
       "      <td>549917</td>\n",
       "      <td>5045.11</td>\n",
       "      <td>3.29</td>\n",
       "    </tr>\n",
       "  </tbody>\n",
       "</table>\n",
       "</div>"
      ],
      "text/plain": [
       "        date group  revenue  transactions  visitors  cum_rev  cum_avg_check  \\\n",
       "0 2019-08-01     A   148579            24       719   148579        6190.79   \n",
       "1 2019-08-02     A    93822            20       619   242401        5509.11   \n",
       "2 2019-08-03     A   112473            24       507   354874        5218.74   \n",
       "3 2019-08-04     A    70825            16       717   425699        5067.85   \n",
       "4 2019-08-05     A   124218            25       756   549917        5045.11   \n",
       "\n",
       "   cum_conversion_percent  \n",
       "0                    3.34  \n",
       "1                    3.29  \n",
       "2                    3.69  \n",
       "3                    3.28  \n",
       "4                    3.29  "
      ]
     },
     "metadata": {},
     "output_type": "display_data"
    }
   ],
   "source": [
    "# Вычислим кумулятивные метрики для группы A \n",
    "# Кумулятивный доход\n",
    "group_a_data['cum_rev'] = group_a_data.revenue.cumsum()\n",
    "# Кумулятивный средний чек = кумулятивный доход / кумулятивное число транзакций\n",
    "group_a_data['cum_avg_check'] = (group_a_data.cum_rev / group_a_data.transactions.cumsum()).round(2)\n",
    "# Кумулятивная конверсия = кумулятивное число транзакций /  кумулятивное число посетителей\n",
    "group_a_data['cum_conversion_percent'] = (group_a_data.transactions.cumsum() / group_a_data.visitors.cumsum() * 100).round(2)\n",
    "display(group_a_data.head())"
   ]
  },
  {
   "cell_type": "code",
   "execution_count": 17,
   "metadata": {},
   "outputs": [
    {
     "data": {
      "text/html": [
       "<div>\n",
       "<style scoped>\n",
       "    .dataframe tbody tr th:only-of-type {\n",
       "        vertical-align: middle;\n",
       "    }\n",
       "\n",
       "    .dataframe tbody tr th {\n",
       "        vertical-align: top;\n",
       "    }\n",
       "\n",
       "    .dataframe thead th {\n",
       "        text-align: right;\n",
       "    }\n",
       "</style>\n",
       "<table border=\"1\" class=\"dataframe\">\n",
       "  <thead>\n",
       "    <tr style=\"text-align: right;\">\n",
       "      <th></th>\n",
       "      <th>date</th>\n",
       "      <th>group</th>\n",
       "      <th>revenue</th>\n",
       "      <th>transactions</th>\n",
       "      <th>visitors</th>\n",
       "      <th>cum_rev</th>\n",
       "      <th>cum_avg_check</th>\n",
       "      <th>cum_conversion_percent</th>\n",
       "    </tr>\n",
       "  </thead>\n",
       "  <tbody>\n",
       "    <tr>\n",
       "      <th>0</th>\n",
       "      <td>2019-08-01</td>\n",
       "      <td>B</td>\n",
       "      <td>101217</td>\n",
       "      <td>21</td>\n",
       "      <td>713</td>\n",
       "      <td>101217</td>\n",
       "      <td>4819.86</td>\n",
       "      <td>2.95</td>\n",
       "    </tr>\n",
       "    <tr>\n",
       "      <th>1</th>\n",
       "      <td>2019-08-02</td>\n",
       "      <td>B</td>\n",
       "      <td>165531</td>\n",
       "      <td>24</td>\n",
       "      <td>581</td>\n",
       "      <td>266748</td>\n",
       "      <td>5927.73</td>\n",
       "      <td>3.48</td>\n",
       "    </tr>\n",
       "    <tr>\n",
       "      <th>2</th>\n",
       "      <td>2019-08-03</td>\n",
       "      <td>B</td>\n",
       "      <td>114248</td>\n",
       "      <td>16</td>\n",
       "      <td>509</td>\n",
       "      <td>380996</td>\n",
       "      <td>6245.84</td>\n",
       "      <td>3.38</td>\n",
       "    </tr>\n",
       "    <tr>\n",
       "      <th>3</th>\n",
       "      <td>2019-08-04</td>\n",
       "      <td>B</td>\n",
       "      <td>108571</td>\n",
       "      <td>17</td>\n",
       "      <td>770</td>\n",
       "      <td>489567</td>\n",
       "      <td>6276.50</td>\n",
       "      <td>3.03</td>\n",
       "    </tr>\n",
       "    <tr>\n",
       "      <th>4</th>\n",
       "      <td>2019-08-05</td>\n",
       "      <td>B</td>\n",
       "      <td>92428</td>\n",
       "      <td>23</td>\n",
       "      <td>707</td>\n",
       "      <td>581995</td>\n",
       "      <td>5762.33</td>\n",
       "      <td>3.08</td>\n",
       "    </tr>\n",
       "  </tbody>\n",
       "</table>\n",
       "</div>"
      ],
      "text/plain": [
       "        date group  revenue  transactions  visitors  cum_rev  cum_avg_check  \\\n",
       "0 2019-08-01     B   101217            21       713   101217        4819.86   \n",
       "1 2019-08-02     B   165531            24       581   266748        5927.73   \n",
       "2 2019-08-03     B   114248            16       509   380996        6245.84   \n",
       "3 2019-08-04     B   108571            17       770   489567        6276.50   \n",
       "4 2019-08-05     B    92428            23       707   581995        5762.33   \n",
       "\n",
       "   cum_conversion_percent  \n",
       "0                    2.95  \n",
       "1                    3.48  \n",
       "2                    3.38  \n",
       "3                    3.03  \n",
       "4                    3.08  "
      ]
     },
     "metadata": {},
     "output_type": "display_data"
    }
   ],
   "source": [
    "# Все то же самое для группы B\n",
    "\n",
    "group_b_data['cum_rev'] = group_b_data.revenue.cumsum()\n",
    "group_b_data['cum_avg_check'] = (group_b_data.cum_rev / group_b_data.transactions.cumsum()).round(2)\n",
    "group_b_data['cum_conversion_percent'] = (group_b_data.transactions.cumsum() / group_b_data.visitors.cumsum() * 100).round(2)\n",
    "display(group_b_data.head())"
   ]
  },
  {
   "cell_type": "code",
   "execution_count": 18,
   "metadata": {},
   "outputs": [
    {
     "data": {
      "text/html": [
       "<div>\n",
       "<style scoped>\n",
       "    .dataframe tbody tr th:only-of-type {\n",
       "        vertical-align: middle;\n",
       "    }\n",
       "\n",
       "    .dataframe tbody tr th {\n",
       "        vertical-align: top;\n",
       "    }\n",
       "\n",
       "    .dataframe thead th {\n",
       "        text-align: right;\n",
       "    }\n",
       "</style>\n",
       "<table border=\"1\" class=\"dataframe\">\n",
       "  <thead>\n",
       "    <tr style=\"text-align: right;\">\n",
       "      <th></th>\n",
       "      <th>date</th>\n",
       "      <th>cum_rev_a</th>\n",
       "      <th>cum_avg_check_a</th>\n",
       "      <th>cum_conversion_percent_a</th>\n",
       "      <th>cum_rev_b</th>\n",
       "      <th>cum_avg_check_b</th>\n",
       "      <th>cum_conversion_percent_b</th>\n",
       "    </tr>\n",
       "  </thead>\n",
       "  <tbody>\n",
       "    <tr>\n",
       "      <th>0</th>\n",
       "      <td>2019-08-01</td>\n",
       "      <td>148579</td>\n",
       "      <td>6190.79</td>\n",
       "      <td>3.34</td>\n",
       "      <td>101217</td>\n",
       "      <td>4819.86</td>\n",
       "      <td>2.95</td>\n",
       "    </tr>\n",
       "    <tr>\n",
       "      <th>1</th>\n",
       "      <td>2019-08-02</td>\n",
       "      <td>242401</td>\n",
       "      <td>5509.11</td>\n",
       "      <td>3.29</td>\n",
       "      <td>266748</td>\n",
       "      <td>5927.73</td>\n",
       "      <td>3.48</td>\n",
       "    </tr>\n",
       "    <tr>\n",
       "      <th>2</th>\n",
       "      <td>2019-08-03</td>\n",
       "      <td>354874</td>\n",
       "      <td>5218.74</td>\n",
       "      <td>3.69</td>\n",
       "      <td>380996</td>\n",
       "      <td>6245.84</td>\n",
       "      <td>3.38</td>\n",
       "    </tr>\n",
       "    <tr>\n",
       "      <th>3</th>\n",
       "      <td>2019-08-04</td>\n",
       "      <td>425699</td>\n",
       "      <td>5067.85</td>\n",
       "      <td>3.28</td>\n",
       "      <td>489567</td>\n",
       "      <td>6276.50</td>\n",
       "      <td>3.03</td>\n",
       "    </tr>\n",
       "    <tr>\n",
       "      <th>4</th>\n",
       "      <td>2019-08-05</td>\n",
       "      <td>549917</td>\n",
       "      <td>5045.11</td>\n",
       "      <td>3.29</td>\n",
       "      <td>581995</td>\n",
       "      <td>5762.33</td>\n",
       "      <td>3.08</td>\n",
       "    </tr>\n",
       "  </tbody>\n",
       "</table>\n",
       "</div>"
      ],
      "text/plain": [
       "        date  cum_rev_a  cum_avg_check_a  cum_conversion_percent_a  cum_rev_b  \\\n",
       "0 2019-08-01     148579          6190.79                      3.34     101217   \n",
       "1 2019-08-02     242401          5509.11                      3.29     266748   \n",
       "2 2019-08-03     354874          5218.74                      3.69     380996   \n",
       "3 2019-08-04     425699          5067.85                      3.28     489567   \n",
       "4 2019-08-05     549917          5045.11                      3.29     581995   \n",
       "\n",
       "   cum_avg_check_b  cum_conversion_percent_b  \n",
       "0          4819.86                      2.95  \n",
       "1          5927.73                      3.48  \n",
       "2          6245.84                      3.38  \n",
       "3          6276.50                      3.03  \n",
       "4          5762.33                      3.08  "
      ]
     },
     "metadata": {},
     "output_type": "display_data"
    }
   ],
   "source": [
    "# Возьмем из обеих таблиц столбцы с датой и с кумулятивными метриками и объединим их в единую\n",
    "# таблицу кумулятивных данных. Получится таблица с семью столбцами: дата + (3 метрики * 2 группы)\n",
    "\n",
    "cum_data_a = group_a_data[['date', 'cum_rev', 'cum_avg_check', 'cum_conversion_percent']]\n",
    "cum_data_a = cum_data_a.rename(columns ={'cum_rev': 'cum_rev_a', 'cum_avg_check': 'cum_avg_check_a', 'cum_conversion_percent': 'cum_conversion_percent_a'})\n",
    "\n",
    "cum_data_b = group_b_data[['date', 'cum_rev', 'cum_avg_check', 'cum_conversion_percent']]\n",
    "cum_data_b = cum_data_b.rename(columns ={'cum_rev': 'cum_rev_b', 'cum_avg_check': 'cum_avg_check_b', 'cum_conversion_percent': 'cum_conversion_percent_b'})\n",
    "\n",
    "cum_data = pd.merge(cum_data_a, cum_data_b, on = 'date')\n",
    "\n",
    "display(cum_data.head())\n"
   ]
  },
  {
   "cell_type": "markdown",
   "metadata": {},
   "source": [
    "Теперь у нас есть таблица, пользуясь которой можно построить несколько графиков по кумулятивным метрикам."
   ]
  },
  {
   "cell_type": "markdown",
   "metadata": {},
   "source": [
    "### График кумулятивного дохода групп A и B <a class=\"anchor\" id=\"section2_3\"></a>"
   ]
  },
  {
   "cell_type": "code",
   "execution_count": 19,
   "metadata": {},
   "outputs": [
    {
     "data": {
      "image/png": "[encoded data removed]",
      "text/plain": [
       "<Figure size 648x432 with 1 Axes>"
      ]
     },
     "metadata": {
      "needs_background": "light"
     },
     "output_type": "display_data"
    }
   ],
   "source": [
    "ax = cum_data.plot(y = ['cum_rev_a', 'cum_rev_b'], style = 'o-', grid=True, figsize = (9, 6))\n",
    "ax.set_xticks([i for i in range(31)])\n",
    "ax.set_xticklabels([i for i in range(1, 32)])\n",
    "ax.set_xlabel('August 2019')\n",
    "ax.set_ylabel('Roubles')\n",
    "plt.title('Cumulative revenue from groups A and B')\n",
    "plt.show()"
   ]
  },
  {
   "cell_type": "markdown",
   "metadata": {},
   "source": [
    "Кумулятивный доход от группы B с середины месяца начинает заметно превышать доход от группы А. Это может объясняться как тем, что группа B действительно будет приносить больше дохода, так и случайностью: например, на графике виден резкий скачок группы B 19 августа, который может быть просто аномалией."
   ]
  },
  {
   "cell_type": "markdown",
   "metadata": {},
   "source": [
    "### График кумулятивного среднего чека для групп A и B"
   ]
  },
  {
   "cell_type": "code",
   "execution_count": 20,
   "metadata": {},
   "outputs": [
    {
     "data": {
      "image/png": "[encoded data removed]",
      "text/plain": [
       "<Figure size 648x432 with 1 Axes>"
      ]
     },
     "metadata": {
      "needs_background": "light"
     },
     "output_type": "display_data"
    }
   ],
   "source": [
    "ax = cum_data.plot(y = ['cum_avg_check_a', 'cum_avg_check_b'], style = 'o-', grid = True, figsize = (9, 6))\n",
    "ax.set_xticks([i for i in range(31)])\n",
    "ax.set_xticklabels([i for i in range(1, 32)])\n",
    "ax.set_xlabel('August 2019')\n",
    "ax.set_ylabel('Roubles')\n",
    "plt.title(\"Average check for groups A and B\")\n",
    "plt.show()"
   ]
  },
  {
   "cell_type": "markdown",
   "metadata": {},
   "source": [
    "Скачок группы B 19 августа еще более выражен на графике среднего чека. Наверное, влияние выбросов. До 19 августа никакой тенденции, после - тенденция к сближению групп A и B (т.е. возможно, то, что видно на графике после 19 августа, - это постепенная коррекция кумулятивного среднего чека группы B после всплеска)."
   ]
  },
  {
   "cell_type": "markdown",
   "metadata": {},
   "source": [
    "### График относительного изменения среднего чека группы B к группе А"
   ]
  },
  {
   "cell_type": "code",
   "execution_count": 21,
   "metadata": {},
   "outputs": [
    {
     "data": {
      "image/png": "[encoded data removed]",
      "text/plain": [
       "<Figure size 648x432 with 1 Axes>"
      ]
     },
     "metadata": {
      "needs_background": "light"
     },
     "output_type": "display_data"
    }
   ],
   "source": [
    "# Найдем относительное изменение средних чеков\n",
    "cum_data['b_to_a_avg_check'] = (cum_data.cum_avg_check_b / cum_data.cum_avg_check_a - 1).round(2)\n",
    "# График\n",
    "ax = cum_data.plot (y = 'b_to_a_avg_check', style = 'o-', grid = True, figsize = (9,6))\n",
    "ax.set_xticks([i for i in range(31)])\n",
    "ax.set_xticklabels([i for i in range(1, 32)])\n",
    "ax.set_xlabel('August 2019')\n",
    "ax.set_ylabel('Divergence')\n",
    "plt.title(\"Average check relative change - B to A\")\n",
    "plt.axhline(y = 0, color = 'black', linestyle = '--')\n",
    "plt.show()"
   ]
  },
  {
   "cell_type": "markdown",
   "metadata": {},
   "source": [
    "Снова можно сказать, что если бы не экстраординарный день 19 августа, то в целом график относительного изменения среднего чека колебался бы около ноля."
   ]
  },
  {
   "cell_type": "markdown",
   "metadata": {},
   "source": [
    "### График кумулятивной конверсии групп A и B"
   ]
  },
  {
   "cell_type": "code",
   "execution_count": 22,
   "metadata": {},
   "outputs": [
    {
     "data": {
      "image/png": "[encoded data removed]",
      "text/plain": [
       "<Figure size 648x432 with 1 Axes>"
      ]
     },
     "metadata": {
      "needs_background": "light"
     },
     "output_type": "display_data"
    }
   ],
   "source": [
    "ax = cum_data.plot(y = ['cum_conversion_percent_a', 'cum_conversion_percent_b'], style = 'o-', grid = True, figsize = (9,6))\n",
    "ax.set_xticks([i for i in range(31)])\n",
    "ax.set_xticklabels([i for i in range(1, 32)])\n",
    "ax.set_xlabel('August 2019')\n",
    "ax.set_ylabel('Percents')\n",
    "plt.title(\"Cumulative conversion for groups A and B\")\n",
    "plt.show()"
   ]
  },
  {
   "cell_type": "markdown",
   "metadata": {},
   "source": [
    "Кумулятивная конверсия групп после первой недели августа различна. У группы B - конверсия больше, график колеблется между отметками 3.4% и 3.6%, у группы A - между 2.9 и 3.1%. Таким образом, конверсия группы B в среднем примерно на 1/6 (около 16%) выше, чем у группы А. То, что было на первой неделе, возможно, объясняется влияннием выбросов. Впрочем, для окончательных выводов еще рановато."
   ]
  },
  {
   "cell_type": "markdown",
   "metadata": {},
   "source": [
    "### График относительного изменения конверсии группы B к группе A"
   ]
  },
  {
   "cell_type": "code",
   "execution_count": 23,
   "metadata": {},
   "outputs": [
    {
     "data": {
      "image/png": "[encoded data removed]",
      "text/plain": [
       "<Figure size 648x432 with 1 Axes>"
      ]
     },
     "metadata": {
      "needs_background": "light"
     },
     "output_type": "display_data"
    }
   ],
   "source": [
    "# Найдем относительное изменение конверсии\n",
    "cum_data['b_to_a_conversion'] = (cum_data.cum_conversion_percent_b / cum_data.cum_conversion_percent_a - 1).round(2)\n",
    "# График\n",
    "ax = cum_data.plot (y = 'b_to_a_conversion', style = 'o-', grid = True, figsize = (9,6))\n",
    "ax.set_xticks([i for i in range(31)])\n",
    "ax.set_xticklabels([i for i in range(1, 32)])\n",
    "ax.set_xlabel('August 2019')\n",
    "ax.set_ylabel('Divergence')\n",
    "plt.title(\"Conversion relative change - B to A\")\n",
    "plt.axhline(y = 0, color = 'black', linestyle = '--')\n",
    "plt.show()"
   ]
  },
  {
   "cell_type": "markdown",
   "metadata": {},
   "source": [
    "График относительного изменения конверсии со второй недели колеблется между отметками 0.10 и 0.20. Для выводов пока рано."
   ]
  },
  {
   "cell_type": "markdown",
   "metadata": {},
   "source": [
    "### Точечный график количества заказов по пользователям <a class=\"anchor\" id=\"section2_4\"></a>"
   ]
  },
  {
   "cell_type": "code",
   "execution_count": 24,
   "metadata": {},
   "outputs": [],
   "source": [
    "# Сгруппируем таблицу заказов по пользователям и посчитаем количество заказов\n",
    "orders_by_visitors = orders.groupby(['visitor_id', 'group'], as_index = False).agg({'transaction_id': 'count'})\n",
    "orders_by_visitors = orders_by_visitors.rename(columns = {'transaction_id': 'orders'})"
   ]
  },
  {
   "cell_type": "code",
   "execution_count": 25,
   "metadata": {},
   "outputs": [
    {
     "data": {
      "image/png": "[encoded data removed]",
      "text/plain": [
       "<Figure size 864x360 with 1 Axes>"
      ]
     },
     "metadata": {
      "needs_background": "light"
     },
     "output_type": "display_data"
    }
   ],
   "source": [
    "# Построим точечный график заказов по пользователям\n",
    "plt.figure(figsize = (12, 5))\n",
    "sns.scatterplot(x= orders_by_visitors.index, y = orders_by_visitors['orders'], hue = orders_by_visitors.group, alpha = 0.7)\n",
    "plt.ylabel('Number of orders')\n",
    "plt.xlabel(\"Index of Visitor\")\n",
    "plt.title(\"Orders per visitors\")\n",
    "plt.show()"
   ]
  },
  {
   "cell_type": "markdown",
   "metadata": {},
   "source": [
    "Точечный график показывает, что в основном на одного покупателя приходится один заказ, иногда два, редко - три. Начиная с четырех - единичные случаи. Это, очевидно, и есть аномальные значения."
   ]
  },
  {
   "cell_type": "markdown",
   "metadata": {},
   "source": [
    "### 95-й и 99-й перцентили количества заказов по пользователям"
   ]
  },
  {
   "cell_type": "code",
   "execution_count": 26,
   "metadata": {},
   "outputs": [
    {
     "name": "stdout",
     "output_type": "stream",
     "text": [
      "2.0\n",
      "4.0\n"
     ]
    }
   ],
   "source": [
    "print(np.percentile(orders_by_visitors.orders, 95))\n",
    "print(np.percentile(orders_by_visitors.orders, 99))"
   ]
  },
  {
   "cell_type": "markdown",
   "metadata": {},
   "source": [
    "99-й перцентиль можно считать \"водоразделом\" между аномальными и нормальными значениями: обычный покупатель совершает не более трех покупок."
   ]
  },
  {
   "cell_type": "markdown",
   "metadata": {},
   "source": [
    "### Точечный график стоимости заказов"
   ]
  },
  {
   "cell_type": "code",
   "execution_count": 27,
   "metadata": {},
   "outputs": [
    {
     "data": {
      "image/png": "[encoded data removed]",
      "text/plain": [
       "<Figure size 648x432 with 1 Axes>"
      ]
     },
     "metadata": {
      "needs_background": "light"
     },
     "output_type": "display_data"
    }
   ],
   "source": [
    "plt.figure(figsize =(9,6))\n",
    "sns.scatterplot(x = orders.index, y = orders.revenue, hue = orders.group, alpha =0.7)\n",
    "plt.ylabel('Revenue')\n",
    "plt.ylim(0, 300000)\n",
    "plt.xlabel('Index of order')\n",
    "plt.title(\"Revenue per order\")\n",
    "plt.show()"
   ]
  },
  {
   "cell_type": "markdown",
   "metadata": {},
   "source": [
    "Точечный график показывает, что стоимость основной массы заказов не превышает нескольких десятков тысяч рублей. Точнее будет видно по перцентилям."
   ]
  },
  {
   "cell_type": "markdown",
   "metadata": {},
   "source": [
    "### 95-й и 99-й перцентили стоимости заказов"
   ]
  },
  {
   "cell_type": "code",
   "execution_count": 28,
   "metadata": {},
   "outputs": [
    {
     "name": "stdout",
     "output_type": "stream",
     "text": [
      "28000.000000000004\n",
      "58233.19999999999\n"
     ]
    }
   ],
   "source": [
    "print(np.percentile(orders.revenue, 95))\n",
    "print(np.percentile(orders.revenue, 99))"
   ]
  },
  {
   "cell_type": "markdown",
   "metadata": {},
   "source": [
    "Используя 99-й перцентиль, будем считать, что все заказы дороже 58 000 руб - аномальны"
   ]
  },
  {
   "cell_type": "markdown",
   "metadata": {},
   "source": [
    "### Выборки для тестирования статистической значимости различия конверсий (сырые данные) <a class=\"anchor\" id=\"section2_5\"></a>"
   ]
  },
  {
   "cell_type": "code",
   "execution_count": 29,
   "metadata": {},
   "outputs": [],
   "source": [
    "# Создадим срезы по группам из таблицы заказов по пользователям\n",
    "orders_by_visitors_a = orders_by_visitors.query('group == \"A\"')\n",
    "orders_by_visitors_b = orders_by_visitors.query('group == \"B\"')\n",
    "\n",
    "# Разделим таблицу посетителей по группам A и B\n",
    "visitors_a = visitors.query('group == \"A\"')\n",
    "visitors_b = visitors.query('group == \"B\"')\n",
    "\n",
    "# Вычислим для обеих групп количество посетителей, не совершавших покупок,\n",
    "# как разницу между суммой посетителей и длиной таблицы количества заказов по посетителям\n",
    "\n",
    "a_nulls = visitors_a.visitors.sum() - len(orders_by_visitors_a)\n",
    "b_nulls = visitors_b.visitors.sum() - len(orders_by_visitors_b)\n",
    "\n",
    "# Создадим таблицы нулевых заказов: число строк равно количеству посетителей, не совершавших покупок,\n",
    "# значения - нули\n",
    "a_nulls_table = pd.Series(0, index = np.arange(a_nulls), name = 'orders')\n",
    "b_nulls_table = pd.Series(0, index = np.arange(b_nulls), name = 'orders')"
   ]
  },
  {
   "cell_type": "code",
   "execution_count": 30,
   "metadata": {},
   "outputs": [],
   "source": [
    "# Соединим таблицы с числом заказов на посетителя с таблицами нулевых заказов\n",
    "sample_a  = pd.concat([orders_by_visitors_a.orders, a_nulls_table], axis=0)\n",
    "sample_b  = pd.concat([orders_by_visitors_b.orders, b_nulls_table], axis=0)"
   ]
  },
  {
   "cell_type": "markdown",
   "metadata": {},
   "source": [
    "### Статистическая значимость различия конверсий по сырым данным"
   ]
  },
  {
   "cell_type": "markdown",
   "metadata": {},
   "source": [
    "Нулевая гипотеза: значимого различия конверсий групп A и B нет. Видимые различия - случайны, в действительности конверсии не отличаются.\n",
    "\n",
    "Альтернативная гипотеза: зафиксированные различия конверсий не случайны, они имеют высокую статистическую значимость, следует считать, что они действительно различны.\n",
    "\n",
    "Уровень статистической значимости (alpha): 0.05"
   ]
  },
  {
   "cell_type": "code",
   "execution_count": 31,
   "metadata": {},
   "outputs": [
    {
     "name": "stdout",
     "output_type": "stream",
     "text": [
      "0.008396177528376304\n",
      "True\n"
     ]
    }
   ],
   "source": [
    "# Тест Манна-Уитни\n",
    "results = st.mannwhitneyu(sample_a, sample_b)\n",
    "# P-значение\n",
    "print(results.pvalue)\n",
    "# Сравнение p-значения с порогом статистической значимости 0.05\n",
    "print(results.pvalue < 0.05)"
   ]
  },
  {
   "cell_type": "markdown",
   "metadata": {},
   "source": [
    "По сырым данным кажется, что статистическая значимость различия конверсий достаточно велика: нулевую гипотезу можно отвергнуть, признав что у групп A и B конверсии различны."
   ]
  },
  {
   "cell_type": "markdown",
   "metadata": {},
   "source": [
    "### Статистическая значимость различия средних чеков по сырым данным"
   ]
  },
  {
   "cell_type": "markdown",
   "metadata": {},
   "source": [
    "Нулевая гипотеза: различия между средними чеками случайны, статистически значимой разницы между средними чеками групп A и B - нет.\n",
    "\n",
    "Альтернативная гипотеза: средние чеки групп A и B действительно различаются.\n",
    "\n",
    "Уровень статистической значимости (alpha): 0.05"
   ]
  },
  {
   "cell_type": "code",
   "execution_count": 32,
   "metadata": {},
   "outputs": [
    {
     "name": "stdout",
     "output_type": "stream",
     "text": [
      "0.3646454927716229\n",
      "False\n"
     ]
    }
   ],
   "source": [
    "results = st.mannwhitneyu(orders[orders.group == \"A\"]['revenue'], orders[orders.group == 'B']['revenue'])\n",
    "print(results.pvalue)\n",
    "print(results.pvalue < 0.05)"
   ]
  },
  {
   "cell_type": "markdown",
   "metadata": {},
   "source": [
    "Нулевую гипотезу отвергнуть не получается, есть заметная вероятность того, что разница между средними чеками, случайна."
   ]
  },
  {
   "cell_type": "markdown",
   "metadata": {},
   "source": [
    "### Очищенные данные <a class=\"anchor\" id=\"section2_6\"></a>"
   ]
  },
  {
   "cell_type": "code",
   "execution_count": 33,
   "metadata": {},
   "outputs": [
    {
     "name": "stdout",
     "output_type": "stream",
     "text": [
      "3\n"
     ]
    }
   ],
   "source": [
    "# Создадим список уникальных пользователей таблицы orders, применив фильтр по выручке\n",
    "revenues_abnormal = orders.query('revenue >= 58000').visitor_id.unique()\n",
    "\n",
    "# Используем этот список и второй фильтр (по количеству заказов) -\n",
    "# и отфильтруем таблицу orders_by_visitors\n",
    "orders_by_visitors_filtered = orders_by_visitors.query('visitor_id not in @revenues_abnormal and orders < 4')\n",
    "print(orders_by_visitors_filtered.orders.max())\n",
    "# Разобьем получившуюся таблицу по группам\n",
    "orders_by_visitors_a_filtered = orders_by_visitors_filtered.query('group == \"A\"')\n",
    "orders_by_visitors_b_filtered = orders_by_visitors_filtered.query('group == \"B\"')"
   ]
  },
  {
   "cell_type": "code",
   "execution_count": 34,
   "metadata": {},
   "outputs": [
    {
     "name": "stdout",
     "output_type": "stream",
     "text": [
      "53904\n"
     ]
    }
   ],
   "source": [
    "# Создадим выборки из отфильтрованных таблиц количества заказов на каждого посетителя\n",
    "# и таблиц с нулевыми заказами для тестирования значимости различия конверсий\n",
    "sample_a_filtered = pd.concat([orders_by_visitors_a_filtered.orders, a_nulls_table], axis = 0)\n",
    "sample_b_filtered = pd.concat([orders_by_visitors_b_filtered.orders, b_nulls_table], axis = 0)\n",
    "\n",
    "# Применим фильтры к таблице orders, чтобы при тестировании различий среднего чека\n",
    "# использовать ее столбец revenue\n",
    "visitors_normal = orders_by_visitors_filtered.visitor_id.unique()\n",
    "orders_filtered = orders.query('visitor_id in @visitors_normal')\n",
    "print(orders_filtered.revenue.max())"
   ]
  },
  {
   "cell_type": "markdown",
   "metadata": {},
   "source": [
    "### Статистическая значимость различия конверсий по очищенным данным"
   ]
  },
  {
   "cell_type": "markdown",
   "metadata": {},
   "source": [
    "Нулевая гипотеза: значимого различия конверсий групп A и B нет. Видимые различия - случайны, в действительности конверсии не отличаются.\n",
    "\n",
    "Альтернативная гипотеза: зафиксированные различия конверсий не случайны, они имеют высокую статистическую значимость, следует считать, что они действительно различны.\n",
    "\n",
    "Уровень статистической значимости (alpha): 0.05"
   ]
  },
  {
   "cell_type": "code",
   "execution_count": 35,
   "metadata": {},
   "outputs": [
    {
     "name": "stdout",
     "output_type": "stream",
     "text": [
      "0.0070847250884960395\n",
      "True\n"
     ]
    }
   ],
   "source": [
    "results = st.mannwhitneyu(sample_a_filtered, sample_b_filtered)\n",
    "print(results.pvalue)\n",
    "print(results.pvalue < 0.05)"
   ]
  },
  {
   "cell_type": "markdown",
   "metadata": {},
   "source": [
    "Статистическая значимость различия конверсий по-прежнему высока. Нулевую гипотезу можно отвергнуть: конверсии групп A и B различны."
   ]
  },
  {
   "cell_type": "markdown",
   "metadata": {},
   "source": [
    "### Статистическая значимость различия среднго чека по очищенным данным"
   ]
  },
  {
   "cell_type": "markdown",
   "metadata": {},
   "source": [
    "Нулевая гипотеза: различия между средними чеками случайны, статистически значимой разницы между средними чеками групп A и B - нет.\n",
    "\n",
    "Альтернативная гипотеза: средние чеки групп A и B действительно различаются.\n",
    "\n",
    "Уровень статистической значимости (alpha): 0.05"
   ]
  },
  {
   "cell_type": "code",
   "execution_count": 36,
   "metadata": {},
   "outputs": [
    {
     "name": "stdout",
     "output_type": "stream",
     "text": [
      "0.39230210710689517\n",
      "False\n"
     ]
    }
   ],
   "source": [
    "results = st.mannwhitneyu(orders_filtered[orders_filtered.group == \"A\"].revenue, orders_filtered[orders_filtered.group == 'B'].revenue)\n",
    "print(results.pvalue)\n",
    "print(results.pvalue < 0.05)"
   ]
  },
  {
   "cell_type": "markdown",
   "metadata": {},
   "source": [
    "Вероятность того, что различия между средними чеками двух групп - случайность - 39%. В принципе, этого стоило ожидать, глядя на графики, где 19 августа резкий скачок. После устранения аномалий стало понятно, что нулевую гипотезу отвергнуть нельзя. Чтобы сделать выводы по эксперименту, нужно посчитать, сколько времени он должен идти. Конверсии сильно поменялись при очистке данных, это, возможно, свидетельствует о том, что тест идет слишком недолго для выводов."
   ]
  },
  {
   "cell_type": "markdown",
   "metadata": {},
   "source": [
    "### Принятие решения <a class=\"anchor\" id=\"section2_7\"></a>"
   ]
  },
  {
   "cell_type": "markdown",
   "metadata": {},
   "source": [
    "Используем калькулятор расчета длительности теста на странице: https://vwo.com/tools/ab-test-duration-calculator/ ."
   ]
  },
  {
   "cell_type": "code",
   "execution_count": 37,
   "metadata": {},
   "outputs": [
    {
     "name": "stdout",
     "output_type": "stream",
     "text": [
      "1214\n",
      "2.97\n"
     ]
    }
   ],
   "source": [
    "# Для того чтобы воспользоваться калькулятором посчитаем среднедневное число посетителей сайта\n",
    "# базовый уровень конверсии\n",
    "\n",
    "# Среднедневное число посетителей сайта\n",
    "print(int(group_a_data.visitors.mean() + group_b_data.visitors.mean()))\n",
    "# В качестве оценки базового уровеня конверсии возьмем среднюю конверсию группы A за август 2019\n",
    "# (она равна кумулятивной конверсии группы A на 31 августа)\n",
    "print(float(cum_data[cum_data.date == '2019-08-31'].cum_conversion_percent_a))"
   ]
  },
  {
   "cell_type": "markdown",
   "metadata": {},
   "source": [
    "При базовой конверсии 2.97%, 1214 посетителях каждый день, 100% из которых участвуют в тесте, и если задать минимальное изменение уровня конверсии, которое мы хотим обнаружить, как 10%, то длительность теста должна составить 86 дней. На данный момент (31 августа 2019 года) тест длится 31 день.\n",
    "\n",
    "Вывод: следует продолжить проведение теста в сентябре и октябре 2019 года."
   ]
  },
  {
   "cell_type": "code",
   "execution_count": null,
   "metadata": {},
   "outputs": [],
   "source": []
  }
 ],
 "metadata": {
  "kernelspec": {
   "display_name": "Python 3",
   "language": "python",
   "name": "python3"
  },
  "language_info": {
   "codemirror_mode": {
    "name": "ipython",
    "version": 3
   },
   "file_extension": ".py",
   "mimetype": "text/x-python",
   "name": "python",
   "nbconvert_exporter": "python",
   "pygments_lexer": "ipython3",
   "version": "3.8.3"
  }
 },
 "nbformat": 4,
 "nbformat_minor": 2
}
