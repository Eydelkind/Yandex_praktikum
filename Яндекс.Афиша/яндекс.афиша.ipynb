{
 "cells": [
  {
   "cell_type": "markdown",
   "metadata": {},
   "source": [
    "# Исследование эффективности рекламных затрат Яндекс.Афиши"
   ]
  },
  {
   "cell_type": "markdown",
   "metadata": {},
   "source": [
    "План исследования:\n",
    "\n",
    "1. Загрузка и подготовка данных\n",
    "2. Исследование пользовательской активности\n",
    "3. Исследование  продаж\n",
    "4. Исследование затрат на рекламу и доходов от привлекаемых покупателей\n",
    "5. Выводы"
   ]
  },
  {
   "cell_type": "markdown",
   "metadata": {},
   "source": [
    "## Шаг 1. Загрузка и подготовка данных"
   ]
  },
  {
   "cell_type": "code",
   "execution_count": 1,
   "metadata": {},
   "outputs": [],
   "source": [
    "import pandas as pd\n",
    "import numpy as np\n",
    "import seaborn as sns\n",
    "from matplotlib import pyplot as plt\n",
    "from IPython.display import display"
   ]
  },
  {
   "cell_type": "code",
   "execution_count": 2,
   "metadata": {},
   "outputs": [],
   "source": [
    "# Исходные таблицы\n",
    "visits = pd.read_csv('visits_log.csv')\n",
    "orders = pd.read_csv('orders_log.csv')\n",
    "costs = pd.read_csv('costs.csv')"
   ]
  },
  {
   "cell_type": "markdown",
   "metadata": {},
   "source": [
    "### Таблица visits"
   ]
  },
  {
   "cell_type": "code",
   "execution_count": 3,
   "metadata": {},
   "outputs": [
    {
     "name": "stdout",
     "output_type": "stream",
     "text": [
      "<class 'pandas.core.frame.DataFrame'>\n",
      "RangeIndex: 359400 entries, 0 to 359399\n",
      "Data columns (total 5 columns):\n",
      " #   Column     Non-Null Count   Dtype         \n",
      "---  ------     --------------   -----         \n",
      " 0   device     359400 non-null  object        \n",
      " 1   end_ts     359400 non-null  datetime64[ns]\n",
      " 2   source_id  359400 non-null  int64         \n",
      " 3   start_ts   359400 non-null  datetime64[ns]\n",
      " 4   uid        359400 non-null  uint64        \n",
      "dtypes: datetime64[ns](2), int64(1), object(1), uint64(1)\n",
      "memory usage: 13.7+ MB\n",
      "None\n"
     ]
    },
    {
     "data": {
      "text/html": [
       "<div>\n",
       "<style scoped>\n",
       "    .dataframe tbody tr th:only-of-type {\n",
       "        vertical-align: middle;\n",
       "    }\n",
       "\n",
       "    .dataframe tbody tr th {\n",
       "        vertical-align: top;\n",
       "    }\n",
       "\n",
       "    .dataframe thead th {\n",
       "        text-align: right;\n",
       "    }\n",
       "</style>\n",
       "<table border=\"1\" class=\"dataframe\">\n",
       "  <thead>\n",
       "    <tr style=\"text-align: right;\">\n",
       "      <th></th>\n",
       "      <th>device</th>\n",
       "      <th>end_ts</th>\n",
       "      <th>source_id</th>\n",
       "      <th>start_ts</th>\n",
       "      <th>uid</th>\n",
       "    </tr>\n",
       "  </thead>\n",
       "  <tbody>\n",
       "    <tr>\n",
       "      <th>0</th>\n",
       "      <td>touch</td>\n",
       "      <td>2017-12-20 17:38:00</td>\n",
       "      <td>4</td>\n",
       "      <td>2017-12-20 17:20:00</td>\n",
       "      <td>16879256277535980062</td>\n",
       "    </tr>\n",
       "    <tr>\n",
       "      <th>1</th>\n",
       "      <td>desktop</td>\n",
       "      <td>2018-02-19 17:21:00</td>\n",
       "      <td>2</td>\n",
       "      <td>2018-02-19 16:53:00</td>\n",
       "      <td>104060357244891740</td>\n",
       "    </tr>\n",
       "    <tr>\n",
       "      <th>2</th>\n",
       "      <td>touch</td>\n",
       "      <td>2017-07-01 01:54:00</td>\n",
       "      <td>5</td>\n",
       "      <td>2017-07-01 01:54:00</td>\n",
       "      <td>7459035603376831527</td>\n",
       "    </tr>\n",
       "    <tr>\n",
       "      <th>3</th>\n",
       "      <td>desktop</td>\n",
       "      <td>2018-05-20 11:23:00</td>\n",
       "      <td>9</td>\n",
       "      <td>2018-05-20 10:59:00</td>\n",
       "      <td>16174680259334210214</td>\n",
       "    </tr>\n",
       "    <tr>\n",
       "      <th>4</th>\n",
       "      <td>desktop</td>\n",
       "      <td>2017-12-27 14:06:00</td>\n",
       "      <td>3</td>\n",
       "      <td>2017-12-27 14:06:00</td>\n",
       "      <td>9969694820036681168</td>\n",
       "    </tr>\n",
       "  </tbody>\n",
       "</table>\n",
       "</div>"
      ],
      "text/plain": [
       "    device              end_ts  source_id            start_ts  \\\n",
       "0    touch 2017-12-20 17:38:00          4 2017-12-20 17:20:00   \n",
       "1  desktop 2018-02-19 17:21:00          2 2018-02-19 16:53:00   \n",
       "2    touch 2017-07-01 01:54:00          5 2017-07-01 01:54:00   \n",
       "3  desktop 2018-05-20 11:23:00          9 2018-05-20 10:59:00   \n",
       "4  desktop 2017-12-27 14:06:00          3 2017-12-27 14:06:00   \n",
       "\n",
       "                    uid  \n",
       "0  16879256277535980062  \n",
       "1    104060357244891740  \n",
       "2   7459035603376831527  \n",
       "3  16174680259334210214  \n",
       "4   9969694820036681168  "
      ]
     },
     "metadata": {},
     "output_type": "display_data"
    }
   ],
   "source": [
    "# Названия столбцов приведем к более удобному для работы виду\n",
    "visits.columns =['device', 'end_ts', 'source_id', 'start_ts', 'uid']\n",
    "# Приведем данные о начале и конце интернет-сессий к типу datetime\n",
    "visits.end_ts = pd.to_datetime(visits.end_ts)\n",
    "visits.start_ts = pd.to_datetime(visits.start_ts)\n",
    "\n",
    "print(visits.info())\n",
    "display(visits.head())"
   ]
  },
  {
   "cell_type": "markdown",
   "metadata": {},
   "source": [
    "### Таблица orders"
   ]
  },
  {
   "cell_type": "code",
   "execution_count": 4,
   "metadata": {},
   "outputs": [
    {
     "name": "stdout",
     "output_type": "stream",
     "text": [
      "<class 'pandas.core.frame.DataFrame'>\n",
      "RangeIndex: 50415 entries, 0 to 50414\n",
      "Data columns (total 3 columns):\n",
      " #   Column   Non-Null Count  Dtype         \n",
      "---  ------   --------------  -----         \n",
      " 0   buy_ts   50415 non-null  datetime64[ns]\n",
      " 1   revenue  50415 non-null  float64       \n",
      " 2   uid      50415 non-null  uint64        \n",
      "dtypes: datetime64[ns](1), float64(1), uint64(1)\n",
      "memory usage: 1.2 MB\n",
      "None\n"
     ]
    },
    {
     "data": {
      "text/html": [
       "<div>\n",
       "<style scoped>\n",
       "    .dataframe tbody tr th:only-of-type {\n",
       "        vertical-align: middle;\n",
       "    }\n",
       "\n",
       "    .dataframe tbody tr th {\n",
       "        vertical-align: top;\n",
       "    }\n",
       "\n",
       "    .dataframe thead th {\n",
       "        text-align: right;\n",
       "    }\n",
       "</style>\n",
       "<table border=\"1\" class=\"dataframe\">\n",
       "  <thead>\n",
       "    <tr style=\"text-align: right;\">\n",
       "      <th></th>\n",
       "      <th>buy_ts</th>\n",
       "      <th>revenue</th>\n",
       "      <th>uid</th>\n",
       "    </tr>\n",
       "  </thead>\n",
       "  <tbody>\n",
       "    <tr>\n",
       "      <th>0</th>\n",
       "      <td>2017-06-01 00:10:00</td>\n",
       "      <td>17.00</td>\n",
       "      <td>10329302124590727494</td>\n",
       "    </tr>\n",
       "    <tr>\n",
       "      <th>1</th>\n",
       "      <td>2017-06-01 00:25:00</td>\n",
       "      <td>0.55</td>\n",
       "      <td>11627257723692907447</td>\n",
       "    </tr>\n",
       "    <tr>\n",
       "      <th>2</th>\n",
       "      <td>2017-06-01 00:27:00</td>\n",
       "      <td>0.37</td>\n",
       "      <td>17903680561304213844</td>\n",
       "    </tr>\n",
       "    <tr>\n",
       "      <th>3</th>\n",
       "      <td>2017-06-01 00:29:00</td>\n",
       "      <td>0.55</td>\n",
       "      <td>16109239769442553005</td>\n",
       "    </tr>\n",
       "    <tr>\n",
       "      <th>4</th>\n",
       "      <td>2017-06-01 07:58:00</td>\n",
       "      <td>0.37</td>\n",
       "      <td>14200605875248379450</td>\n",
       "    </tr>\n",
       "  </tbody>\n",
       "</table>\n",
       "</div>"
      ],
      "text/plain": [
       "               buy_ts  revenue                   uid\n",
       "0 2017-06-01 00:10:00    17.00  10329302124590727494\n",
       "1 2017-06-01 00:25:00     0.55  11627257723692907447\n",
       "2 2017-06-01 00:27:00     0.37  17903680561304213844\n",
       "3 2017-06-01 00:29:00     0.55  16109239769442553005\n",
       "4 2017-06-01 07:58:00     0.37  14200605875248379450"
      ]
     },
     "metadata": {},
     "output_type": "display_data"
    }
   ],
   "source": [
    "# Переименуем столцы\n",
    "orders.columns =['buy_ts', 'revenue', 'uid']\n",
    "# Приведем данные о времени покупки к типу datetime\n",
    "orders.buy_ts = pd.to_datetime(orders.buy_ts)\n",
    "\n",
    "print(orders.info())\n",
    "display(orders.head())"
   ]
  },
  {
   "cell_type": "markdown",
   "metadata": {},
   "source": [
    "### Таблица  costs"
   ]
  },
  {
   "cell_type": "code",
   "execution_count": 5,
   "metadata": {},
   "outputs": [
    {
     "name": "stdout",
     "output_type": "stream",
     "text": [
      "<class 'pandas.core.frame.DataFrame'>\n",
      "RangeIndex: 2542 entries, 0 to 2541\n",
      "Data columns (total 3 columns):\n",
      " #   Column     Non-Null Count  Dtype         \n",
      "---  ------     --------------  -----         \n",
      " 0   source_id  2542 non-null   int64         \n",
      " 1   dt         2542 non-null   datetime64[ns]\n",
      " 2   costs      2542 non-null   float64       \n",
      "dtypes: datetime64[ns](1), float64(1), int64(1)\n",
      "memory usage: 59.7 KB\n",
      "None\n"
     ]
    },
    {
     "data": {
      "text/html": [
       "<div>\n",
       "<style scoped>\n",
       "    .dataframe tbody tr th:only-of-type {\n",
       "        vertical-align: middle;\n",
       "    }\n",
       "\n",
       "    .dataframe tbody tr th {\n",
       "        vertical-align: top;\n",
       "    }\n",
       "\n",
       "    .dataframe thead th {\n",
       "        text-align: right;\n",
       "    }\n",
       "</style>\n",
       "<table border=\"1\" class=\"dataframe\">\n",
       "  <thead>\n",
       "    <tr style=\"text-align: right;\">\n",
       "      <th></th>\n",
       "      <th>source_id</th>\n",
       "      <th>dt</th>\n",
       "      <th>costs</th>\n",
       "    </tr>\n",
       "  </thead>\n",
       "  <tbody>\n",
       "    <tr>\n",
       "      <th>0</th>\n",
       "      <td>1</td>\n",
       "      <td>2017-06-01</td>\n",
       "      <td>75.20</td>\n",
       "    </tr>\n",
       "    <tr>\n",
       "      <th>1</th>\n",
       "      <td>1</td>\n",
       "      <td>2017-06-02</td>\n",
       "      <td>62.25</td>\n",
       "    </tr>\n",
       "    <tr>\n",
       "      <th>2</th>\n",
       "      <td>1</td>\n",
       "      <td>2017-06-03</td>\n",
       "      <td>36.53</td>\n",
       "    </tr>\n",
       "    <tr>\n",
       "      <th>3</th>\n",
       "      <td>1</td>\n",
       "      <td>2017-06-04</td>\n",
       "      <td>55.00</td>\n",
       "    </tr>\n",
       "    <tr>\n",
       "      <th>4</th>\n",
       "      <td>1</td>\n",
       "      <td>2017-06-05</td>\n",
       "      <td>57.08</td>\n",
       "    </tr>\n",
       "  </tbody>\n",
       "</table>\n",
       "</div>"
      ],
      "text/plain": [
       "   source_id         dt  costs\n",
       "0          1 2017-06-01  75.20\n",
       "1          1 2017-06-02  62.25\n",
       "2          1 2017-06-03  36.53\n",
       "3          1 2017-06-04  55.00\n",
       "4          1 2017-06-05  57.08"
      ]
     },
     "metadata": {},
     "output_type": "display_data"
    }
   ],
   "source": [
    "# Данные о времени рекламных затрат приведем к типу datetime\n",
    "costs.dt = pd.to_datetime(costs.dt)\n",
    "\n",
    "print(costs.info())\n",
    "display(costs.head())"
   ]
  },
  {
   "cell_type": "markdown",
   "metadata": {},
   "source": [
    "В исходных таблицах не обнаружено пропущенных значений. Все данные приведены к нужным типам, столбцы переименованы так, чтобы с ними удобно было работать."
   ]
  },
  {
   "cell_type": "markdown",
   "metadata": {},
   "source": [
    "## Шаг 2. Отчеты и метрики"
   ]
  },
  {
   "cell_type": "markdown",
   "metadata": {},
   "source": [
    "### Количество людей, пользующихся сервисом каждый месяц, каждую неделю, каждый день. С разбивкой по типам устройств."
   ]
  },
  {
   "cell_type": "code",
   "execution_count": 6,
   "metadata": {},
   "outputs": [
    {
     "data": {
      "text/html": [
       "<div>\n",
       "<style scoped>\n",
       "    .dataframe tbody tr th:only-of-type {\n",
       "        vertical-align: middle;\n",
       "    }\n",
       "\n",
       "    .dataframe tbody tr th {\n",
       "        vertical-align: top;\n",
       "    }\n",
       "\n",
       "    .dataframe thead th {\n",
       "        text-align: right;\n",
       "    }\n",
       "</style>\n",
       "<table border=\"1\" class=\"dataframe\">\n",
       "  <thead>\n",
       "    <tr style=\"text-align: right;\">\n",
       "      <th></th>\n",
       "      <th>device</th>\n",
       "      <th>end_ts</th>\n",
       "      <th>source_id</th>\n",
       "      <th>start_ts</th>\n",
       "      <th>uid</th>\n",
       "      <th>year</th>\n",
       "      <th>month</th>\n",
       "      <th>week</th>\n",
       "      <th>day</th>\n",
       "    </tr>\n",
       "  </thead>\n",
       "  <tbody>\n",
       "    <tr>\n",
       "      <th>0</th>\n",
       "      <td>touch</td>\n",
       "      <td>2017-12-20 17:38:00</td>\n",
       "      <td>4</td>\n",
       "      <td>2017-12-20 17:20:00</td>\n",
       "      <td>16879256277535980062</td>\n",
       "      <td>2017</td>\n",
       "      <td>2017-12-01</td>\n",
       "      <td>51</td>\n",
       "      <td>2017-12-20</td>\n",
       "    </tr>\n",
       "    <tr>\n",
       "      <th>1</th>\n",
       "      <td>desktop</td>\n",
       "      <td>2018-02-19 17:21:00</td>\n",
       "      <td>2</td>\n",
       "      <td>2018-02-19 16:53:00</td>\n",
       "      <td>104060357244891740</td>\n",
       "      <td>2018</td>\n",
       "      <td>2018-02-01</td>\n",
       "      <td>8</td>\n",
       "      <td>2018-02-19</td>\n",
       "    </tr>\n",
       "    <tr>\n",
       "      <th>2</th>\n",
       "      <td>touch</td>\n",
       "      <td>2017-07-01 01:54:00</td>\n",
       "      <td>5</td>\n",
       "      <td>2017-07-01 01:54:00</td>\n",
       "      <td>7459035603376831527</td>\n",
       "      <td>2017</td>\n",
       "      <td>2017-07-01</td>\n",
       "      <td>26</td>\n",
       "      <td>2017-07-01</td>\n",
       "    </tr>\n",
       "    <tr>\n",
       "      <th>3</th>\n",
       "      <td>desktop</td>\n",
       "      <td>2018-05-20 11:23:00</td>\n",
       "      <td>9</td>\n",
       "      <td>2018-05-20 10:59:00</td>\n",
       "      <td>16174680259334210214</td>\n",
       "      <td>2018</td>\n",
       "      <td>2018-05-01</td>\n",
       "      <td>20</td>\n",
       "      <td>2018-05-20</td>\n",
       "    </tr>\n",
       "    <tr>\n",
       "      <th>4</th>\n",
       "      <td>desktop</td>\n",
       "      <td>2017-12-27 14:06:00</td>\n",
       "      <td>3</td>\n",
       "      <td>2017-12-27 14:06:00</td>\n",
       "      <td>9969694820036681168</td>\n",
       "      <td>2017</td>\n",
       "      <td>2017-12-01</td>\n",
       "      <td>52</td>\n",
       "      <td>2017-12-27</td>\n",
       "    </tr>\n",
       "  </tbody>\n",
       "</table>\n",
       "</div>"
      ],
      "text/plain": [
       "    device              end_ts  source_id            start_ts  \\\n",
       "0    touch 2017-12-20 17:38:00          4 2017-12-20 17:20:00   \n",
       "1  desktop 2018-02-19 17:21:00          2 2018-02-19 16:53:00   \n",
       "2    touch 2017-07-01 01:54:00          5 2017-07-01 01:54:00   \n",
       "3  desktop 2018-05-20 11:23:00          9 2018-05-20 10:59:00   \n",
       "4  desktop 2017-12-27 14:06:00          3 2017-12-27 14:06:00   \n",
       "\n",
       "                    uid  year      month  week         day  \n",
       "0  16879256277535980062  2017 2017-12-01    51  2017-12-20  \n",
       "1    104060357244891740  2018 2018-02-01     8  2018-02-19  \n",
       "2   7459035603376831527  2017 2017-07-01    26  2017-07-01  \n",
       "3  16174680259334210214  2018 2018-05-01    20  2018-05-20  \n",
       "4   9969694820036681168  2017 2017-12-01    52  2017-12-27  "
      ]
     },
     "metadata": {},
     "output_type": "display_data"
    }
   ],
   "source": [
    "# Добавим в таблицу визитов столбцы: год, месяц, неделю и день визита\n",
    "visits['year'] = visits.start_ts.dt.year\n",
    "visits['month'] = visits.start_ts.astype('datetime64[M]')\n",
    "visits['week'] = visits.start_ts.dt.week\n",
    "visits['day'] = visits.start_ts.dt.date\n",
    "display(visits.head())"
   ]
  },
  {
   "cell_type": "code",
   "execution_count": 7,
   "metadata": {},
   "outputs": [],
   "source": [
    "# Создадим срезы для устройств типа touch и устройств типа desktop\n",
    "touch_users = visits.query('device == \"touch\"')\n",
    "desktop_users = visits.query('device == \"desktop\"')"
   ]
  },
  {
   "cell_type": "code",
   "execution_count": 8,
   "metadata": {},
   "outputs": [
    {
     "name": "stdout",
     "output_type": "stream",
     "text": [
      "6825\n",
      "16724\n"
     ]
    },
    {
     "data": {
      "image/png": "[encoded data removed]",
      "text/plain": [
       "<Figure size 432x360 with 1 Axes>"
      ]
     },
     "metadata": {
      "needs_background": "light"
     },
     "output_type": "display_data"
    }
   ],
   "source": [
    "# Рассчитаем месячную активность пользователей (MAU) для обоих срезов\n",
    "touch_users_per_month = touch_users.groupby('month').agg({'uid': 'nunique'})\n",
    "desktop_users_per_month = desktop_users.groupby('month').agg({'uid': 'nunique'})\n",
    "# Среднемесячная активность пользователей для обоих срезов\n",
    "mean_touch_users_per_month = int(touch_users_per_month.uid.mean())\n",
    "mean_desktop_users_per_month = int(desktop_users_per_month.uid.mean())\n",
    "print(mean_touch_users_per_month)\n",
    "print(mean_desktop_users_per_month)\n",
    "# График активности пользователей в мобильных приложениях по месяцам\n",
    "ax = touch_users_per_month.uid.plot(kind= 'barh', figsize = (6, 5))\n",
    "plt.title('Monthly active users, touch')\n",
    "ax.set_yticklabels(['June 2017', 'July 2017', 'August 2017', 'September 2017', 'October 2017', 'November 2017', 'December 2017', 'January 2018', 'February 2018', 'March 2018', 'April 2018', 'May 2018'])\n",
    "plt.show()"
   ]
  },
  {
   "cell_type": "code",
   "execution_count": 9,
   "metadata": {},
   "outputs": [
    {
     "data": {
      "image/png": "[encoded data removed]",
      "text/plain": [
       "<Figure size 432x360 with 1 Axes>"
      ]
     },
     "metadata": {
      "needs_background": "light"
     },
     "output_type": "display_data"
    }
   ],
   "source": [
    "# График активности пользователей устройств типа desktop по месяцам\n",
    "ax = desktop_users_per_month.uid.plot(kind= 'barh', figsize = (6, 5))\n",
    "plt.title('Monthly active users, desktop')\n",
    "ax.set_yticklabels(['June 2017', 'July 2017', 'August 2017', 'September 2017', 'October 2017', 'November 2017', 'December 2017', 'January 2018', 'February 2018', 'March 2018', 'April 2018', 'May 2018'])\n",
    "plt.show()"
   ]
  },
  {
   "cell_type": "code",
   "execution_count": 10,
   "metadata": {},
   "outputs": [
    {
     "name": "stdout",
     "output_type": "stream",
     "text": [
      "1634\n",
      "4129\n"
     ]
    },
    {
     "data": {
      "image/png": "[encoded data removed]",
      "text/plain": [
       "<Figure size 360x720 with 1 Axes>"
      ]
     },
     "metadata": {
      "needs_background": "light"
     },
     "output_type": "display_data"
    }
   ],
   "source": [
    "# Все то же для недель (WAU)\n",
    "touch_users_per_week = touch_users.groupby(['year','week']).agg({'uid': 'nunique'})\n",
    "mean_touch_users_per_week = touch_users_per_week.mean()\n",
    "print(int(mean_touch_users_per_week))\n",
    "\n",
    "desktop_users_per_week = desktop_users.groupby(['year','week']).agg({'uid': 'nunique'})\n",
    "mean_desktop_users_per_week = desktop_users_per_week.mean()\n",
    "print(int(mean_desktop_users_per_week))\n",
    "\n",
    "# График активности пользователей в мобильных приложениях по неделям\n",
    "ax = touch_users_per_week.uid.plot(kind = 'barh', figsize = (5, 10))\n",
    "plt.title('Weekly active users, touch')\n",
    "plt.show()"
   ]
  },
  {
   "cell_type": "code",
   "execution_count": 11,
   "metadata": {},
   "outputs": [
    {
     "data": {
      "image/png": "[encoded data removed]",
      "text/plain": [
       "<Figure size 360x720 with 1 Axes>"
      ]
     },
     "metadata": {
      "needs_background": "light"
     },
     "output_type": "display_data"
    }
   ],
   "source": [
    "# График активности пользователей устройств типа desktop по неделям\n",
    "ax = desktop_users_per_week.uid.plot(kind = 'barh', figsize = (5, 10))\n",
    "plt.title('Weekly active users, desktop')\n",
    "plt.show()"
   ]
  },
  {
   "cell_type": "code",
   "execution_count": 12,
   "metadata": {},
   "outputs": [
    {
     "name": "stdout",
     "output_type": "stream",
     "text": [
      "252\n",
      "659\n"
     ]
    }
   ],
   "source": [
    "# Среднедневная активность (DAU)\n",
    "mean_touch_users_per_day = touch_users.groupby('day').agg({'uid': 'nunique'}).mean()\n",
    "print(int(mean_touch_users_per_day))\n",
    "mean_desktop_users_per_day = desktop_users.groupby('day').agg({'uid': 'nunique'}).mean()\n",
    "print(int(mean_desktop_users_per_day))"
   ]
  },
  {
   "cell_type": "markdown",
   "metadata": {},
   "source": [
    "На сайт значительно чаще заходят с компьютера, чем с мобильного телефона. При этом графики показывают одни и те же тенденции и для пользователей стайионарных и для пользователей мобильных устройств. В целом, активность пользователей сильно зависит от сезона. Лето - \"мертвый сезон\". Осенью театральный сезон начинается, и наблюдается резкий рост активности: за лето все соскучились по спектаклям и концертам. Пик активности приходится на ноябрь. Видимо, в ноябре другие формы досуга не доступны. Для лыж рано, снега нет, солнца нет, листьев на деревьях нет - ничего нет, только и остается  что в театр или на концерт пойти. Зимой активнсть поменьше, но не сильно. Все же холодно, а лыжи не всем нравятся. В апредле становится интереснее и приятнее гулять на свежем воздухе, а концерты со спектаклями к тому времени слегка надоедают."
   ]
  },
  {
   "cell_type": "markdown",
   "metadata": {},
   "source": [
    "### Среднее количество сесий в день на одного пользователя по месяцам"
   ]
  },
  {
   "cell_type": "code",
   "execution_count": 13,
   "metadata": {},
   "outputs": [
    {
     "data": {
      "text/html": [
       "<div>\n",
       "<style scoped>\n",
       "    .dataframe tbody tr th:only-of-type {\n",
       "        vertical-align: middle;\n",
       "    }\n",
       "\n",
       "    .dataframe tbody tr th {\n",
       "        vertical-align: top;\n",
       "    }\n",
       "\n",
       "    .dataframe thead th {\n",
       "        text-align: right;\n",
       "    }\n",
       "</style>\n",
       "<table border=\"1\" class=\"dataframe\">\n",
       "  <thead>\n",
       "    <tr style=\"text-align: right;\">\n",
       "      <th></th>\n",
       "      <th>month</th>\n",
       "      <th>day</th>\n",
       "      <th>sessions</th>\n",
       "      <th>users</th>\n",
       "      <th>sess_per_user</th>\n",
       "    </tr>\n",
       "  </thead>\n",
       "  <tbody>\n",
       "    <tr>\n",
       "      <th>0</th>\n",
       "      <td>2017-06-01</td>\n",
       "      <td>2017-06-01</td>\n",
       "      <td>664</td>\n",
       "      <td>605</td>\n",
       "      <td>1.097521</td>\n",
       "    </tr>\n",
       "    <tr>\n",
       "      <th>1</th>\n",
       "      <td>2017-06-01</td>\n",
       "      <td>2017-06-02</td>\n",
       "      <td>658</td>\n",
       "      <td>608</td>\n",
       "      <td>1.082237</td>\n",
       "    </tr>\n",
       "    <tr>\n",
       "      <th>2</th>\n",
       "      <td>2017-06-01</td>\n",
       "      <td>2017-06-03</td>\n",
       "      <td>477</td>\n",
       "      <td>445</td>\n",
       "      <td>1.071910</td>\n",
       "    </tr>\n",
       "    <tr>\n",
       "      <th>3</th>\n",
       "      <td>2017-06-01</td>\n",
       "      <td>2017-06-04</td>\n",
       "      <td>510</td>\n",
       "      <td>476</td>\n",
       "      <td>1.071429</td>\n",
       "    </tr>\n",
       "    <tr>\n",
       "      <th>4</th>\n",
       "      <td>2017-06-01</td>\n",
       "      <td>2017-06-05</td>\n",
       "      <td>893</td>\n",
       "      <td>820</td>\n",
       "      <td>1.089024</td>\n",
       "    </tr>\n",
       "  </tbody>\n",
       "</table>\n",
       "</div>"
      ],
      "text/plain": [
       "       month         day  sessions  users  sess_per_user\n",
       "0 2017-06-01  2017-06-01       664    605       1.097521\n",
       "1 2017-06-01  2017-06-02       658    608       1.082237\n",
       "2 2017-06-01  2017-06-03       477    445       1.071910\n",
       "3 2017-06-01  2017-06-04       510    476       1.071429\n",
       "4 2017-06-01  2017-06-05       893    820       1.089024"
      ]
     },
     "metadata": {},
     "output_type": "display_data"
    }
   ],
   "source": [
    "# Посчитаем для месяцев и дней число сессий и число уникальных пользователей\n",
    "sessions = visits.groupby(['month','day']).agg({'uid': ['count', 'nunique']}).reset_index()\n",
    "sessions.set_axis(['month', 'day', 'sessions', 'users'], axis = 'columns', inplace=True)\n",
    "# Почитаем количество сессий на одного пользователя\n",
    "sessions['sess_per_user'] = sessions['sessions'] / sessions['users']\n",
    "display(sessions.head())"
   ]
  },
  {
   "cell_type": "code",
   "execution_count": 14,
   "metadata": {},
   "outputs": [
    {
     "data": {
      "text/html": [
       "<div>\n",
       "<style scoped>\n",
       "    .dataframe tbody tr th:only-of-type {\n",
       "        vertical-align: middle;\n",
       "    }\n",
       "\n",
       "    .dataframe tbody tr th {\n",
       "        vertical-align: top;\n",
       "    }\n",
       "\n",
       "    .dataframe thead th {\n",
       "        text-align: right;\n",
       "    }\n",
       "</style>\n",
       "<table border=\"1\" class=\"dataframe\">\n",
       "  <thead>\n",
       "    <tr style=\"text-align: right;\">\n",
       "      <th></th>\n",
       "      <th>sess_per_user</th>\n",
       "    </tr>\n",
       "    <tr>\n",
       "      <th>month</th>\n",
       "      <th></th>\n",
       "    </tr>\n",
       "  </thead>\n",
       "  <tbody>\n",
       "    <tr>\n",
       "      <th>2017-06-01</th>\n",
       "      <td>1.073938</td>\n",
       "    </tr>\n",
       "    <tr>\n",
       "      <th>2017-07-01</th>\n",
       "      <td>1.077657</td>\n",
       "    </tr>\n",
       "    <tr>\n",
       "      <th>2017-08-01</th>\n",
       "      <td>1.066927</td>\n",
       "    </tr>\n",
       "    <tr>\n",
       "      <th>2017-09-01</th>\n",
       "      <td>1.076044</td>\n",
       "    </tr>\n",
       "    <tr>\n",
       "      <th>2017-10-01</th>\n",
       "      <td>1.077773</td>\n",
       "    </tr>\n",
       "    <tr>\n",
       "      <th>2017-11-01</th>\n",
       "      <td>1.093053</td>\n",
       "    </tr>\n",
       "    <tr>\n",
       "      <th>2017-12-01</th>\n",
       "      <td>1.090265</td>\n",
       "    </tr>\n",
       "    <tr>\n",
       "      <th>2018-01-01</th>\n",
       "      <td>1.085976</td>\n",
       "    </tr>\n",
       "    <tr>\n",
       "      <th>2018-02-01</th>\n",
       "      <td>1.089924</td>\n",
       "    </tr>\n",
       "    <tr>\n",
       "      <th>2018-03-01</th>\n",
       "      <td>1.087141</td>\n",
       "    </tr>\n",
       "    <tr>\n",
       "      <th>2018-04-01</th>\n",
       "      <td>1.079686</td>\n",
       "    </tr>\n",
       "    <tr>\n",
       "      <th>2018-05-01</th>\n",
       "      <td>1.088130</td>\n",
       "    </tr>\n",
       "  </tbody>\n",
       "</table>\n",
       "</div>"
      ],
      "text/plain": [
       "            sess_per_user\n",
       "month                    \n",
       "2017-06-01       1.073938\n",
       "2017-07-01       1.077657\n",
       "2017-08-01       1.066927\n",
       "2017-09-01       1.076044\n",
       "2017-10-01       1.077773\n",
       "2017-11-01       1.093053\n",
       "2017-12-01       1.090265\n",
       "2018-01-01       1.085976\n",
       "2018-02-01       1.089924\n",
       "2018-03-01       1.087141\n",
       "2018-04-01       1.079686\n",
       "2018-05-01       1.088130"
      ]
     },
     "metadata": {},
     "output_type": "display_data"
    }
   ],
   "source": [
    "# Посчитаем среднее число сессий на пользователя для каждого месяца\n",
    "sessions_grouped = sessions.groupby('month').agg({'sess_per_user':'mean'})\n",
    "display(sessions_grouped)"
   ]
  },
  {
   "cell_type": "code",
   "execution_count": 15,
   "metadata": {},
   "outputs": [
    {
     "data": {
      "image/png": "[encoded data removed]",
      "text/plain": [
       "<Figure size 432x576 with 1 Axes>"
      ]
     },
     "metadata": {
      "needs_background": "light"
     },
     "output_type": "display_data"
    }
   ],
   "source": [
    "# Визуализируем результат\n",
    "ax = sessions_grouped.sess_per_user.plot(kind = 'barh', figsize =(6, 8))\n",
    "ax.set_yticklabels(['June 2017', 'July 2017', 'August 2017', 'September 2017', 'October 2017', 'November 2017', 'December 2017', 'January 2018', 'February 2018', 'March 2018', 'April 2018', 'May 2018'])\n",
    "plt.title('Sessions per day per user for each month')\n",
    "plt.show()"
   ]
  },
  {
   "cell_type": "code",
   "execution_count": 16,
   "metadata": {},
   "outputs": [
    {
     "name": "stdout",
     "output_type": "stream",
     "text": [
      "1.0822094906655846\n"
     ]
    }
   ],
   "source": [
    "print(sessions_grouped.sess_per_user.mean())"
   ]
  },
  {
   "cell_type": "markdown",
   "metadata": {},
   "source": [
    "Среднее количество сессий, приходящихся на одного пользователя, от месяца к месяцу практически не меняется. Среднее количество сессий за весь исследуемый период составляет 1.08, а средние значения по месяцам колюблются в диапазоне 1.06 - 1.09."
   ]
  },
  {
   "cell_type": "markdown",
   "metadata": {},
   "source": [
    "### Сколько в среднем длится одна сессия"
   ]
  },
  {
   "cell_type": "code",
   "execution_count": 17,
   "metadata": {},
   "outputs": [
    {
     "name": "stdout",
     "output_type": "stream",
     "text": [
      "10.716329994435169\n",
      "5.0\n",
      "1\n"
     ]
    },
    {
     "data": {
      "text/html": [
       "<div>\n",
       "<style scoped>\n",
       "    .dataframe tbody tr th:only-of-type {\n",
       "        vertical-align: middle;\n",
       "    }\n",
       "\n",
       "    .dataframe tbody tr th {\n",
       "        vertical-align: top;\n",
       "    }\n",
       "\n",
       "    .dataframe thead th {\n",
       "        text-align: right;\n",
       "    }\n",
       "</style>\n",
       "<table border=\"1\" class=\"dataframe\">\n",
       "  <thead>\n",
       "    <tr style=\"text-align: right;\">\n",
       "      <th></th>\n",
       "      <th>device</th>\n",
       "      <th>end_ts</th>\n",
       "      <th>source_id</th>\n",
       "      <th>start_ts</th>\n",
       "      <th>uid</th>\n",
       "      <th>year</th>\n",
       "      <th>month</th>\n",
       "      <th>week</th>\n",
       "      <th>day</th>\n",
       "      <th>session_minutes</th>\n",
       "    </tr>\n",
       "  </thead>\n",
       "  <tbody>\n",
       "    <tr>\n",
       "      <th>0</th>\n",
       "      <td>touch</td>\n",
       "      <td>2017-12-20 17:38:00</td>\n",
       "      <td>4</td>\n",
       "      <td>2017-12-20 17:20:00</td>\n",
       "      <td>16879256277535980062</td>\n",
       "      <td>2017</td>\n",
       "      <td>2017-12-01</td>\n",
       "      <td>51</td>\n",
       "      <td>2017-12-20</td>\n",
       "      <td>18</td>\n",
       "    </tr>\n",
       "    <tr>\n",
       "      <th>1</th>\n",
       "      <td>desktop</td>\n",
       "      <td>2018-02-19 17:21:00</td>\n",
       "      <td>2</td>\n",
       "      <td>2018-02-19 16:53:00</td>\n",
       "      <td>104060357244891740</td>\n",
       "      <td>2018</td>\n",
       "      <td>2018-02-01</td>\n",
       "      <td>8</td>\n",
       "      <td>2018-02-19</td>\n",
       "      <td>28</td>\n",
       "    </tr>\n",
       "    <tr>\n",
       "      <th>2</th>\n",
       "      <td>touch</td>\n",
       "      <td>2017-07-01 01:54:00</td>\n",
       "      <td>5</td>\n",
       "      <td>2017-07-01 01:54:00</td>\n",
       "      <td>7459035603376831527</td>\n",
       "      <td>2017</td>\n",
       "      <td>2017-07-01</td>\n",
       "      <td>26</td>\n",
       "      <td>2017-07-01</td>\n",
       "      <td>0</td>\n",
       "    </tr>\n",
       "    <tr>\n",
       "      <th>3</th>\n",
       "      <td>desktop</td>\n",
       "      <td>2018-05-20 11:23:00</td>\n",
       "      <td>9</td>\n",
       "      <td>2018-05-20 10:59:00</td>\n",
       "      <td>16174680259334210214</td>\n",
       "      <td>2018</td>\n",
       "      <td>2018-05-01</td>\n",
       "      <td>20</td>\n",
       "      <td>2018-05-20</td>\n",
       "      <td>24</td>\n",
       "    </tr>\n",
       "    <tr>\n",
       "      <th>4</th>\n",
       "      <td>desktop</td>\n",
       "      <td>2017-12-27 14:06:00</td>\n",
       "      <td>3</td>\n",
       "      <td>2017-12-27 14:06:00</td>\n",
       "      <td>9969694820036681168</td>\n",
       "      <td>2017</td>\n",
       "      <td>2017-12-01</td>\n",
       "      <td>52</td>\n",
       "      <td>2017-12-27</td>\n",
       "      <td>0</td>\n",
       "    </tr>\n",
       "  </tbody>\n",
       "</table>\n",
       "</div>"
      ],
      "text/plain": [
       "    device              end_ts  source_id            start_ts  \\\n",
       "0    touch 2017-12-20 17:38:00          4 2017-12-20 17:20:00   \n",
       "1  desktop 2018-02-19 17:21:00          2 2018-02-19 16:53:00   \n",
       "2    touch 2017-07-01 01:54:00          5 2017-07-01 01:54:00   \n",
       "3  desktop 2018-05-20 11:23:00          9 2018-05-20 10:59:00   \n",
       "4  desktop 2017-12-27 14:06:00          3 2017-12-27 14:06:00   \n",
       "\n",
       "                    uid  year      month  week         day  session_minutes  \n",
       "0  16879256277535980062  2017 2017-12-01    51  2017-12-20               18  \n",
       "1    104060357244891740  2018 2018-02-01     8  2018-02-19               28  \n",
       "2   7459035603376831527  2017 2017-07-01    26  2017-07-01                0  \n",
       "3  16174680259334210214  2018 2018-05-01    20  2018-05-20               24  \n",
       "4   9969694820036681168  2017 2017-12-01    52  2017-12-27                0  "
      ]
     },
     "metadata": {},
     "output_type": "display_data"
    }
   ],
   "source": [
    "# Посчитаем, сколько минут длится средняя сессия\n",
    "visits['session_minutes'] = ((visits.end_ts - visits.start_ts) / np.timedelta64(1, 'm')).astype('int')\n",
    "\n",
    "# Среднее, медиана и мода\n",
    "print(visits.session_minutes.mean())\n",
    "print(visits.session_minutes.median())\n",
    "print(int(visits.session_minutes.mode()))\n",
    "display(visits.head())"
   ]
  },
  {
   "cell_type": "code",
   "execution_count": 18,
   "metadata": {},
   "outputs": [
    {
     "data": {
      "image/png": "[encoded data removed]",
      "text/plain": [
       "<Figure size 720x288 with 1 Axes>"
      ]
     },
     "metadata": {
      "needs_background": "light"
     },
     "output_type": "display_data"
    }
   ],
   "source": [
    "# Визуализируем результат\n",
    "ax = visits.session_minutes.hist(range=(0, 50), bins=50, figsize = (10, 4))\n",
    "ax.set_xlabel('Minutes')\n",
    "ax.set_ylabel('Frequency')\n",
    "plt.title('Session duration')\n",
    "plt.show()"
   ]
  },
  {
   "cell_type": "markdown",
   "metadata": {},
   "source": [
    "Наиболее типичная сессия длится от 1 до 10 минут. Сессии, длящиеся более получаса, очень редки.\n",
    "Чаще всего встречается значение \"1 минута\", при этом половина всех сессий длится в пределах пяти минут. Среднее значение (10 минут) смещено из=за выбросов и редких значений."
   ]
  },
  {
   "cell_type": "markdown",
   "metadata": {},
   "source": [
    "### Retention rate"
   ]
  },
  {
   "cell_type": "code",
   "execution_count": 19,
   "metadata": {},
   "outputs": [
    {
     "data": {
      "text/html": [
       "<div>\n",
       "<style scoped>\n",
       "    .dataframe tbody tr th:only-of-type {\n",
       "        vertical-align: middle;\n",
       "    }\n",
       "\n",
       "    .dataframe tbody tr th {\n",
       "        vertical-align: top;\n",
       "    }\n",
       "\n",
       "    .dataframe thead th {\n",
       "        text-align: right;\n",
       "    }\n",
       "</style>\n",
       "<table border=\"1\" class=\"dataframe\">\n",
       "  <thead>\n",
       "    <tr style=\"text-align: right;\">\n",
       "      <th></th>\n",
       "      <th>first_visit</th>\n",
       "      <th>first_visit_month</th>\n",
       "    </tr>\n",
       "    <tr>\n",
       "      <th>uid</th>\n",
       "      <th></th>\n",
       "      <th></th>\n",
       "    </tr>\n",
       "  </thead>\n",
       "  <tbody>\n",
       "    <tr>\n",
       "      <th>11863502262781</th>\n",
       "      <td>2018-03-01 17:27:00</td>\n",
       "      <td>2018-03-01</td>\n",
       "    </tr>\n",
       "    <tr>\n",
       "      <th>49537067089222</th>\n",
       "      <td>2018-02-06 15:55:00</td>\n",
       "      <td>2018-02-01</td>\n",
       "    </tr>\n",
       "    <tr>\n",
       "      <th>297729379853735</th>\n",
       "      <td>2017-06-07 18:47:00</td>\n",
       "      <td>2017-06-01</td>\n",
       "    </tr>\n",
       "    <tr>\n",
       "      <th>313578113262317</th>\n",
       "      <td>2017-09-18 22:49:00</td>\n",
       "      <td>2017-09-01</td>\n",
       "    </tr>\n",
       "    <tr>\n",
       "      <th>325320750514679</th>\n",
       "      <td>2017-09-30 14:29:00</td>\n",
       "      <td>2017-09-01</td>\n",
       "    </tr>\n",
       "  </tbody>\n",
       "</table>\n",
       "</div>"
      ],
      "text/plain": [
       "                        first_visit first_visit_month\n",
       "uid                                                  \n",
       "11863502262781  2018-03-01 17:27:00        2018-03-01\n",
       "49537067089222  2018-02-06 15:55:00        2018-02-01\n",
       "297729379853735 2017-06-07 18:47:00        2017-06-01\n",
       "313578113262317 2017-09-18 22:49:00        2017-09-01\n",
       "325320750514679 2017-09-30 14:29:00        2017-09-01"
      ]
     },
     "metadata": {},
     "output_type": "display_data"
    }
   ],
   "source": [
    "# Посчитаем минимальное значение start_ts (время первого визита) для каждого пользователя\n",
    "first_visits = visits.groupby('uid').agg({'start_ts': 'min'})\n",
    "first_visits.columns = ['first_visit']\n",
    "# Выделим месяц первого визита\n",
    "first_visits['first_visit_month'] = first_visits.first_visit.astype('datetime64[M]')\n",
    "display(first_visits.head())"
   ]
  },
  {
   "cell_type": "code",
   "execution_count": 20,
   "metadata": {},
   "outputs": [
    {
     "data": {
      "text/html": [
       "<div>\n",
       "<style scoped>\n",
       "    .dataframe tbody tr th:only-of-type {\n",
       "        vertical-align: middle;\n",
       "    }\n",
       "\n",
       "    .dataframe tbody tr th {\n",
       "        vertical-align: top;\n",
       "    }\n",
       "\n",
       "    .dataframe thead th {\n",
       "        text-align: right;\n",
       "    }\n",
       "</style>\n",
       "<table border=\"1\" class=\"dataframe\">\n",
       "  <thead>\n",
       "    <tr style=\"text-align: right;\">\n",
       "      <th></th>\n",
       "      <th>device</th>\n",
       "      <th>end_ts</th>\n",
       "      <th>source_id</th>\n",
       "      <th>start_ts</th>\n",
       "      <th>uid</th>\n",
       "      <th>year</th>\n",
       "      <th>month</th>\n",
       "      <th>week</th>\n",
       "      <th>day</th>\n",
       "      <th>session_minutes</th>\n",
       "      <th>first_visit</th>\n",
       "      <th>first_visit_month</th>\n",
       "      <th>lifetime</th>\n",
       "    </tr>\n",
       "  </thead>\n",
       "  <tbody>\n",
       "    <tr>\n",
       "      <th>0</th>\n",
       "      <td>touch</td>\n",
       "      <td>2017-12-20 17:38:00</td>\n",
       "      <td>4</td>\n",
       "      <td>2017-12-20 17:20:00</td>\n",
       "      <td>16879256277535980062</td>\n",
       "      <td>2017</td>\n",
       "      <td>2017-12-01</td>\n",
       "      <td>51</td>\n",
       "      <td>2017-12-20</td>\n",
       "      <td>18</td>\n",
       "      <td>2017-12-20 17:20:00</td>\n",
       "      <td>2017-12-01</td>\n",
       "      <td>0</td>\n",
       "    </tr>\n",
       "    <tr>\n",
       "      <th>1</th>\n",
       "      <td>desktop</td>\n",
       "      <td>2018-02-19 17:21:00</td>\n",
       "      <td>2</td>\n",
       "      <td>2018-02-19 16:53:00</td>\n",
       "      <td>104060357244891740</td>\n",
       "      <td>2018</td>\n",
       "      <td>2018-02-01</td>\n",
       "      <td>8</td>\n",
       "      <td>2018-02-19</td>\n",
       "      <td>28</td>\n",
       "      <td>2018-02-19 16:53:00</td>\n",
       "      <td>2018-02-01</td>\n",
       "      <td>0</td>\n",
       "    </tr>\n",
       "    <tr>\n",
       "      <th>2</th>\n",
       "      <td>touch</td>\n",
       "      <td>2017-07-01 01:54:00</td>\n",
       "      <td>5</td>\n",
       "      <td>2017-07-01 01:54:00</td>\n",
       "      <td>7459035603376831527</td>\n",
       "      <td>2017</td>\n",
       "      <td>2017-07-01</td>\n",
       "      <td>26</td>\n",
       "      <td>2017-07-01</td>\n",
       "      <td>0</td>\n",
       "      <td>2017-07-01 01:54:00</td>\n",
       "      <td>2017-07-01</td>\n",
       "      <td>0</td>\n",
       "    </tr>\n",
       "    <tr>\n",
       "      <th>3</th>\n",
       "      <td>desktop</td>\n",
       "      <td>2018-05-20 11:23:00</td>\n",
       "      <td>9</td>\n",
       "      <td>2018-05-20 10:59:00</td>\n",
       "      <td>16174680259334210214</td>\n",
       "      <td>2018</td>\n",
       "      <td>2018-05-01</td>\n",
       "      <td>20</td>\n",
       "      <td>2018-05-20</td>\n",
       "      <td>24</td>\n",
       "      <td>2018-03-09 20:05:00</td>\n",
       "      <td>2018-03-01</td>\n",
       "      <td>2</td>\n",
       "    </tr>\n",
       "    <tr>\n",
       "      <th>4</th>\n",
       "      <td>desktop</td>\n",
       "      <td>2018-03-09 20:33:00</td>\n",
       "      <td>4</td>\n",
       "      <td>2018-03-09 20:05:00</td>\n",
       "      <td>16174680259334210214</td>\n",
       "      <td>2018</td>\n",
       "      <td>2018-03-01</td>\n",
       "      <td>10</td>\n",
       "      <td>2018-03-09</td>\n",
       "      <td>28</td>\n",
       "      <td>2018-03-09 20:05:00</td>\n",
       "      <td>2018-03-01</td>\n",
       "      <td>0</td>\n",
       "    </tr>\n",
       "  </tbody>\n",
       "</table>\n",
       "</div>"
      ],
      "text/plain": [
       "    device              end_ts  source_id            start_ts  \\\n",
       "0    touch 2017-12-20 17:38:00          4 2017-12-20 17:20:00   \n",
       "1  desktop 2018-02-19 17:21:00          2 2018-02-19 16:53:00   \n",
       "2    touch 2017-07-01 01:54:00          5 2017-07-01 01:54:00   \n",
       "3  desktop 2018-05-20 11:23:00          9 2018-05-20 10:59:00   \n",
       "4  desktop 2018-03-09 20:33:00          4 2018-03-09 20:05:00   \n",
       "\n",
       "                    uid  year      month  week         day  session_minutes  \\\n",
       "0  16879256277535980062  2017 2017-12-01    51  2017-12-20               18   \n",
       "1    104060357244891740  2018 2018-02-01     8  2018-02-19               28   \n",
       "2   7459035603376831527  2017 2017-07-01    26  2017-07-01                0   \n",
       "3  16174680259334210214  2018 2018-05-01    20  2018-05-20               24   \n",
       "4  16174680259334210214  2018 2018-03-01    10  2018-03-09               28   \n",
       "\n",
       "          first_visit first_visit_month  lifetime  \n",
       "0 2017-12-20 17:20:00        2017-12-01         0  \n",
       "1 2018-02-19 16:53:00        2018-02-01         0  \n",
       "2 2017-07-01 01:54:00        2017-07-01         0  \n",
       "3 2018-03-09 20:05:00        2018-03-01         2  \n",
       "4 2018-03-09 20:05:00        2018-03-01         0  "
      ]
     },
     "metadata": {},
     "output_type": "display_data"
    }
   ],
   "source": [
    "# Объединим таблицы визитов и первых визитов\n",
    "visits = visits.merge(first_visits, on = 'uid')\n",
    "# Посчитаем текущее время жизни пользователя для каждого наблюдения таблицы visits\n",
    "visits['lifetime'] = ((visits.month - visits.first_visit_month) / np.timedelta64(1, 'M')).round().astype('int')\n",
    "display(visits.head())"
   ]
  },
  {
   "cell_type": "code",
   "execution_count": 21,
   "metadata": {},
   "outputs": [
    {
     "data": {
      "text/html": [
       "<div>\n",
       "<style scoped>\n",
       "    .dataframe tbody tr th:only-of-type {\n",
       "        vertical-align: middle;\n",
       "    }\n",
       "\n",
       "    .dataframe tbody tr th {\n",
       "        vertical-align: top;\n",
       "    }\n",
       "\n",
       "    .dataframe thead th {\n",
       "        text-align: right;\n",
       "    }\n",
       "</style>\n",
       "<table border=\"1\" class=\"dataframe\">\n",
       "  <thead>\n",
       "    <tr style=\"text-align: right;\">\n",
       "      <th></th>\n",
       "      <th>first_visit_month</th>\n",
       "      <th>lifetime</th>\n",
       "      <th>uid</th>\n",
       "    </tr>\n",
       "  </thead>\n",
       "  <tbody>\n",
       "    <tr>\n",
       "      <th>0</th>\n",
       "      <td>2017-06-01</td>\n",
       "      <td>0</td>\n",
       "      <td>13259</td>\n",
       "    </tr>\n",
       "    <tr>\n",
       "      <th>1</th>\n",
       "      <td>2017-06-01</td>\n",
       "      <td>1</td>\n",
       "      <td>1043</td>\n",
       "    </tr>\n",
       "    <tr>\n",
       "      <th>2</th>\n",
       "      <td>2017-06-01</td>\n",
       "      <td>2</td>\n",
       "      <td>713</td>\n",
       "    </tr>\n",
       "    <tr>\n",
       "      <th>3</th>\n",
       "      <td>2017-06-01</td>\n",
       "      <td>3</td>\n",
       "      <td>814</td>\n",
       "    </tr>\n",
       "    <tr>\n",
       "      <th>4</th>\n",
       "      <td>2017-06-01</td>\n",
       "      <td>4</td>\n",
       "      <td>909</td>\n",
       "    </tr>\n",
       "    <tr>\n",
       "      <th>5</th>\n",
       "      <td>2017-06-01</td>\n",
       "      <td>5</td>\n",
       "      <td>947</td>\n",
       "    </tr>\n",
       "    <tr>\n",
       "      <th>6</th>\n",
       "      <td>2017-06-01</td>\n",
       "      <td>6</td>\n",
       "      <td>809</td>\n",
       "    </tr>\n",
       "    <tr>\n",
       "      <th>7</th>\n",
       "      <td>2017-06-01</td>\n",
       "      <td>7</td>\n",
       "      <td>766</td>\n",
       "    </tr>\n",
       "    <tr>\n",
       "      <th>8</th>\n",
       "      <td>2017-06-01</td>\n",
       "      <td>8</td>\n",
       "      <td>694</td>\n",
       "    </tr>\n",
       "    <tr>\n",
       "      <th>9</th>\n",
       "      <td>2017-06-01</td>\n",
       "      <td>9</td>\n",
       "      <td>674</td>\n",
       "    </tr>\n",
       "  </tbody>\n",
       "</table>\n",
       "</div>"
      ],
      "text/plain": [
       "  first_visit_month  lifetime    uid\n",
       "0        2017-06-01         0  13259\n",
       "1        2017-06-01         1   1043\n",
       "2        2017-06-01         2    713\n",
       "3        2017-06-01         3    814\n",
       "4        2017-06-01         4    909\n",
       "5        2017-06-01         5    947\n",
       "6        2017-06-01         6    809\n",
       "7        2017-06-01         7    766\n",
       "8        2017-06-01         8    694\n",
       "9        2017-06-01         9    674"
      ]
     },
     "metadata": {},
     "output_type": "display_data"
    }
   ],
   "source": [
    "# Сгруппируем уникальных пользователей по когортам (месяцу первого визита) и времени жизни\n",
    "cohorts = visits.groupby(['first_visit_month', 'lifetime']).agg({'uid': 'nunique'}).reset_index()\n",
    "display(cohorts.head(10))"
   ]
  },
  {
   "cell_type": "code",
   "execution_count": 22,
   "metadata": {
    "scrolled": true
   },
   "outputs": [
    {
     "data": {
      "text/html": [
       "<div>\n",
       "<style scoped>\n",
       "    .dataframe tbody tr th:only-of-type {\n",
       "        vertical-align: middle;\n",
       "    }\n",
       "\n",
       "    .dataframe tbody tr th {\n",
       "        vertical-align: top;\n",
       "    }\n",
       "\n",
       "    .dataframe thead th {\n",
       "        text-align: right;\n",
       "    }\n",
       "</style>\n",
       "<table border=\"1\" class=\"dataframe\">\n",
       "  <thead>\n",
       "    <tr style=\"text-align: right;\">\n",
       "      <th></th>\n",
       "      <th>first_visit_month</th>\n",
       "      <th>cohort_users</th>\n",
       "    </tr>\n",
       "  </thead>\n",
       "  <tbody>\n",
       "    <tr>\n",
       "      <th>0</th>\n",
       "      <td>2017-06-01</td>\n",
       "      <td>13259</td>\n",
       "    </tr>\n",
       "    <tr>\n",
       "      <th>12</th>\n",
       "      <td>2017-07-01</td>\n",
       "      <td>13140</td>\n",
       "    </tr>\n",
       "    <tr>\n",
       "      <th>23</th>\n",
       "      <td>2017-08-01</td>\n",
       "      <td>10181</td>\n",
       "    </tr>\n",
       "    <tr>\n",
       "      <th>33</th>\n",
       "      <td>2017-09-01</td>\n",
       "      <td>16704</td>\n",
       "    </tr>\n",
       "    <tr>\n",
       "      <th>42</th>\n",
       "      <td>2017-10-01</td>\n",
       "      <td>25977</td>\n",
       "    </tr>\n",
       "    <tr>\n",
       "      <th>50</th>\n",
       "      <td>2017-11-01</td>\n",
       "      <td>27248</td>\n",
       "    </tr>\n",
       "    <tr>\n",
       "      <th>57</th>\n",
       "      <td>2017-12-01</td>\n",
       "      <td>25268</td>\n",
       "    </tr>\n",
       "    <tr>\n",
       "      <th>63</th>\n",
       "      <td>2018-01-01</td>\n",
       "      <td>22624</td>\n",
       "    </tr>\n",
       "    <tr>\n",
       "      <th>68</th>\n",
       "      <td>2018-02-01</td>\n",
       "      <td>22197</td>\n",
       "    </tr>\n",
       "    <tr>\n",
       "      <th>72</th>\n",
       "      <td>2018-03-01</td>\n",
       "      <td>20589</td>\n",
       "    </tr>\n",
       "    <tr>\n",
       "      <th>75</th>\n",
       "      <td>2018-04-01</td>\n",
       "      <td>15709</td>\n",
       "    </tr>\n",
       "    <tr>\n",
       "      <th>77</th>\n",
       "      <td>2018-05-01</td>\n",
       "      <td>15273</td>\n",
       "    </tr>\n",
       "  </tbody>\n",
       "</table>\n",
       "</div>"
      ],
      "text/plain": [
       "   first_visit_month  cohort_users\n",
       "0         2017-06-01         13259\n",
       "12        2017-07-01         13140\n",
       "23        2017-08-01         10181\n",
       "33        2017-09-01         16704\n",
       "42        2017-10-01         25977\n",
       "50        2017-11-01         27248\n",
       "57        2017-12-01         25268\n",
       "63        2018-01-01         22624\n",
       "68        2018-02-01         22197\n",
       "72        2018-03-01         20589\n",
       "75        2018-04-01         15709\n",
       "77        2018-05-01         15273"
      ]
     },
     "metadata": {},
     "output_type": "display_data"
    }
   ],
   "source": [
    "# Создадим срез таблицы когорт: нам нужно изначальное количество пользователей в каждой когорте\n",
    "initial_users_count = cohorts[cohorts.lifetime == 0][['first_visit_month', 'uid']]\n",
    "initial_users_count = initial_users_count.rename(columns = {'uid': 'cohort_users'})\n",
    "display(initial_users_count)"
   ]
  },
  {
   "cell_type": "code",
   "execution_count": 23,
   "metadata": {},
   "outputs": [
    {
     "data": {
      "text/html": [
       "<div>\n",
       "<style scoped>\n",
       "    .dataframe tbody tr th:only-of-type {\n",
       "        vertical-align: middle;\n",
       "    }\n",
       "\n",
       "    .dataframe tbody tr th {\n",
       "        vertical-align: top;\n",
       "    }\n",
       "\n",
       "    .dataframe thead th {\n",
       "        text-align: right;\n",
       "    }\n",
       "</style>\n",
       "<table border=\"1\" class=\"dataframe\">\n",
       "  <thead>\n",
       "    <tr style=\"text-align: right;\">\n",
       "      <th></th>\n",
       "      <th>first_visit_month</th>\n",
       "      <th>lifetime</th>\n",
       "      <th>uid</th>\n",
       "      <th>cohort_users</th>\n",
       "      <th>retention_rate</th>\n",
       "    </tr>\n",
       "  </thead>\n",
       "  <tbody>\n",
       "    <tr>\n",
       "      <th>0</th>\n",
       "      <td>2017-06-01</td>\n",
       "      <td>0</td>\n",
       "      <td>13259</td>\n",
       "      <td>13259</td>\n",
       "      <td>100.00</td>\n",
       "    </tr>\n",
       "    <tr>\n",
       "      <th>1</th>\n",
       "      <td>2017-06-01</td>\n",
       "      <td>1</td>\n",
       "      <td>1043</td>\n",
       "      <td>13259</td>\n",
       "      <td>7.87</td>\n",
       "    </tr>\n",
       "    <tr>\n",
       "      <th>2</th>\n",
       "      <td>2017-06-01</td>\n",
       "      <td>2</td>\n",
       "      <td>713</td>\n",
       "      <td>13259</td>\n",
       "      <td>5.38</td>\n",
       "    </tr>\n",
       "    <tr>\n",
       "      <th>3</th>\n",
       "      <td>2017-06-01</td>\n",
       "      <td>3</td>\n",
       "      <td>814</td>\n",
       "      <td>13259</td>\n",
       "      <td>6.14</td>\n",
       "    </tr>\n",
       "    <tr>\n",
       "      <th>4</th>\n",
       "      <td>2017-06-01</td>\n",
       "      <td>4</td>\n",
       "      <td>909</td>\n",
       "      <td>13259</td>\n",
       "      <td>6.86</td>\n",
       "    </tr>\n",
       "    <tr>\n",
       "      <th>5</th>\n",
       "      <td>2017-06-01</td>\n",
       "      <td>5</td>\n",
       "      <td>947</td>\n",
       "      <td>13259</td>\n",
       "      <td>7.14</td>\n",
       "    </tr>\n",
       "    <tr>\n",
       "      <th>6</th>\n",
       "      <td>2017-06-01</td>\n",
       "      <td>6</td>\n",
       "      <td>809</td>\n",
       "      <td>13259</td>\n",
       "      <td>6.10</td>\n",
       "    </tr>\n",
       "    <tr>\n",
       "      <th>7</th>\n",
       "      <td>2017-06-01</td>\n",
       "      <td>7</td>\n",
       "      <td>766</td>\n",
       "      <td>13259</td>\n",
       "      <td>5.78</td>\n",
       "    </tr>\n",
       "    <tr>\n",
       "      <th>8</th>\n",
       "      <td>2017-06-01</td>\n",
       "      <td>8</td>\n",
       "      <td>694</td>\n",
       "      <td>13259</td>\n",
       "      <td>5.23</td>\n",
       "    </tr>\n",
       "    <tr>\n",
       "      <th>9</th>\n",
       "      <td>2017-06-01</td>\n",
       "      <td>9</td>\n",
       "      <td>674</td>\n",
       "      <td>13259</td>\n",
       "      <td>5.08</td>\n",
       "    </tr>\n",
       "  </tbody>\n",
       "</table>\n",
       "</div>"
      ],
      "text/plain": [
       "  first_visit_month  lifetime    uid  cohort_users  retention_rate\n",
       "0        2017-06-01         0  13259         13259          100.00\n",
       "1        2017-06-01         1   1043         13259            7.87\n",
       "2        2017-06-01         2    713         13259            5.38\n",
       "3        2017-06-01         3    814         13259            6.14\n",
       "4        2017-06-01         4    909         13259            6.86\n",
       "5        2017-06-01         5    947         13259            7.14\n",
       "6        2017-06-01         6    809         13259            6.10\n",
       "7        2017-06-01         7    766         13259            5.78\n",
       "8        2017-06-01         8    694         13259            5.23\n",
       "9        2017-06-01         9    674         13259            5.08"
      ]
     },
     "metadata": {},
     "output_type": "display_data"
    }
   ],
   "source": [
    "# Объединим таблицу когорт с ее срезом, а затем вычислим retention rate, разделив\n",
    "# текущее количество пользователей на изначальное и умножив на 100 процентов.\n",
    "\n",
    "cohorts = cohorts.merge(initial_users_count, on='first_visit_month')\n",
    "cohorts['retention_rate'] = (cohorts.uid / cohorts.cohort_users * 100).round(2)\n",
    "display(cohorts.head(10))"
   ]
  },
  {
   "cell_type": "code",
   "execution_count": 24,
   "metadata": {},
   "outputs": [
    {
     "data": {
      "text/html": [
       "<div>\n",
       "<style scoped>\n",
       "    .dataframe tbody tr th:only-of-type {\n",
       "        vertical-align: middle;\n",
       "    }\n",
       "\n",
       "    .dataframe tbody tr th {\n",
       "        vertical-align: top;\n",
       "    }\n",
       "\n",
       "    .dataframe thead th {\n",
       "        text-align: right;\n",
       "    }\n",
       "</style>\n",
       "<table border=\"1\" class=\"dataframe\">\n",
       "  <thead>\n",
       "    <tr style=\"text-align: right;\">\n",
       "      <th>lifetime</th>\n",
       "      <th>0</th>\n",
       "      <th>1</th>\n",
       "      <th>2</th>\n",
       "      <th>3</th>\n",
       "      <th>4</th>\n",
       "      <th>5</th>\n",
       "      <th>6</th>\n",
       "      <th>7</th>\n",
       "      <th>8</th>\n",
       "      <th>9</th>\n",
       "      <th>10</th>\n",
       "      <th>11</th>\n",
       "    </tr>\n",
       "    <tr>\n",
       "      <th>first_visit_month</th>\n",
       "      <th></th>\n",
       "      <th></th>\n",
       "      <th></th>\n",
       "      <th></th>\n",
       "      <th></th>\n",
       "      <th></th>\n",
       "      <th></th>\n",
       "      <th></th>\n",
       "      <th></th>\n",
       "      <th></th>\n",
       "      <th></th>\n",
       "      <th></th>\n",
       "    </tr>\n",
       "  </thead>\n",
       "  <tbody>\n",
       "    <tr>\n",
       "      <th>2017-06-01</th>\n",
       "      <td>100.0</td>\n",
       "      <td>7.87</td>\n",
       "      <td>5.38</td>\n",
       "      <td>6.14</td>\n",
       "      <td>6.86</td>\n",
       "      <td>7.14</td>\n",
       "      <td>6.10</td>\n",
       "      <td>5.78</td>\n",
       "      <td>5.23</td>\n",
       "      <td>5.08</td>\n",
       "      <td>4.07</td>\n",
       "      <td>4.5</td>\n",
       "    </tr>\n",
       "    <tr>\n",
       "      <th>2017-07-01</th>\n",
       "      <td>100.0</td>\n",
       "      <td>5.61</td>\n",
       "      <td>5.13</td>\n",
       "      <td>5.62</td>\n",
       "      <td>5.82</td>\n",
       "      <td>4.82</td>\n",
       "      <td>4.54</td>\n",
       "      <td>4.57</td>\n",
       "      <td>3.88</td>\n",
       "      <td>2.86</td>\n",
       "      <td>2.75</td>\n",
       "      <td>NaN</td>\n",
       "    </tr>\n",
       "    <tr>\n",
       "      <th>2017-08-01</th>\n",
       "      <td>100.0</td>\n",
       "      <td>7.69</td>\n",
       "      <td>6.29</td>\n",
       "      <td>6.28</td>\n",
       "      <td>5.01</td>\n",
       "      <td>4.40</td>\n",
       "      <td>3.63</td>\n",
       "      <td>3.95</td>\n",
       "      <td>2.79</td>\n",
       "      <td>2.60</td>\n",
       "      <td>NaN</td>\n",
       "      <td>NaN</td>\n",
       "    </tr>\n",
       "    <tr>\n",
       "      <th>2017-09-01</th>\n",
       "      <td>100.0</td>\n",
       "      <td>8.55</td>\n",
       "      <td>6.92</td>\n",
       "      <td>5.07</td>\n",
       "      <td>3.94</td>\n",
       "      <td>3.78</td>\n",
       "      <td>3.59</td>\n",
       "      <td>2.42</td>\n",
       "      <td>2.28</td>\n",
       "      <td>NaN</td>\n",
       "      <td>NaN</td>\n",
       "      <td>NaN</td>\n",
       "    </tr>\n",
       "    <tr>\n",
       "      <th>2017-10-01</th>\n",
       "      <td>100.0</td>\n",
       "      <td>7.86</td>\n",
       "      <td>5.22</td>\n",
       "      <td>3.90</td>\n",
       "      <td>3.43</td>\n",
       "      <td>3.22</td>\n",
       "      <td>2.14</td>\n",
       "      <td>2.04</td>\n",
       "      <td>NaN</td>\n",
       "      <td>NaN</td>\n",
       "      <td>NaN</td>\n",
       "      <td>NaN</td>\n",
       "    </tr>\n",
       "    <tr>\n",
       "      <th>2017-11-01</th>\n",
       "      <td>100.0</td>\n",
       "      <td>7.83</td>\n",
       "      <td>4.41</td>\n",
       "      <td>3.87</td>\n",
       "      <td>3.37</td>\n",
       "      <td>2.34</td>\n",
       "      <td>2.18</td>\n",
       "      <td>NaN</td>\n",
       "      <td>NaN</td>\n",
       "      <td>NaN</td>\n",
       "      <td>NaN</td>\n",
       "      <td>NaN</td>\n",
       "    </tr>\n",
       "    <tr>\n",
       "      <th>2017-12-01</th>\n",
       "      <td>100.0</td>\n",
       "      <td>5.58</td>\n",
       "      <td>3.80</td>\n",
       "      <td>3.11</td>\n",
       "      <td>2.03</td>\n",
       "      <td>1.90</td>\n",
       "      <td>NaN</td>\n",
       "      <td>NaN</td>\n",
       "      <td>NaN</td>\n",
       "      <td>NaN</td>\n",
       "      <td>NaN</td>\n",
       "      <td>NaN</td>\n",
       "    </tr>\n",
       "    <tr>\n",
       "      <th>2018-01-01</th>\n",
       "      <td>100.0</td>\n",
       "      <td>5.97</td>\n",
       "      <td>3.93</td>\n",
       "      <td>2.50</td>\n",
       "      <td>2.02</td>\n",
       "      <td>NaN</td>\n",
       "      <td>NaN</td>\n",
       "      <td>NaN</td>\n",
       "      <td>NaN</td>\n",
       "      <td>NaN</td>\n",
       "      <td>NaN</td>\n",
       "      <td>NaN</td>\n",
       "    </tr>\n",
       "    <tr>\n",
       "      <th>2018-02-01</th>\n",
       "      <td>100.0</td>\n",
       "      <td>5.71</td>\n",
       "      <td>2.55</td>\n",
       "      <td>2.01</td>\n",
       "      <td>NaN</td>\n",
       "      <td>NaN</td>\n",
       "      <td>NaN</td>\n",
       "      <td>NaN</td>\n",
       "      <td>NaN</td>\n",
       "      <td>NaN</td>\n",
       "      <td>NaN</td>\n",
       "      <td>NaN</td>\n",
       "    </tr>\n",
       "    <tr>\n",
       "      <th>2018-03-01</th>\n",
       "      <td>100.0</td>\n",
       "      <td>4.18</td>\n",
       "      <td>2.71</td>\n",
       "      <td>NaN</td>\n",
       "      <td>NaN</td>\n",
       "      <td>NaN</td>\n",
       "      <td>NaN</td>\n",
       "      <td>NaN</td>\n",
       "      <td>NaN</td>\n",
       "      <td>NaN</td>\n",
       "      <td>NaN</td>\n",
       "      <td>NaN</td>\n",
       "    </tr>\n",
       "    <tr>\n",
       "      <th>2018-04-01</th>\n",
       "      <td>100.0</td>\n",
       "      <td>4.84</td>\n",
       "      <td>NaN</td>\n",
       "      <td>NaN</td>\n",
       "      <td>NaN</td>\n",
       "      <td>NaN</td>\n",
       "      <td>NaN</td>\n",
       "      <td>NaN</td>\n",
       "      <td>NaN</td>\n",
       "      <td>NaN</td>\n",
       "      <td>NaN</td>\n",
       "      <td>NaN</td>\n",
       "    </tr>\n",
       "    <tr>\n",
       "      <th>2018-05-01</th>\n",
       "      <td>100.0</td>\n",
       "      <td>NaN</td>\n",
       "      <td>NaN</td>\n",
       "      <td>NaN</td>\n",
       "      <td>NaN</td>\n",
       "      <td>NaN</td>\n",
       "      <td>NaN</td>\n",
       "      <td>NaN</td>\n",
       "      <td>NaN</td>\n",
       "      <td>NaN</td>\n",
       "      <td>NaN</td>\n",
       "      <td>NaN</td>\n",
       "    </tr>\n",
       "  </tbody>\n",
       "</table>\n",
       "</div>"
      ],
      "text/plain": [
       "lifetime              0     1     2     3     4     5     6     7     8   \\\n",
       "first_visit_month                                                          \n",
       "2017-06-01         100.0  7.87  5.38  6.14  6.86  7.14  6.10  5.78  5.23   \n",
       "2017-07-01         100.0  5.61  5.13  5.62  5.82  4.82  4.54  4.57  3.88   \n",
       "2017-08-01         100.0  7.69  6.29  6.28  5.01  4.40  3.63  3.95  2.79   \n",
       "2017-09-01         100.0  8.55  6.92  5.07  3.94  3.78  3.59  2.42  2.28   \n",
       "2017-10-01         100.0  7.86  5.22  3.90  3.43  3.22  2.14  2.04   NaN   \n",
       "2017-11-01         100.0  7.83  4.41  3.87  3.37  2.34  2.18   NaN   NaN   \n",
       "2017-12-01         100.0  5.58  3.80  3.11  2.03  1.90   NaN   NaN   NaN   \n",
       "2018-01-01         100.0  5.97  3.93  2.50  2.02   NaN   NaN   NaN   NaN   \n",
       "2018-02-01         100.0  5.71  2.55  2.01   NaN   NaN   NaN   NaN   NaN   \n",
       "2018-03-01         100.0  4.18  2.71   NaN   NaN   NaN   NaN   NaN   NaN   \n",
       "2018-04-01         100.0  4.84   NaN   NaN   NaN   NaN   NaN   NaN   NaN   \n",
       "2018-05-01         100.0   NaN   NaN   NaN   NaN   NaN   NaN   NaN   NaN   \n",
       "\n",
       "lifetime             9     10   11  \n",
       "first_visit_month                   \n",
       "2017-06-01         5.08  4.07  4.5  \n",
       "2017-07-01         2.86  2.75  NaN  \n",
       "2017-08-01         2.60   NaN  NaN  \n",
       "2017-09-01          NaN   NaN  NaN  \n",
       "2017-10-01          NaN   NaN  NaN  \n",
       "2017-11-01          NaN   NaN  NaN  \n",
       "2017-12-01          NaN   NaN  NaN  \n",
       "2018-01-01          NaN   NaN  NaN  \n",
       "2018-02-01          NaN   NaN  NaN  \n",
       "2018-03-01          NaN   NaN  NaN  \n",
       "2018-04-01          NaN   NaN  NaN  \n",
       "2018-05-01          NaN   NaN  NaN  "
      ]
     },
     "metadata": {},
     "output_type": "display_data"
    }
   ],
   "source": [
    "# Сводная таблица retention rate для каждого лайфтайма каждой когорты\n",
    "retention_rate_pivot = cohorts.pivot_table(index = 'first_visit_month', columns = 'lifetime', values = 'retention_rate')\n",
    "display(retention_rate_pivot)"
   ]
  },
  {
   "cell_type": "code",
   "execution_count": 25,
   "metadata": {},
   "outputs": [
    {
     "data": {
      "image/png": "[encoded data removed]",
      "text/plain": [
       "<Figure size 936x648 with 2 Axes>"
      ]
     },
     "metadata": {
      "needs_background": "light"
     },
     "output_type": "display_data"
    }
   ],
   "source": [
    "# Тепловая карта по сводной таблице retention rate\n",
    "plt.figure(figsize = (13, 9))\n",
    "sns.heatmap(retention_rate_pivot, annot = True, fmt = '.2f', linewidths = 1, linecolor = 'gray')\n",
    "plt.show()"
   ]
  },
  {
   "cell_type": "markdown",
   "metadata": {},
   "source": [
    "Коэффициент удержания очень низкий. Ни разу не достиг и 10 процентов. На тепловой карте преобладают темно-фиолетовый и черный цвета."
   ]
  },
  {
   "cell_type": "markdown",
   "metadata": {},
   "source": [
    "### Продажи. Время между первым визитом и первой покупкой"
   ]
  },
  {
   "cell_type": "code",
   "execution_count": 26,
   "metadata": {},
   "outputs": [
    {
     "name": "stdout",
     "output_type": "stream",
     "text": [
      "36523\n"
     ]
    }
   ],
   "source": [
    "# Создадим список id покупателей\n",
    "buyers = orders.uid.unique()\n",
    "print(len(buyers))"
   ]
  },
  {
   "cell_type": "code",
   "execution_count": 27,
   "metadata": {},
   "outputs": [
    {
     "data": {
      "text/html": [
       "<div>\n",
       "<style scoped>\n",
       "    .dataframe tbody tr th:only-of-type {\n",
       "        vertical-align: middle;\n",
       "    }\n",
       "\n",
       "    .dataframe tbody tr th {\n",
       "        vertical-align: top;\n",
       "    }\n",
       "\n",
       "    .dataframe thead th {\n",
       "        text-align: right;\n",
       "    }\n",
       "</style>\n",
       "<table border=\"1\" class=\"dataframe\">\n",
       "  <thead>\n",
       "    <tr style=\"text-align: right;\">\n",
       "      <th></th>\n",
       "      <th>device</th>\n",
       "      <th>end_ts</th>\n",
       "      <th>source_id</th>\n",
       "      <th>start_ts</th>\n",
       "      <th>uid</th>\n",
       "      <th>year</th>\n",
       "      <th>month</th>\n",
       "      <th>week</th>\n",
       "      <th>day</th>\n",
       "      <th>session_minutes</th>\n",
       "      <th>first_visit</th>\n",
       "      <th>first_visit_month</th>\n",
       "      <th>lifetime</th>\n",
       "    </tr>\n",
       "  </thead>\n",
       "  <tbody>\n",
       "    <tr>\n",
       "      <th>0</th>\n",
       "      <td>desktop</td>\n",
       "      <td>2018-05-20 11:23:00</td>\n",
       "      <td>9</td>\n",
       "      <td>2018-05-20 10:59:00</td>\n",
       "      <td>16174680259334210214</td>\n",
       "      <td>2018</td>\n",
       "      <td>2018-05-01</td>\n",
       "      <td>20</td>\n",
       "      <td>2018-05-20</td>\n",
       "      <td>24</td>\n",
       "      <td>2018-03-09 20:05:00</td>\n",
       "      <td>2018-03-01</td>\n",
       "      <td>2</td>\n",
       "    </tr>\n",
       "    <tr>\n",
       "      <th>1</th>\n",
       "      <td>desktop</td>\n",
       "      <td>2018-03-09 20:33:00</td>\n",
       "      <td>4</td>\n",
       "      <td>2018-03-09 20:05:00</td>\n",
       "      <td>16174680259334210214</td>\n",
       "      <td>2018</td>\n",
       "      <td>2018-03-01</td>\n",
       "      <td>10</td>\n",
       "      <td>2018-03-09</td>\n",
       "      <td>28</td>\n",
       "      <td>2018-03-09 20:05:00</td>\n",
       "      <td>2018-03-01</td>\n",
       "      <td>0</td>\n",
       "    </tr>\n",
       "    <tr>\n",
       "      <th>2</th>\n",
       "      <td>desktop</td>\n",
       "      <td>2017-09-03 21:36:00</td>\n",
       "      <td>5</td>\n",
       "      <td>2017-09-03 21:35:00</td>\n",
       "      <td>16007536194108375387</td>\n",
       "      <td>2017</td>\n",
       "      <td>2017-09-01</td>\n",
       "      <td>35</td>\n",
       "      <td>2017-09-03</td>\n",
       "      <td>1</td>\n",
       "      <td>2017-09-03 21:35:00</td>\n",
       "      <td>2017-09-01</td>\n",
       "      <td>0</td>\n",
       "    </tr>\n",
       "    <tr>\n",
       "      <th>3</th>\n",
       "      <td>desktop</td>\n",
       "      <td>2017-10-27 16:02:00</td>\n",
       "      <td>3</td>\n",
       "      <td>2017-10-27 15:20:00</td>\n",
       "      <td>16007536194108375387</td>\n",
       "      <td>2017</td>\n",
       "      <td>2017-10-01</td>\n",
       "      <td>43</td>\n",
       "      <td>2017-10-27</td>\n",
       "      <td>42</td>\n",
       "      <td>2017-09-03 21:35:00</td>\n",
       "      <td>2017-09-01</td>\n",
       "      <td>1</td>\n",
       "    </tr>\n",
       "    <tr>\n",
       "      <th>4</th>\n",
       "      <td>desktop</td>\n",
       "      <td>2017-09-04 17:56:00</td>\n",
       "      <td>4</td>\n",
       "      <td>2017-09-04 17:37:00</td>\n",
       "      <td>16007536194108375387</td>\n",
       "      <td>2017</td>\n",
       "      <td>2017-09-01</td>\n",
       "      <td>36</td>\n",
       "      <td>2017-09-04</td>\n",
       "      <td>19</td>\n",
       "      <td>2017-09-03 21:35:00</td>\n",
       "      <td>2017-09-01</td>\n",
       "      <td>0</td>\n",
       "    </tr>\n",
       "  </tbody>\n",
       "</table>\n",
       "</div>"
      ],
      "text/plain": [
       "    device              end_ts  source_id            start_ts  \\\n",
       "0  desktop 2018-05-20 11:23:00          9 2018-05-20 10:59:00   \n",
       "1  desktop 2018-03-09 20:33:00          4 2018-03-09 20:05:00   \n",
       "2  desktop 2017-09-03 21:36:00          5 2017-09-03 21:35:00   \n",
       "3  desktop 2017-10-27 16:02:00          3 2017-10-27 15:20:00   \n",
       "4  desktop 2017-09-04 17:56:00          4 2017-09-04 17:37:00   \n",
       "\n",
       "                    uid  year      month  week         day  session_minutes  \\\n",
       "0  16174680259334210214  2018 2018-05-01    20  2018-05-20               24   \n",
       "1  16174680259334210214  2018 2018-03-01    10  2018-03-09               28   \n",
       "2  16007536194108375387  2017 2017-09-01    35  2017-09-03                1   \n",
       "3  16007536194108375387  2017 2017-10-01    43  2017-10-27               42   \n",
       "4  16007536194108375387  2017 2017-09-01    36  2017-09-04               19   \n",
       "\n",
       "          first_visit first_visit_month  lifetime  \n",
       "0 2018-03-09 20:05:00        2018-03-01         2  \n",
       "1 2018-03-09 20:05:00        2018-03-01         0  \n",
       "2 2017-09-03 21:35:00        2017-09-01         0  \n",
       "3 2017-09-03 21:35:00        2017-09-01         1  \n",
       "4 2017-09-03 21:35:00        2017-09-01         0  "
      ]
     },
     "metadata": {},
     "output_type": "display_data"
    }
   ],
   "source": [
    "# Сделаем срез таблицы visits по списку покупателей\n",
    "# (т.е. избавимся от тех, кто так и не совершил ни одной покупки)\n",
    "visits_of_buyers = visits.query('uid in @buyers').reset_index(drop=True)\n",
    "display(visits_of_buyers.head())"
   ]
  },
  {
   "cell_type": "code",
   "execution_count": 28,
   "metadata": {},
   "outputs": [
    {
     "data": {
      "text/html": [
       "<div>\n",
       "<style scoped>\n",
       "    .dataframe tbody tr th:only-of-type {\n",
       "        vertical-align: middle;\n",
       "    }\n",
       "\n",
       "    .dataframe tbody tr th {\n",
       "        vertical-align: top;\n",
       "    }\n",
       "\n",
       "    .dataframe thead th {\n",
       "        text-align: right;\n",
       "    }\n",
       "</style>\n",
       "<table border=\"1\" class=\"dataframe\">\n",
       "  <thead>\n",
       "    <tr style=\"text-align: right;\">\n",
       "      <th></th>\n",
       "      <th>uid</th>\n",
       "      <th>first_visit</th>\n",
       "    </tr>\n",
       "  </thead>\n",
       "  <tbody>\n",
       "    <tr>\n",
       "      <th>0</th>\n",
       "      <td>313578113262317</td>\n",
       "      <td>2017-09-18 22:49:00</td>\n",
       "    </tr>\n",
       "    <tr>\n",
       "      <th>1</th>\n",
       "      <td>1575281904278712</td>\n",
       "      <td>2017-06-03 10:13:00</td>\n",
       "    </tr>\n",
       "    <tr>\n",
       "      <th>2</th>\n",
       "      <td>2429014661409475</td>\n",
       "      <td>2017-10-11 17:14:00</td>\n",
       "    </tr>\n",
       "    <tr>\n",
       "      <th>3</th>\n",
       "      <td>2464366381792757</td>\n",
       "      <td>2018-01-27 20:10:00</td>\n",
       "    </tr>\n",
       "    <tr>\n",
       "      <th>4</th>\n",
       "      <td>2551852515556206</td>\n",
       "      <td>2017-11-24 10:14:00</td>\n",
       "    </tr>\n",
       "  </tbody>\n",
       "</table>\n",
       "</div>"
      ],
      "text/plain": [
       "                uid         first_visit\n",
       "0   313578113262317 2017-09-18 22:49:00\n",
       "1  1575281904278712 2017-06-03 10:13:00\n",
       "2  2429014661409475 2017-10-11 17:14:00\n",
       "3  2464366381792757 2018-01-27 20:10:00\n",
       "4  2551852515556206 2017-11-24 10:14:00"
      ]
     },
     "metadata": {},
     "output_type": "display_data"
    }
   ],
   "source": [
    "# Найдем время первого визита каждого покупателя\n",
    "buyers_first_visits = visits_of_buyers.groupby('uid').agg({'first_visit': 'first'}).reset_index()\n",
    "display(buyers_first_visits.head())"
   ]
  },
  {
   "cell_type": "code",
   "execution_count": 29,
   "metadata": {},
   "outputs": [
    {
     "data": {
      "text/html": [
       "<div>\n",
       "<style scoped>\n",
       "    .dataframe tbody tr th:only-of-type {\n",
       "        vertical-align: middle;\n",
       "    }\n",
       "\n",
       "    .dataframe tbody tr th {\n",
       "        vertical-align: top;\n",
       "    }\n",
       "\n",
       "    .dataframe thead th {\n",
       "        text-align: right;\n",
       "    }\n",
       "</style>\n",
       "<table border=\"1\" class=\"dataframe\">\n",
       "  <thead>\n",
       "    <tr style=\"text-align: right;\">\n",
       "      <th></th>\n",
       "      <th>uid</th>\n",
       "      <th>first_purchase_time</th>\n",
       "    </tr>\n",
       "  </thead>\n",
       "  <tbody>\n",
       "    <tr>\n",
       "      <th>0</th>\n",
       "      <td>313578113262317</td>\n",
       "      <td>2018-01-03 21:51:00</td>\n",
       "    </tr>\n",
       "    <tr>\n",
       "      <th>1</th>\n",
       "      <td>1575281904278712</td>\n",
       "      <td>2017-06-03 10:13:00</td>\n",
       "    </tr>\n",
       "    <tr>\n",
       "      <th>2</th>\n",
       "      <td>2429014661409475</td>\n",
       "      <td>2017-10-11 18:33:00</td>\n",
       "    </tr>\n",
       "    <tr>\n",
       "      <th>3</th>\n",
       "      <td>2464366381792757</td>\n",
       "      <td>2018-01-28 15:54:00</td>\n",
       "    </tr>\n",
       "    <tr>\n",
       "      <th>4</th>\n",
       "      <td>2551852515556206</td>\n",
       "      <td>2017-11-24 10:14:00</td>\n",
       "    </tr>\n",
       "  </tbody>\n",
       "</table>\n",
       "</div>"
      ],
      "text/plain": [
       "                uid first_purchase_time\n",
       "0   313578113262317 2018-01-03 21:51:00\n",
       "1  1575281904278712 2017-06-03 10:13:00\n",
       "2  2429014661409475 2017-10-11 18:33:00\n",
       "3  2464366381792757 2018-01-28 15:54:00\n",
       "4  2551852515556206 2017-11-24 10:14:00"
      ]
     },
     "metadata": {},
     "output_type": "display_data"
    }
   ],
   "source": [
    "# Найдем время первой покупки каждого покупателя\n",
    "first_purchases = orders.groupby('uid').agg({'buy_ts': 'min'}).reset_index()\n",
    "first_purchases = first_purchases.rename(columns = {'uid': 'uid', 'buy_ts': 'first_purchase_time'})\n",
    "display(first_purchases.head())"
   ]
  },
  {
   "cell_type": "code",
   "execution_count": 30,
   "metadata": {},
   "outputs": [
    {
     "data": {
      "text/html": [
       "<div>\n",
       "<style scoped>\n",
       "    .dataframe tbody tr th:only-of-type {\n",
       "        vertical-align: middle;\n",
       "    }\n",
       "\n",
       "    .dataframe tbody tr th {\n",
       "        vertical-align: top;\n",
       "    }\n",
       "\n",
       "    .dataframe thead th {\n",
       "        text-align: right;\n",
       "    }\n",
       "</style>\n",
       "<table border=\"1\" class=\"dataframe\">\n",
       "  <thead>\n",
       "    <tr style=\"text-align: right;\">\n",
       "      <th></th>\n",
       "      <th>uid</th>\n",
       "      <th>first_purchase_time</th>\n",
       "      <th>first_visit</th>\n",
       "    </tr>\n",
       "  </thead>\n",
       "  <tbody>\n",
       "    <tr>\n",
       "      <th>0</th>\n",
       "      <td>313578113262317</td>\n",
       "      <td>2018-01-03 21:51:00</td>\n",
       "      <td>2017-09-18 22:49:00</td>\n",
       "    </tr>\n",
       "    <tr>\n",
       "      <th>1</th>\n",
       "      <td>1575281904278712</td>\n",
       "      <td>2017-06-03 10:13:00</td>\n",
       "      <td>2017-06-03 10:13:00</td>\n",
       "    </tr>\n",
       "    <tr>\n",
       "      <th>2</th>\n",
       "      <td>2429014661409475</td>\n",
       "      <td>2017-10-11 18:33:00</td>\n",
       "      <td>2017-10-11 17:14:00</td>\n",
       "    </tr>\n",
       "    <tr>\n",
       "      <th>3</th>\n",
       "      <td>2464366381792757</td>\n",
       "      <td>2018-01-28 15:54:00</td>\n",
       "      <td>2018-01-27 20:10:00</td>\n",
       "    </tr>\n",
       "    <tr>\n",
       "      <th>4</th>\n",
       "      <td>2551852515556206</td>\n",
       "      <td>2017-11-24 10:14:00</td>\n",
       "      <td>2017-11-24 10:14:00</td>\n",
       "    </tr>\n",
       "  </tbody>\n",
       "</table>\n",
       "</div>"
      ],
      "text/plain": [
       "                uid first_purchase_time         first_visit\n",
       "0   313578113262317 2018-01-03 21:51:00 2017-09-18 22:49:00\n",
       "1  1575281904278712 2017-06-03 10:13:00 2017-06-03 10:13:00\n",
       "2  2429014661409475 2017-10-11 18:33:00 2017-10-11 17:14:00\n",
       "3  2464366381792757 2018-01-28 15:54:00 2018-01-27 20:10:00\n",
       "4  2551852515556206 2017-11-24 10:14:00 2017-11-24 10:14:00"
      ]
     },
     "metadata": {},
     "output_type": "display_data"
    }
   ],
   "source": [
    "# Соединим таблицы времени первых покупок и первых визитов покупателей\n",
    "first_purchases = first_purchases.merge(buyers_first_visits, on = 'uid')\n",
    "display(first_purchases.head())"
   ]
  },
  {
   "cell_type": "code",
   "execution_count": 31,
   "metadata": {},
   "outputs": [
    {
     "data": {
      "text/html": [
       "<div>\n",
       "<style scoped>\n",
       "    .dataframe tbody tr th:only-of-type {\n",
       "        vertical-align: middle;\n",
       "    }\n",
       "\n",
       "    .dataframe tbody tr th {\n",
       "        vertical-align: top;\n",
       "    }\n",
       "\n",
       "    .dataframe thead th {\n",
       "        text-align: right;\n",
       "    }\n",
       "</style>\n",
       "<table border=\"1\" class=\"dataframe\">\n",
       "  <thead>\n",
       "    <tr style=\"text-align: right;\">\n",
       "      <th></th>\n",
       "      <th>uid</th>\n",
       "      <th>first_purchase_time</th>\n",
       "      <th>first_visit</th>\n",
       "      <th>minutes_to_purchase</th>\n",
       "    </tr>\n",
       "  </thead>\n",
       "  <tbody>\n",
       "    <tr>\n",
       "      <th>0</th>\n",
       "      <td>313578113262317</td>\n",
       "      <td>2018-01-03 21:51:00</td>\n",
       "      <td>2017-09-18 22:49:00</td>\n",
       "      <td>154022</td>\n",
       "    </tr>\n",
       "    <tr>\n",
       "      <th>1</th>\n",
       "      <td>1575281904278712</td>\n",
       "      <td>2017-06-03 10:13:00</td>\n",
       "      <td>2017-06-03 10:13:00</td>\n",
       "      <td>0</td>\n",
       "    </tr>\n",
       "    <tr>\n",
       "      <th>2</th>\n",
       "      <td>2429014661409475</td>\n",
       "      <td>2017-10-11 18:33:00</td>\n",
       "      <td>2017-10-11 17:14:00</td>\n",
       "      <td>79</td>\n",
       "    </tr>\n",
       "    <tr>\n",
       "      <th>3</th>\n",
       "      <td>2464366381792757</td>\n",
       "      <td>2018-01-28 15:54:00</td>\n",
       "      <td>2018-01-27 20:10:00</td>\n",
       "      <td>1184</td>\n",
       "    </tr>\n",
       "    <tr>\n",
       "      <th>4</th>\n",
       "      <td>2551852515556206</td>\n",
       "      <td>2017-11-24 10:14:00</td>\n",
       "      <td>2017-11-24 10:14:00</td>\n",
       "      <td>0</td>\n",
       "    </tr>\n",
       "  </tbody>\n",
       "</table>\n",
       "</div>"
      ],
      "text/plain": [
       "                uid first_purchase_time         first_visit  \\\n",
       "0   313578113262317 2018-01-03 21:51:00 2017-09-18 22:49:00   \n",
       "1  1575281904278712 2017-06-03 10:13:00 2017-06-03 10:13:00   \n",
       "2  2429014661409475 2017-10-11 18:33:00 2017-10-11 17:14:00   \n",
       "3  2464366381792757 2018-01-28 15:54:00 2018-01-27 20:10:00   \n",
       "4  2551852515556206 2017-11-24 10:14:00 2017-11-24 10:14:00   \n",
       "\n",
       "   minutes_to_purchase  \n",
       "0               154022  \n",
       "1                    0  \n",
       "2                   79  \n",
       "3                 1184  \n",
       "4                    0  "
      ]
     },
     "metadata": {},
     "output_type": "display_data"
    }
   ],
   "source": [
    "# Посчитаем разницу между временем первой покупки и временем первого визита в минутах\n",
    "first_purchases['minutes_to_purchase'] = ((first_purchases.first_purchase_time - first_purchases.first_visit) / np.timedelta64(1, 'm')).astype('int')\n",
    "display(first_purchases.head())"
   ]
  },
  {
   "cell_type": "code",
   "execution_count": 32,
   "metadata": {},
   "outputs": [
    {
     "data": {
      "image/png": "[encoded data removed]",
      "text/plain": [
       "<Figure size 432x288 with 1 Axes>"
      ]
     },
     "metadata": {
      "needs_background": "light"
     },
     "output_type": "display_data"
    }
   ],
   "source": [
    "# Визуализируем результат: построим гистограмму, иллюстрирующую распределение\n",
    "# значений длительности времени  с момента первого захода покупателя на сайт до первой его покупки\n",
    "ax = first_purchases.minutes_to_purchase.hist(bins = 30)\n",
    "ax.set_xlabel(\"Minutes\")\n",
    "ax.set_ylabel('Frequency')\n",
    "plt.title(\"Minutes since first visit till first purchase\")\n",
    "plt.show()"
   ]
  },
  {
   "cell_type": "code",
   "execution_count": 33,
   "metadata": {},
   "outputs": [
    {
     "name": "stdout",
     "output_type": "stream",
     "text": [
      "1\n",
      "24340.175834405716\n",
      "16.0\n"
     ]
    }
   ],
   "source": [
    "# Мода, среднее и медиана\n",
    "print(int(first_purchases.minutes_to_purchase.mode()))\n",
    "print(first_purchases.minutes_to_purchase.mean())\n",
    "print(first_purchases.minutes_to_purchase.median())"
   ]
  },
  {
   "cell_type": "code",
   "execution_count": 34,
   "metadata": {
    "scrolled": true
   },
   "outputs": [
    {
     "data": {
      "image/png": "[encoded data removed]",
      "text/plain": [
       "<Figure size 432x288 with 1 Axes>"
      ]
     },
     "metadata": {
      "needs_background": "light"
     },
     "output_type": "display_data"
    }
   ],
   "source": [
    "# Диаграмма размаха, иллюстрирующая в каком диапазоне распределилась большая часть значений\n",
    "# времени между первым визитом на сайт и покупкой\n",
    "ax = first_purchases.boxplot(column = 'minutes_to_purchase')\n",
    "ax.set_ylim(0, 10000)\n",
    "ax.set_ylabel('Minutes')\n",
    "plt.title(\"Minutes since first visit till first purchase\")\n",
    "plt.show()"
   ]
  },
  {
   "cell_type": "markdown",
   "metadata": {},
   "source": [
    "Половина всех покупателей совершают покупки в течение первых 16 минут, и самое частое значение - в течение одной минуты (это, видимо, те покупатели, которые изначально знают, что хотят купить и с этой целью идут на сайт). Три четверти покупателей, как видно на диаграмме размаха, совершают покупки в течение 3000 минут (т.е. в течение примерно двух дней). Значит, мало кто заходит на сайт проосто так посмотреть, что там продается. В основном сервис интересен не как афиша, а как билетная касса."
   ]
  },
  {
   "cell_type": "markdown",
   "metadata": {},
   "source": [
    "### Количество покупок по месяцам"
   ]
  },
  {
   "cell_type": "code",
   "execution_count": 35,
   "metadata": {},
   "outputs": [
    {
     "data": {
      "text/html": [
       "<div>\n",
       "<style scoped>\n",
       "    .dataframe tbody tr th:only-of-type {\n",
       "        vertical-align: middle;\n",
       "    }\n",
       "\n",
       "    .dataframe tbody tr th {\n",
       "        vertical-align: top;\n",
       "    }\n",
       "\n",
       "    .dataframe thead th {\n",
       "        text-align: right;\n",
       "    }\n",
       "</style>\n",
       "<table border=\"1\" class=\"dataframe\">\n",
       "  <thead>\n",
       "    <tr style=\"text-align: right;\">\n",
       "      <th></th>\n",
       "      <th></th>\n",
       "      <th>num_purchases</th>\n",
       "    </tr>\n",
       "    <tr>\n",
       "      <th>year</th>\n",
       "      <th>month</th>\n",
       "      <th></th>\n",
       "    </tr>\n",
       "  </thead>\n",
       "  <tbody>\n",
       "    <tr>\n",
       "      <th rowspan=\"7\" valign=\"top\">2017</th>\n",
       "      <th>6</th>\n",
       "      <td>2354</td>\n",
       "    </tr>\n",
       "    <tr>\n",
       "      <th>7</th>\n",
       "      <td>2363</td>\n",
       "    </tr>\n",
       "    <tr>\n",
       "      <th>8</th>\n",
       "      <td>1807</td>\n",
       "    </tr>\n",
       "    <tr>\n",
       "      <th>9</th>\n",
       "      <td>3387</td>\n",
       "    </tr>\n",
       "    <tr>\n",
       "      <th>10</th>\n",
       "      <td>5679</td>\n",
       "    </tr>\n",
       "    <tr>\n",
       "      <th>11</th>\n",
       "      <td>5659</td>\n",
       "    </tr>\n",
       "    <tr>\n",
       "      <th>12</th>\n",
       "      <td>6218</td>\n",
       "    </tr>\n",
       "    <tr>\n",
       "      <th rowspan=\"6\" valign=\"top\">2018</th>\n",
       "      <th>1</th>\n",
       "      <td>4721</td>\n",
       "    </tr>\n",
       "    <tr>\n",
       "      <th>2</th>\n",
       "      <td>5281</td>\n",
       "    </tr>\n",
       "    <tr>\n",
       "      <th>3</th>\n",
       "      <td>5326</td>\n",
       "    </tr>\n",
       "    <tr>\n",
       "      <th>4</th>\n",
       "      <td>3273</td>\n",
       "    </tr>\n",
       "    <tr>\n",
       "      <th>5</th>\n",
       "      <td>4346</td>\n",
       "    </tr>\n",
       "    <tr>\n",
       "      <th>6</th>\n",
       "      <td>1</td>\n",
       "    </tr>\n",
       "  </tbody>\n",
       "</table>\n",
       "</div>"
      ],
      "text/plain": [
       "            num_purchases\n",
       "year month               \n",
       "2017 6               2354\n",
       "     7               2363\n",
       "     8               1807\n",
       "     9               3387\n",
       "     10              5679\n",
       "     11              5659\n",
       "     12              6218\n",
       "2018 1               4721\n",
       "     2               5281\n",
       "     3               5326\n",
       "     4               3273\n",
       "     5               4346\n",
       "     6                  1"
      ]
     },
     "metadata": {},
     "output_type": "display_data"
    }
   ],
   "source": [
    "# Добавим столбцы года месяца и недели в таблицу orders\n",
    "orders['year'] = orders.buy_ts.dt.year\n",
    "orders['month'] = orders.buy_ts.dt.month\n",
    "orders['week'] = orders.buy_ts.dt.week\n",
    "# Сгруппируем по году и месяцу. Посчитаем количество покупок.\n",
    "purchases_per_month = orders.groupby(['year', 'month']).agg({'revenue': 'count'})\n",
    "purchases_per_month = purchases_per_month.rename(columns = {'year': 'year', 'month': 'month', 'revenue': 'num_purchases'})\n",
    "display(purchases_per_month)"
   ]
  },
  {
   "cell_type": "code",
   "execution_count": 36,
   "metadata": {},
   "outputs": [
    {
     "data": {
      "image/png": "[encoded data removed]",
      "text/plain": [
       "<Figure size 432x360 with 1 Axes>"
      ]
     },
     "metadata": {
      "needs_background": "light"
     },
     "output_type": "display_data"
    }
   ],
   "source": [
    "# Визуализируем результат\n",
    "purchases_per_month.num_purchases.plot(kind = 'barh', figsize = (6, 5))\n",
    "plt.title('Purchases per month')\n",
    "plt.show()"
   ]
  },
  {
   "cell_type": "code",
   "execution_count": 37,
   "metadata": {},
   "outputs": [
    {
     "name": "stdout",
     "output_type": "stream",
     "text": [
      "4346.0\n",
      "3878.076923076923\n"
     ]
    }
   ],
   "source": [
    "# Среднее и медиана\n",
    "print(purchases_per_month.num_purchases.median())\n",
    "print(purchases_per_month.num_purchases.mean())"
   ]
  },
  {
   "cell_type": "markdown",
   "metadata": {},
   "source": [
    "Покупки так же зависят от сезона, как и посещение сайта. Пик наблюдается в районе октября-декабря, летом - мертвый сезон. В то же время можно отметить рост числа покупок в мае по сравнению с апрелем - при том, что посещаемость сайта наоборот упала. То же явление, хотя и менее выраженное, можно наблюдать для пары январь-февраль (визитов столько же, но покупок в феврале больше) и для пары ноябрь-декабрь (в декабре визитов было меньше, а покупок больше, чем в ноябре). Трудно понять, случайность это или тенденция к росту конверсии посетиелей в покупателей. Для того, чтобы разобраться в этом, наверное, нужно сравнивать год к году - апрель к апрелю, май к маю итд."
   ]
  },
  {
   "cell_type": "markdown",
   "metadata": {},
   "source": [
    "### Средний чек"
   ]
  },
  {
   "cell_type": "code",
   "execution_count": 38,
   "metadata": {},
   "outputs": [
    {
     "data": {
      "image/png": "[encoded data removed]",
      "text/plain": [
       "<Figure size 360x1080 with 1 Axes>"
      ]
     },
     "metadata": {
      "needs_background": "light"
     },
     "output_type": "display_data"
    }
   ],
   "source": [
    "# Таблица для еженедельного среднего чека\n",
    "revenue_by_week = orders.groupby(['year', 'week']).agg({'revenue': 'mean'})\n",
    "# График\n",
    "revenue_by_week.revenue.plot(kind = 'barh', figsize = (5, 15))\n",
    "plt.show()"
   ]
  },
  {
   "cell_type": "code",
   "execution_count": 39,
   "metadata": {},
   "outputs": [
    {
     "name": "stdout",
     "output_type": "stream",
     "text": [
      "4.951729086547415\n"
     ]
    }
   ],
   "source": [
    "# Средний чек за весь период\n",
    "print(revenue_by_week.revenue.mean())"
   ]
  },
  {
   "cell_type": "markdown",
   "metadata": {},
   "source": [
    "Средний чек больше в осенние и зимние недели, при этом в другое время тоже случаются свои локальные пики. Например, 24-я неделя (середина июня), 29-я (июль). Вероятно, это связано с какими-нибудь популярными событиями (вроде фестивалей или гастролей итп.)."
   ]
  },
  {
   "cell_type": "markdown",
   "metadata": {},
   "source": [
    "### LTV в зависимости от рекламного источника"
   ]
  },
  {
   "cell_type": "code",
   "execution_count": 40,
   "metadata": {},
   "outputs": [
    {
     "data": {
      "text/html": [
       "<div>\n",
       "<style scoped>\n",
       "    .dataframe tbody tr th:only-of-type {\n",
       "        vertical-align: middle;\n",
       "    }\n",
       "\n",
       "    .dataframe tbody tr th {\n",
       "        vertical-align: top;\n",
       "    }\n",
       "\n",
       "    .dataframe thead th {\n",
       "        text-align: right;\n",
       "    }\n",
       "</style>\n",
       "<table border=\"1\" class=\"dataframe\">\n",
       "  <thead>\n",
       "    <tr style=\"text-align: right;\">\n",
       "      <th></th>\n",
       "      <th>source_id</th>\n",
       "    </tr>\n",
       "    <tr>\n",
       "      <th>uid</th>\n",
       "      <th></th>\n",
       "    </tr>\n",
       "  </thead>\n",
       "  <tbody>\n",
       "    <tr>\n",
       "      <th>313578113262317</th>\n",
       "      <td>2</td>\n",
       "    </tr>\n",
       "    <tr>\n",
       "      <th>1575281904278712</th>\n",
       "      <td>10</td>\n",
       "    </tr>\n",
       "    <tr>\n",
       "      <th>2429014661409475</th>\n",
       "      <td>3</td>\n",
       "    </tr>\n",
       "    <tr>\n",
       "      <th>2464366381792757</th>\n",
       "      <td>5</td>\n",
       "    </tr>\n",
       "    <tr>\n",
       "      <th>2551852515556206</th>\n",
       "      <td>5</td>\n",
       "    </tr>\n",
       "  </tbody>\n",
       "</table>\n",
       "</div>"
      ],
      "text/plain": [
       "                  source_id\n",
       "uid                        \n",
       "313578113262317           2\n",
       "1575281904278712         10\n",
       "2429014661409475          3\n",
       "2464366381792757          5\n",
       "2551852515556206          5"
      ]
     },
     "metadata": {},
     "output_type": "display_data"
    }
   ],
   "source": [
    "# Получим таблицу рекламных источников для каждого покупателя\n",
    "users_sources = visits_of_buyers.groupby('uid').agg({'source_id': 'first'})\n",
    "display(users_sources.head())"
   ]
  },
  {
   "cell_type": "code",
   "execution_count": 41,
   "metadata": {},
   "outputs": [
    {
     "data": {
      "text/html": [
       "<div>\n",
       "<style scoped>\n",
       "    .dataframe tbody tr th:only-of-type {\n",
       "        vertical-align: middle;\n",
       "    }\n",
       "\n",
       "    .dataframe tbody tr th {\n",
       "        vertical-align: top;\n",
       "    }\n",
       "\n",
       "    .dataframe thead th {\n",
       "        text-align: right;\n",
       "    }\n",
       "</style>\n",
       "<table border=\"1\" class=\"dataframe\">\n",
       "  <thead>\n",
       "    <tr style=\"text-align: right;\">\n",
       "      <th></th>\n",
       "      <th>revenue</th>\n",
       "    </tr>\n",
       "    <tr>\n",
       "      <th>uid</th>\n",
       "      <th></th>\n",
       "    </tr>\n",
       "  </thead>\n",
       "  <tbody>\n",
       "    <tr>\n",
       "      <th>313578113262317</th>\n",
       "      <td>0.55</td>\n",
       "    </tr>\n",
       "    <tr>\n",
       "      <th>1575281904278712</th>\n",
       "      <td>3.05</td>\n",
       "    </tr>\n",
       "    <tr>\n",
       "      <th>2429014661409475</th>\n",
       "      <td>73.33</td>\n",
       "    </tr>\n",
       "    <tr>\n",
       "      <th>2464366381792757</th>\n",
       "      <td>2.44</td>\n",
       "    </tr>\n",
       "    <tr>\n",
       "      <th>2551852515556206</th>\n",
       "      <td>10.99</td>\n",
       "    </tr>\n",
       "  </tbody>\n",
       "</table>\n",
       "</div>"
      ],
      "text/plain": [
       "                  revenue\n",
       "uid                      \n",
       "313578113262317      0.55\n",
       "1575281904278712     3.05\n",
       "2429014661409475    73.33\n",
       "2464366381792757     2.44\n",
       "2551852515556206    10.99"
      ]
     },
     "metadata": {},
     "output_type": "display_data"
    },
    {
     "name": "stdout",
     "output_type": "stream",
     "text": [
      "6.901327930345157\n"
     ]
    }
   ],
   "source": [
    "# Получим таблицу суммарных доходов с каждого покупателя за весь период\n",
    "revenue_per_buyer = orders.groupby('uid').agg({'revenue': 'sum'})\n",
    "display(revenue_per_buyer.head())\n",
    "# LTV без разбивки по источникам\n",
    "print(revenue_per_buyer.revenue.mean())"
   ]
  },
  {
   "cell_type": "code",
   "execution_count": 42,
   "metadata": {},
   "outputs": [
    {
     "data": {
      "image/png": "[encoded data removed]",
      "text/plain": [
       "<Figure size 432x288 with 1 Axes>"
      ]
     },
     "metadata": {
      "needs_background": "light"
     },
     "output_type": "display_data"
    }
   ],
   "source": [
    "# Объединим таблицы источников и доходов\n",
    "revenue_per_buyer = revenue_per_buyer.merge(users_sources, on='uid')\n",
    "# Вычислим средний доход с покупателя для каждого рекламного источника (LTV в зависимости от источника)\n",
    "revenue_per_buyer_by_source = revenue_per_buyer.groupby('source_id').agg({'revenue': 'mean'})\n",
    "# График\n",
    "revenue_per_buyer_by_source.revenue.plot(kind = 'bar')\n",
    "plt.title('LTV by source')\n",
    "plt.show()"
   ]
  },
  {
   "cell_type": "code",
   "execution_count": 43,
   "metadata": {},
   "outputs": [
    {
     "name": "stdout",
     "output_type": "stream",
     "text": [
      "[ 4  2  5  9  3  1 10  7  6]\n"
     ]
    }
   ],
   "source": [
    "# Сверим результат с полным списком источников\n",
    "print(visits.source_id.unique())"
   ]
  },
  {
   "cell_type": "markdown",
   "metadata": {},
   "source": [
    "Средний доход от пользователя разный для разных рекламных источников. Так, максимальный доход от пользователя обеспечивает рекламный источник №2 - 15 рублей. Источник № 7 приносит минимальный доход с пользователя - 1 рубль. А источник № 6, который есть в таблице visits, не привлек ни одного покупателя и не попал в статистику по источникам покупателей. Средний доход от покупателя без привязки к источнику - 7 рублей."
   ]
  },
  {
   "cell_type": "markdown",
   "metadata": {},
   "source": [
    "## Маркетинг"
   ]
  },
  {
   "cell_type": "code",
   "execution_count": 44,
   "metadata": {},
   "outputs": [
    {
     "name": "stdout",
     "output_type": "stream",
     "text": [
      "329131.62\n"
     ]
    }
   ],
   "source": [
    "# Сколько денег всего потратили на рекламу?\n",
    "total_costs = costs.costs.sum()\n",
    "print(total_costs)"
   ]
  },
  {
   "cell_type": "code",
   "execution_count": 45,
   "metadata": {},
   "outputs": [
    {
     "data": {
      "text/html": [
       "<div>\n",
       "<style scoped>\n",
       "    .dataframe tbody tr th:only-of-type {\n",
       "        vertical-align: middle;\n",
       "    }\n",
       "\n",
       "    .dataframe tbody tr th {\n",
       "        vertical-align: top;\n",
       "    }\n",
       "\n",
       "    .dataframe thead th {\n",
       "        text-align: right;\n",
       "    }\n",
       "</style>\n",
       "<table border=\"1\" class=\"dataframe\">\n",
       "  <thead>\n",
       "    <tr style=\"text-align: right;\">\n",
       "      <th></th>\n",
       "      <th>source_id</th>\n",
       "      <th>costs</th>\n",
       "    </tr>\n",
       "  </thead>\n",
       "  <tbody>\n",
       "    <tr>\n",
       "      <th>0</th>\n",
       "      <td>1</td>\n",
       "      <td>20833.27</td>\n",
       "    </tr>\n",
       "    <tr>\n",
       "      <th>1</th>\n",
       "      <td>2</td>\n",
       "      <td>42806.04</td>\n",
       "    </tr>\n",
       "    <tr>\n",
       "      <th>2</th>\n",
       "      <td>3</td>\n",
       "      <td>141321.63</td>\n",
       "    </tr>\n",
       "    <tr>\n",
       "      <th>3</th>\n",
       "      <td>4</td>\n",
       "      <td>61073.60</td>\n",
       "    </tr>\n",
       "    <tr>\n",
       "      <th>4</th>\n",
       "      <td>5</td>\n",
       "      <td>51757.10</td>\n",
       "    </tr>\n",
       "    <tr>\n",
       "      <th>5</th>\n",
       "      <td>9</td>\n",
       "      <td>5517.49</td>\n",
       "    </tr>\n",
       "    <tr>\n",
       "      <th>6</th>\n",
       "      <td>10</td>\n",
       "      <td>5822.49</td>\n",
       "    </tr>\n",
       "  </tbody>\n",
       "</table>\n",
       "</div>"
      ],
      "text/plain": [
       "   source_id      costs\n",
       "0          1   20833.27\n",
       "1          2   42806.04\n",
       "2          3  141321.63\n",
       "3          4   61073.60\n",
       "4          5   51757.10\n",
       "5          9    5517.49\n",
       "6         10    5822.49"
      ]
     },
     "metadata": {},
     "output_type": "display_data"
    }
   ],
   "source": [
    "# Сколько денег потратили на рекламу в разных источниках?\n",
    "costs_by_source = costs.groupby('source_id').agg({'costs': 'sum'}).reset_index()\n",
    "display(costs_by_source)"
   ]
  },
  {
   "cell_type": "markdown",
   "metadata": {},
   "source": [
    "### Траты на рекламу по месяцам и неделям "
   ]
  },
  {
   "cell_type": "code",
   "execution_count": 46,
   "metadata": {},
   "outputs": [
    {
     "data": {
      "text/html": [
       "<div>\n",
       "<style scoped>\n",
       "    .dataframe tbody tr th:only-of-type {\n",
       "        vertical-align: middle;\n",
       "    }\n",
       "\n",
       "    .dataframe tbody tr th {\n",
       "        vertical-align: top;\n",
       "    }\n",
       "\n",
       "    .dataframe thead th {\n",
       "        text-align: right;\n",
       "    }\n",
       "</style>\n",
       "<table border=\"1\" class=\"dataframe\">\n",
       "  <thead>\n",
       "    <tr style=\"text-align: right;\">\n",
       "      <th></th>\n",
       "      <th>source_id</th>\n",
       "      <th>dt</th>\n",
       "      <th>costs</th>\n",
       "      <th>year</th>\n",
       "      <th>month</th>\n",
       "      <th>week</th>\n",
       "    </tr>\n",
       "  </thead>\n",
       "  <tbody>\n",
       "    <tr>\n",
       "      <th>0</th>\n",
       "      <td>1</td>\n",
       "      <td>2017-06-01</td>\n",
       "      <td>75.20</td>\n",
       "      <td>2017</td>\n",
       "      <td>6</td>\n",
       "      <td>22</td>\n",
       "    </tr>\n",
       "    <tr>\n",
       "      <th>1</th>\n",
       "      <td>1</td>\n",
       "      <td>2017-06-02</td>\n",
       "      <td>62.25</td>\n",
       "      <td>2017</td>\n",
       "      <td>6</td>\n",
       "      <td>22</td>\n",
       "    </tr>\n",
       "    <tr>\n",
       "      <th>2</th>\n",
       "      <td>1</td>\n",
       "      <td>2017-06-03</td>\n",
       "      <td>36.53</td>\n",
       "      <td>2017</td>\n",
       "      <td>6</td>\n",
       "      <td>22</td>\n",
       "    </tr>\n",
       "    <tr>\n",
       "      <th>3</th>\n",
       "      <td>1</td>\n",
       "      <td>2017-06-04</td>\n",
       "      <td>55.00</td>\n",
       "      <td>2017</td>\n",
       "      <td>6</td>\n",
       "      <td>22</td>\n",
       "    </tr>\n",
       "    <tr>\n",
       "      <th>4</th>\n",
       "      <td>1</td>\n",
       "      <td>2017-06-05</td>\n",
       "      <td>57.08</td>\n",
       "      <td>2017</td>\n",
       "      <td>6</td>\n",
       "      <td>23</td>\n",
       "    </tr>\n",
       "  </tbody>\n",
       "</table>\n",
       "</div>"
      ],
      "text/plain": [
       "   source_id         dt  costs  year  month  week\n",
       "0          1 2017-06-01  75.20  2017      6    22\n",
       "1          1 2017-06-02  62.25  2017      6    22\n",
       "2          1 2017-06-03  36.53  2017      6    22\n",
       "3          1 2017-06-04  55.00  2017      6    22\n",
       "4          1 2017-06-05  57.08  2017      6    23"
      ]
     },
     "metadata": {},
     "output_type": "display_data"
    }
   ],
   "source": [
    "# Добавим столбцы года, месяца и недели в таблицу costs\n",
    "costs['year'] = costs['dt'].dt.year\n",
    "costs['month'] = costs['dt'].dt.month\n",
    "costs['week'] = costs['dt'].dt.week\n",
    "display(costs.head())"
   ]
  },
  {
   "cell_type": "code",
   "execution_count": 47,
   "metadata": {},
   "outputs": [
    {
     "data": {
      "text/html": [
       "<div>\n",
       "<style scoped>\n",
       "    .dataframe tbody tr th:only-of-type {\n",
       "        vertical-align: middle;\n",
       "    }\n",
       "\n",
       "    .dataframe tbody tr th {\n",
       "        vertical-align: top;\n",
       "    }\n",
       "\n",
       "    .dataframe thead th {\n",
       "        text-align: right;\n",
       "    }\n",
       "</style>\n",
       "<table border=\"1\" class=\"dataframe\">\n",
       "  <thead>\n",
       "    <tr style=\"text-align: right;\">\n",
       "      <th></th>\n",
       "      <th>source_id</th>\n",
       "      <th>1</th>\n",
       "      <th>2</th>\n",
       "      <th>3</th>\n",
       "      <th>4</th>\n",
       "      <th>5</th>\n",
       "      <th>9</th>\n",
       "      <th>10</th>\n",
       "    </tr>\n",
       "    <tr>\n",
       "      <th>year</th>\n",
       "      <th>month</th>\n",
       "      <th></th>\n",
       "      <th></th>\n",
       "      <th></th>\n",
       "      <th></th>\n",
       "      <th></th>\n",
       "      <th></th>\n",
       "      <th></th>\n",
       "    </tr>\n",
       "  </thead>\n",
       "  <tbody>\n",
       "    <tr>\n",
       "      <th rowspan=\"7\" valign=\"top\">2017</th>\n",
       "      <th>6</th>\n",
       "      <td>37.520333</td>\n",
       "      <td>80.912667</td>\n",
       "      <td>257.721667</td>\n",
       "      <td>117.160000</td>\n",
       "      <td>87.204000</td>\n",
       "      <td>9.507333</td>\n",
       "      <td>10.474000</td>\n",
       "    </tr>\n",
       "    <tr>\n",
       "      <th>7</th>\n",
       "      <td>34.609032</td>\n",
       "      <td>75.261613</td>\n",
       "      <td>247.560323</td>\n",
       "      <td>113.862258</td>\n",
       "      <td>96.714194</td>\n",
       "      <td>9.759355</td>\n",
       "      <td>10.639355</td>\n",
       "    </tr>\n",
       "    <tr>\n",
       "      <th>8</th>\n",
       "      <td>30.703548</td>\n",
       "      <td>58.420968</td>\n",
       "      <td>198.178710</td>\n",
       "      <td>103.785806</td>\n",
       "      <td>70.492903</td>\n",
       "      <td>8.030000</td>\n",
       "      <td>7.502258</td>\n",
       "    </tr>\n",
       "    <tr>\n",
       "      <th>9</th>\n",
       "      <td>50.067000</td>\n",
       "      <td>99.522000</td>\n",
       "      <td>332.118333</td>\n",
       "      <td>173.075333</td>\n",
       "      <td>128.304667</td>\n",
       "      <td>13.854000</td>\n",
       "      <td>15.355667</td>\n",
       "    </tr>\n",
       "    <tr>\n",
       "      <th>10</th>\n",
       "      <td>74.701613</td>\n",
       "      <td>156.290323</td>\n",
       "      <td>507.652903</td>\n",
       "      <td>207.123871</td>\n",
       "      <td>186.045161</td>\n",
       "      <td>19.658387</td>\n",
       "      <td>20.233548</td>\n",
       "    </tr>\n",
       "    <tr>\n",
       "      <th>11</th>\n",
       "      <td>81.505333</td>\n",
       "      <td>174.922667</td>\n",
       "      <td>567.511333</td>\n",
       "      <td>179.627333</td>\n",
       "      <td>210.844667</td>\n",
       "      <td>22.772667</td>\n",
       "      <td>26.412000</td>\n",
       "    </tr>\n",
       "    <tr>\n",
       "      <th>12</th>\n",
       "      <td>75.522581</td>\n",
       "      <td>157.993548</td>\n",
       "      <td>523.210323</td>\n",
       "      <td>247.757097</td>\n",
       "      <td>189.436129</td>\n",
       "      <td>21.225161</td>\n",
       "      <td>20.834194</td>\n",
       "    </tr>\n",
       "    <tr>\n",
       "      <th rowspan=\"5\" valign=\"top\">2018</th>\n",
       "      <th>1</th>\n",
       "      <td>70.521935</td>\n",
       "      <td>134.120645</td>\n",
       "      <td>477.702581</td>\n",
       "      <td>188.154516</td>\n",
       "      <td>173.274839</td>\n",
       "      <td>17.650323</td>\n",
       "      <td>19.817742</td>\n",
       "    </tr>\n",
       "    <tr>\n",
       "      <th>2</th>\n",
       "      <td>78.731429</td>\n",
       "      <td>159.797857</td>\n",
       "      <td>508.162857</td>\n",
       "      <td>203.998571</td>\n",
       "      <td>181.118214</td>\n",
       "      <td>19.696429</td>\n",
       "      <td>17.174286</td>\n",
       "    </tr>\n",
       "    <tr>\n",
       "      <th>3</th>\n",
       "      <td>63.103000</td>\n",
       "      <td>131.438000</td>\n",
       "      <td>436.028333</td>\n",
       "      <td>198.729000</td>\n",
       "      <td>146.116774</td>\n",
       "      <td>16.009667</td>\n",
       "      <td>17.547000</td>\n",
       "    </tr>\n",
       "    <tr>\n",
       "      <th>4</th>\n",
       "      <td>45.775517</td>\n",
       "      <td>103.231034</td>\n",
       "      <td>320.579655</td>\n",
       "      <td>152.016897</td>\n",
       "      <td>120.729310</td>\n",
       "      <td>12.878966</td>\n",
       "      <td>13.387931</td>\n",
       "    </tr>\n",
       "    <tr>\n",
       "      <th>5</th>\n",
       "      <td>47.342258</td>\n",
       "      <td>86.756129</td>\n",
       "      <td>303.594194</td>\n",
       "      <td>135.942258</td>\n",
       "      <td>118.372903</td>\n",
       "      <td>11.682903</td>\n",
       "      <td>13.221290</td>\n",
       "    </tr>\n",
       "  </tbody>\n",
       "</table>\n",
       "</div>"
      ],
      "text/plain": [
       "source_id          1           2           3           4           5   \\\n",
       "year month                                                              \n",
       "2017 6      37.520333   80.912667  257.721667  117.160000   87.204000   \n",
       "     7      34.609032   75.261613  247.560323  113.862258   96.714194   \n",
       "     8      30.703548   58.420968  198.178710  103.785806   70.492903   \n",
       "     9      50.067000   99.522000  332.118333  173.075333  128.304667   \n",
       "     10     74.701613  156.290323  507.652903  207.123871  186.045161   \n",
       "     11     81.505333  174.922667  567.511333  179.627333  210.844667   \n",
       "     12     75.522581  157.993548  523.210323  247.757097  189.436129   \n",
       "2018 1      70.521935  134.120645  477.702581  188.154516  173.274839   \n",
       "     2      78.731429  159.797857  508.162857  203.998571  181.118214   \n",
       "     3      63.103000  131.438000  436.028333  198.729000  146.116774   \n",
       "     4      45.775517  103.231034  320.579655  152.016897  120.729310   \n",
       "     5      47.342258   86.756129  303.594194  135.942258  118.372903   \n",
       "\n",
       "source_id          9          10  \n",
       "year month                        \n",
       "2017 6       9.507333  10.474000  \n",
       "     7       9.759355  10.639355  \n",
       "     8       8.030000   7.502258  \n",
       "     9      13.854000  15.355667  \n",
       "     10     19.658387  20.233548  \n",
       "     11     22.772667  26.412000  \n",
       "     12     21.225161  20.834194  \n",
       "2018 1      17.650323  19.817742  \n",
       "     2      19.696429  17.174286  \n",
       "     3      16.009667  17.547000  \n",
       "     4      12.878966  13.387931  \n",
       "     5      11.682903  13.221290  "
      ]
     },
     "metadata": {},
     "output_type": "display_data"
    }
   ],
   "source": [
    "# Создадим сводную таблицу, где наблюдения - месяцы, столбцы - источники, значения - средние расходы\n",
    "monthly_costs_per_source = costs.pivot_table(index = ['year', 'month'], columns = 'source_id', values = 'costs', aggfunc = 'mean')\n",
    "display(monthly_costs_per_source)"
   ]
  },
  {
   "cell_type": "code",
   "execution_count": 48,
   "metadata": {},
   "outputs": [
    {
     "data": {
      "image/png": "[encoded data removed]",
      "text/plain": [
       "<Figure size 864x576 with 1 Axes>"
      ]
     },
     "metadata": {
      "needs_background": "light"
     },
     "output_type": "display_data"
    }
   ],
   "source": [
    "# График расходов на разные рекламные источники по месяцам\n",
    "ax = monthly_costs_per_source.plot(kind = 'bar', figsize = (12,8))\n",
    "ax.set_ylabel(\"Roubles\")\n",
    "plt.title('Monthly costs per source')\n",
    "plt.show()"
   ]
  },
  {
   "cell_type": "markdown",
   "metadata": {},
   "source": [
    "На графике хорошо видно, что особенно выделяются расходы на источник 3. Это не просто самый дорогой источник, но его стоимость в разы превышает траты на любой другой."
   ]
  },
  {
   "cell_type": "code",
   "execution_count": 49,
   "metadata": {},
   "outputs": [],
   "source": [
    "# Посчитаем затраты на рекламу по месяцам и неделям\n",
    "costs_by_month = costs.groupby(['year', 'month']).agg({'costs': 'sum'})\n",
    "costs_by_week = costs.groupby(['year', 'week']).agg({'costs': 'sum'})"
   ]
  },
  {
   "cell_type": "code",
   "execution_count": 50,
   "metadata": {},
   "outputs": [
    {
     "data": {
      "image/png": "[encoded data removed]",
      "text/plain": [
       "<Figure size 432x288 with 1 Axes>"
      ]
     },
     "metadata": {
      "needs_background": "light"
     },
     "output_type": "display_data"
    }
   ],
   "source": [
    "# График для месяцев\n",
    "costs_by_month.costs.plot(kind = 'barh')\n",
    "plt.title('Costs per month, roubles')\n",
    "plt.show()"
   ]
  },
  {
   "cell_type": "code",
   "execution_count": 51,
   "metadata": {},
   "outputs": [
    {
     "data": {
      "image/png": "[encoded data removed]",
      "text/plain": [
       "<Figure size 504x1080 with 1 Axes>"
      ]
     },
     "metadata": {
      "needs_background": "light"
     },
     "output_type": "display_data"
    }
   ],
   "source": [
    "# График для недель\n",
    "costs_by_week.costs.plot(kind = 'barh', figsize =(7, 15))\n",
    "plt.title('Costs per week, roubles')\n",
    "plt.show()"
   ]
  },
  {
   "cell_type": "markdown",
   "metadata": {},
   "source": [
    "### CAC по источникам"
   ]
  },
  {
   "cell_type": "code",
   "execution_count": 52,
   "metadata": {},
   "outputs": [
    {
     "data": {
      "text/html": [
       "<div>\n",
       "<style scoped>\n",
       "    .dataframe tbody tr th:only-of-type {\n",
       "        vertical-align: middle;\n",
       "    }\n",
       "\n",
       "    .dataframe tbody tr th {\n",
       "        vertical-align: top;\n",
       "    }\n",
       "\n",
       "    .dataframe thead th {\n",
       "        text-align: right;\n",
       "    }\n",
       "</style>\n",
       "<table border=\"1\" class=\"dataframe\">\n",
       "  <thead>\n",
       "    <tr style=\"text-align: right;\">\n",
       "      <th></th>\n",
       "      <th>num_users</th>\n",
       "    </tr>\n",
       "    <tr>\n",
       "      <th>source_id</th>\n",
       "      <th></th>\n",
       "    </tr>\n",
       "  </thead>\n",
       "  <tbody>\n",
       "    <tr>\n",
       "      <th>1</th>\n",
       "      <td>7138</td>\n",
       "    </tr>\n",
       "    <tr>\n",
       "      <th>2</th>\n",
       "      <td>7305</td>\n",
       "    </tr>\n",
       "    <tr>\n",
       "      <th>3</th>\n",
       "      <td>13846</td>\n",
       "    </tr>\n",
       "    <tr>\n",
       "      <th>4</th>\n",
       "      <td>14253</td>\n",
       "    </tr>\n",
       "    <tr>\n",
       "      <th>5</th>\n",
       "      <td>10156</td>\n",
       "    </tr>\n",
       "    <tr>\n",
       "      <th>7</th>\n",
       "      <td>1</td>\n",
       "    </tr>\n",
       "    <tr>\n",
       "      <th>9</th>\n",
       "      <td>2793</td>\n",
       "    </tr>\n",
       "    <tr>\n",
       "      <th>10</th>\n",
       "      <td>1773</td>\n",
       "    </tr>\n",
       "  </tbody>\n",
       "</table>\n",
       "</div>"
      ],
      "text/plain": [
       "           num_users\n",
       "source_id           \n",
       "1               7138\n",
       "2               7305\n",
       "3              13846\n",
       "4              14253\n",
       "5              10156\n",
       "7                  1\n",
       "9               2793\n",
       "10              1773"
      ]
     },
     "metadata": {},
     "output_type": "display_data"
    }
   ],
   "source": [
    "# Посчитаем количество привлеченных каждым источником покупателей\n",
    "buyers_by_source = visits_of_buyers.groupby('source_id').agg({'uid': 'nunique'})\n",
    "buyers_by_source = buyers_by_source.rename(columns = {'source_id': 'source_id', 'uid': 'num_users'})\n",
    "display(buyers_by_source)"
   ]
  },
  {
   "cell_type": "code",
   "execution_count": 53,
   "metadata": {},
   "outputs": [
    {
     "data": {
      "text/html": [
       "<div>\n",
       "<style scoped>\n",
       "    .dataframe tbody tr th:only-of-type {\n",
       "        vertical-align: middle;\n",
       "    }\n",
       "\n",
       "    .dataframe tbody tr th {\n",
       "        vertical-align: top;\n",
       "    }\n",
       "\n",
       "    .dataframe thead th {\n",
       "        text-align: right;\n",
       "    }\n",
       "</style>\n",
       "<table border=\"1\" class=\"dataframe\">\n",
       "  <thead>\n",
       "    <tr style=\"text-align: right;\">\n",
       "      <th></th>\n",
       "      <th>source_id</th>\n",
       "      <th>costs</th>\n",
       "    </tr>\n",
       "  </thead>\n",
       "  <tbody>\n",
       "    <tr>\n",
       "      <th>0</th>\n",
       "      <td>1</td>\n",
       "      <td>20833.27</td>\n",
       "    </tr>\n",
       "    <tr>\n",
       "      <th>1</th>\n",
       "      <td>2</td>\n",
       "      <td>42806.04</td>\n",
       "    </tr>\n",
       "    <tr>\n",
       "      <th>2</th>\n",
       "      <td>3</td>\n",
       "      <td>141321.63</td>\n",
       "    </tr>\n",
       "    <tr>\n",
       "      <th>3</th>\n",
       "      <td>4</td>\n",
       "      <td>61073.60</td>\n",
       "    </tr>\n",
       "    <tr>\n",
       "      <th>4</th>\n",
       "      <td>5</td>\n",
       "      <td>51757.10</td>\n",
       "    </tr>\n",
       "    <tr>\n",
       "      <th>5</th>\n",
       "      <td>9</td>\n",
       "      <td>5517.49</td>\n",
       "    </tr>\n",
       "    <tr>\n",
       "      <th>6</th>\n",
       "      <td>10</td>\n",
       "      <td>5822.49</td>\n",
       "    </tr>\n",
       "  </tbody>\n",
       "</table>\n",
       "</div>"
      ],
      "text/plain": [
       "   source_id      costs\n",
       "0          1   20833.27\n",
       "1          2   42806.04\n",
       "2          3  141321.63\n",
       "3          4   61073.60\n",
       "4          5   51757.10\n",
       "5          9    5517.49\n",
       "6         10    5822.49"
      ]
     },
     "metadata": {},
     "output_type": "display_data"
    }
   ],
   "source": [
    "display(costs_by_source)"
   ]
  },
  {
   "cell_type": "code",
   "execution_count": 54,
   "metadata": {},
   "outputs": [
    {
     "data": {
      "text/html": [
       "<div>\n",
       "<style scoped>\n",
       "    .dataframe tbody tr th:only-of-type {\n",
       "        vertical-align: middle;\n",
       "    }\n",
       "\n",
       "    .dataframe tbody tr th {\n",
       "        vertical-align: top;\n",
       "    }\n",
       "\n",
       "    .dataframe thead th {\n",
       "        text-align: right;\n",
       "    }\n",
       "</style>\n",
       "<table border=\"1\" class=\"dataframe\">\n",
       "  <thead>\n",
       "    <tr style=\"text-align: right;\">\n",
       "      <th></th>\n",
       "      <th>source_id</th>\n",
       "      <th>num_users</th>\n",
       "      <th>costs</th>\n",
       "      <th>costs_per_buyer</th>\n",
       "    </tr>\n",
       "  </thead>\n",
       "  <tbody>\n",
       "    <tr>\n",
       "      <th>0</th>\n",
       "      <td>1</td>\n",
       "      <td>7138</td>\n",
       "      <td>20833.27</td>\n",
       "      <td>2.918642</td>\n",
       "    </tr>\n",
       "    <tr>\n",
       "      <th>1</th>\n",
       "      <td>2</td>\n",
       "      <td>7305</td>\n",
       "      <td>42806.04</td>\n",
       "      <td>5.859828</td>\n",
       "    </tr>\n",
       "    <tr>\n",
       "      <th>2</th>\n",
       "      <td>3</td>\n",
       "      <td>13846</td>\n",
       "      <td>141321.63</td>\n",
       "      <td>10.206676</td>\n",
       "    </tr>\n",
       "    <tr>\n",
       "      <th>3</th>\n",
       "      <td>4</td>\n",
       "      <td>14253</td>\n",
       "      <td>61073.60</td>\n",
       "      <td>4.284965</td>\n",
       "    </tr>\n",
       "    <tr>\n",
       "      <th>4</th>\n",
       "      <td>5</td>\n",
       "      <td>10156</td>\n",
       "      <td>51757.10</td>\n",
       "      <td>5.096209</td>\n",
       "    </tr>\n",
       "    <tr>\n",
       "      <th>5</th>\n",
       "      <td>9</td>\n",
       "      <td>2793</td>\n",
       "      <td>5517.49</td>\n",
       "      <td>1.975471</td>\n",
       "    </tr>\n",
       "    <tr>\n",
       "      <th>6</th>\n",
       "      <td>10</td>\n",
       "      <td>1773</td>\n",
       "      <td>5822.49</td>\n",
       "      <td>3.283976</td>\n",
       "    </tr>\n",
       "  </tbody>\n",
       "</table>\n",
       "</div>"
      ],
      "text/plain": [
       "   source_id  num_users      costs  costs_per_buyer\n",
       "0          1       7138   20833.27         2.918642\n",
       "1          2       7305   42806.04         5.859828\n",
       "2          3      13846  141321.63        10.206676\n",
       "3          4      14253   61073.60         4.284965\n",
       "4          5      10156   51757.10         5.096209\n",
       "5          9       2793    5517.49         1.975471\n",
       "6         10       1773    5822.49         3.283976"
      ]
     },
     "metadata": {},
     "output_type": "display_data"
    }
   ],
   "source": [
    "# Объединим таблицы источников покупателей и трат на каждый источник\n",
    "costs_and_buyers = buyers_by_source.merge(costs_by_source, on = 'source_id')\n",
    "# Посчитаем, сколько денег тратится на привлечение одного покупателя каждым источником\n",
    "costs_and_buyers['costs_per_buyer'] = costs_and_buyers.costs / costs_and_buyers.num_users\n",
    "display(costs_and_buyers)"
   ]
  },
  {
   "cell_type": "code",
   "execution_count": 55,
   "metadata": {},
   "outputs": [
    {
     "data": {
      "image/png": "[encoded data removed]",
      "text/plain": [
       "<Figure size 432x288 with 1 Axes>"
      ]
     },
     "metadata": {
      "needs_background": "light"
     },
     "output_type": "display_data"
    }
   ],
   "source": [
    "# График\n",
    "ax = costs_and_buyers.costs_per_buyer.plot(kind = 'bar')\n",
    "ax.set_xticklabels([tick for tick in costs_and_buyers.source_id])\n",
    "plt.title('CAC by source')\n",
    "plt.show()"
   ]
  },
  {
   "cell_type": "code",
   "execution_count": 56,
   "metadata": {},
   "outputs": [
    {
     "name": "stdout",
     "output_type": "stream",
     "text": [
      "4.803680914859963\n"
     ]
    }
   ],
   "source": [
    "# Средний CAC за весь период\n",
    "cac = costs_and_buyers.costs_per_buyer.mean()\n",
    "print(cac)"
   ]
  },
  {
   "cell_type": "markdown",
   "metadata": {},
   "source": [
    "В среднем расходы на рекламную кампанию ниже, чем доходы. Но есть одно исключение: затраты на источник № 3 больше, чем доходы от него."
   ]
  },
  {
   "cell_type": "markdown",
   "metadata": {},
   "source": [
    "### Стоимость привлечения одного покупателя для каждого рекламного источника по месяцам"
   ]
  },
  {
   "cell_type": "code",
   "execution_count": 57,
   "metadata": {},
   "outputs": [
    {
     "data": {
      "text/html": [
       "<div>\n",
       "<style scoped>\n",
       "    .dataframe tbody tr th:only-of-type {\n",
       "        vertical-align: middle;\n",
       "    }\n",
       "\n",
       "    .dataframe tbody tr th {\n",
       "        vertical-align: top;\n",
       "    }\n",
       "\n",
       "    .dataframe thead th {\n",
       "        text-align: right;\n",
       "    }\n",
       "</style>\n",
       "<table border=\"1\" class=\"dataframe\">\n",
       "  <thead>\n",
       "    <tr style=\"text-align: right;\">\n",
       "      <th></th>\n",
       "      <th>source_id</th>\n",
       "      <th>month</th>\n",
       "      <th>num_users</th>\n",
       "    </tr>\n",
       "  </thead>\n",
       "  <tbody>\n",
       "    <tr>\n",
       "      <th>0</th>\n",
       "      <td>1</td>\n",
       "      <td>2017-06-01</td>\n",
       "      <td>406</td>\n",
       "    </tr>\n",
       "    <tr>\n",
       "      <th>1</th>\n",
       "      <td>1</td>\n",
       "      <td>2017-07-01</td>\n",
       "      <td>437</td>\n",
       "    </tr>\n",
       "    <tr>\n",
       "      <th>2</th>\n",
       "      <td>1</td>\n",
       "      <td>2017-08-01</td>\n",
       "      <td>332</td>\n",
       "    </tr>\n",
       "    <tr>\n",
       "      <th>3</th>\n",
       "      <td>1</td>\n",
       "      <td>2017-09-01</td>\n",
       "      <td>594</td>\n",
       "    </tr>\n",
       "    <tr>\n",
       "      <th>4</th>\n",
       "      <td>1</td>\n",
       "      <td>2017-10-01</td>\n",
       "      <td>911</td>\n",
       "    </tr>\n",
       "    <tr>\n",
       "      <th>5</th>\n",
       "      <td>1</td>\n",
       "      <td>2017-11-01</td>\n",
       "      <td>1161</td>\n",
       "    </tr>\n",
       "    <tr>\n",
       "      <th>6</th>\n",
       "      <td>1</td>\n",
       "      <td>2017-12-01</td>\n",
       "      <td>1158</td>\n",
       "    </tr>\n",
       "    <tr>\n",
       "      <th>7</th>\n",
       "      <td>1</td>\n",
       "      <td>2018-01-01</td>\n",
       "      <td>848</td>\n",
       "    </tr>\n",
       "    <tr>\n",
       "      <th>8</th>\n",
       "      <td>1</td>\n",
       "      <td>2018-02-01</td>\n",
       "      <td>841</td>\n",
       "    </tr>\n",
       "    <tr>\n",
       "      <th>9</th>\n",
       "      <td>1</td>\n",
       "      <td>2018-03-01</td>\n",
       "      <td>915</td>\n",
       "    </tr>\n",
       "  </tbody>\n",
       "</table>\n",
       "</div>"
      ],
      "text/plain": [
       "   source_id      month  num_users\n",
       "0          1 2017-06-01        406\n",
       "1          1 2017-07-01        437\n",
       "2          1 2017-08-01        332\n",
       "3          1 2017-09-01        594\n",
       "4          1 2017-10-01        911\n",
       "5          1 2017-11-01       1161\n",
       "6          1 2017-12-01       1158\n",
       "7          1 2018-01-01        848\n",
       "8          1 2018-02-01        841\n",
       "9          1 2018-03-01        915"
      ]
     },
     "metadata": {},
     "output_type": "display_data"
    }
   ],
   "source": [
    "# Посчитаем для каждой пары месяц-источник количество уникальных покупателей\n",
    "buyers_by_source_per_month = visits_of_buyers.groupby(['source_id', 'month']).agg({'uid':'nunique'}).reset_index()\n",
    "buyers_by_source_per_month = buyers_by_source_per_month.rename(columns = {'source_id': 'source_id', 'month': 'month', 'uid': 'num_users'})\n",
    "display(buyers_by_source_per_month.head(10))"
   ]
  },
  {
   "cell_type": "code",
   "execution_count": 58,
   "metadata": {},
   "outputs": [
    {
     "data": {
      "text/html": [
       "<div>\n",
       "<style scoped>\n",
       "    .dataframe tbody tr th:only-of-type {\n",
       "        vertical-align: middle;\n",
       "    }\n",
       "\n",
       "    .dataframe tbody tr th {\n",
       "        vertical-align: top;\n",
       "    }\n",
       "\n",
       "    .dataframe thead th {\n",
       "        text-align: right;\n",
       "    }\n",
       "</style>\n",
       "<table border=\"1\" class=\"dataframe\">\n",
       "  <thead>\n",
       "    <tr style=\"text-align: right;\">\n",
       "      <th></th>\n",
       "      <th></th>\n",
       "      <th></th>\n",
       "      <th>costs</th>\n",
       "    </tr>\n",
       "    <tr>\n",
       "      <th>source_id</th>\n",
       "      <th>year</th>\n",
       "      <th>month</th>\n",
       "      <th></th>\n",
       "    </tr>\n",
       "  </thead>\n",
       "  <tbody>\n",
       "    <tr>\n",
       "      <th rowspan=\"5\" valign=\"top\">1</th>\n",
       "      <th rowspan=\"5\" valign=\"top\">2017</th>\n",
       "      <th>6</th>\n",
       "      <td>1125.61</td>\n",
       "    </tr>\n",
       "    <tr>\n",
       "      <th>7</th>\n",
       "      <td>1072.88</td>\n",
       "    </tr>\n",
       "    <tr>\n",
       "      <th>8</th>\n",
       "      <td>951.81</td>\n",
       "    </tr>\n",
       "    <tr>\n",
       "      <th>9</th>\n",
       "      <td>1502.01</td>\n",
       "    </tr>\n",
       "    <tr>\n",
       "      <th>10</th>\n",
       "      <td>2315.75</td>\n",
       "    </tr>\n",
       "  </tbody>\n",
       "</table>\n",
       "</div>"
      ],
      "text/plain": [
       "                        costs\n",
       "source_id year month         \n",
       "1         2017 6      1125.61\n",
       "               7      1072.88\n",
       "               8       951.81\n",
       "               9      1502.01\n",
       "               10     2315.75"
      ]
     },
     "metadata": {},
     "output_type": "display_data"
    }
   ],
   "source": [
    "# посчитаем расходы для пары источник-месяц\n",
    "costs_grouped = costs.groupby(['source_id', 'year', 'month']).agg({'costs': 'sum'})\n",
    "display(costs_grouped.head())"
   ]
  },
  {
   "cell_type": "code",
   "execution_count": 59,
   "metadata": {},
   "outputs": [
    {
     "data": {
      "text/html": [
       "<div>\n",
       "<style scoped>\n",
       "    .dataframe tbody tr th:only-of-type {\n",
       "        vertical-align: middle;\n",
       "    }\n",
       "\n",
       "    .dataframe tbody tr th {\n",
       "        vertical-align: top;\n",
       "    }\n",
       "\n",
       "    .dataframe thead th {\n",
       "        text-align: right;\n",
       "    }\n",
       "</style>\n",
       "<table border=\"1\" class=\"dataframe\">\n",
       "  <thead>\n",
       "    <tr style=\"text-align: right;\">\n",
       "      <th></th>\n",
       "      <th>source_id</th>\n",
       "      <th>costs</th>\n",
       "      <th>month</th>\n",
       "      <th>num_users</th>\n",
       "    </tr>\n",
       "  </thead>\n",
       "  <tbody>\n",
       "    <tr>\n",
       "      <th>0</th>\n",
       "      <td>1</td>\n",
       "      <td>1125.61</td>\n",
       "      <td>2017-06-01</td>\n",
       "      <td>406</td>\n",
       "    </tr>\n",
       "    <tr>\n",
       "      <th>1</th>\n",
       "      <td>1</td>\n",
       "      <td>1125.61</td>\n",
       "      <td>2017-07-01</td>\n",
       "      <td>437</td>\n",
       "    </tr>\n",
       "    <tr>\n",
       "      <th>2</th>\n",
       "      <td>1</td>\n",
       "      <td>1125.61</td>\n",
       "      <td>2017-08-01</td>\n",
       "      <td>332</td>\n",
       "    </tr>\n",
       "    <tr>\n",
       "      <th>3</th>\n",
       "      <td>1</td>\n",
       "      <td>1125.61</td>\n",
       "      <td>2017-09-01</td>\n",
       "      <td>594</td>\n",
       "    </tr>\n",
       "    <tr>\n",
       "      <th>4</th>\n",
       "      <td>1</td>\n",
       "      <td>1125.61</td>\n",
       "      <td>2017-10-01</td>\n",
       "      <td>911</td>\n",
       "    </tr>\n",
       "    <tr>\n",
       "      <th>5</th>\n",
       "      <td>1</td>\n",
       "      <td>1125.61</td>\n",
       "      <td>2017-11-01</td>\n",
       "      <td>1161</td>\n",
       "    </tr>\n",
       "    <tr>\n",
       "      <th>6</th>\n",
       "      <td>1</td>\n",
       "      <td>1125.61</td>\n",
       "      <td>2017-12-01</td>\n",
       "      <td>1158</td>\n",
       "    </tr>\n",
       "    <tr>\n",
       "      <th>7</th>\n",
       "      <td>1</td>\n",
       "      <td>1125.61</td>\n",
       "      <td>2018-01-01</td>\n",
       "      <td>848</td>\n",
       "    </tr>\n",
       "    <tr>\n",
       "      <th>8</th>\n",
       "      <td>1</td>\n",
       "      <td>1125.61</td>\n",
       "      <td>2018-02-01</td>\n",
       "      <td>841</td>\n",
       "    </tr>\n",
       "    <tr>\n",
       "      <th>9</th>\n",
       "      <td>1</td>\n",
       "      <td>1125.61</td>\n",
       "      <td>2018-03-01</td>\n",
       "      <td>915</td>\n",
       "    </tr>\n",
       "  </tbody>\n",
       "</table>\n",
       "</div>"
      ],
      "text/plain": [
       "   source_id    costs      month  num_users\n",
       "0          1  1125.61 2017-06-01        406\n",
       "1          1  1125.61 2017-07-01        437\n",
       "2          1  1125.61 2017-08-01        332\n",
       "3          1  1125.61 2017-09-01        594\n",
       "4          1  1125.61 2017-10-01        911\n",
       "5          1  1125.61 2017-11-01       1161\n",
       "6          1  1125.61 2017-12-01       1158\n",
       "7          1  1125.61 2018-01-01        848\n",
       "8          1  1125.61 2018-02-01        841\n",
       "9          1  1125.61 2018-03-01        915"
      ]
     },
     "metadata": {},
     "output_type": "display_data"
    }
   ],
   "source": [
    "# Соединим таблицы количества покупаелей и суммарных расходов для пары источник-месяц\n",
    "costs_and_buyers_per_month = costs_grouped.merge(buyers_by_source_per_month, on = 'source_id', how = 'left')\n",
    "display(costs_and_buyers_per_month.head(10))"
   ]
  },
  {
   "cell_type": "code",
   "execution_count": 60,
   "metadata": {},
   "outputs": [
    {
     "data": {
      "text/html": [
       "<div>\n",
       "<style scoped>\n",
       "    .dataframe tbody tr th:only-of-type {\n",
       "        vertical-align: middle;\n",
       "    }\n",
       "\n",
       "    .dataframe tbody tr th {\n",
       "        vertical-align: top;\n",
       "    }\n",
       "\n",
       "    .dataframe thead th {\n",
       "        text-align: right;\n",
       "    }\n",
       "</style>\n",
       "<table border=\"1\" class=\"dataframe\">\n",
       "  <thead>\n",
       "    <tr style=\"text-align: right;\">\n",
       "      <th></th>\n",
       "      <th>source_id</th>\n",
       "      <th>costs</th>\n",
       "      <th>month</th>\n",
       "      <th>num_users</th>\n",
       "      <th>costs_per_buyer</th>\n",
       "    </tr>\n",
       "  </thead>\n",
       "  <tbody>\n",
       "    <tr>\n",
       "      <th>0</th>\n",
       "      <td>1</td>\n",
       "      <td>1125.61</td>\n",
       "      <td>2017-06-01</td>\n",
       "      <td>406</td>\n",
       "      <td>2.772438</td>\n",
       "    </tr>\n",
       "    <tr>\n",
       "      <th>1</th>\n",
       "      <td>1</td>\n",
       "      <td>1125.61</td>\n",
       "      <td>2017-07-01</td>\n",
       "      <td>437</td>\n",
       "      <td>2.575767</td>\n",
       "    </tr>\n",
       "    <tr>\n",
       "      <th>2</th>\n",
       "      <td>1</td>\n",
       "      <td>1125.61</td>\n",
       "      <td>2017-08-01</td>\n",
       "      <td>332</td>\n",
       "      <td>3.390392</td>\n",
       "    </tr>\n",
       "    <tr>\n",
       "      <th>3</th>\n",
       "      <td>1</td>\n",
       "      <td>1125.61</td>\n",
       "      <td>2017-09-01</td>\n",
       "      <td>594</td>\n",
       "      <td>1.894966</td>\n",
       "    </tr>\n",
       "    <tr>\n",
       "      <th>4</th>\n",
       "      <td>1</td>\n",
       "      <td>1125.61</td>\n",
       "      <td>2017-10-01</td>\n",
       "      <td>911</td>\n",
       "      <td>1.235576</td>\n",
       "    </tr>\n",
       "  </tbody>\n",
       "</table>\n",
       "</div>"
      ],
      "text/plain": [
       "   source_id    costs      month  num_users  costs_per_buyer\n",
       "0          1  1125.61 2017-06-01        406         2.772438\n",
       "1          1  1125.61 2017-07-01        437         2.575767\n",
       "2          1  1125.61 2017-08-01        332         3.390392\n",
       "3          1  1125.61 2017-09-01        594         1.894966\n",
       "4          1  1125.61 2017-10-01        911         1.235576"
      ]
     },
     "metadata": {},
     "output_type": "display_data"
    }
   ],
   "source": [
    "# Посчитаем в получившейся таблице столбец \"расходы на покупателя\"\n",
    "costs_and_buyers_per_month['costs_per_buyer'] = costs_and_buyers_per_month.costs / costs_and_buyers_per_month.num_users\n",
    "display(costs_and_buyers_per_month.head())"
   ]
  },
  {
   "cell_type": "code",
   "execution_count": 61,
   "metadata": {},
   "outputs": [
    {
     "data": {
      "text/html": [
       "<div>\n",
       "<style scoped>\n",
       "    .dataframe tbody tr th:only-of-type {\n",
       "        vertical-align: middle;\n",
       "    }\n",
       "\n",
       "    .dataframe tbody tr th {\n",
       "        vertical-align: top;\n",
       "    }\n",
       "\n",
       "    .dataframe thead th {\n",
       "        text-align: right;\n",
       "    }\n",
       "</style>\n",
       "<table border=\"1\" class=\"dataframe\">\n",
       "  <thead>\n",
       "    <tr style=\"text-align: right;\">\n",
       "      <th>source_id</th>\n",
       "      <th>1</th>\n",
       "      <th>2</th>\n",
       "      <th>3</th>\n",
       "      <th>4</th>\n",
       "      <th>5</th>\n",
       "      <th>9</th>\n",
       "      <th>10</th>\n",
       "    </tr>\n",
       "    <tr>\n",
       "      <th>month</th>\n",
       "      <th></th>\n",
       "      <th></th>\n",
       "      <th></th>\n",
       "      <th></th>\n",
       "      <th></th>\n",
       "      <th></th>\n",
       "      <th></th>\n",
       "    </tr>\n",
       "  </thead>\n",
       "  <tbody>\n",
       "    <tr>\n",
       "      <th>2017-06-01</th>\n",
       "      <td>4.276123</td>\n",
       "      <td>6.953548</td>\n",
       "      <td>12.229286</td>\n",
       "      <td>6.924444</td>\n",
       "      <td>7.261097</td>\n",
       "      <td>2.568664</td>\n",
       "      <td>3.790684</td>\n",
       "    </tr>\n",
       "    <tr>\n",
       "      <th>2017-07-01</th>\n",
       "      <td>3.972782</td>\n",
       "      <td>6.485764</td>\n",
       "      <td>14.309602</td>\n",
       "      <td>5.911111</td>\n",
       "      <td>6.399246</td>\n",
       "      <td>2.838215</td>\n",
       "      <td>6.469433</td>\n",
       "    </tr>\n",
       "    <tr>\n",
       "      <th>2017-08-01</th>\n",
       "      <td>5.229234</td>\n",
       "      <td>9.076768</td>\n",
       "      <td>19.726637</td>\n",
       "      <td>8.426269</td>\n",
       "      <td>7.620303</td>\n",
       "      <td>2.189480</td>\n",
       "      <td>8.223856</td>\n",
       "    </tr>\n",
       "    <tr>\n",
       "      <th>2017-09-01</th>\n",
       "      <td>2.922737</td>\n",
       "      <td>5.207547</td>\n",
       "      <td>9.512765</td>\n",
       "      <td>4.847111</td>\n",
       "      <td>4.437337</td>\n",
       "      <td>1.810200</td>\n",
       "      <td>4.219196</td>\n",
       "    </tr>\n",
       "    <tr>\n",
       "      <th>2017-10-01</th>\n",
       "      <td>1.905714</td>\n",
       "      <td>3.202127</td>\n",
       "      <td>6.520932</td>\n",
       "      <td>2.563963</td>\n",
       "      <td>2.896636</td>\n",
       "      <td>1.259701</td>\n",
       "      <td>1.810476</td>\n",
       "    </tr>\n",
       "    <tr>\n",
       "      <th>2017-11-01</th>\n",
       "      <td>1.495354</td>\n",
       "      <td>2.698313</td>\n",
       "      <td>6.036290</td>\n",
       "      <td>2.237128</td>\n",
       "      <td>3.757048</td>\n",
       "      <td>0.840568</td>\n",
       "      <td>2.256779</td>\n",
       "    </tr>\n",
       "    <tr>\n",
       "      <th>2017-12-01</th>\n",
       "      <td>1.499228</td>\n",
       "      <td>2.813226</td>\n",
       "      <td>6.086203</td>\n",
       "      <td>2.128593</td>\n",
       "      <td>3.335724</td>\n",
       "      <td>1.089552</td>\n",
       "      <td>4.043396</td>\n",
       "    </tr>\n",
       "    <tr>\n",
       "      <th>2018-01-01</th>\n",
       "      <td>2.047295</td>\n",
       "      <td>3.538859</td>\n",
       "      <td>7.351312</td>\n",
       "      <td>2.685734</td>\n",
       "      <td>4.123415</td>\n",
       "      <td>1.222848</td>\n",
       "      <td>3.051619</td>\n",
       "    </tr>\n",
       "    <tr>\n",
       "      <th>2018-02-01</th>\n",
       "      <td>2.064335</td>\n",
       "      <td>3.483564</td>\n",
       "      <td>7.378949</td>\n",
       "      <td>2.663248</td>\n",
       "      <td>3.606264</td>\n",
       "      <td>1.259701</td>\n",
       "      <td>2.438229</td>\n",
       "    </tr>\n",
       "    <tr>\n",
       "      <th>2018-03-01</th>\n",
       "      <td>1.897383</td>\n",
       "      <td>3.410296</td>\n",
       "      <td>8.121933</td>\n",
       "      <td>2.854440</td>\n",
       "      <td>4.525804</td>\n",
       "      <td>0.717302</td>\n",
       "      <td>1.873388</td>\n",
       "    </tr>\n",
       "    <tr>\n",
       "      <th>2018-04-01</th>\n",
       "      <td>3.116887</td>\n",
       "      <td>4.920234</td>\n",
       "      <td>11.871777</td>\n",
       "      <td>3.973042</td>\n",
       "      <td>5.292137</td>\n",
       "      <td>1.831836</td>\n",
       "      <td>2.871050</td>\n",
       "    </tr>\n",
       "    <tr>\n",
       "      <th>2018-05-01</th>\n",
       "      <td>2.622516</td>\n",
       "      <td>3.662392</td>\n",
       "      <td>10.100174</td>\n",
       "      <td>3.945323</td>\n",
       "      <td>5.009398</td>\n",
       "      <td>1.789069</td>\n",
       "      <td>2.804668</td>\n",
       "    </tr>\n",
       "  </tbody>\n",
       "</table>\n",
       "</div>"
      ],
      "text/plain": [
       "source_id         1         2          3         4         5         9   \\\n",
       "month                                                                     \n",
       "2017-06-01  4.276123  6.953548  12.229286  6.924444  7.261097  2.568664   \n",
       "2017-07-01  3.972782  6.485764  14.309602  5.911111  6.399246  2.838215   \n",
       "2017-08-01  5.229234  9.076768  19.726637  8.426269  7.620303  2.189480   \n",
       "2017-09-01  2.922737  5.207547   9.512765  4.847111  4.437337  1.810200   \n",
       "2017-10-01  1.905714  3.202127   6.520932  2.563963  2.896636  1.259701   \n",
       "2017-11-01  1.495354  2.698313   6.036290  2.237128  3.757048  0.840568   \n",
       "2017-12-01  1.499228  2.813226   6.086203  2.128593  3.335724  1.089552   \n",
       "2018-01-01  2.047295  3.538859   7.351312  2.685734  4.123415  1.222848   \n",
       "2018-02-01  2.064335  3.483564   7.378949  2.663248  3.606264  1.259701   \n",
       "2018-03-01  1.897383  3.410296   8.121933  2.854440  4.525804  0.717302   \n",
       "2018-04-01  3.116887  4.920234  11.871777  3.973042  5.292137  1.831836   \n",
       "2018-05-01  2.622516  3.662392  10.100174  3.945323  5.009398  1.789069   \n",
       "\n",
       "source_id         10  \n",
       "month                 \n",
       "2017-06-01  3.790684  \n",
       "2017-07-01  6.469433  \n",
       "2017-08-01  8.223856  \n",
       "2017-09-01  4.219196  \n",
       "2017-10-01  1.810476  \n",
       "2017-11-01  2.256779  \n",
       "2017-12-01  4.043396  \n",
       "2018-01-01  3.051619  \n",
       "2018-02-01  2.438229  \n",
       "2018-03-01  1.873388  \n",
       "2018-04-01  2.871050  \n",
       "2018-05-01  2.804668  "
      ]
     },
     "metadata": {},
     "output_type": "display_data"
    }
   ],
   "source": [
    "# Создадим сводную таблицу, где месяц - наблюдение, источники - столбцы, а значения - стоимость одного покупателя\n",
    "costs_pivot = costs_and_buyers_per_month.pivot_table(index = 'month', columns = 'source_id', values = 'costs_per_buyer')\n",
    "display(costs_pivot)"
   ]
  },
  {
   "cell_type": "code",
   "execution_count": 62,
   "metadata": {},
   "outputs": [
    {
     "data": {
      "image/png": "[encoded data removed]",
      "text/plain": [
       "<Figure size 864x576 with 1 Axes>"
      ]
     },
     "metadata": {
      "needs_background": "light"
     },
     "output_type": "display_data"
    }
   ],
   "source": [
    "# Построим график по сводной таблице\n",
    "ax = costs_pivot.plot(kind = 'bar', figsize = (12, 8))\n",
    "ax.set_ylabel('Roubles')\n",
    "plt.title('Costs per user per month by source')\n",
    "plt.show()"
   ]
  },
  {
   "cell_type": "markdown",
   "metadata": {},
   "source": [
    "График по стоимости привлечения одного покупателю по отдельным источникам по месяцам также показывает, что особенно затратным является истчник 3."
   ]
  },
  {
   "cell_type": "markdown",
   "metadata": {},
   "source": [
    "### ROI  по источникам"
   ]
  },
  {
   "cell_type": "code",
   "execution_count": 63,
   "metadata": {},
   "outputs": [
    {
     "data": {
      "text/html": [
       "<div>\n",
       "<style scoped>\n",
       "    .dataframe tbody tr th:only-of-type {\n",
       "        vertical-align: middle;\n",
       "    }\n",
       "\n",
       "    .dataframe tbody tr th {\n",
       "        vertical-align: top;\n",
       "    }\n",
       "\n",
       "    .dataframe thead th {\n",
       "        text-align: right;\n",
       "    }\n",
       "</style>\n",
       "<table border=\"1\" class=\"dataframe\">\n",
       "  <thead>\n",
       "    <tr style=\"text-align: right;\">\n",
       "      <th></th>\n",
       "      <th>source_id</th>\n",
       "      <th>num_users</th>\n",
       "      <th>costs</th>\n",
       "      <th>costs_per_buyer</th>\n",
       "      <th>revenue</th>\n",
       "      <th>roi</th>\n",
       "    </tr>\n",
       "  </thead>\n",
       "  <tbody>\n",
       "    <tr>\n",
       "      <th>0</th>\n",
       "      <td>1</td>\n",
       "      <td>7138</td>\n",
       "      <td>20833.27</td>\n",
       "      <td>2.918642</td>\n",
       "      <td>10.301913</td>\n",
       "      <td>252.969334</td>\n",
       "    </tr>\n",
       "    <tr>\n",
       "      <th>1</th>\n",
       "      <td>2</td>\n",
       "      <td>7305</td>\n",
       "      <td>42806.04</td>\n",
       "      <td>5.859828</td>\n",
       "      <td>15.071076</td>\n",
       "      <td>157.193161</td>\n",
       "    </tr>\n",
       "    <tr>\n",
       "      <th>2</th>\n",
       "      <td>3</td>\n",
       "      <td>13846</td>\n",
       "      <td>141321.63</td>\n",
       "      <td>10.206676</td>\n",
       "      <td>4.849823</td>\n",
       "      <td>-52.483816</td>\n",
       "    </tr>\n",
       "    <tr>\n",
       "      <th>3</th>\n",
       "      <td>4</td>\n",
       "      <td>14253</td>\n",
       "      <td>61073.60</td>\n",
       "      <td>4.284965</td>\n",
       "      <td>5.342538</td>\n",
       "      <td>24.681029</td>\n",
       "    </tr>\n",
       "    <tr>\n",
       "      <th>4</th>\n",
       "      <td>5</td>\n",
       "      <td>10156</td>\n",
       "      <td>51757.10</td>\n",
       "      <td>5.096209</td>\n",
       "      <td>5.901142</td>\n",
       "      <td>15.794737</td>\n",
       "    </tr>\n",
       "    <tr>\n",
       "      <th>5</th>\n",
       "      <td>9</td>\n",
       "      <td>2793</td>\n",
       "      <td>5517.49</td>\n",
       "      <td>1.975471</td>\n",
       "      <td>5.001399</td>\n",
       "      <td>153.175053</td>\n",
       "    </tr>\n",
       "    <tr>\n",
       "      <th>6</th>\n",
       "      <td>10</td>\n",
       "      <td>1773</td>\n",
       "      <td>5822.49</td>\n",
       "      <td>3.283976</td>\n",
       "      <td>3.312925</td>\n",
       "      <td>0.881515</td>\n",
       "    </tr>\n",
       "  </tbody>\n",
       "</table>\n",
       "</div>"
      ],
      "text/plain": [
       "   source_id  num_users      costs  costs_per_buyer    revenue         roi\n",
       "0          1       7138   20833.27         2.918642  10.301913  252.969334\n",
       "1          2       7305   42806.04         5.859828  15.071076  157.193161\n",
       "2          3      13846  141321.63        10.206676   4.849823  -52.483816\n",
       "3          4      14253   61073.60         4.284965   5.342538   24.681029\n",
       "4          5      10156   51757.10         5.096209   5.901142   15.794737\n",
       "5          9       2793    5517.49         1.975471   5.001399  153.175053\n",
       "6         10       1773    5822.49         3.283976   3.312925    0.881515"
      ]
     },
     "metadata": {},
     "output_type": "display_data"
    }
   ],
   "source": [
    "# Объединим таблицы расходов и доходов на покупателей по источникам\n",
    "costs_and_revenue = costs_and_buyers.merge(revenue_per_buyer_by_source, on = 'source_id')\n",
    "# Посчитаем ROI в процентах от расходов\n",
    "costs_and_revenue['roi'] = 100 * (costs_and_revenue.revenue - costs_and_revenue.costs_per_buyer) / costs_and_revenue.costs_per_buyer\n",
    "display(costs_and_revenue)"
   ]
  },
  {
   "cell_type": "code",
   "execution_count": 64,
   "metadata": {},
   "outputs": [
    {
     "data": {
      "image/png": "[encoded data removed]",
      "text/plain": [
       "<Figure size 432x288 with 1 Axes>"
      ]
     },
     "metadata": {
      "needs_background": "light"
     },
     "output_type": "display_data"
    }
   ],
   "source": [
    "# График\n",
    "ax = costs_and_revenue.roi.plot(kind = 'bar')\n",
    "ax.set_xticklabels([tick for tick in costs_and_buyers.source_id])\n",
    "ax.set_ylabel('Percents')\n",
    "plt.title('ROI by source')\n",
    "plt.show()"
   ]
  },
  {
   "cell_type": "markdown",
   "metadata": {},
   "source": [
    "Наибольший возврат на инвестиции дает источник №1. Каждый вложенный рубль приносит два с половиной прибыли. Достаточно выгодны и источники 2 и 9 - по полтора рубля прибыли на каждый вложенный. Четвертый и пятый источники приносят по нескольку десятков копеек на вложенный рубль. Третий источник приносит убыток: от каждого вложенного рубля не получается вернуть и пятидесяти копеек."
   ]
  },
  {
   "cell_type": "markdown",
   "metadata": {},
   "source": [
    "## Шаг 3. Выводы"
   ]
  },
  {
   "cell_type": "markdown",
   "metadata": {},
   "source": [
    "Исследование активности пользователей сервиса показало, что она зависит от сезона. Длительность большей части сессий достаточно коротка (1-10 минут), и промежуток времени между первым заходом на сайт и первой покупкой - тоже (медианное значение - 16 минут). Это, видимо, говорит о том, что сервис интересен пользователям в первую очередь как билетная касса, а не как афиша: пользователи знают, что хотят купить, до обращения к сервису.\n",
    "\n",
    "Retention rate довольно низкий: не превышает 9 процентов. Нужны дополнительные исследования, которые бы объяснили это.\n",
    "\n",
    "Советы маркетологам:\n",
    "1. Больше задействовать источники № 1, 2 и 9: они дают наибольший возврат на инвестиции\n",
    "2. Не использовать источник № 3 - от него один убыток (или, если возможно сделать это не теряя привлекаемых пользователей, сильно сократить на него расходы).\n",
    "\n",
    "Возможно, нужно исследовать данные за несколько лет, чтобы учитывать фактор сезонности, который очень важен в данном случае, как показали многие графики в этом исследовании. Без учета сезонности трудно говорить о том, стали ли дела идти лучше или хуже к концу исследуемого периода."
   ]
  },
  {
   "cell_type": "code",
   "execution_count": null,
   "metadata": {},
   "outputs": [],
   "source": []
  }
 ],
 "metadata": {
  "kernelspec": {
   "display_name": "Python 3",
   "language": "python",
   "name": "python3"
  },
  "language_info": {
   "codemirror_mode": {
    "name": "ipython",
    "version": 3
   },
   "file_extension": ".py",
   "mimetype": "text/x-python",
   "name": "python",
   "nbconvert_exporter": "python",
   "pygments_lexer": "ipython3",
   "version": "3.8.3"
  }
 },
 "nbformat": 4,
 "nbformat_minor": 2
}
